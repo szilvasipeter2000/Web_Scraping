{
 "cells": [
  {
   "cell_type": "code",
   "execution_count": 7,
   "metadata": {},
   "outputs": [],
   "source": [
    "# install statsmodels"
   ]
  },
  {
   "cell_type": "code",
   "execution_count": 8,
   "metadata": {},
   "outputs": [],
   "source": [
    "import pandas as pd\n",
    "import numpy as np\n",
    "import plotly.express as px\n",
    "import statsmodels.api as sm"
   ]
  },
  {
   "cell_type": "code",
   "execution_count": 9,
   "metadata": {},
   "outputs": [],
   "source": [
    "df = pd.read_csv('reviews.csv')"
   ]
  },
  {
   "cell_type": "code",
   "execution_count": 57,
   "metadata": {},
   "outputs": [
    {
     "data": {
      "text/html": [
       "<div>\n",
       "<style scoped>\n",
       "    .dataframe tbody tr th:only-of-type {\n",
       "        vertical-align: middle;\n",
       "    }\n",
       "\n",
       "    .dataframe tbody tr th {\n",
       "        vertical-align: top;\n",
       "    }\n",
       "\n",
       "    .dataframe thead th {\n",
       "        text-align: right;\n",
       "    }\n",
       "</style>\n",
       "<table border=\"1\" class=\"dataframe\">\n",
       "  <thead>\n",
       "    <tr style=\"text-align: right;\">\n",
       "      <th></th>\n",
       "      <th>genre</th>\n",
       "      <th>name</th>\n",
       "      <th>critic_score</th>\n",
       "      <th>audience_score</th>\n",
       "      <th>critic_reviews</th>\n",
       "      <th>audience_reviews</th>\n",
       "      <th>critic_sentiment_result</th>\n",
       "      <th>audience_sentiment_result</th>\n",
       "      <th>critic_postive</th>\n",
       "      <th>critic_negative</th>\n",
       "      <th>critic_neutral</th>\n",
       "      <th>critic_mixed</th>\n",
       "      <th>critic_sentiment</th>\n",
       "      <th>audience_postive</th>\n",
       "      <th>audience_negative</th>\n",
       "      <th>audience_neutral</th>\n",
       "      <th>audience_mixed</th>\n",
       "      <th>audience_sentiment</th>\n",
       "    </tr>\n",
       "  </thead>\n",
       "  <tbody>\n",
       "    <tr>\n",
       "      <th>0</th>\n",
       "      <td>Drama</td>\n",
       "      <td>four_daughters_2023</td>\n",
       "      <td>96</td>\n",
       "      <td>91</td>\n",
       "      <td>In telling the story of Olfa and her daughters...</td>\n",
       "      <td>The most compelling documentary of 2023. Stunn...</td>\n",
       "      <td>{'Sentiment': 'POSITIVE', 'SentimentScore': {'...</td>\n",
       "      <td>{'Sentiment': 'POSITIVE', 'SentimentScore': {'...</td>\n",
       "      <td>0.765325</td>\n",
       "      <td>0.001325</td>\n",
       "      <td>0.231601</td>\n",
       "      <td>0.001748</td>\n",
       "      <td>POSITIVE</td>\n",
       "      <td>0.999406</td>\n",
       "      <td>0.000024</td>\n",
       "      <td>0.000545</td>\n",
       "      <td>0.000025</td>\n",
       "      <td>POSITIVE</td>\n",
       "    </tr>\n",
       "    <tr>\n",
       "      <th>1</th>\n",
       "      <td>Drama</td>\n",
       "      <td>the_taste_of_things</td>\n",
       "      <td>98</td>\n",
       "      <td>100</td>\n",
       "      <td>Although its delectable dishes provide a feast...</td>\n",
       "      <td>This movie is both complex and simple, like a ...</td>\n",
       "      <td>{'Sentiment': 'MIXED', 'SentimentScore': {'Pos...</td>\n",
       "      <td>{'Sentiment': 'POSITIVE', 'SentimentScore': {'...</td>\n",
       "      <td>0.006401</td>\n",
       "      <td>0.006116</td>\n",
       "      <td>0.001319</td>\n",
       "      <td>0.986164</td>\n",
       "      <td>MIXED</td>\n",
       "      <td>0.994632</td>\n",
       "      <td>0.001496</td>\n",
       "      <td>0.003765</td>\n",
       "      <td>0.000107</td>\n",
       "      <td>POSITIVE</td>\n",
       "    </tr>\n",
       "    <tr>\n",
       "      <th>2</th>\n",
       "      <td>Drama</td>\n",
       "      <td>killers_of_the_flower_moon</td>\n",
       "      <td>93</td>\n",
       "      <td>84</td>\n",
       "      <td>The development of the characters, the perform...</td>\n",
       "      <td>so slow and the plot is terrible. I agree the ...</td>\n",
       "      <td>{'Sentiment': 'MIXED', 'SentimentScore': {'Pos...</td>\n",
       "      <td>{'Sentiment': 'NEGATIVE', 'SentimentScore': {'...</td>\n",
       "      <td>0.278133</td>\n",
       "      <td>0.004101</td>\n",
       "      <td>0.017245</td>\n",
       "      <td>0.700520</td>\n",
       "      <td>MIXED</td>\n",
       "      <td>0.003707</td>\n",
       "      <td>0.721609</td>\n",
       "      <td>0.001737</td>\n",
       "      <td>0.272947</td>\n",
       "      <td>NEGATIVE</td>\n",
       "    </tr>\n",
       "    <tr>\n",
       "      <th>3</th>\n",
       "      <td>Drama</td>\n",
       "      <td>our_son</td>\n",
       "      <td>89</td>\n",
       "      <td>62</td>\n",
       "      <td>As a director, Bill Oliver never allows this t...</td>\n",
       "      <td>Totally hot cast! Really heartwarming story an...</td>\n",
       "      <td>{'Sentiment': 'POSITIVE', 'SentimentScore': {'...</td>\n",
       "      <td>{'Sentiment': 'POSITIVE', 'SentimentScore': {'...</td>\n",
       "      <td>0.975298</td>\n",
       "      <td>0.003327</td>\n",
       "      <td>0.007768</td>\n",
       "      <td>0.013607</td>\n",
       "      <td>POSITIVE</td>\n",
       "      <td>0.999808</td>\n",
       "      <td>0.000053</td>\n",
       "      <td>0.000112</td>\n",
       "      <td>0.000026</td>\n",
       "      <td>POSITIVE</td>\n",
       "    </tr>\n",
       "    <tr>\n",
       "      <th>4</th>\n",
       "      <td>Drama</td>\n",
       "      <td>priscilla</td>\n",
       "      <td>82</td>\n",
       "      <td>63</td>\n",
       "      <td>Of all the directors working today, there is n...</td>\n",
       "      <td>I read the book and was really excited for thi...</td>\n",
       "      <td>{'Sentiment': 'POSITIVE', 'SentimentScore': {'...</td>\n",
       "      <td>{'Sentiment': 'NEGATIVE', 'SentimentScore': {'...</td>\n",
       "      <td>0.845207</td>\n",
       "      <td>0.002500</td>\n",
       "      <td>0.143244</td>\n",
       "      <td>0.009050</td>\n",
       "      <td>POSITIVE</td>\n",
       "      <td>0.001825</td>\n",
       "      <td>0.935506</td>\n",
       "      <td>0.000316</td>\n",
       "      <td>0.062354</td>\n",
       "      <td>NEGATIVE</td>\n",
       "    </tr>\n",
       "    <tr>\n",
       "      <th>5</th>\n",
       "      <td>Drama</td>\n",
       "      <td>oppenheimer_2023</td>\n",
       "      <td>93</td>\n",
       "      <td>91</td>\n",
       "      <td>Nolan wallows in lazy, glib filmmaking, design...</td>\n",
       "      <td>Brilliant cast &amp; acting.  Great screenplay. It...</td>\n",
       "      <td>{'Sentiment': 'POSITIVE', 'SentimentScore': {'...</td>\n",
       "      <td>{'Sentiment': 'POSITIVE', 'SentimentScore': {'...</td>\n",
       "      <td>0.466113</td>\n",
       "      <td>0.055151</td>\n",
       "      <td>0.024460</td>\n",
       "      <td>0.454276</td>\n",
       "      <td>POSITIVE</td>\n",
       "      <td>0.996673</td>\n",
       "      <td>0.001059</td>\n",
       "      <td>0.000460</td>\n",
       "      <td>0.001807</td>\n",
       "      <td>POSITIVE</td>\n",
       "    </tr>\n",
       "    <tr>\n",
       "      <th>6</th>\n",
       "      <td>Drama</td>\n",
       "      <td>napoleon_2023</td>\n",
       "      <td>58</td>\n",
       "      <td>58</td>\n",
       "      <td>It’s clear, I think, that in spite of various ...</td>\n",
       "      <td>I really enjoyed this movie and think it did a...</td>\n",
       "      <td>{'Sentiment': 'NEGATIVE', 'SentimentScore': {'...</td>\n",
       "      <td>{'Sentiment': 'MIXED', 'SentimentScore': {'Pos...</td>\n",
       "      <td>0.005199</td>\n",
       "      <td>0.833310</td>\n",
       "      <td>0.016290</td>\n",
       "      <td>0.145201</td>\n",
       "      <td>NEGATIVE</td>\n",
       "      <td>0.131032</td>\n",
       "      <td>0.003387</td>\n",
       "      <td>0.000131</td>\n",
       "      <td>0.865450</td>\n",
       "      <td>MIXED</td>\n",
       "    </tr>\n",
       "    <tr>\n",
       "      <th>7</th>\n",
       "      <td>Action</td>\n",
       "      <td>napoleon_2023</td>\n",
       "      <td>58</td>\n",
       "      <td>58</td>\n",
       "      <td>It’s clear, I think, that in spite of various ...</td>\n",
       "      <td>I really enjoyed this movie and think it did a...</td>\n",
       "      <td>{'Sentiment': 'NEGATIVE', 'SentimentScore': {'...</td>\n",
       "      <td>{'Sentiment': 'MIXED', 'SentimentScore': {'Pos...</td>\n",
       "      <td>0.005199</td>\n",
       "      <td>0.833310</td>\n",
       "      <td>0.016290</td>\n",
       "      <td>0.145201</td>\n",
       "      <td>NEGATIVE</td>\n",
       "      <td>0.131032</td>\n",
       "      <td>0.003387</td>\n",
       "      <td>0.000131</td>\n",
       "      <td>0.865450</td>\n",
       "      <td>MIXED</td>\n",
       "    </tr>\n",
       "    <tr>\n",
       "      <th>8</th>\n",
       "      <td>Drama</td>\n",
       "      <td>animal_2023_2</td>\n",
       "      <td>28</td>\n",
       "      <td>81</td>\n",
       "      <td>Trashy, idiotic, and filled with disgusting bl...</td>\n",
       "      <td>Animal movie is the collage of the insta reels...</td>\n",
       "      <td>{'Sentiment': 'NEGATIVE', 'SentimentScore': {'...</td>\n",
       "      <td>{'Sentiment': 'POSITIVE', 'SentimentScore': {'...</td>\n",
       "      <td>0.000199</td>\n",
       "      <td>0.999456</td>\n",
       "      <td>0.000273</td>\n",
       "      <td>0.000072</td>\n",
       "      <td>NEGATIVE</td>\n",
       "      <td>0.862630</td>\n",
       "      <td>0.051520</td>\n",
       "      <td>0.065537</td>\n",
       "      <td>0.020314</td>\n",
       "      <td>POSITIVE</td>\n",
       "    </tr>\n",
       "    <tr>\n",
       "      <th>9</th>\n",
       "      <td>Action</td>\n",
       "      <td>animal_2023_2</td>\n",
       "      <td>28</td>\n",
       "      <td>81</td>\n",
       "      <td>Trashy, idiotic, and filled with disgusting bl...</td>\n",
       "      <td>Animal movie is the collage of the insta reels...</td>\n",
       "      <td>{'Sentiment': 'NEGATIVE', 'SentimentScore': {'...</td>\n",
       "      <td>{'Sentiment': 'POSITIVE', 'SentimentScore': {'...</td>\n",
       "      <td>0.000199</td>\n",
       "      <td>0.999456</td>\n",
       "      <td>0.000273</td>\n",
       "      <td>0.000072</td>\n",
       "      <td>NEGATIVE</td>\n",
       "      <td>0.862630</td>\n",
       "      <td>0.051520</td>\n",
       "      <td>0.065537</td>\n",
       "      <td>0.020314</td>\n",
       "      <td>POSITIVE</td>\n",
       "    </tr>\n",
       "  </tbody>\n",
       "</table>\n",
       "</div>"
      ],
      "text/plain": [
       "    genre                        name  critic_score  audience_score  \\\n",
       "0   Drama         four_daughters_2023            96              91   \n",
       "1   Drama         the_taste_of_things            98             100   \n",
       "2   Drama  killers_of_the_flower_moon            93              84   \n",
       "3   Drama                     our_son            89              62   \n",
       "4   Drama                   priscilla            82              63   \n",
       "5   Drama            oppenheimer_2023            93              91   \n",
       "6   Drama               napoleon_2023            58              58   \n",
       "7  Action               napoleon_2023            58              58   \n",
       "8   Drama               animal_2023_2            28              81   \n",
       "9  Action               animal_2023_2            28              81   \n",
       "\n",
       "                                      critic_reviews  \\\n",
       "0  In telling the story of Olfa and her daughters...   \n",
       "1  Although its delectable dishes provide a feast...   \n",
       "2  The development of the characters, the perform...   \n",
       "3  As a director, Bill Oliver never allows this t...   \n",
       "4  Of all the directors working today, there is n...   \n",
       "5  Nolan wallows in lazy, glib filmmaking, design...   \n",
       "6  It’s clear, I think, that in spite of various ...   \n",
       "7  It’s clear, I think, that in spite of various ...   \n",
       "8  Trashy, idiotic, and filled with disgusting bl...   \n",
       "9  Trashy, idiotic, and filled with disgusting bl...   \n",
       "\n",
       "                                    audience_reviews  \\\n",
       "0  The most compelling documentary of 2023. Stunn...   \n",
       "1  This movie is both complex and simple, like a ...   \n",
       "2  so slow and the plot is terrible. I agree the ...   \n",
       "3  Totally hot cast! Really heartwarming story an...   \n",
       "4  I read the book and was really excited for thi...   \n",
       "5  Brilliant cast & acting.  Great screenplay. It...   \n",
       "6  I really enjoyed this movie and think it did a...   \n",
       "7  I really enjoyed this movie and think it did a...   \n",
       "8  Animal movie is the collage of the insta reels...   \n",
       "9  Animal movie is the collage of the insta reels...   \n",
       "\n",
       "                             critic_sentiment_result  \\\n",
       "0  {'Sentiment': 'POSITIVE', 'SentimentScore': {'...   \n",
       "1  {'Sentiment': 'MIXED', 'SentimentScore': {'Pos...   \n",
       "2  {'Sentiment': 'MIXED', 'SentimentScore': {'Pos...   \n",
       "3  {'Sentiment': 'POSITIVE', 'SentimentScore': {'...   \n",
       "4  {'Sentiment': 'POSITIVE', 'SentimentScore': {'...   \n",
       "5  {'Sentiment': 'POSITIVE', 'SentimentScore': {'...   \n",
       "6  {'Sentiment': 'NEGATIVE', 'SentimentScore': {'...   \n",
       "7  {'Sentiment': 'NEGATIVE', 'SentimentScore': {'...   \n",
       "8  {'Sentiment': 'NEGATIVE', 'SentimentScore': {'...   \n",
       "9  {'Sentiment': 'NEGATIVE', 'SentimentScore': {'...   \n",
       "\n",
       "                           audience_sentiment_result  critic_postive  \\\n",
       "0  {'Sentiment': 'POSITIVE', 'SentimentScore': {'...        0.765325   \n",
       "1  {'Sentiment': 'POSITIVE', 'SentimentScore': {'...        0.006401   \n",
       "2  {'Sentiment': 'NEGATIVE', 'SentimentScore': {'...        0.278133   \n",
       "3  {'Sentiment': 'POSITIVE', 'SentimentScore': {'...        0.975298   \n",
       "4  {'Sentiment': 'NEGATIVE', 'SentimentScore': {'...        0.845207   \n",
       "5  {'Sentiment': 'POSITIVE', 'SentimentScore': {'...        0.466113   \n",
       "6  {'Sentiment': 'MIXED', 'SentimentScore': {'Pos...        0.005199   \n",
       "7  {'Sentiment': 'MIXED', 'SentimentScore': {'Pos...        0.005199   \n",
       "8  {'Sentiment': 'POSITIVE', 'SentimentScore': {'...        0.000199   \n",
       "9  {'Sentiment': 'POSITIVE', 'SentimentScore': {'...        0.000199   \n",
       "\n",
       "   critic_negative  critic_neutral  critic_mixed critic_sentiment  \\\n",
       "0         0.001325        0.231601      0.001748         POSITIVE   \n",
       "1         0.006116        0.001319      0.986164            MIXED   \n",
       "2         0.004101        0.017245      0.700520            MIXED   \n",
       "3         0.003327        0.007768      0.013607         POSITIVE   \n",
       "4         0.002500        0.143244      0.009050         POSITIVE   \n",
       "5         0.055151        0.024460      0.454276         POSITIVE   \n",
       "6         0.833310        0.016290      0.145201         NEGATIVE   \n",
       "7         0.833310        0.016290      0.145201         NEGATIVE   \n",
       "8         0.999456        0.000273      0.000072         NEGATIVE   \n",
       "9         0.999456        0.000273      0.000072         NEGATIVE   \n",
       "\n",
       "   audience_postive  audience_negative  audience_neutral  audience_mixed  \\\n",
       "0          0.999406           0.000024          0.000545        0.000025   \n",
       "1          0.994632           0.001496          0.003765        0.000107   \n",
       "2          0.003707           0.721609          0.001737        0.272947   \n",
       "3          0.999808           0.000053          0.000112        0.000026   \n",
       "4          0.001825           0.935506          0.000316        0.062354   \n",
       "5          0.996673           0.001059          0.000460        0.001807   \n",
       "6          0.131032           0.003387          0.000131        0.865450   \n",
       "7          0.131032           0.003387          0.000131        0.865450   \n",
       "8          0.862630           0.051520          0.065537        0.020314   \n",
       "9          0.862630           0.051520          0.065537        0.020314   \n",
       "\n",
       "  audience_sentiment  \n",
       "0           POSITIVE  \n",
       "1           POSITIVE  \n",
       "2           NEGATIVE  \n",
       "3           POSITIVE  \n",
       "4           NEGATIVE  \n",
       "5           POSITIVE  \n",
       "6              MIXED  \n",
       "7              MIXED  \n",
       "8           POSITIVE  \n",
       "9           POSITIVE  "
      ]
     },
     "execution_count": 57,
     "metadata": {},
     "output_type": "execute_result"
    }
   ],
   "source": [
    "df.head(10)"
   ]
  },
  {
   "cell_type": "code",
   "execution_count": 10,
   "metadata": {},
   "outputs": [
    {
     "data": {
      "text/html": [
       "<div>\n",
       "<style scoped>\n",
       "    .dataframe tbody tr th:only-of-type {\n",
       "        vertical-align: middle;\n",
       "    }\n",
       "\n",
       "    .dataframe tbody tr th {\n",
       "        vertical-align: top;\n",
       "    }\n",
       "\n",
       "    .dataframe thead th {\n",
       "        text-align: right;\n",
       "    }\n",
       "</style>\n",
       "<table border=\"1\" class=\"dataframe\">\n",
       "  <thead>\n",
       "    <tr style=\"text-align: right;\">\n",
       "      <th></th>\n",
       "      <th>genre</th>\n",
       "      <th>name</th>\n",
       "      <th>critic_score</th>\n",
       "      <th>audience_score</th>\n",
       "      <th>critic_reviews</th>\n",
       "      <th>audience_reviews</th>\n",
       "      <th>critic_sentiment_result</th>\n",
       "      <th>audience_sentiment_result</th>\n",
       "      <th>critic_postive</th>\n",
       "      <th>critic_negative</th>\n",
       "      <th>critic_neutral</th>\n",
       "      <th>critic_mixed</th>\n",
       "      <th>critic_sentiment</th>\n",
       "      <th>audience_postive</th>\n",
       "      <th>audience_negative</th>\n",
       "      <th>audience_neutral</th>\n",
       "      <th>audience_mixed</th>\n",
       "      <th>audience_sentiment</th>\n",
       "    </tr>\n",
       "  </thead>\n",
       "  <tbody>\n",
       "    <tr>\n",
       "      <th>0</th>\n",
       "      <td>Drama</td>\n",
       "      <td>four_daughters_2023</td>\n",
       "      <td>96</td>\n",
       "      <td>91</td>\n",
       "      <td>In telling the story of Olfa and her daughters...</td>\n",
       "      <td>The most compelling documentary of 2023. Stunn...</td>\n",
       "      <td>{'Sentiment': 'POSITIVE', 'SentimentScore': {'...</td>\n",
       "      <td>{'Sentiment': 'POSITIVE', 'SentimentScore': {'...</td>\n",
       "      <td>0.765325</td>\n",
       "      <td>0.001325</td>\n",
       "      <td>0.231601</td>\n",
       "      <td>0.001748</td>\n",
       "      <td>POSITIVE</td>\n",
       "      <td>0.999406</td>\n",
       "      <td>0.000024</td>\n",
       "      <td>0.000545</td>\n",
       "      <td>0.000025</td>\n",
       "      <td>POSITIVE</td>\n",
       "    </tr>\n",
       "    <tr>\n",
       "      <th>1</th>\n",
       "      <td>Drama</td>\n",
       "      <td>the_taste_of_things</td>\n",
       "      <td>98</td>\n",
       "      <td>100</td>\n",
       "      <td>Although its delectable dishes provide a feast...</td>\n",
       "      <td>This movie is both complex and simple, like a ...</td>\n",
       "      <td>{'Sentiment': 'MIXED', 'SentimentScore': {'Pos...</td>\n",
       "      <td>{'Sentiment': 'POSITIVE', 'SentimentScore': {'...</td>\n",
       "      <td>0.006401</td>\n",
       "      <td>0.006116</td>\n",
       "      <td>0.001319</td>\n",
       "      <td>0.986164</td>\n",
       "      <td>MIXED</td>\n",
       "      <td>0.994632</td>\n",
       "      <td>0.001496</td>\n",
       "      <td>0.003765</td>\n",
       "      <td>0.000107</td>\n",
       "      <td>POSITIVE</td>\n",
       "    </tr>\n",
       "    <tr>\n",
       "      <th>2</th>\n",
       "      <td>Drama</td>\n",
       "      <td>killers_of_the_flower_moon</td>\n",
       "      <td>93</td>\n",
       "      <td>84</td>\n",
       "      <td>The development of the characters, the perform...</td>\n",
       "      <td>so slow and the plot is terrible. I agree the ...</td>\n",
       "      <td>{'Sentiment': 'MIXED', 'SentimentScore': {'Pos...</td>\n",
       "      <td>{'Sentiment': 'NEGATIVE', 'SentimentScore': {'...</td>\n",
       "      <td>0.278133</td>\n",
       "      <td>0.004101</td>\n",
       "      <td>0.017245</td>\n",
       "      <td>0.700520</td>\n",
       "      <td>MIXED</td>\n",
       "      <td>0.003707</td>\n",
       "      <td>0.721609</td>\n",
       "      <td>0.001737</td>\n",
       "      <td>0.272947</td>\n",
       "      <td>NEGATIVE</td>\n",
       "    </tr>\n",
       "    <tr>\n",
       "      <th>3</th>\n",
       "      <td>Drama</td>\n",
       "      <td>our_son</td>\n",
       "      <td>89</td>\n",
       "      <td>62</td>\n",
       "      <td>As a director, Bill Oliver never allows this t...</td>\n",
       "      <td>Totally hot cast! Really heartwarming story an...</td>\n",
       "      <td>{'Sentiment': 'POSITIVE', 'SentimentScore': {'...</td>\n",
       "      <td>{'Sentiment': 'POSITIVE', 'SentimentScore': {'...</td>\n",
       "      <td>0.975298</td>\n",
       "      <td>0.003327</td>\n",
       "      <td>0.007768</td>\n",
       "      <td>0.013607</td>\n",
       "      <td>POSITIVE</td>\n",
       "      <td>0.999808</td>\n",
       "      <td>0.000053</td>\n",
       "      <td>0.000112</td>\n",
       "      <td>0.000026</td>\n",
       "      <td>POSITIVE</td>\n",
       "    </tr>\n",
       "    <tr>\n",
       "      <th>4</th>\n",
       "      <td>Drama</td>\n",
       "      <td>priscilla</td>\n",
       "      <td>82</td>\n",
       "      <td>63</td>\n",
       "      <td>Of all the directors working today, there is n...</td>\n",
       "      <td>I read the book and was really excited for thi...</td>\n",
       "      <td>{'Sentiment': 'POSITIVE', 'SentimentScore': {'...</td>\n",
       "      <td>{'Sentiment': 'NEGATIVE', 'SentimentScore': {'...</td>\n",
       "      <td>0.845207</td>\n",
       "      <td>0.002500</td>\n",
       "      <td>0.143244</td>\n",
       "      <td>0.009050</td>\n",
       "      <td>POSITIVE</td>\n",
       "      <td>0.001825</td>\n",
       "      <td>0.935506</td>\n",
       "      <td>0.000316</td>\n",
       "      <td>0.062354</td>\n",
       "      <td>NEGATIVE</td>\n",
       "    </tr>\n",
       "  </tbody>\n",
       "</table>\n",
       "</div>"
      ],
      "text/plain": [
       "   genre                        name  critic_score  audience_score  \\\n",
       "0  Drama         four_daughters_2023            96              91   \n",
       "1  Drama         the_taste_of_things            98             100   \n",
       "2  Drama  killers_of_the_flower_moon            93              84   \n",
       "3  Drama                     our_son            89              62   \n",
       "4  Drama                   priscilla            82              63   \n",
       "\n",
       "                                      critic_reviews  \\\n",
       "0  In telling the story of Olfa and her daughters...   \n",
       "1  Although its delectable dishes provide a feast...   \n",
       "2  The development of the characters, the perform...   \n",
       "3  As a director, Bill Oliver never allows this t...   \n",
       "4  Of all the directors working today, there is n...   \n",
       "\n",
       "                                    audience_reviews  \\\n",
       "0  The most compelling documentary of 2023. Stunn...   \n",
       "1  This movie is both complex and simple, like a ...   \n",
       "2  so slow and the plot is terrible. I agree the ...   \n",
       "3  Totally hot cast! Really heartwarming story an...   \n",
       "4  I read the book and was really excited for thi...   \n",
       "\n",
       "                             critic_sentiment_result  \\\n",
       "0  {'Sentiment': 'POSITIVE', 'SentimentScore': {'...   \n",
       "1  {'Sentiment': 'MIXED', 'SentimentScore': {'Pos...   \n",
       "2  {'Sentiment': 'MIXED', 'SentimentScore': {'Pos...   \n",
       "3  {'Sentiment': 'POSITIVE', 'SentimentScore': {'...   \n",
       "4  {'Sentiment': 'POSITIVE', 'SentimentScore': {'...   \n",
       "\n",
       "                           audience_sentiment_result  critic_postive  \\\n",
       "0  {'Sentiment': 'POSITIVE', 'SentimentScore': {'...        0.765325   \n",
       "1  {'Sentiment': 'POSITIVE', 'SentimentScore': {'...        0.006401   \n",
       "2  {'Sentiment': 'NEGATIVE', 'SentimentScore': {'...        0.278133   \n",
       "3  {'Sentiment': 'POSITIVE', 'SentimentScore': {'...        0.975298   \n",
       "4  {'Sentiment': 'NEGATIVE', 'SentimentScore': {'...        0.845207   \n",
       "\n",
       "   critic_negative  critic_neutral  critic_mixed critic_sentiment  \\\n",
       "0         0.001325        0.231601      0.001748         POSITIVE   \n",
       "1         0.006116        0.001319      0.986164            MIXED   \n",
       "2         0.004101        0.017245      0.700520            MIXED   \n",
       "3         0.003327        0.007768      0.013607         POSITIVE   \n",
       "4         0.002500        0.143244      0.009050         POSITIVE   \n",
       "\n",
       "   audience_postive  audience_negative  audience_neutral  audience_mixed  \\\n",
       "0          0.999406           0.000024          0.000545        0.000025   \n",
       "1          0.994632           0.001496          0.003765        0.000107   \n",
       "2          0.003707           0.721609          0.001737        0.272947   \n",
       "3          0.999808           0.000053          0.000112        0.000026   \n",
       "4          0.001825           0.935506          0.000316        0.062354   \n",
       "\n",
       "  audience_sentiment  \n",
       "0           POSITIVE  \n",
       "1           POSITIVE  \n",
       "2           NEGATIVE  \n",
       "3           POSITIVE  \n",
       "4           NEGATIVE  "
      ]
     },
     "execution_count": 10,
     "metadata": {},
     "output_type": "execute_result"
    }
   ],
   "source": [
    "df."
   ]
  },
  {
   "cell_type": "code",
   "execution_count": 76,
   "metadata": {},
   "outputs": [
    {
     "data": {
      "application/vnd.plotly.v1+json": {
       "config": {
        "plotlyServerURL": "https://plot.ly"
       },
       "data": [
        {
         "alignmentgroup": "True",
         "hovertemplate": "Sentiment=Critic Score<br>genre=%{x}<br>value=%{y}<extra></extra>",
         "legendgroup": "Critic Score",
         "marker": {
          "color": "green",
          "line": {
           "color": "black",
           "width": 1
          },
          "pattern": {
           "shape": ""
          }
         },
         "name": "Critic Score",
         "offsetgroup": "Critic Score",
         "orientation": "v",
         "showlegend": true,
         "textposition": "outside",
         "texttemplate": "%{value:.3s}",
         "type": "bar",
         "x": [
          "Action",
          "Comedy",
          "Drama",
          "Horror"
         ],
         "xaxis": "x",
         "y": [
          67.36363636363636,
          79.4,
          80.18181818181819,
          70.4
         ],
         "yaxis": "y"
        },
        {
         "alignmentgroup": "True",
         "hovertemplate": "Sentiment=Audience Score<br>genre=%{x}<br>value=%{y}<extra></extra>",
         "legendgroup": "Audience Score",
         "marker": {
          "color": "yellow",
          "line": {
           "color": "black",
           "width": 1
          },
          "pattern": {
           "shape": ""
          }
         },
         "name": "Audience Score",
         "offsetgroup": "Audience Score",
         "orientation": "v",
         "showlegend": true,
         "textposition": "outside",
         "texttemplate": "%{value:.3s}",
         "type": "bar",
         "x": [
          "Action",
          "Comedy",
          "Drama",
          "Horror"
         ],
         "xaxis": "x",
         "y": [
          81.0909090909091,
          85,
          81.22727272727273,
          71.4
         ],
         "yaxis": "y"
        }
       ],
       "layout": {
        "barmode": "group",
        "legend": {
         "title": {
          "text": "Sentiment"
         },
         "tracegroupgap": 0
        },
        "margin": {
         "t": 60
        },
        "template": {
         "data": {
          "bar": [
           {
            "error_x": {
             "color": "rgb(36,36,36)"
            },
            "error_y": {
             "color": "rgb(36,36,36)"
            },
            "marker": {
             "line": {
              "color": "white",
              "width": 0.5
             },
             "pattern": {
              "fillmode": "overlay",
              "size": 10,
              "solidity": 0.2
             }
            },
            "type": "bar"
           }
          ],
          "barpolar": [
           {
            "marker": {
             "line": {
              "color": "white",
              "width": 0.5
             },
             "pattern": {
              "fillmode": "overlay",
              "size": 10,
              "solidity": 0.2
             }
            },
            "type": "barpolar"
           }
          ],
          "carpet": [
           {
            "aaxis": {
             "endlinecolor": "rgb(36,36,36)",
             "gridcolor": "white",
             "linecolor": "white",
             "minorgridcolor": "white",
             "startlinecolor": "rgb(36,36,36)"
            },
            "baxis": {
             "endlinecolor": "rgb(36,36,36)",
             "gridcolor": "white",
             "linecolor": "white",
             "minorgridcolor": "white",
             "startlinecolor": "rgb(36,36,36)"
            },
            "type": "carpet"
           }
          ],
          "choropleth": [
           {
            "colorbar": {
             "outlinewidth": 1,
             "tickcolor": "rgb(36,36,36)",
             "ticks": "outside"
            },
            "type": "choropleth"
           }
          ],
          "contour": [
           {
            "colorbar": {
             "outlinewidth": 1,
             "tickcolor": "rgb(36,36,36)",
             "ticks": "outside"
            },
            "colorscale": [
             [
              0,
              "#440154"
             ],
             [
              0.1111111111111111,
              "#482878"
             ],
             [
              0.2222222222222222,
              "#3e4989"
             ],
             [
              0.3333333333333333,
              "#31688e"
             ],
             [
              0.4444444444444444,
              "#26828e"
             ],
             [
              0.5555555555555556,
              "#1f9e89"
             ],
             [
              0.6666666666666666,
              "#35b779"
             ],
             [
              0.7777777777777778,
              "#6ece58"
             ],
             [
              0.8888888888888888,
              "#b5de2b"
             ],
             [
              1,
              "#fde725"
             ]
            ],
            "type": "contour"
           }
          ],
          "contourcarpet": [
           {
            "colorbar": {
             "outlinewidth": 1,
             "tickcolor": "rgb(36,36,36)",
             "ticks": "outside"
            },
            "type": "contourcarpet"
           }
          ],
          "heatmap": [
           {
            "colorbar": {
             "outlinewidth": 1,
             "tickcolor": "rgb(36,36,36)",
             "ticks": "outside"
            },
            "colorscale": [
             [
              0,
              "#440154"
             ],
             [
              0.1111111111111111,
              "#482878"
             ],
             [
              0.2222222222222222,
              "#3e4989"
             ],
             [
              0.3333333333333333,
              "#31688e"
             ],
             [
              0.4444444444444444,
              "#26828e"
             ],
             [
              0.5555555555555556,
              "#1f9e89"
             ],
             [
              0.6666666666666666,
              "#35b779"
             ],
             [
              0.7777777777777778,
              "#6ece58"
             ],
             [
              0.8888888888888888,
              "#b5de2b"
             ],
             [
              1,
              "#fde725"
             ]
            ],
            "type": "heatmap"
           }
          ],
          "heatmapgl": [
           {
            "colorbar": {
             "outlinewidth": 1,
             "tickcolor": "rgb(36,36,36)",
             "ticks": "outside"
            },
            "colorscale": [
             [
              0,
              "#440154"
             ],
             [
              0.1111111111111111,
              "#482878"
             ],
             [
              0.2222222222222222,
              "#3e4989"
             ],
             [
              0.3333333333333333,
              "#31688e"
             ],
             [
              0.4444444444444444,
              "#26828e"
             ],
             [
              0.5555555555555556,
              "#1f9e89"
             ],
             [
              0.6666666666666666,
              "#35b779"
             ],
             [
              0.7777777777777778,
              "#6ece58"
             ],
             [
              0.8888888888888888,
              "#b5de2b"
             ],
             [
              1,
              "#fde725"
             ]
            ],
            "type": "heatmapgl"
           }
          ],
          "histogram": [
           {
            "marker": {
             "line": {
              "color": "white",
              "width": 0.6
             }
            },
            "type": "histogram"
           }
          ],
          "histogram2d": [
           {
            "colorbar": {
             "outlinewidth": 1,
             "tickcolor": "rgb(36,36,36)",
             "ticks": "outside"
            },
            "colorscale": [
             [
              0,
              "#440154"
             ],
             [
              0.1111111111111111,
              "#482878"
             ],
             [
              0.2222222222222222,
              "#3e4989"
             ],
             [
              0.3333333333333333,
              "#31688e"
             ],
             [
              0.4444444444444444,
              "#26828e"
             ],
             [
              0.5555555555555556,
              "#1f9e89"
             ],
             [
              0.6666666666666666,
              "#35b779"
             ],
             [
              0.7777777777777778,
              "#6ece58"
             ],
             [
              0.8888888888888888,
              "#b5de2b"
             ],
             [
              1,
              "#fde725"
             ]
            ],
            "type": "histogram2d"
           }
          ],
          "histogram2dcontour": [
           {
            "colorbar": {
             "outlinewidth": 1,
             "tickcolor": "rgb(36,36,36)",
             "ticks": "outside"
            },
            "colorscale": [
             [
              0,
              "#440154"
             ],
             [
              0.1111111111111111,
              "#482878"
             ],
             [
              0.2222222222222222,
              "#3e4989"
             ],
             [
              0.3333333333333333,
              "#31688e"
             ],
             [
              0.4444444444444444,
              "#26828e"
             ],
             [
              0.5555555555555556,
              "#1f9e89"
             ],
             [
              0.6666666666666666,
              "#35b779"
             ],
             [
              0.7777777777777778,
              "#6ece58"
             ],
             [
              0.8888888888888888,
              "#b5de2b"
             ],
             [
              1,
              "#fde725"
             ]
            ],
            "type": "histogram2dcontour"
           }
          ],
          "mesh3d": [
           {
            "colorbar": {
             "outlinewidth": 1,
             "tickcolor": "rgb(36,36,36)",
             "ticks": "outside"
            },
            "type": "mesh3d"
           }
          ],
          "parcoords": [
           {
            "line": {
             "colorbar": {
              "outlinewidth": 1,
              "tickcolor": "rgb(36,36,36)",
              "ticks": "outside"
             }
            },
            "type": "parcoords"
           }
          ],
          "pie": [
           {
            "automargin": true,
            "type": "pie"
           }
          ],
          "scatter": [
           {
            "fillpattern": {
             "fillmode": "overlay",
             "size": 10,
             "solidity": 0.2
            },
            "type": "scatter"
           }
          ],
          "scatter3d": [
           {
            "line": {
             "colorbar": {
              "outlinewidth": 1,
              "tickcolor": "rgb(36,36,36)",
              "ticks": "outside"
             }
            },
            "marker": {
             "colorbar": {
              "outlinewidth": 1,
              "tickcolor": "rgb(36,36,36)",
              "ticks": "outside"
             }
            },
            "type": "scatter3d"
           }
          ],
          "scattercarpet": [
           {
            "marker": {
             "colorbar": {
              "outlinewidth": 1,
              "tickcolor": "rgb(36,36,36)",
              "ticks": "outside"
             }
            },
            "type": "scattercarpet"
           }
          ],
          "scattergeo": [
           {
            "marker": {
             "colorbar": {
              "outlinewidth": 1,
              "tickcolor": "rgb(36,36,36)",
              "ticks": "outside"
             }
            },
            "type": "scattergeo"
           }
          ],
          "scattergl": [
           {
            "marker": {
             "colorbar": {
              "outlinewidth": 1,
              "tickcolor": "rgb(36,36,36)",
              "ticks": "outside"
             }
            },
            "type": "scattergl"
           }
          ],
          "scattermapbox": [
           {
            "marker": {
             "colorbar": {
              "outlinewidth": 1,
              "tickcolor": "rgb(36,36,36)",
              "ticks": "outside"
             }
            },
            "type": "scattermapbox"
           }
          ],
          "scatterpolar": [
           {
            "marker": {
             "colorbar": {
              "outlinewidth": 1,
              "tickcolor": "rgb(36,36,36)",
              "ticks": "outside"
             }
            },
            "type": "scatterpolar"
           }
          ],
          "scatterpolargl": [
           {
            "marker": {
             "colorbar": {
              "outlinewidth": 1,
              "tickcolor": "rgb(36,36,36)",
              "ticks": "outside"
             }
            },
            "type": "scatterpolargl"
           }
          ],
          "scatterternary": [
           {
            "marker": {
             "colorbar": {
              "outlinewidth": 1,
              "tickcolor": "rgb(36,36,36)",
              "ticks": "outside"
             }
            },
            "type": "scatterternary"
           }
          ],
          "surface": [
           {
            "colorbar": {
             "outlinewidth": 1,
             "tickcolor": "rgb(36,36,36)",
             "ticks": "outside"
            },
            "colorscale": [
             [
              0,
              "#440154"
             ],
             [
              0.1111111111111111,
              "#482878"
             ],
             [
              0.2222222222222222,
              "#3e4989"
             ],
             [
              0.3333333333333333,
              "#31688e"
             ],
             [
              0.4444444444444444,
              "#26828e"
             ],
             [
              0.5555555555555556,
              "#1f9e89"
             ],
             [
              0.6666666666666666,
              "#35b779"
             ],
             [
              0.7777777777777778,
              "#6ece58"
             ],
             [
              0.8888888888888888,
              "#b5de2b"
             ],
             [
              1,
              "#fde725"
             ]
            ],
            "type": "surface"
           }
          ],
          "table": [
           {
            "cells": {
             "fill": {
              "color": "rgb(237,237,237)"
             },
             "line": {
              "color": "white"
             }
            },
            "header": {
             "fill": {
              "color": "rgb(217,217,217)"
             },
             "line": {
              "color": "white"
             }
            },
            "type": "table"
           }
          ]
         },
         "layout": {
          "annotationdefaults": {
           "arrowhead": 0,
           "arrowwidth": 1
          },
          "autotypenumbers": "strict",
          "coloraxis": {
           "colorbar": {
            "outlinewidth": 1,
            "tickcolor": "rgb(36,36,36)",
            "ticks": "outside"
           }
          },
          "colorscale": {
           "diverging": [
            [
             0,
             "rgb(103,0,31)"
            ],
            [
             0.1,
             "rgb(178,24,43)"
            ],
            [
             0.2,
             "rgb(214,96,77)"
            ],
            [
             0.3,
             "rgb(244,165,130)"
            ],
            [
             0.4,
             "rgb(253,219,199)"
            ],
            [
             0.5,
             "rgb(247,247,247)"
            ],
            [
             0.6,
             "rgb(209,229,240)"
            ],
            [
             0.7,
             "rgb(146,197,222)"
            ],
            [
             0.8,
             "rgb(67,147,195)"
            ],
            [
             0.9,
             "rgb(33,102,172)"
            ],
            [
             1,
             "rgb(5,48,97)"
            ]
           ],
           "sequential": [
            [
             0,
             "#440154"
            ],
            [
             0.1111111111111111,
             "#482878"
            ],
            [
             0.2222222222222222,
             "#3e4989"
            ],
            [
             0.3333333333333333,
             "#31688e"
            ],
            [
             0.4444444444444444,
             "#26828e"
            ],
            [
             0.5555555555555556,
             "#1f9e89"
            ],
            [
             0.6666666666666666,
             "#35b779"
            ],
            [
             0.7777777777777778,
             "#6ece58"
            ],
            [
             0.8888888888888888,
             "#b5de2b"
            ],
            [
             1,
             "#fde725"
            ]
           ],
           "sequentialminus": [
            [
             0,
             "#440154"
            ],
            [
             0.1111111111111111,
             "#482878"
            ],
            [
             0.2222222222222222,
             "#3e4989"
            ],
            [
             0.3333333333333333,
             "#31688e"
            ],
            [
             0.4444444444444444,
             "#26828e"
            ],
            [
             0.5555555555555556,
             "#1f9e89"
            ],
            [
             0.6666666666666666,
             "#35b779"
            ],
            [
             0.7777777777777778,
             "#6ece58"
            ],
            [
             0.8888888888888888,
             "#b5de2b"
            ],
            [
             1,
             "#fde725"
            ]
           ]
          },
          "colorway": [
           "#1F77B4",
           "#FF7F0E",
           "#2CA02C",
           "#D62728",
           "#9467BD",
           "#8C564B",
           "#E377C2",
           "#7F7F7F",
           "#BCBD22",
           "#17BECF"
          ],
          "font": {
           "color": "rgb(36,36,36)"
          },
          "geo": {
           "bgcolor": "white",
           "lakecolor": "white",
           "landcolor": "white",
           "showlakes": true,
           "showland": true,
           "subunitcolor": "white"
          },
          "hoverlabel": {
           "align": "left"
          },
          "hovermode": "closest",
          "mapbox": {
           "style": "light"
          },
          "paper_bgcolor": "white",
          "plot_bgcolor": "white",
          "polar": {
           "angularaxis": {
            "gridcolor": "rgb(232,232,232)",
            "linecolor": "rgb(36,36,36)",
            "showgrid": false,
            "showline": true,
            "ticks": "outside"
           },
           "bgcolor": "white",
           "radialaxis": {
            "gridcolor": "rgb(232,232,232)",
            "linecolor": "rgb(36,36,36)",
            "showgrid": false,
            "showline": true,
            "ticks": "outside"
           }
          },
          "scene": {
           "xaxis": {
            "backgroundcolor": "white",
            "gridcolor": "rgb(232,232,232)",
            "gridwidth": 2,
            "linecolor": "rgb(36,36,36)",
            "showbackground": true,
            "showgrid": false,
            "showline": true,
            "ticks": "outside",
            "zeroline": false,
            "zerolinecolor": "rgb(36,36,36)"
           },
           "yaxis": {
            "backgroundcolor": "white",
            "gridcolor": "rgb(232,232,232)",
            "gridwidth": 2,
            "linecolor": "rgb(36,36,36)",
            "showbackground": true,
            "showgrid": false,
            "showline": true,
            "ticks": "outside",
            "zeroline": false,
            "zerolinecolor": "rgb(36,36,36)"
           },
           "zaxis": {
            "backgroundcolor": "white",
            "gridcolor": "rgb(232,232,232)",
            "gridwidth": 2,
            "linecolor": "rgb(36,36,36)",
            "showbackground": true,
            "showgrid": false,
            "showline": true,
            "ticks": "outside",
            "zeroline": false,
            "zerolinecolor": "rgb(36,36,36)"
           }
          },
          "shapedefaults": {
           "fillcolor": "black",
           "line": {
            "width": 0
           },
           "opacity": 0.3
          },
          "ternary": {
           "aaxis": {
            "gridcolor": "rgb(232,232,232)",
            "linecolor": "rgb(36,36,36)",
            "showgrid": false,
            "showline": true,
            "ticks": "outside"
           },
           "baxis": {
            "gridcolor": "rgb(232,232,232)",
            "linecolor": "rgb(36,36,36)",
            "showgrid": false,
            "showline": true,
            "ticks": "outside"
           },
           "bgcolor": "white",
           "caxis": {
            "gridcolor": "rgb(232,232,232)",
            "linecolor": "rgb(36,36,36)",
            "showgrid": false,
            "showline": true,
            "ticks": "outside"
           }
          },
          "title": {
           "x": 0.05
          },
          "xaxis": {
           "automargin": true,
           "gridcolor": "rgb(232,232,232)",
           "linecolor": "rgb(36,36,36)",
           "showgrid": false,
           "showline": true,
           "ticks": "outside",
           "title": {
            "standoff": 15
           },
           "zeroline": false,
           "zerolinecolor": "rgb(36,36,36)"
          },
          "yaxis": {
           "automargin": true,
           "gridcolor": "rgb(232,232,232)",
           "linecolor": "rgb(36,36,36)",
           "showgrid": false,
           "showline": true,
           "ticks": "outside",
           "title": {
            "standoff": 15
           },
           "zeroline": false,
           "zerolinecolor": "rgb(36,36,36)"
          }
         }
        },
        "title": {
         "font": {
          "size": 20
         },
         "text": "<b> Average Movie Scores by Genre</b>",
         "x": 0.5
        },
        "width": 1000,
        "xaxis": {
         "anchor": "y",
         "domain": [
          0,
          1
         ],
         "title": {
          "text": ""
         }
        },
        "yaxis": {
         "anchor": "x",
         "domain": [
          0,
          1
         ],
         "title": {
          "text": ""
         },
         "visible": false
        }
       }
      },
      "text/html": [
       "<div>                            <div id=\"cfb7f237-2ca7-4d9d-bbea-17142cc78b25\" class=\"plotly-graph-div\" style=\"height:525px; width:1000px;\"></div>            <script type=\"text/javascript\">                require([\"plotly\"], function(Plotly) {                    window.PLOTLYENV=window.PLOTLYENV || {};                                    if (document.getElementById(\"cfb7f237-2ca7-4d9d-bbea-17142cc78b25\")) {                    Plotly.newPlot(                        \"cfb7f237-2ca7-4d9d-bbea-17142cc78b25\",                        [{\"alignmentgroup\":\"True\",\"hovertemplate\":\"Sentiment=Critic Score\\u003cbr\\u003egenre=%{x}\\u003cbr\\u003evalue=%{y}\\u003cextra\\u003e\\u003c\\u002fextra\\u003e\",\"legendgroup\":\"Critic Score\",\"marker\":{\"color\":\"green\",\"pattern\":{\"shape\":\"\"},\"line\":{\"color\":\"black\",\"width\":1}},\"name\":\"Critic Score\",\"offsetgroup\":\"Critic Score\",\"orientation\":\"v\",\"showlegend\":true,\"textposition\":\"outside\",\"x\":[\"Action\",\"Comedy\",\"Drama\",\"Horror\"],\"xaxis\":\"x\",\"y\":[67.36363636363636,79.4,80.18181818181819,70.4],\"yaxis\":\"y\",\"type\":\"bar\",\"texttemplate\":\"%{value:.3s}\"},{\"alignmentgroup\":\"True\",\"hovertemplate\":\"Sentiment=Audience Score\\u003cbr\\u003egenre=%{x}\\u003cbr\\u003evalue=%{y}\\u003cextra\\u003e\\u003c\\u002fextra\\u003e\",\"legendgroup\":\"Audience Score\",\"marker\":{\"color\":\"yellow\",\"pattern\":{\"shape\":\"\"},\"line\":{\"color\":\"black\",\"width\":1}},\"name\":\"Audience Score\",\"offsetgroup\":\"Audience Score\",\"orientation\":\"v\",\"showlegend\":true,\"textposition\":\"outside\",\"x\":[\"Action\",\"Comedy\",\"Drama\",\"Horror\"],\"xaxis\":\"x\",\"y\":[81.0909090909091,85.0,81.22727272727273,71.4],\"yaxis\":\"y\",\"type\":\"bar\",\"texttemplate\":\"%{value:.3s}\"}],                        {\"template\":{\"data\":{\"barpolar\":[{\"marker\":{\"line\":{\"color\":\"white\",\"width\":0.5},\"pattern\":{\"fillmode\":\"overlay\",\"size\":10,\"solidity\":0.2}},\"type\":\"barpolar\"}],\"bar\":[{\"error_x\":{\"color\":\"rgb(36,36,36)\"},\"error_y\":{\"color\":\"rgb(36,36,36)\"},\"marker\":{\"line\":{\"color\":\"white\",\"width\":0.5},\"pattern\":{\"fillmode\":\"overlay\",\"size\":10,\"solidity\":0.2}},\"type\":\"bar\"}],\"carpet\":[{\"aaxis\":{\"endlinecolor\":\"rgb(36,36,36)\",\"gridcolor\":\"white\",\"linecolor\":\"white\",\"minorgridcolor\":\"white\",\"startlinecolor\":\"rgb(36,36,36)\"},\"baxis\":{\"endlinecolor\":\"rgb(36,36,36)\",\"gridcolor\":\"white\",\"linecolor\":\"white\",\"minorgridcolor\":\"white\",\"startlinecolor\":\"rgb(36,36,36)\"},\"type\":\"carpet\"}],\"choropleth\":[{\"colorbar\":{\"outlinewidth\":1,\"tickcolor\":\"rgb(36,36,36)\",\"ticks\":\"outside\"},\"type\":\"choropleth\"}],\"contourcarpet\":[{\"colorbar\":{\"outlinewidth\":1,\"tickcolor\":\"rgb(36,36,36)\",\"ticks\":\"outside\"},\"type\":\"contourcarpet\"}],\"contour\":[{\"colorbar\":{\"outlinewidth\":1,\"tickcolor\":\"rgb(36,36,36)\",\"ticks\":\"outside\"},\"colorscale\":[[0.0,\"#440154\"],[0.1111111111111111,\"#482878\"],[0.2222222222222222,\"#3e4989\"],[0.3333333333333333,\"#31688e\"],[0.4444444444444444,\"#26828e\"],[0.5555555555555556,\"#1f9e89\"],[0.6666666666666666,\"#35b779\"],[0.7777777777777778,\"#6ece58\"],[0.8888888888888888,\"#b5de2b\"],[1.0,\"#fde725\"]],\"type\":\"contour\"}],\"heatmapgl\":[{\"colorbar\":{\"outlinewidth\":1,\"tickcolor\":\"rgb(36,36,36)\",\"ticks\":\"outside\"},\"colorscale\":[[0.0,\"#440154\"],[0.1111111111111111,\"#482878\"],[0.2222222222222222,\"#3e4989\"],[0.3333333333333333,\"#31688e\"],[0.4444444444444444,\"#26828e\"],[0.5555555555555556,\"#1f9e89\"],[0.6666666666666666,\"#35b779\"],[0.7777777777777778,\"#6ece58\"],[0.8888888888888888,\"#b5de2b\"],[1.0,\"#fde725\"]],\"type\":\"heatmapgl\"}],\"heatmap\":[{\"colorbar\":{\"outlinewidth\":1,\"tickcolor\":\"rgb(36,36,36)\",\"ticks\":\"outside\"},\"colorscale\":[[0.0,\"#440154\"],[0.1111111111111111,\"#482878\"],[0.2222222222222222,\"#3e4989\"],[0.3333333333333333,\"#31688e\"],[0.4444444444444444,\"#26828e\"],[0.5555555555555556,\"#1f9e89\"],[0.6666666666666666,\"#35b779\"],[0.7777777777777778,\"#6ece58\"],[0.8888888888888888,\"#b5de2b\"],[1.0,\"#fde725\"]],\"type\":\"heatmap\"}],\"histogram2dcontour\":[{\"colorbar\":{\"outlinewidth\":1,\"tickcolor\":\"rgb(36,36,36)\",\"ticks\":\"outside\"},\"colorscale\":[[0.0,\"#440154\"],[0.1111111111111111,\"#482878\"],[0.2222222222222222,\"#3e4989\"],[0.3333333333333333,\"#31688e\"],[0.4444444444444444,\"#26828e\"],[0.5555555555555556,\"#1f9e89\"],[0.6666666666666666,\"#35b779\"],[0.7777777777777778,\"#6ece58\"],[0.8888888888888888,\"#b5de2b\"],[1.0,\"#fde725\"]],\"type\":\"histogram2dcontour\"}],\"histogram2d\":[{\"colorbar\":{\"outlinewidth\":1,\"tickcolor\":\"rgb(36,36,36)\",\"ticks\":\"outside\"},\"colorscale\":[[0.0,\"#440154\"],[0.1111111111111111,\"#482878\"],[0.2222222222222222,\"#3e4989\"],[0.3333333333333333,\"#31688e\"],[0.4444444444444444,\"#26828e\"],[0.5555555555555556,\"#1f9e89\"],[0.6666666666666666,\"#35b779\"],[0.7777777777777778,\"#6ece58\"],[0.8888888888888888,\"#b5de2b\"],[1.0,\"#fde725\"]],\"type\":\"histogram2d\"}],\"histogram\":[{\"marker\":{\"line\":{\"color\":\"white\",\"width\":0.6}},\"type\":\"histogram\"}],\"mesh3d\":[{\"colorbar\":{\"outlinewidth\":1,\"tickcolor\":\"rgb(36,36,36)\",\"ticks\":\"outside\"},\"type\":\"mesh3d\"}],\"parcoords\":[{\"line\":{\"colorbar\":{\"outlinewidth\":1,\"tickcolor\":\"rgb(36,36,36)\",\"ticks\":\"outside\"}},\"type\":\"parcoords\"}],\"pie\":[{\"automargin\":true,\"type\":\"pie\"}],\"scatter3d\":[{\"line\":{\"colorbar\":{\"outlinewidth\":1,\"tickcolor\":\"rgb(36,36,36)\",\"ticks\":\"outside\"}},\"marker\":{\"colorbar\":{\"outlinewidth\":1,\"tickcolor\":\"rgb(36,36,36)\",\"ticks\":\"outside\"}},\"type\":\"scatter3d\"}],\"scattercarpet\":[{\"marker\":{\"colorbar\":{\"outlinewidth\":1,\"tickcolor\":\"rgb(36,36,36)\",\"ticks\":\"outside\"}},\"type\":\"scattercarpet\"}],\"scattergeo\":[{\"marker\":{\"colorbar\":{\"outlinewidth\":1,\"tickcolor\":\"rgb(36,36,36)\",\"ticks\":\"outside\"}},\"type\":\"scattergeo\"}],\"scattergl\":[{\"marker\":{\"colorbar\":{\"outlinewidth\":1,\"tickcolor\":\"rgb(36,36,36)\",\"ticks\":\"outside\"}},\"type\":\"scattergl\"}],\"scattermapbox\":[{\"marker\":{\"colorbar\":{\"outlinewidth\":1,\"tickcolor\":\"rgb(36,36,36)\",\"ticks\":\"outside\"}},\"type\":\"scattermapbox\"}],\"scatterpolargl\":[{\"marker\":{\"colorbar\":{\"outlinewidth\":1,\"tickcolor\":\"rgb(36,36,36)\",\"ticks\":\"outside\"}},\"type\":\"scatterpolargl\"}],\"scatterpolar\":[{\"marker\":{\"colorbar\":{\"outlinewidth\":1,\"tickcolor\":\"rgb(36,36,36)\",\"ticks\":\"outside\"}},\"type\":\"scatterpolar\"}],\"scatter\":[{\"fillpattern\":{\"fillmode\":\"overlay\",\"size\":10,\"solidity\":0.2},\"type\":\"scatter\"}],\"scatterternary\":[{\"marker\":{\"colorbar\":{\"outlinewidth\":1,\"tickcolor\":\"rgb(36,36,36)\",\"ticks\":\"outside\"}},\"type\":\"scatterternary\"}],\"surface\":[{\"colorbar\":{\"outlinewidth\":1,\"tickcolor\":\"rgb(36,36,36)\",\"ticks\":\"outside\"},\"colorscale\":[[0.0,\"#440154\"],[0.1111111111111111,\"#482878\"],[0.2222222222222222,\"#3e4989\"],[0.3333333333333333,\"#31688e\"],[0.4444444444444444,\"#26828e\"],[0.5555555555555556,\"#1f9e89\"],[0.6666666666666666,\"#35b779\"],[0.7777777777777778,\"#6ece58\"],[0.8888888888888888,\"#b5de2b\"],[1.0,\"#fde725\"]],\"type\":\"surface\"}],\"table\":[{\"cells\":{\"fill\":{\"color\":\"rgb(237,237,237)\"},\"line\":{\"color\":\"white\"}},\"header\":{\"fill\":{\"color\":\"rgb(217,217,217)\"},\"line\":{\"color\":\"white\"}},\"type\":\"table\"}]},\"layout\":{\"annotationdefaults\":{\"arrowhead\":0,\"arrowwidth\":1},\"autotypenumbers\":\"strict\",\"coloraxis\":{\"colorbar\":{\"outlinewidth\":1,\"tickcolor\":\"rgb(36,36,36)\",\"ticks\":\"outside\"}},\"colorscale\":{\"diverging\":[[0.0,\"rgb(103,0,31)\"],[0.1,\"rgb(178,24,43)\"],[0.2,\"rgb(214,96,77)\"],[0.3,\"rgb(244,165,130)\"],[0.4,\"rgb(253,219,199)\"],[0.5,\"rgb(247,247,247)\"],[0.6,\"rgb(209,229,240)\"],[0.7,\"rgb(146,197,222)\"],[0.8,\"rgb(67,147,195)\"],[0.9,\"rgb(33,102,172)\"],[1.0,\"rgb(5,48,97)\"]],\"sequential\":[[0.0,\"#440154\"],[0.1111111111111111,\"#482878\"],[0.2222222222222222,\"#3e4989\"],[0.3333333333333333,\"#31688e\"],[0.4444444444444444,\"#26828e\"],[0.5555555555555556,\"#1f9e89\"],[0.6666666666666666,\"#35b779\"],[0.7777777777777778,\"#6ece58\"],[0.8888888888888888,\"#b5de2b\"],[1.0,\"#fde725\"]],\"sequentialminus\":[[0.0,\"#440154\"],[0.1111111111111111,\"#482878\"],[0.2222222222222222,\"#3e4989\"],[0.3333333333333333,\"#31688e\"],[0.4444444444444444,\"#26828e\"],[0.5555555555555556,\"#1f9e89\"],[0.6666666666666666,\"#35b779\"],[0.7777777777777778,\"#6ece58\"],[0.8888888888888888,\"#b5de2b\"],[1.0,\"#fde725\"]]},\"colorway\":[\"#1F77B4\",\"#FF7F0E\",\"#2CA02C\",\"#D62728\",\"#9467BD\",\"#8C564B\",\"#E377C2\",\"#7F7F7F\",\"#BCBD22\",\"#17BECF\"],\"font\":{\"color\":\"rgb(36,36,36)\"},\"geo\":{\"bgcolor\":\"white\",\"lakecolor\":\"white\",\"landcolor\":\"white\",\"showlakes\":true,\"showland\":true,\"subunitcolor\":\"white\"},\"hoverlabel\":{\"align\":\"left\"},\"hovermode\":\"closest\",\"mapbox\":{\"style\":\"light\"},\"paper_bgcolor\":\"white\",\"plot_bgcolor\":\"white\",\"polar\":{\"angularaxis\":{\"gridcolor\":\"rgb(232,232,232)\",\"linecolor\":\"rgb(36,36,36)\",\"showgrid\":false,\"showline\":true,\"ticks\":\"outside\"},\"bgcolor\":\"white\",\"radialaxis\":{\"gridcolor\":\"rgb(232,232,232)\",\"linecolor\":\"rgb(36,36,36)\",\"showgrid\":false,\"showline\":true,\"ticks\":\"outside\"}},\"scene\":{\"xaxis\":{\"backgroundcolor\":\"white\",\"gridcolor\":\"rgb(232,232,232)\",\"gridwidth\":2,\"linecolor\":\"rgb(36,36,36)\",\"showbackground\":true,\"showgrid\":false,\"showline\":true,\"ticks\":\"outside\",\"zeroline\":false,\"zerolinecolor\":\"rgb(36,36,36)\"},\"yaxis\":{\"backgroundcolor\":\"white\",\"gridcolor\":\"rgb(232,232,232)\",\"gridwidth\":2,\"linecolor\":\"rgb(36,36,36)\",\"showbackground\":true,\"showgrid\":false,\"showline\":true,\"ticks\":\"outside\",\"zeroline\":false,\"zerolinecolor\":\"rgb(36,36,36)\"},\"zaxis\":{\"backgroundcolor\":\"white\",\"gridcolor\":\"rgb(232,232,232)\",\"gridwidth\":2,\"linecolor\":\"rgb(36,36,36)\",\"showbackground\":true,\"showgrid\":false,\"showline\":true,\"ticks\":\"outside\",\"zeroline\":false,\"zerolinecolor\":\"rgb(36,36,36)\"}},\"shapedefaults\":{\"fillcolor\":\"black\",\"line\":{\"width\":0},\"opacity\":0.3},\"ternary\":{\"aaxis\":{\"gridcolor\":\"rgb(232,232,232)\",\"linecolor\":\"rgb(36,36,36)\",\"showgrid\":false,\"showline\":true,\"ticks\":\"outside\"},\"baxis\":{\"gridcolor\":\"rgb(232,232,232)\",\"linecolor\":\"rgb(36,36,36)\",\"showgrid\":false,\"showline\":true,\"ticks\":\"outside\"},\"bgcolor\":\"white\",\"caxis\":{\"gridcolor\":\"rgb(232,232,232)\",\"linecolor\":\"rgb(36,36,36)\",\"showgrid\":false,\"showline\":true,\"ticks\":\"outside\"}},\"title\":{\"x\":0.05},\"xaxis\":{\"automargin\":true,\"gridcolor\":\"rgb(232,232,232)\",\"linecolor\":\"rgb(36,36,36)\",\"showgrid\":false,\"showline\":true,\"ticks\":\"outside\",\"title\":{\"standoff\":15},\"zeroline\":false,\"zerolinecolor\":\"rgb(36,36,36)\"},\"yaxis\":{\"automargin\":true,\"gridcolor\":\"rgb(232,232,232)\",\"linecolor\":\"rgb(36,36,36)\",\"showgrid\":false,\"showline\":true,\"ticks\":\"outside\",\"title\":{\"standoff\":15},\"zeroline\":false,\"zerolinecolor\":\"rgb(36,36,36)\"}}},\"xaxis\":{\"anchor\":\"y\",\"domain\":[0.0,1.0],\"title\":{\"text\":\"\"}},\"yaxis\":{\"anchor\":\"x\",\"domain\":[0.0,1.0],\"title\":{\"text\":\"\"},\"visible\":false},\"legend\":{\"title\":{\"text\":\"Sentiment\"},\"tracegroupgap\":0},\"margin\":{\"t\":60},\"barmode\":\"group\",\"title\":{\"font\":{\"size\":20},\"text\":\"\\u003cb\\u003e Average Movie Scores by Genre\\u003c\\u002fb\\u003e\",\"x\":0.5},\"width\":1000},                        {\"responsive\": true}                    ).then(function(){\n",
       "                            \n",
       "var gd = document.getElementById('cfb7f237-2ca7-4d9d-bbea-17142cc78b25');\n",
       "var x = new MutationObserver(function (mutations, observer) {{\n",
       "        var display = window.getComputedStyle(gd).display;\n",
       "        if (!display || display === 'none') {{\n",
       "            console.log([gd, 'removed!']);\n",
       "            Plotly.purge(gd);\n",
       "            observer.disconnect();\n",
       "        }}\n",
       "}});\n",
       "\n",
       "// Listen for the removal of the full notebook cells\n",
       "var notebookContainer = gd.closest('#notebook-container');\n",
       "if (notebookContainer) {{\n",
       "    x.observe(notebookContainer, {childList: true});\n",
       "}}\n",
       "\n",
       "// Listen for the clearing of the current output cell\n",
       "var outputEl = gd.closest('.output');\n",
       "if (outputEl) {{\n",
       "    x.observe(outputEl, {childList: true});\n",
       "}}\n",
       "\n",
       "                        })                };                });            </script>        </div>"
      ]
     },
     "metadata": {},
     "output_type": "display_data"
    }
   ],
   "source": [
    "genre_df = df[['genre','critic_score','audience_score']].groupby('genre').mean()\n",
    "genre_df.columns = ['Critic Score','Audience Score']\n",
    "bar1 = px.bar(genre_df, x=genre_df.index, y=['Critic Score','Audience Score'],\n",
    "                barmode='group',\n",
    "                template='simple_white',\n",
    "                labels = {'variable' : 'Sentiment'}, # rename legend label\n",
    "                color_discrete_map={'Critic Score': 'green', 'Audience Score': 'yellow'})\n",
    "\n",
    "bar1.update_layout(title=dict(text='<b> Average Movie Scores by Genre</b>',font=dict(size=20)), # add title, add bold formatting and make the title interactive\n",
    "                            width = 1000, # set width\n",
    "                             title_x = 0.5, # move title to the middle\n",
    "                             xaxis_title = '', # remove x axis title, don't remove the whole x axis as i want to keep the month labels\n",
    "                             yaxis_title = '', # remove y axis title\n",
    "                             yaxis = dict(visible=False),\n",
    "                             )\n",
    "bar1.update_traces(texttemplate = '%{value:.3s}', textposition='outside')\n",
    "\n",
    "bar1.update_traces(marker=dict(line=dict(color='black', width=1))) # add black border to bars\n",
    "\n",
    "bar1.for_each_annotation(lambda a: a.update(text=a.text.split(\"=\")[-1].replace('audience', 'Audience Reviews').replace('critic', 'Critic Reviews'))) # rename facet titles\n",
    "bar1.show()"
   ]
  },
  {
   "cell_type": "code",
   "execution_count": 12,
   "metadata": {},
   "outputs": [
    {
     "data": {
      "text/html": [
       "<div>\n",
       "<style scoped>\n",
       "    .dataframe tbody tr th:only-of-type {\n",
       "        vertical-align: middle;\n",
       "    }\n",
       "\n",
       "    .dataframe tbody tr th {\n",
       "        vertical-align: top;\n",
       "    }\n",
       "\n",
       "    .dataframe thead th {\n",
       "        text-align: right;\n",
       "    }\n",
       "</style>\n",
       "<table border=\"1\" class=\"dataframe\">\n",
       "  <thead>\n",
       "    <tr style=\"text-align: right;\">\n",
       "      <th></th>\n",
       "      <th>variable</th>\n",
       "      <th>value</th>\n",
       "    </tr>\n",
       "  </thead>\n",
       "  <tbody>\n",
       "    <tr>\n",
       "      <th>0</th>\n",
       "      <td>Critic Score</td>\n",
       "      <td>67.363636</td>\n",
       "    </tr>\n",
       "    <tr>\n",
       "      <th>1</th>\n",
       "      <td>Critic Score</td>\n",
       "      <td>79.400000</td>\n",
       "    </tr>\n",
       "    <tr>\n",
       "      <th>2</th>\n",
       "      <td>Critic Score</td>\n",
       "      <td>80.181818</td>\n",
       "    </tr>\n",
       "    <tr>\n",
       "      <th>3</th>\n",
       "      <td>Critic Score</td>\n",
       "      <td>70.400000</td>\n",
       "    </tr>\n",
       "    <tr>\n",
       "      <th>4</th>\n",
       "      <td>Audience Score</td>\n",
       "      <td>81.090909</td>\n",
       "    </tr>\n",
       "    <tr>\n",
       "      <th>5</th>\n",
       "      <td>Audience Score</td>\n",
       "      <td>85.000000</td>\n",
       "    </tr>\n",
       "    <tr>\n",
       "      <th>6</th>\n",
       "      <td>Audience Score</td>\n",
       "      <td>81.227273</td>\n",
       "    </tr>\n",
       "    <tr>\n",
       "      <th>7</th>\n",
       "      <td>Audience Score</td>\n",
       "      <td>71.400000</td>\n",
       "    </tr>\n",
       "  </tbody>\n",
       "</table>\n",
       "</div>"
      ],
      "text/plain": [
       "         variable      value\n",
       "0    Critic Score  67.363636\n",
       "1    Critic Score  79.400000\n",
       "2    Critic Score  80.181818\n",
       "3    Critic Score  70.400000\n",
       "4  Audience Score  81.090909\n",
       "5  Audience Score  85.000000\n",
       "6  Audience Score  81.227273\n",
       "7  Audience Score  71.400000"
      ]
     },
     "execution_count": 12,
     "metadata": {},
     "output_type": "execute_result"
    }
   ],
   "source": [
    "melted_df = pd.melt(genre_df)\n",
    "# Display the melted DataFrame\n",
    "melted_df"
   ]
  },
  {
   "cell_type": "code",
   "execution_count": 13,
   "metadata": {},
   "outputs": [
    {
     "data": {
      "text/html": [
       "<div>\n",
       "<style scoped>\n",
       "    .dataframe tbody tr th:only-of-type {\n",
       "        vertical-align: middle;\n",
       "    }\n",
       "\n",
       "    .dataframe tbody tr th {\n",
       "        vertical-align: top;\n",
       "    }\n",
       "\n",
       "    .dataframe thead th {\n",
       "        text-align: right;\n",
       "    }\n",
       "</style>\n",
       "<table border=\"1\" class=\"dataframe\">\n",
       "  <thead>\n",
       "    <tr style=\"text-align: right;\">\n",
       "      <th></th>\n",
       "      <th>genre</th>\n",
       "      <th>name</th>\n",
       "      <th>critic_score</th>\n",
       "      <th>audience_score</th>\n",
       "      <th>variable</th>\n",
       "      <th>value</th>\n",
       "    </tr>\n",
       "  </thead>\n",
       "  <tbody>\n",
       "    <tr>\n",
       "      <th>0</th>\n",
       "      <td>Drama</td>\n",
       "      <td>four_daughters_2023</td>\n",
       "      <td>96</td>\n",
       "      <td>91</td>\n",
       "      <td>critic_postive</td>\n",
       "      <td>0.765325</td>\n",
       "    </tr>\n",
       "    <tr>\n",
       "      <th>1</th>\n",
       "      <td>Drama</td>\n",
       "      <td>the_taste_of_things</td>\n",
       "      <td>98</td>\n",
       "      <td>100</td>\n",
       "      <td>critic_postive</td>\n",
       "      <td>0.006401</td>\n",
       "    </tr>\n",
       "    <tr>\n",
       "      <th>2</th>\n",
       "      <td>Drama</td>\n",
       "      <td>killers_of_the_flower_moon</td>\n",
       "      <td>93</td>\n",
       "      <td>84</td>\n",
       "      <td>critic_postive</td>\n",
       "      <td>0.278133</td>\n",
       "    </tr>\n",
       "    <tr>\n",
       "      <th>3</th>\n",
       "      <td>Drama</td>\n",
       "      <td>our_son</td>\n",
       "      <td>89</td>\n",
       "      <td>62</td>\n",
       "      <td>critic_postive</td>\n",
       "      <td>0.975298</td>\n",
       "    </tr>\n",
       "    <tr>\n",
       "      <th>4</th>\n",
       "      <td>Drama</td>\n",
       "      <td>priscilla</td>\n",
       "      <td>82</td>\n",
       "      <td>63</td>\n",
       "      <td>critic_postive</td>\n",
       "      <td>0.845207</td>\n",
       "    </tr>\n",
       "    <tr>\n",
       "      <th>...</th>\n",
       "      <td>...</td>\n",
       "      <td>...</td>\n",
       "      <td>...</td>\n",
       "      <td>...</td>\n",
       "      <td>...</td>\n",
       "      <td>...</td>\n",
       "    </tr>\n",
       "    <tr>\n",
       "      <th>419</th>\n",
       "      <td>Action</td>\n",
       "      <td>the_marvels</td>\n",
       "      <td>61</td>\n",
       "      <td>83</td>\n",
       "      <td>audience_mixed</td>\n",
       "      <td>0.146703</td>\n",
       "    </tr>\n",
       "    <tr>\n",
       "      <th>420</th>\n",
       "      <td>Action</td>\n",
       "      <td>die_hard</td>\n",
       "      <td>94</td>\n",
       "      <td>94</td>\n",
       "      <td>audience_mixed</td>\n",
       "      <td>0.000223</td>\n",
       "    </tr>\n",
       "    <tr>\n",
       "      <th>421</th>\n",
       "      <td>Action</td>\n",
       "      <td>fast_charlie</td>\n",
       "      <td>86</td>\n",
       "      <td>84</td>\n",
       "      <td>audience_mixed</td>\n",
       "      <td>0.000149</td>\n",
       "    </tr>\n",
       "    <tr>\n",
       "      <th>422</th>\n",
       "      <td>Action</td>\n",
       "      <td>concrete_utopia</td>\n",
       "      <td>100</td>\n",
       "      <td>79</td>\n",
       "      <td>audience_mixed</td>\n",
       "      <td>0.024230</td>\n",
       "    </tr>\n",
       "    <tr>\n",
       "      <th>423</th>\n",
       "      <td>Action</td>\n",
       "      <td>indiana_jones_and_the_dial_of_destiny</td>\n",
       "      <td>69</td>\n",
       "      <td>88</td>\n",
       "      <td>audience_mixed</td>\n",
       "      <td>0.940645</td>\n",
       "    </tr>\n",
       "  </tbody>\n",
       "</table>\n",
       "<p>424 rows × 6 columns</p>\n",
       "</div>"
      ],
      "text/plain": [
       "      genre                                   name  critic_score  \\\n",
       "0     Drama                    four_daughters_2023            96   \n",
       "1     Drama                    the_taste_of_things            98   \n",
       "2     Drama             killers_of_the_flower_moon            93   \n",
       "3     Drama                                our_son            89   \n",
       "4     Drama                              priscilla            82   \n",
       "..      ...                                    ...           ...   \n",
       "419  Action                            the_marvels            61   \n",
       "420  Action                               die_hard            94   \n",
       "421  Action                           fast_charlie            86   \n",
       "422  Action                        concrete_utopia           100   \n",
       "423  Action  indiana_jones_and_the_dial_of_destiny            69   \n",
       "\n",
       "     audience_score        variable     value  \n",
       "0                91  critic_postive  0.765325  \n",
       "1               100  critic_postive  0.006401  \n",
       "2                84  critic_postive  0.278133  \n",
       "3                62  critic_postive  0.975298  \n",
       "4                63  critic_postive  0.845207  \n",
       "..              ...             ...       ...  \n",
       "419              83  audience_mixed  0.146703  \n",
       "420              94  audience_mixed  0.000223  \n",
       "421              84  audience_mixed  0.000149  \n",
       "422              79  audience_mixed  0.024230  \n",
       "423              88  audience_mixed  0.940645  \n",
       "\n",
       "[424 rows x 6 columns]"
      ]
     },
     "execution_count": 13,
     "metadata": {},
     "output_type": "execute_result"
    }
   ],
   "source": [
    "melt_prep = df[['genre','name','critic_score','audience_score','critic_postive','critic_negative','critic_neutral','critic_mixed','audience_postive','audience_negative','audience_neutral','audience_mixed']]\n",
    "melt_prep = pd.melt(melt_prep, id_vars=['genre','name','critic_score','audience_score'], var_name='variable', value_name='value')\n",
    "melt_prep"
   ]
  },
  {
   "cell_type": "code",
   "execution_count": 14,
   "metadata": {},
   "outputs": [
    {
     "data": {
      "text/html": [
       "<div>\n",
       "<style scoped>\n",
       "    .dataframe tbody tr th:only-of-type {\n",
       "        vertical-align: middle;\n",
       "    }\n",
       "\n",
       "    .dataframe tbody tr th {\n",
       "        vertical-align: top;\n",
       "    }\n",
       "\n",
       "    .dataframe thead th {\n",
       "        text-align: right;\n",
       "    }\n",
       "</style>\n",
       "<table border=\"1\" class=\"dataframe\">\n",
       "  <thead>\n",
       "    <tr style=\"text-align: right;\">\n",
       "      <th></th>\n",
       "      <th>genre</th>\n",
       "      <th>variable</th>\n",
       "      <th>value</th>\n",
       "      <th>reviewby</th>\n",
       "    </tr>\n",
       "  </thead>\n",
       "  <tbody>\n",
       "    <tr>\n",
       "      <th>0</th>\n",
       "      <td>Action</td>\n",
       "      <td>mixed</td>\n",
       "      <td>0.312375</td>\n",
       "      <td>audience</td>\n",
       "    </tr>\n",
       "    <tr>\n",
       "      <th>1</th>\n",
       "      <td>Action</td>\n",
       "      <td>negative</td>\n",
       "      <td>0.193735</td>\n",
       "      <td>audience</td>\n",
       "    </tr>\n",
       "    <tr>\n",
       "      <th>2</th>\n",
       "      <td>Action</td>\n",
       "      <td>neutral</td>\n",
       "      <td>0.012376</td>\n",
       "      <td>audience</td>\n",
       "    </tr>\n",
       "    <tr>\n",
       "      <th>3</th>\n",
       "      <td>Action</td>\n",
       "      <td>postive</td>\n",
       "      <td>0.481514</td>\n",
       "      <td>audience</td>\n",
       "    </tr>\n",
       "    <tr>\n",
       "      <th>4</th>\n",
       "      <td>Action</td>\n",
       "      <td>mixed</td>\n",
       "      <td>0.369518</td>\n",
       "      <td>critic</td>\n",
       "    </tr>\n",
       "    <tr>\n",
       "      <th>5</th>\n",
       "      <td>Action</td>\n",
       "      <td>negative</td>\n",
       "      <td>0.317909</td>\n",
       "      <td>critic</td>\n",
       "    </tr>\n",
       "    <tr>\n",
       "      <th>6</th>\n",
       "      <td>Action</td>\n",
       "      <td>neutral</td>\n",
       "      <td>0.020375</td>\n",
       "      <td>critic</td>\n",
       "    </tr>\n",
       "    <tr>\n",
       "      <th>7</th>\n",
       "      <td>Action</td>\n",
       "      <td>postive</td>\n",
       "      <td>0.292197</td>\n",
       "      <td>critic</td>\n",
       "    </tr>\n",
       "    <tr>\n",
       "      <th>8</th>\n",
       "      <td>Comedy</td>\n",
       "      <td>mixed</td>\n",
       "      <td>0.174309</td>\n",
       "      <td>audience</td>\n",
       "    </tr>\n",
       "    <tr>\n",
       "      <th>9</th>\n",
       "      <td>Comedy</td>\n",
       "      <td>negative</td>\n",
       "      <td>0.162409</td>\n",
       "      <td>audience</td>\n",
       "    </tr>\n",
       "    <tr>\n",
       "      <th>10</th>\n",
       "      <td>Comedy</td>\n",
       "      <td>neutral</td>\n",
       "      <td>0.002242</td>\n",
       "      <td>audience</td>\n",
       "    </tr>\n",
       "    <tr>\n",
       "      <th>11</th>\n",
       "      <td>Comedy</td>\n",
       "      <td>postive</td>\n",
       "      <td>0.661041</td>\n",
       "      <td>audience</td>\n",
       "    </tr>\n",
       "    <tr>\n",
       "      <th>12</th>\n",
       "      <td>Comedy</td>\n",
       "      <td>mixed</td>\n",
       "      <td>0.402596</td>\n",
       "      <td>critic</td>\n",
       "    </tr>\n",
       "    <tr>\n",
       "      <th>13</th>\n",
       "      <td>Comedy</td>\n",
       "      <td>negative</td>\n",
       "      <td>0.019526</td>\n",
       "      <td>critic</td>\n",
       "    </tr>\n",
       "    <tr>\n",
       "      <th>14</th>\n",
       "      <td>Comedy</td>\n",
       "      <td>neutral</td>\n",
       "      <td>0.024865</td>\n",
       "      <td>critic</td>\n",
       "    </tr>\n",
       "    <tr>\n",
       "      <th>15</th>\n",
       "      <td>Comedy</td>\n",
       "      <td>postive</td>\n",
       "      <td>0.553013</td>\n",
       "      <td>critic</td>\n",
       "    </tr>\n",
       "    <tr>\n",
       "      <th>16</th>\n",
       "      <td>Drama</td>\n",
       "      <td>mixed</td>\n",
       "      <td>0.206184</td>\n",
       "      <td>audience</td>\n",
       "    </tr>\n",
       "    <tr>\n",
       "      <th>17</th>\n",
       "      <td>Drama</td>\n",
       "      <td>negative</td>\n",
       "      <td>0.136188</td>\n",
       "      <td>audience</td>\n",
       "    </tr>\n",
       "    <tr>\n",
       "      <th>18</th>\n",
       "      <td>Drama</td>\n",
       "      <td>neutral</td>\n",
       "      <td>0.024249</td>\n",
       "      <td>audience</td>\n",
       "    </tr>\n",
       "    <tr>\n",
       "      <th>19</th>\n",
       "      <td>Drama</td>\n",
       "      <td>postive</td>\n",
       "      <td>0.633380</td>\n",
       "      <td>audience</td>\n",
       "    </tr>\n",
       "    <tr>\n",
       "      <th>20</th>\n",
       "      <td>Drama</td>\n",
       "      <td>mixed</td>\n",
       "      <td>0.317989</td>\n",
       "      <td>critic</td>\n",
       "    </tr>\n",
       "    <tr>\n",
       "      <th>21</th>\n",
       "      <td>Drama</td>\n",
       "      <td>negative</td>\n",
       "      <td>0.168996</td>\n",
       "      <td>critic</td>\n",
       "    </tr>\n",
       "    <tr>\n",
       "      <th>22</th>\n",
       "      <td>Drama</td>\n",
       "      <td>neutral</td>\n",
       "      <td>0.044274</td>\n",
       "      <td>critic</td>\n",
       "    </tr>\n",
       "    <tr>\n",
       "      <th>23</th>\n",
       "      <td>Drama</td>\n",
       "      <td>postive</td>\n",
       "      <td>0.468742</td>\n",
       "      <td>critic</td>\n",
       "    </tr>\n",
       "    <tr>\n",
       "      <th>24</th>\n",
       "      <td>Horror</td>\n",
       "      <td>mixed</td>\n",
       "      <td>0.569422</td>\n",
       "      <td>audience</td>\n",
       "    </tr>\n",
       "    <tr>\n",
       "      <th>25</th>\n",
       "      <td>Horror</td>\n",
       "      <td>negative</td>\n",
       "      <td>0.360360</td>\n",
       "      <td>audience</td>\n",
       "    </tr>\n",
       "    <tr>\n",
       "      <th>26</th>\n",
       "      <td>Horror</td>\n",
       "      <td>neutral</td>\n",
       "      <td>0.005392</td>\n",
       "      <td>audience</td>\n",
       "    </tr>\n",
       "    <tr>\n",
       "      <th>27</th>\n",
       "      <td>Horror</td>\n",
       "      <td>postive</td>\n",
       "      <td>0.064825</td>\n",
       "      <td>audience</td>\n",
       "    </tr>\n",
       "    <tr>\n",
       "      <th>28</th>\n",
       "      <td>Horror</td>\n",
       "      <td>mixed</td>\n",
       "      <td>0.528337</td>\n",
       "      <td>critic</td>\n",
       "    </tr>\n",
       "    <tr>\n",
       "      <th>29</th>\n",
       "      <td>Horror</td>\n",
       "      <td>negative</td>\n",
       "      <td>0.016400</td>\n",
       "      <td>critic</td>\n",
       "    </tr>\n",
       "    <tr>\n",
       "      <th>30</th>\n",
       "      <td>Horror</td>\n",
       "      <td>neutral</td>\n",
       "      <td>0.008391</td>\n",
       "      <td>critic</td>\n",
       "    </tr>\n",
       "    <tr>\n",
       "      <th>31</th>\n",
       "      <td>Horror</td>\n",
       "      <td>postive</td>\n",
       "      <td>0.446872</td>\n",
       "      <td>critic</td>\n",
       "    </tr>\n",
       "  </tbody>\n",
       "</table>\n",
       "</div>"
      ],
      "text/plain": [
       "     genre  variable     value  reviewby\n",
       "0   Action     mixed  0.312375  audience\n",
       "1   Action  negative  0.193735  audience\n",
       "2   Action   neutral  0.012376  audience\n",
       "3   Action   postive  0.481514  audience\n",
       "4   Action     mixed  0.369518    critic\n",
       "5   Action  negative  0.317909    critic\n",
       "6   Action   neutral  0.020375    critic\n",
       "7   Action   postive  0.292197    critic\n",
       "8   Comedy     mixed  0.174309  audience\n",
       "9   Comedy  negative  0.162409  audience\n",
       "10  Comedy   neutral  0.002242  audience\n",
       "11  Comedy   postive  0.661041  audience\n",
       "12  Comedy     mixed  0.402596    critic\n",
       "13  Comedy  negative  0.019526    critic\n",
       "14  Comedy   neutral  0.024865    critic\n",
       "15  Comedy   postive  0.553013    critic\n",
       "16   Drama     mixed  0.206184  audience\n",
       "17   Drama  negative  0.136188  audience\n",
       "18   Drama   neutral  0.024249  audience\n",
       "19   Drama   postive  0.633380  audience\n",
       "20   Drama     mixed  0.317989    critic\n",
       "21   Drama  negative  0.168996    critic\n",
       "22   Drama   neutral  0.044274    critic\n",
       "23   Drama   postive  0.468742    critic\n",
       "24  Horror     mixed  0.569422  audience\n",
       "25  Horror  negative  0.360360  audience\n",
       "26  Horror   neutral  0.005392  audience\n",
       "27  Horror   postive  0.064825  audience\n",
       "28  Horror     mixed  0.528337    critic\n",
       "29  Horror  negative  0.016400    critic\n",
       "30  Horror   neutral  0.008391    critic\n",
       "31  Horror   postive  0.446872    critic"
      ]
     },
     "execution_count": 14,
     "metadata": {},
     "output_type": "execute_result"
    }
   ],
   "source": [
    "avg_by_genre = melt_prep[['genre','variable','value']].groupby(['genre','variable']).mean()\n",
    "avg_by_genre.reset_index(inplace=True)\n",
    "avg_by_genre['reviewby'] = avg_by_genre['variable'].str.split('_').str[0]\n",
    "avg_by_genre['variable'] = avg_by_genre['variable'].str.split('_').str[1]\n",
    "avg_by_genre"
   ]
  },
  {
   "cell_type": "code",
   "execution_count": 80,
   "metadata": {},
   "outputs": [
    {
     "data": {
      "application/vnd.plotly.v1+json": {
       "config": {
        "plotlyServerURL": "https://plot.ly"
       },
       "data": [
        {
         "alignmentgroup": "True",
         "hovertemplate": "Sentiment=negative<br>reviewby=audience<br>=%{x}<br>value=%{y}<extra></extra>",
         "legendgroup": "negative",
         "marker": {
          "color": "firebrick",
          "line": {
           "color": "black",
           "width": 1
          },
          "pattern": {
           "shape": ""
          }
         },
         "name": "negative",
         "offsetgroup": "negative",
         "orientation": "v",
         "showlegend": true,
         "textposition": "auto",
         "type": "bar",
         "x": [
          "Action",
          "Comedy",
          "Drama",
          "Horror"
         ],
         "xaxis": "x",
         "y": [
          0.19373515461517277,
          0.1624086258265985,
          0.13618831462041597,
          0.360360142798163
         ],
         "yaxis": "y"
        },
        {
         "alignmentgroup": "True",
         "hovertemplate": "Sentiment=negative<br>reviewby=critic<br>=%{x}<br>value=%{y}<extra></extra>",
         "legendgroup": "negative",
         "marker": {
          "color": "firebrick",
          "line": {
           "color": "black",
           "width": 1
          },
          "pattern": {
           "shape": ""
          }
         },
         "name": "negative",
         "offsetgroup": "negative",
         "orientation": "v",
         "showlegend": false,
         "textposition": "auto",
         "type": "bar",
         "x": [
          "Action",
          "Comedy",
          "Drama",
          "Horror"
         ],
         "xaxis": "x2",
         "y": [
          0.31790947016402654,
          0.019525805942733572,
          0.1689956164908918,
          0.01640038667246694
         ],
         "yaxis": "y2"
        },
        {
         "alignmentgroup": "True",
         "hovertemplate": "Sentiment=postive<br>reviewby=audience<br>=%{x}<br>value=%{y}<extra></extra>",
         "legendgroup": "postive",
         "marker": {
          "color": "lightgreen",
          "line": {
           "color": "black",
           "width": 1
          },
          "pattern": {
           "shape": ""
          }
         },
         "name": "postive",
         "offsetgroup": "postive",
         "orientation": "v",
         "showlegend": true,
         "textposition": "auto",
         "type": "bar",
         "x": [
          "Action",
          "Comedy",
          "Drama",
          "Horror"
         ],
         "xaxis": "x",
         "y": [
          0.48151420075869694,
          0.6610409810440615,
          0.6333795722669244,
          0.06482538469135754
         ],
         "yaxis": "y"
        },
        {
         "alignmentgroup": "True",
         "hovertemplate": "Sentiment=postive<br>reviewby=critic<br>=%{x}<br>value=%{y}<extra></extra>",
         "legendgroup": "postive",
         "marker": {
          "color": "lightgreen",
          "line": {
           "color": "black",
           "width": 1
          },
          "pattern": {
           "shape": ""
          }
         },
         "name": "postive",
         "offsetgroup": "postive",
         "orientation": "v",
         "showlegend": false,
         "textposition": "auto",
         "type": "bar",
         "x": [
          "Action",
          "Comedy",
          "Drama",
          "Horror"
         ],
         "xaxis": "x2",
         "y": [
          0.29219749986474525,
          0.5530132722419997,
          0.4687421000013604,
          0.4468722462654114
         ],
         "yaxis": "y2"
        }
       ],
       "layout": {
        "annotations": [
         {
          "font": {},
          "showarrow": false,
          "text": "Audience Reviews",
          "x": 0.245,
          "xanchor": "center",
          "xref": "paper",
          "y": 1,
          "yanchor": "bottom",
          "yref": "paper"
         },
         {
          "font": {},
          "showarrow": false,
          "text": "Critic Reviews",
          "x": 0.755,
          "xanchor": "center",
          "xref": "paper",
          "y": 1,
          "yanchor": "bottom",
          "yref": "paper"
         }
        ],
        "barmode": "group",
        "height": 800,
        "legend": {
         "title": {
          "text": "Sentiment"
         },
         "tracegroupgap": 0
        },
        "margin": {
         "t": 60
        },
        "template": {
         "data": {
          "bar": [
           {
            "error_x": {
             "color": "rgb(36,36,36)"
            },
            "error_y": {
             "color": "rgb(36,36,36)"
            },
            "marker": {
             "line": {
              "color": "white",
              "width": 0.5
             },
             "pattern": {
              "fillmode": "overlay",
              "size": 10,
              "solidity": 0.2
             }
            },
            "type": "bar"
           }
          ],
          "barpolar": [
           {
            "marker": {
             "line": {
              "color": "white",
              "width": 0.5
             },
             "pattern": {
              "fillmode": "overlay",
              "size": 10,
              "solidity": 0.2
             }
            },
            "type": "barpolar"
           }
          ],
          "carpet": [
           {
            "aaxis": {
             "endlinecolor": "rgb(36,36,36)",
             "gridcolor": "white",
             "linecolor": "white",
             "minorgridcolor": "white",
             "startlinecolor": "rgb(36,36,36)"
            },
            "baxis": {
             "endlinecolor": "rgb(36,36,36)",
             "gridcolor": "white",
             "linecolor": "white",
             "minorgridcolor": "white",
             "startlinecolor": "rgb(36,36,36)"
            },
            "type": "carpet"
           }
          ],
          "choropleth": [
           {
            "colorbar": {
             "outlinewidth": 1,
             "tickcolor": "rgb(36,36,36)",
             "ticks": "outside"
            },
            "type": "choropleth"
           }
          ],
          "contour": [
           {
            "colorbar": {
             "outlinewidth": 1,
             "tickcolor": "rgb(36,36,36)",
             "ticks": "outside"
            },
            "colorscale": [
             [
              0,
              "#440154"
             ],
             [
              0.1111111111111111,
              "#482878"
             ],
             [
              0.2222222222222222,
              "#3e4989"
             ],
             [
              0.3333333333333333,
              "#31688e"
             ],
             [
              0.4444444444444444,
              "#26828e"
             ],
             [
              0.5555555555555556,
              "#1f9e89"
             ],
             [
              0.6666666666666666,
              "#35b779"
             ],
             [
              0.7777777777777778,
              "#6ece58"
             ],
             [
              0.8888888888888888,
              "#b5de2b"
             ],
             [
              1,
              "#fde725"
             ]
            ],
            "type": "contour"
           }
          ],
          "contourcarpet": [
           {
            "colorbar": {
             "outlinewidth": 1,
             "tickcolor": "rgb(36,36,36)",
             "ticks": "outside"
            },
            "type": "contourcarpet"
           }
          ],
          "heatmap": [
           {
            "colorbar": {
             "outlinewidth": 1,
             "tickcolor": "rgb(36,36,36)",
             "ticks": "outside"
            },
            "colorscale": [
             [
              0,
              "#440154"
             ],
             [
              0.1111111111111111,
              "#482878"
             ],
             [
              0.2222222222222222,
              "#3e4989"
             ],
             [
              0.3333333333333333,
              "#31688e"
             ],
             [
              0.4444444444444444,
              "#26828e"
             ],
             [
              0.5555555555555556,
              "#1f9e89"
             ],
             [
              0.6666666666666666,
              "#35b779"
             ],
             [
              0.7777777777777778,
              "#6ece58"
             ],
             [
              0.8888888888888888,
              "#b5de2b"
             ],
             [
              1,
              "#fde725"
             ]
            ],
            "type": "heatmap"
           }
          ],
          "heatmapgl": [
           {
            "colorbar": {
             "outlinewidth": 1,
             "tickcolor": "rgb(36,36,36)",
             "ticks": "outside"
            },
            "colorscale": [
             [
              0,
              "#440154"
             ],
             [
              0.1111111111111111,
              "#482878"
             ],
             [
              0.2222222222222222,
              "#3e4989"
             ],
             [
              0.3333333333333333,
              "#31688e"
             ],
             [
              0.4444444444444444,
              "#26828e"
             ],
             [
              0.5555555555555556,
              "#1f9e89"
             ],
             [
              0.6666666666666666,
              "#35b779"
             ],
             [
              0.7777777777777778,
              "#6ece58"
             ],
             [
              0.8888888888888888,
              "#b5de2b"
             ],
             [
              1,
              "#fde725"
             ]
            ],
            "type": "heatmapgl"
           }
          ],
          "histogram": [
           {
            "marker": {
             "line": {
              "color": "white",
              "width": 0.6
             }
            },
            "type": "histogram"
           }
          ],
          "histogram2d": [
           {
            "colorbar": {
             "outlinewidth": 1,
             "tickcolor": "rgb(36,36,36)",
             "ticks": "outside"
            },
            "colorscale": [
             [
              0,
              "#440154"
             ],
             [
              0.1111111111111111,
              "#482878"
             ],
             [
              0.2222222222222222,
              "#3e4989"
             ],
             [
              0.3333333333333333,
              "#31688e"
             ],
             [
              0.4444444444444444,
              "#26828e"
             ],
             [
              0.5555555555555556,
              "#1f9e89"
             ],
             [
              0.6666666666666666,
              "#35b779"
             ],
             [
              0.7777777777777778,
              "#6ece58"
             ],
             [
              0.8888888888888888,
              "#b5de2b"
             ],
             [
              1,
              "#fde725"
             ]
            ],
            "type": "histogram2d"
           }
          ],
          "histogram2dcontour": [
           {
            "colorbar": {
             "outlinewidth": 1,
             "tickcolor": "rgb(36,36,36)",
             "ticks": "outside"
            },
            "colorscale": [
             [
              0,
              "#440154"
             ],
             [
              0.1111111111111111,
              "#482878"
             ],
             [
              0.2222222222222222,
              "#3e4989"
             ],
             [
              0.3333333333333333,
              "#31688e"
             ],
             [
              0.4444444444444444,
              "#26828e"
             ],
             [
              0.5555555555555556,
              "#1f9e89"
             ],
             [
              0.6666666666666666,
              "#35b779"
             ],
             [
              0.7777777777777778,
              "#6ece58"
             ],
             [
              0.8888888888888888,
              "#b5de2b"
             ],
             [
              1,
              "#fde725"
             ]
            ],
            "type": "histogram2dcontour"
           }
          ],
          "mesh3d": [
           {
            "colorbar": {
             "outlinewidth": 1,
             "tickcolor": "rgb(36,36,36)",
             "ticks": "outside"
            },
            "type": "mesh3d"
           }
          ],
          "parcoords": [
           {
            "line": {
             "colorbar": {
              "outlinewidth": 1,
              "tickcolor": "rgb(36,36,36)",
              "ticks": "outside"
             }
            },
            "type": "parcoords"
           }
          ],
          "pie": [
           {
            "automargin": true,
            "type": "pie"
           }
          ],
          "scatter": [
           {
            "fillpattern": {
             "fillmode": "overlay",
             "size": 10,
             "solidity": 0.2
            },
            "type": "scatter"
           }
          ],
          "scatter3d": [
           {
            "line": {
             "colorbar": {
              "outlinewidth": 1,
              "tickcolor": "rgb(36,36,36)",
              "ticks": "outside"
             }
            },
            "marker": {
             "colorbar": {
              "outlinewidth": 1,
              "tickcolor": "rgb(36,36,36)",
              "ticks": "outside"
             }
            },
            "type": "scatter3d"
           }
          ],
          "scattercarpet": [
           {
            "marker": {
             "colorbar": {
              "outlinewidth": 1,
              "tickcolor": "rgb(36,36,36)",
              "ticks": "outside"
             }
            },
            "type": "scattercarpet"
           }
          ],
          "scattergeo": [
           {
            "marker": {
             "colorbar": {
              "outlinewidth": 1,
              "tickcolor": "rgb(36,36,36)",
              "ticks": "outside"
             }
            },
            "type": "scattergeo"
           }
          ],
          "scattergl": [
           {
            "marker": {
             "colorbar": {
              "outlinewidth": 1,
              "tickcolor": "rgb(36,36,36)",
              "ticks": "outside"
             }
            },
            "type": "scattergl"
           }
          ],
          "scattermapbox": [
           {
            "marker": {
             "colorbar": {
              "outlinewidth": 1,
              "tickcolor": "rgb(36,36,36)",
              "ticks": "outside"
             }
            },
            "type": "scattermapbox"
           }
          ],
          "scatterpolar": [
           {
            "marker": {
             "colorbar": {
              "outlinewidth": 1,
              "tickcolor": "rgb(36,36,36)",
              "ticks": "outside"
             }
            },
            "type": "scatterpolar"
           }
          ],
          "scatterpolargl": [
           {
            "marker": {
             "colorbar": {
              "outlinewidth": 1,
              "tickcolor": "rgb(36,36,36)",
              "ticks": "outside"
             }
            },
            "type": "scatterpolargl"
           }
          ],
          "scatterternary": [
           {
            "marker": {
             "colorbar": {
              "outlinewidth": 1,
              "tickcolor": "rgb(36,36,36)",
              "ticks": "outside"
             }
            },
            "type": "scatterternary"
           }
          ],
          "surface": [
           {
            "colorbar": {
             "outlinewidth": 1,
             "tickcolor": "rgb(36,36,36)",
             "ticks": "outside"
            },
            "colorscale": [
             [
              0,
              "#440154"
             ],
             [
              0.1111111111111111,
              "#482878"
             ],
             [
              0.2222222222222222,
              "#3e4989"
             ],
             [
              0.3333333333333333,
              "#31688e"
             ],
             [
              0.4444444444444444,
              "#26828e"
             ],
             [
              0.5555555555555556,
              "#1f9e89"
             ],
             [
              0.6666666666666666,
              "#35b779"
             ],
             [
              0.7777777777777778,
              "#6ece58"
             ],
             [
              0.8888888888888888,
              "#b5de2b"
             ],
             [
              1,
              "#fde725"
             ]
            ],
            "type": "surface"
           }
          ],
          "table": [
           {
            "cells": {
             "fill": {
              "color": "rgb(237,237,237)"
             },
             "line": {
              "color": "white"
             }
            },
            "header": {
             "fill": {
              "color": "rgb(217,217,217)"
             },
             "line": {
              "color": "white"
             }
            },
            "type": "table"
           }
          ]
         },
         "layout": {
          "annotationdefaults": {
           "arrowhead": 0,
           "arrowwidth": 1
          },
          "autotypenumbers": "strict",
          "coloraxis": {
           "colorbar": {
            "outlinewidth": 1,
            "tickcolor": "rgb(36,36,36)",
            "ticks": "outside"
           }
          },
          "colorscale": {
           "diverging": [
            [
             0,
             "rgb(103,0,31)"
            ],
            [
             0.1,
             "rgb(178,24,43)"
            ],
            [
             0.2,
             "rgb(214,96,77)"
            ],
            [
             0.3,
             "rgb(244,165,130)"
            ],
            [
             0.4,
             "rgb(253,219,199)"
            ],
            [
             0.5,
             "rgb(247,247,247)"
            ],
            [
             0.6,
             "rgb(209,229,240)"
            ],
            [
             0.7,
             "rgb(146,197,222)"
            ],
            [
             0.8,
             "rgb(67,147,195)"
            ],
            [
             0.9,
             "rgb(33,102,172)"
            ],
            [
             1,
             "rgb(5,48,97)"
            ]
           ],
           "sequential": [
            [
             0,
             "#440154"
            ],
            [
             0.1111111111111111,
             "#482878"
            ],
            [
             0.2222222222222222,
             "#3e4989"
            ],
            [
             0.3333333333333333,
             "#31688e"
            ],
            [
             0.4444444444444444,
             "#26828e"
            ],
            [
             0.5555555555555556,
             "#1f9e89"
            ],
            [
             0.6666666666666666,
             "#35b779"
            ],
            [
             0.7777777777777778,
             "#6ece58"
            ],
            [
             0.8888888888888888,
             "#b5de2b"
            ],
            [
             1,
             "#fde725"
            ]
           ],
           "sequentialminus": [
            [
             0,
             "#440154"
            ],
            [
             0.1111111111111111,
             "#482878"
            ],
            [
             0.2222222222222222,
             "#3e4989"
            ],
            [
             0.3333333333333333,
             "#31688e"
            ],
            [
             0.4444444444444444,
             "#26828e"
            ],
            [
             0.5555555555555556,
             "#1f9e89"
            ],
            [
             0.6666666666666666,
             "#35b779"
            ],
            [
             0.7777777777777778,
             "#6ece58"
            ],
            [
             0.8888888888888888,
             "#b5de2b"
            ],
            [
             1,
             "#fde725"
            ]
           ]
          },
          "colorway": [
           "#1F77B4",
           "#FF7F0E",
           "#2CA02C",
           "#D62728",
           "#9467BD",
           "#8C564B",
           "#E377C2",
           "#7F7F7F",
           "#BCBD22",
           "#17BECF"
          ],
          "font": {
           "color": "rgb(36,36,36)"
          },
          "geo": {
           "bgcolor": "white",
           "lakecolor": "white",
           "landcolor": "white",
           "showlakes": true,
           "showland": true,
           "subunitcolor": "white"
          },
          "hoverlabel": {
           "align": "left"
          },
          "hovermode": "closest",
          "mapbox": {
           "style": "light"
          },
          "paper_bgcolor": "white",
          "plot_bgcolor": "white",
          "polar": {
           "angularaxis": {
            "gridcolor": "rgb(232,232,232)",
            "linecolor": "rgb(36,36,36)",
            "showgrid": false,
            "showline": true,
            "ticks": "outside"
           },
           "bgcolor": "white",
           "radialaxis": {
            "gridcolor": "rgb(232,232,232)",
            "linecolor": "rgb(36,36,36)",
            "showgrid": false,
            "showline": true,
            "ticks": "outside"
           }
          },
          "scene": {
           "xaxis": {
            "backgroundcolor": "white",
            "gridcolor": "rgb(232,232,232)",
            "gridwidth": 2,
            "linecolor": "rgb(36,36,36)",
            "showbackground": true,
            "showgrid": false,
            "showline": true,
            "ticks": "outside",
            "zeroline": false,
            "zerolinecolor": "rgb(36,36,36)"
           },
           "yaxis": {
            "backgroundcolor": "white",
            "gridcolor": "rgb(232,232,232)",
            "gridwidth": 2,
            "linecolor": "rgb(36,36,36)",
            "showbackground": true,
            "showgrid": false,
            "showline": true,
            "ticks": "outside",
            "zeroline": false,
            "zerolinecolor": "rgb(36,36,36)"
           },
           "zaxis": {
            "backgroundcolor": "white",
            "gridcolor": "rgb(232,232,232)",
            "gridwidth": 2,
            "linecolor": "rgb(36,36,36)",
            "showbackground": true,
            "showgrid": false,
            "showline": true,
            "ticks": "outside",
            "zeroline": false,
            "zerolinecolor": "rgb(36,36,36)"
           }
          },
          "shapedefaults": {
           "fillcolor": "black",
           "line": {
            "width": 0
           },
           "opacity": 0.3
          },
          "ternary": {
           "aaxis": {
            "gridcolor": "rgb(232,232,232)",
            "linecolor": "rgb(36,36,36)",
            "showgrid": false,
            "showline": true,
            "ticks": "outside"
           },
           "baxis": {
            "gridcolor": "rgb(232,232,232)",
            "linecolor": "rgb(36,36,36)",
            "showgrid": false,
            "showline": true,
            "ticks": "outside"
           },
           "bgcolor": "white",
           "caxis": {
            "gridcolor": "rgb(232,232,232)",
            "linecolor": "rgb(36,36,36)",
            "showgrid": false,
            "showline": true,
            "ticks": "outside"
           }
          },
          "title": {
           "x": 0.05
          },
          "xaxis": {
           "automargin": true,
           "gridcolor": "rgb(232,232,232)",
           "linecolor": "rgb(36,36,36)",
           "showgrid": false,
           "showline": true,
           "ticks": "outside",
           "title": {
            "standoff": 15
           },
           "zeroline": false,
           "zerolinecolor": "rgb(36,36,36)"
          },
          "yaxis": {
           "automargin": true,
           "gridcolor": "rgb(232,232,232)",
           "linecolor": "rgb(36,36,36)",
           "showgrid": false,
           "showline": true,
           "ticks": "outside",
           "title": {
            "standoff": 15
           },
           "zeroline": false,
           "zerolinecolor": "rgb(36,36,36)"
          }
         }
        },
        "title": {
         "font": {
          "size": 20
         },
         "text": "<b> Average Sentiment Scores by Genre</b>",
         "x": 0.5
        },
        "width": 2000,
        "xaxis": {
         "anchor": "y",
         "domain": [
          0,
          0.49
         ],
         "title": {
          "text": ""
         }
        },
        "xaxis2": {
         "anchor": "y2",
         "domain": [
          0.51,
          1
         ],
         "matches": "x",
         "title": {
          "text": ""
         }
        },
        "yaxis": {
         "anchor": "x",
         "domain": [
          0,
          1
         ],
         "title": {
          "text": "Sentiment Score"
         }
        },
        "yaxis2": {
         "anchor": "x2",
         "domain": [
          0,
          1
         ],
         "matches": "y",
         "showticklabels": false
        }
       }
      },
      "text/html": [
       "<div>                            <div id=\"e4c88f7d-bad1-44ea-bd2e-c57c2a458cc3\" class=\"plotly-graph-div\" style=\"height:800px; width:2000px;\"></div>            <script type=\"text/javascript\">                require([\"plotly\"], function(Plotly) {                    window.PLOTLYENV=window.PLOTLYENV || {};                                    if (document.getElementById(\"e4c88f7d-bad1-44ea-bd2e-c57c2a458cc3\")) {                    Plotly.newPlot(                        \"e4c88f7d-bad1-44ea-bd2e-c57c2a458cc3\",                        [{\"alignmentgroup\":\"True\",\"hovertemplate\":\"Sentiment=negative\\u003cbr\\u003ereviewby=audience\\u003cbr\\u003e=%{x}\\u003cbr\\u003evalue=%{y}\\u003cextra\\u003e\\u003c\\u002fextra\\u003e\",\"legendgroup\":\"negative\",\"marker\":{\"color\":\"firebrick\",\"pattern\":{\"shape\":\"\"},\"line\":{\"color\":\"black\",\"width\":1}},\"name\":\"negative\",\"offsetgroup\":\"negative\",\"orientation\":\"v\",\"showlegend\":true,\"textposition\":\"auto\",\"x\":[\"Action\",\"Comedy\",\"Drama\",\"Horror\"],\"xaxis\":\"x\",\"y\":[0.19373515461517277,0.1624086258265985,0.13618831462041597,0.360360142798163],\"yaxis\":\"y\",\"type\":\"bar\"},{\"alignmentgroup\":\"True\",\"hovertemplate\":\"Sentiment=negative\\u003cbr\\u003ereviewby=critic\\u003cbr\\u003e=%{x}\\u003cbr\\u003evalue=%{y}\\u003cextra\\u003e\\u003c\\u002fextra\\u003e\",\"legendgroup\":\"negative\",\"marker\":{\"color\":\"firebrick\",\"pattern\":{\"shape\":\"\"},\"line\":{\"color\":\"black\",\"width\":1}},\"name\":\"negative\",\"offsetgroup\":\"negative\",\"orientation\":\"v\",\"showlegend\":false,\"textposition\":\"auto\",\"x\":[\"Action\",\"Comedy\",\"Drama\",\"Horror\"],\"xaxis\":\"x2\",\"y\":[0.31790947016402654,0.019525805942733572,0.1689956164908918,0.01640038667246694],\"yaxis\":\"y2\",\"type\":\"bar\"},{\"alignmentgroup\":\"True\",\"hovertemplate\":\"Sentiment=postive\\u003cbr\\u003ereviewby=audience\\u003cbr\\u003e=%{x}\\u003cbr\\u003evalue=%{y}\\u003cextra\\u003e\\u003c\\u002fextra\\u003e\",\"legendgroup\":\"postive\",\"marker\":{\"color\":\"lightgreen\",\"pattern\":{\"shape\":\"\"},\"line\":{\"color\":\"black\",\"width\":1}},\"name\":\"postive\",\"offsetgroup\":\"postive\",\"orientation\":\"v\",\"showlegend\":true,\"textposition\":\"auto\",\"x\":[\"Action\",\"Comedy\",\"Drama\",\"Horror\"],\"xaxis\":\"x\",\"y\":[0.48151420075869694,0.6610409810440615,0.6333795722669244,0.06482538469135754],\"yaxis\":\"y\",\"type\":\"bar\"},{\"alignmentgroup\":\"True\",\"hovertemplate\":\"Sentiment=postive\\u003cbr\\u003ereviewby=critic\\u003cbr\\u003e=%{x}\\u003cbr\\u003evalue=%{y}\\u003cextra\\u003e\\u003c\\u002fextra\\u003e\",\"legendgroup\":\"postive\",\"marker\":{\"color\":\"lightgreen\",\"pattern\":{\"shape\":\"\"},\"line\":{\"color\":\"black\",\"width\":1}},\"name\":\"postive\",\"offsetgroup\":\"postive\",\"orientation\":\"v\",\"showlegend\":false,\"textposition\":\"auto\",\"x\":[\"Action\",\"Comedy\",\"Drama\",\"Horror\"],\"xaxis\":\"x2\",\"y\":[0.29219749986474525,0.5530132722419997,0.4687421000013604,0.4468722462654114],\"yaxis\":\"y2\",\"type\":\"bar\"}],                        {\"template\":{\"data\":{\"barpolar\":[{\"marker\":{\"line\":{\"color\":\"white\",\"width\":0.5},\"pattern\":{\"fillmode\":\"overlay\",\"size\":10,\"solidity\":0.2}},\"type\":\"barpolar\"}],\"bar\":[{\"error_x\":{\"color\":\"rgb(36,36,36)\"},\"error_y\":{\"color\":\"rgb(36,36,36)\"},\"marker\":{\"line\":{\"color\":\"white\",\"width\":0.5},\"pattern\":{\"fillmode\":\"overlay\",\"size\":10,\"solidity\":0.2}},\"type\":\"bar\"}],\"carpet\":[{\"aaxis\":{\"endlinecolor\":\"rgb(36,36,36)\",\"gridcolor\":\"white\",\"linecolor\":\"white\",\"minorgridcolor\":\"white\",\"startlinecolor\":\"rgb(36,36,36)\"},\"baxis\":{\"endlinecolor\":\"rgb(36,36,36)\",\"gridcolor\":\"white\",\"linecolor\":\"white\",\"minorgridcolor\":\"white\",\"startlinecolor\":\"rgb(36,36,36)\"},\"type\":\"carpet\"}],\"choropleth\":[{\"colorbar\":{\"outlinewidth\":1,\"tickcolor\":\"rgb(36,36,36)\",\"ticks\":\"outside\"},\"type\":\"choropleth\"}],\"contourcarpet\":[{\"colorbar\":{\"outlinewidth\":1,\"tickcolor\":\"rgb(36,36,36)\",\"ticks\":\"outside\"},\"type\":\"contourcarpet\"}],\"contour\":[{\"colorbar\":{\"outlinewidth\":1,\"tickcolor\":\"rgb(36,36,36)\",\"ticks\":\"outside\"},\"colorscale\":[[0.0,\"#440154\"],[0.1111111111111111,\"#482878\"],[0.2222222222222222,\"#3e4989\"],[0.3333333333333333,\"#31688e\"],[0.4444444444444444,\"#26828e\"],[0.5555555555555556,\"#1f9e89\"],[0.6666666666666666,\"#35b779\"],[0.7777777777777778,\"#6ece58\"],[0.8888888888888888,\"#b5de2b\"],[1.0,\"#fde725\"]],\"type\":\"contour\"}],\"heatmapgl\":[{\"colorbar\":{\"outlinewidth\":1,\"tickcolor\":\"rgb(36,36,36)\",\"ticks\":\"outside\"},\"colorscale\":[[0.0,\"#440154\"],[0.1111111111111111,\"#482878\"],[0.2222222222222222,\"#3e4989\"],[0.3333333333333333,\"#31688e\"],[0.4444444444444444,\"#26828e\"],[0.5555555555555556,\"#1f9e89\"],[0.6666666666666666,\"#35b779\"],[0.7777777777777778,\"#6ece58\"],[0.8888888888888888,\"#b5de2b\"],[1.0,\"#fde725\"]],\"type\":\"heatmapgl\"}],\"heatmap\":[{\"colorbar\":{\"outlinewidth\":1,\"tickcolor\":\"rgb(36,36,36)\",\"ticks\":\"outside\"},\"colorscale\":[[0.0,\"#440154\"],[0.1111111111111111,\"#482878\"],[0.2222222222222222,\"#3e4989\"],[0.3333333333333333,\"#31688e\"],[0.4444444444444444,\"#26828e\"],[0.5555555555555556,\"#1f9e89\"],[0.6666666666666666,\"#35b779\"],[0.7777777777777778,\"#6ece58\"],[0.8888888888888888,\"#b5de2b\"],[1.0,\"#fde725\"]],\"type\":\"heatmap\"}],\"histogram2dcontour\":[{\"colorbar\":{\"outlinewidth\":1,\"tickcolor\":\"rgb(36,36,36)\",\"ticks\":\"outside\"},\"colorscale\":[[0.0,\"#440154\"],[0.1111111111111111,\"#482878\"],[0.2222222222222222,\"#3e4989\"],[0.3333333333333333,\"#31688e\"],[0.4444444444444444,\"#26828e\"],[0.5555555555555556,\"#1f9e89\"],[0.6666666666666666,\"#35b779\"],[0.7777777777777778,\"#6ece58\"],[0.8888888888888888,\"#b5de2b\"],[1.0,\"#fde725\"]],\"type\":\"histogram2dcontour\"}],\"histogram2d\":[{\"colorbar\":{\"outlinewidth\":1,\"tickcolor\":\"rgb(36,36,36)\",\"ticks\":\"outside\"},\"colorscale\":[[0.0,\"#440154\"],[0.1111111111111111,\"#482878\"],[0.2222222222222222,\"#3e4989\"],[0.3333333333333333,\"#31688e\"],[0.4444444444444444,\"#26828e\"],[0.5555555555555556,\"#1f9e89\"],[0.6666666666666666,\"#35b779\"],[0.7777777777777778,\"#6ece58\"],[0.8888888888888888,\"#b5de2b\"],[1.0,\"#fde725\"]],\"type\":\"histogram2d\"}],\"histogram\":[{\"marker\":{\"line\":{\"color\":\"white\",\"width\":0.6}},\"type\":\"histogram\"}],\"mesh3d\":[{\"colorbar\":{\"outlinewidth\":1,\"tickcolor\":\"rgb(36,36,36)\",\"ticks\":\"outside\"},\"type\":\"mesh3d\"}],\"parcoords\":[{\"line\":{\"colorbar\":{\"outlinewidth\":1,\"tickcolor\":\"rgb(36,36,36)\",\"ticks\":\"outside\"}},\"type\":\"parcoords\"}],\"pie\":[{\"automargin\":true,\"type\":\"pie\"}],\"scatter3d\":[{\"line\":{\"colorbar\":{\"outlinewidth\":1,\"tickcolor\":\"rgb(36,36,36)\",\"ticks\":\"outside\"}},\"marker\":{\"colorbar\":{\"outlinewidth\":1,\"tickcolor\":\"rgb(36,36,36)\",\"ticks\":\"outside\"}},\"type\":\"scatter3d\"}],\"scattercarpet\":[{\"marker\":{\"colorbar\":{\"outlinewidth\":1,\"tickcolor\":\"rgb(36,36,36)\",\"ticks\":\"outside\"}},\"type\":\"scattercarpet\"}],\"scattergeo\":[{\"marker\":{\"colorbar\":{\"outlinewidth\":1,\"tickcolor\":\"rgb(36,36,36)\",\"ticks\":\"outside\"}},\"type\":\"scattergeo\"}],\"scattergl\":[{\"marker\":{\"colorbar\":{\"outlinewidth\":1,\"tickcolor\":\"rgb(36,36,36)\",\"ticks\":\"outside\"}},\"type\":\"scattergl\"}],\"scattermapbox\":[{\"marker\":{\"colorbar\":{\"outlinewidth\":1,\"tickcolor\":\"rgb(36,36,36)\",\"ticks\":\"outside\"}},\"type\":\"scattermapbox\"}],\"scatterpolargl\":[{\"marker\":{\"colorbar\":{\"outlinewidth\":1,\"tickcolor\":\"rgb(36,36,36)\",\"ticks\":\"outside\"}},\"type\":\"scatterpolargl\"}],\"scatterpolar\":[{\"marker\":{\"colorbar\":{\"outlinewidth\":1,\"tickcolor\":\"rgb(36,36,36)\",\"ticks\":\"outside\"}},\"type\":\"scatterpolar\"}],\"scatter\":[{\"fillpattern\":{\"fillmode\":\"overlay\",\"size\":10,\"solidity\":0.2},\"type\":\"scatter\"}],\"scatterternary\":[{\"marker\":{\"colorbar\":{\"outlinewidth\":1,\"tickcolor\":\"rgb(36,36,36)\",\"ticks\":\"outside\"}},\"type\":\"scatterternary\"}],\"surface\":[{\"colorbar\":{\"outlinewidth\":1,\"tickcolor\":\"rgb(36,36,36)\",\"ticks\":\"outside\"},\"colorscale\":[[0.0,\"#440154\"],[0.1111111111111111,\"#482878\"],[0.2222222222222222,\"#3e4989\"],[0.3333333333333333,\"#31688e\"],[0.4444444444444444,\"#26828e\"],[0.5555555555555556,\"#1f9e89\"],[0.6666666666666666,\"#35b779\"],[0.7777777777777778,\"#6ece58\"],[0.8888888888888888,\"#b5de2b\"],[1.0,\"#fde725\"]],\"type\":\"surface\"}],\"table\":[{\"cells\":{\"fill\":{\"color\":\"rgb(237,237,237)\"},\"line\":{\"color\":\"white\"}},\"header\":{\"fill\":{\"color\":\"rgb(217,217,217)\"},\"line\":{\"color\":\"white\"}},\"type\":\"table\"}]},\"layout\":{\"annotationdefaults\":{\"arrowhead\":0,\"arrowwidth\":1},\"autotypenumbers\":\"strict\",\"coloraxis\":{\"colorbar\":{\"outlinewidth\":1,\"tickcolor\":\"rgb(36,36,36)\",\"ticks\":\"outside\"}},\"colorscale\":{\"diverging\":[[0.0,\"rgb(103,0,31)\"],[0.1,\"rgb(178,24,43)\"],[0.2,\"rgb(214,96,77)\"],[0.3,\"rgb(244,165,130)\"],[0.4,\"rgb(253,219,199)\"],[0.5,\"rgb(247,247,247)\"],[0.6,\"rgb(209,229,240)\"],[0.7,\"rgb(146,197,222)\"],[0.8,\"rgb(67,147,195)\"],[0.9,\"rgb(33,102,172)\"],[1.0,\"rgb(5,48,97)\"]],\"sequential\":[[0.0,\"#440154\"],[0.1111111111111111,\"#482878\"],[0.2222222222222222,\"#3e4989\"],[0.3333333333333333,\"#31688e\"],[0.4444444444444444,\"#26828e\"],[0.5555555555555556,\"#1f9e89\"],[0.6666666666666666,\"#35b779\"],[0.7777777777777778,\"#6ece58\"],[0.8888888888888888,\"#b5de2b\"],[1.0,\"#fde725\"]],\"sequentialminus\":[[0.0,\"#440154\"],[0.1111111111111111,\"#482878\"],[0.2222222222222222,\"#3e4989\"],[0.3333333333333333,\"#31688e\"],[0.4444444444444444,\"#26828e\"],[0.5555555555555556,\"#1f9e89\"],[0.6666666666666666,\"#35b779\"],[0.7777777777777778,\"#6ece58\"],[0.8888888888888888,\"#b5de2b\"],[1.0,\"#fde725\"]]},\"colorway\":[\"#1F77B4\",\"#FF7F0E\",\"#2CA02C\",\"#D62728\",\"#9467BD\",\"#8C564B\",\"#E377C2\",\"#7F7F7F\",\"#BCBD22\",\"#17BECF\"],\"font\":{\"color\":\"rgb(36,36,36)\"},\"geo\":{\"bgcolor\":\"white\",\"lakecolor\":\"white\",\"landcolor\":\"white\",\"showlakes\":true,\"showland\":true,\"subunitcolor\":\"white\"},\"hoverlabel\":{\"align\":\"left\"},\"hovermode\":\"closest\",\"mapbox\":{\"style\":\"light\"},\"paper_bgcolor\":\"white\",\"plot_bgcolor\":\"white\",\"polar\":{\"angularaxis\":{\"gridcolor\":\"rgb(232,232,232)\",\"linecolor\":\"rgb(36,36,36)\",\"showgrid\":false,\"showline\":true,\"ticks\":\"outside\"},\"bgcolor\":\"white\",\"radialaxis\":{\"gridcolor\":\"rgb(232,232,232)\",\"linecolor\":\"rgb(36,36,36)\",\"showgrid\":false,\"showline\":true,\"ticks\":\"outside\"}},\"scene\":{\"xaxis\":{\"backgroundcolor\":\"white\",\"gridcolor\":\"rgb(232,232,232)\",\"gridwidth\":2,\"linecolor\":\"rgb(36,36,36)\",\"showbackground\":true,\"showgrid\":false,\"showline\":true,\"ticks\":\"outside\",\"zeroline\":false,\"zerolinecolor\":\"rgb(36,36,36)\"},\"yaxis\":{\"backgroundcolor\":\"white\",\"gridcolor\":\"rgb(232,232,232)\",\"gridwidth\":2,\"linecolor\":\"rgb(36,36,36)\",\"showbackground\":true,\"showgrid\":false,\"showline\":true,\"ticks\":\"outside\",\"zeroline\":false,\"zerolinecolor\":\"rgb(36,36,36)\"},\"zaxis\":{\"backgroundcolor\":\"white\",\"gridcolor\":\"rgb(232,232,232)\",\"gridwidth\":2,\"linecolor\":\"rgb(36,36,36)\",\"showbackground\":true,\"showgrid\":false,\"showline\":true,\"ticks\":\"outside\",\"zeroline\":false,\"zerolinecolor\":\"rgb(36,36,36)\"}},\"shapedefaults\":{\"fillcolor\":\"black\",\"line\":{\"width\":0},\"opacity\":0.3},\"ternary\":{\"aaxis\":{\"gridcolor\":\"rgb(232,232,232)\",\"linecolor\":\"rgb(36,36,36)\",\"showgrid\":false,\"showline\":true,\"ticks\":\"outside\"},\"baxis\":{\"gridcolor\":\"rgb(232,232,232)\",\"linecolor\":\"rgb(36,36,36)\",\"showgrid\":false,\"showline\":true,\"ticks\":\"outside\"},\"bgcolor\":\"white\",\"caxis\":{\"gridcolor\":\"rgb(232,232,232)\",\"linecolor\":\"rgb(36,36,36)\",\"showgrid\":false,\"showline\":true,\"ticks\":\"outside\"}},\"title\":{\"x\":0.05},\"xaxis\":{\"automargin\":true,\"gridcolor\":\"rgb(232,232,232)\",\"linecolor\":\"rgb(36,36,36)\",\"showgrid\":false,\"showline\":true,\"ticks\":\"outside\",\"title\":{\"standoff\":15},\"zeroline\":false,\"zerolinecolor\":\"rgb(36,36,36)\"},\"yaxis\":{\"automargin\":true,\"gridcolor\":\"rgb(232,232,232)\",\"linecolor\":\"rgb(36,36,36)\",\"showgrid\":false,\"showline\":true,\"ticks\":\"outside\",\"title\":{\"standoff\":15},\"zeroline\":false,\"zerolinecolor\":\"rgb(36,36,36)\"}}},\"xaxis\":{\"anchor\":\"y\",\"domain\":[0.0,0.49],\"title\":{\"text\":\"\"}},\"yaxis\":{\"anchor\":\"x\",\"domain\":[0.0,1.0],\"title\":{\"text\":\"Sentiment Score\"}},\"xaxis2\":{\"anchor\":\"y2\",\"domain\":[0.51,1.0],\"matches\":\"x\",\"title\":{\"text\":\"\"}},\"yaxis2\":{\"anchor\":\"x2\",\"domain\":[0.0,1.0],\"matches\":\"y\",\"showticklabels\":false},\"annotations\":[{\"font\":{},\"showarrow\":false,\"text\":\"Audience Reviews\",\"x\":0.245,\"xanchor\":\"center\",\"xref\":\"paper\",\"y\":1.0,\"yanchor\":\"bottom\",\"yref\":\"paper\"},{\"font\":{},\"showarrow\":false,\"text\":\"Critic Reviews\",\"x\":0.755,\"xanchor\":\"center\",\"xref\":\"paper\",\"y\":1.0,\"yanchor\":\"bottom\",\"yref\":\"paper\"}],\"legend\":{\"title\":{\"text\":\"Sentiment\"},\"tracegroupgap\":0},\"margin\":{\"t\":60},\"barmode\":\"group\",\"title\":{\"font\":{\"size\":20},\"text\":\"\\u003cb\\u003e Average Sentiment Scores by Genre\\u003c\\u002fb\\u003e\",\"x\":0.5},\"width\":2000,\"height\":800},                        {\"responsive\": true}                    ).then(function(){\n",
       "                            \n",
       "var gd = document.getElementById('e4c88f7d-bad1-44ea-bd2e-c57c2a458cc3');\n",
       "var x = new MutationObserver(function (mutations, observer) {{\n",
       "        var display = window.getComputedStyle(gd).display;\n",
       "        if (!display || display === 'none') {{\n",
       "            console.log([gd, 'removed!']);\n",
       "            Plotly.purge(gd);\n",
       "            observer.disconnect();\n",
       "        }}\n",
       "}});\n",
       "\n",
       "// Listen for the removal of the full notebook cells\n",
       "var notebookContainer = gd.closest('#notebook-container');\n",
       "if (notebookContainer) {{\n",
       "    x.observe(notebookContainer, {childList: true});\n",
       "}}\n",
       "\n",
       "// Listen for the clearing of the current output cell\n",
       "var outputEl = gd.closest('.output');\n",
       "if (outputEl) {{\n",
       "    x.observe(outputEl, {childList: true});\n",
       "}}\n",
       "\n",
       "                        })                };                });            </script>        </div>"
      ]
     },
     "metadata": {},
     "output_type": "display_data"
    }
   ],
   "source": [
    "bar2 = px.bar(avg_by_genre.query('variable == \"negative\" or variable == \"postive\"'), x='genre', y='value',\n",
    "              color = 'variable',\n",
    "                barmode='group',\n",
    "                facet_col='reviewby',\n",
    "                template='simple_white',\n",
    "                labels = {'variable' : 'Sentiment','genre':''}, # rename legend label\n",
    "                color_discrete_map={'negative': 'firebrick', 'postive': 'lightgreen'})\n",
    "\n",
    "bar2.update_layout(title=dict(text='<b> Average Sentiment Scores by Genre</b>',font=dict(size=20)), # add title, add bold formatting and make the title interactive\n",
    "                            width = 2000, # set width\n",
    "                            height = 800,\n",
    "                             title_x = 0.5, # move title to the middle\n",
    "                             xaxis_title = '', # remove x axis title, don't remove the whole x axis as i want to keep the month labels\n",
    "                             yaxis_title = 'Sentiment Score', # remove y axis title\n",
    "                             )\n",
    "\n",
    "bar2.update_traces(marker=dict(line=dict(color='black', width=1)))\n",
    "\n",
    "bar2.for_each_annotation(lambda a: a.update(text=a.text.split(\"=\")[-1].replace('audience', 'Audience Reviews').replace('critic', 'Critic Reviews'))) # rename facet titles\n",
    "bar2.show()"
   ]
  },
  {
   "cell_type": "code",
   "execution_count": 16,
   "metadata": {},
   "outputs": [
    {
     "data": {
      "text/html": [
       "<div>\n",
       "<style scoped>\n",
       "    .dataframe tbody tr th:only-of-type {\n",
       "        vertical-align: middle;\n",
       "    }\n",
       "\n",
       "    .dataframe tbody tr th {\n",
       "        vertical-align: top;\n",
       "    }\n",
       "\n",
       "    .dataframe thead th {\n",
       "        text-align: right;\n",
       "    }\n",
       "</style>\n",
       "<table border=\"1\" class=\"dataframe\">\n",
       "  <thead>\n",
       "    <tr style=\"text-align: right;\">\n",
       "      <th></th>\n",
       "      <th>genre</th>\n",
       "      <th>name</th>\n",
       "      <th>critic_score</th>\n",
       "      <th>audience_score</th>\n",
       "      <th>variable</th>\n",
       "      <th>value</th>\n",
       "      <th>reviewby</th>\n",
       "    </tr>\n",
       "  </thead>\n",
       "  <tbody>\n",
       "    <tr>\n",
       "      <th>0</th>\n",
       "      <td>Drama</td>\n",
       "      <td>four_daughters_2023</td>\n",
       "      <td>96</td>\n",
       "      <td>91</td>\n",
       "      <td>postive</td>\n",
       "      <td>0.765325</td>\n",
       "      <td>critic</td>\n",
       "    </tr>\n",
       "    <tr>\n",
       "      <th>1</th>\n",
       "      <td>Drama</td>\n",
       "      <td>the_taste_of_things</td>\n",
       "      <td>98</td>\n",
       "      <td>100</td>\n",
       "      <td>postive</td>\n",
       "      <td>0.006401</td>\n",
       "      <td>critic</td>\n",
       "    </tr>\n",
       "    <tr>\n",
       "      <th>2</th>\n",
       "      <td>Drama</td>\n",
       "      <td>killers_of_the_flower_moon</td>\n",
       "      <td>93</td>\n",
       "      <td>84</td>\n",
       "      <td>postive</td>\n",
       "      <td>0.278133</td>\n",
       "      <td>critic</td>\n",
       "    </tr>\n",
       "    <tr>\n",
       "      <th>3</th>\n",
       "      <td>Drama</td>\n",
       "      <td>our_son</td>\n",
       "      <td>89</td>\n",
       "      <td>62</td>\n",
       "      <td>postive</td>\n",
       "      <td>0.975298</td>\n",
       "      <td>critic</td>\n",
       "    </tr>\n",
       "    <tr>\n",
       "      <th>4</th>\n",
       "      <td>Drama</td>\n",
       "      <td>priscilla</td>\n",
       "      <td>82</td>\n",
       "      <td>63</td>\n",
       "      <td>postive</td>\n",
       "      <td>0.845207</td>\n",
       "      <td>critic</td>\n",
       "    </tr>\n",
       "    <tr>\n",
       "      <th>...</th>\n",
       "      <td>...</td>\n",
       "      <td>...</td>\n",
       "      <td>...</td>\n",
       "      <td>...</td>\n",
       "      <td>...</td>\n",
       "      <td>...</td>\n",
       "      <td>...</td>\n",
       "    </tr>\n",
       "    <tr>\n",
       "      <th>419</th>\n",
       "      <td>Action</td>\n",
       "      <td>the_marvels</td>\n",
       "      <td>61</td>\n",
       "      <td>83</td>\n",
       "      <td>mixed</td>\n",
       "      <td>0.146703</td>\n",
       "      <td>audience</td>\n",
       "    </tr>\n",
       "    <tr>\n",
       "      <th>420</th>\n",
       "      <td>Action</td>\n",
       "      <td>die_hard</td>\n",
       "      <td>94</td>\n",
       "      <td>94</td>\n",
       "      <td>mixed</td>\n",
       "      <td>0.000223</td>\n",
       "      <td>audience</td>\n",
       "    </tr>\n",
       "    <tr>\n",
       "      <th>421</th>\n",
       "      <td>Action</td>\n",
       "      <td>fast_charlie</td>\n",
       "      <td>86</td>\n",
       "      <td>84</td>\n",
       "      <td>mixed</td>\n",
       "      <td>0.000149</td>\n",
       "      <td>audience</td>\n",
       "    </tr>\n",
       "    <tr>\n",
       "      <th>422</th>\n",
       "      <td>Action</td>\n",
       "      <td>concrete_utopia</td>\n",
       "      <td>100</td>\n",
       "      <td>79</td>\n",
       "      <td>mixed</td>\n",
       "      <td>0.024230</td>\n",
       "      <td>audience</td>\n",
       "    </tr>\n",
       "    <tr>\n",
       "      <th>423</th>\n",
       "      <td>Action</td>\n",
       "      <td>indiana_jones_and_the_dial_of_destiny</td>\n",
       "      <td>69</td>\n",
       "      <td>88</td>\n",
       "      <td>mixed</td>\n",
       "      <td>0.940645</td>\n",
       "      <td>audience</td>\n",
       "    </tr>\n",
       "  </tbody>\n",
       "</table>\n",
       "<p>424 rows × 7 columns</p>\n",
       "</div>"
      ],
      "text/plain": [
       "      genre                                   name  critic_score  \\\n",
       "0     Drama                    four_daughters_2023            96   \n",
       "1     Drama                    the_taste_of_things            98   \n",
       "2     Drama             killers_of_the_flower_moon            93   \n",
       "3     Drama                                our_son            89   \n",
       "4     Drama                              priscilla            82   \n",
       "..      ...                                    ...           ...   \n",
       "419  Action                            the_marvels            61   \n",
       "420  Action                               die_hard            94   \n",
       "421  Action                           fast_charlie            86   \n",
       "422  Action                        concrete_utopia           100   \n",
       "423  Action  indiana_jones_and_the_dial_of_destiny            69   \n",
       "\n",
       "     audience_score variable     value  reviewby  \n",
       "0                91  postive  0.765325    critic  \n",
       "1               100  postive  0.006401    critic  \n",
       "2                84  postive  0.278133    critic  \n",
       "3                62  postive  0.975298    critic  \n",
       "4                63  postive  0.845207    critic  \n",
       "..              ...      ...       ...       ...  \n",
       "419              83    mixed  0.146703  audience  \n",
       "420              94    mixed  0.000223  audience  \n",
       "421              84    mixed  0.000149  audience  \n",
       "422              79    mixed  0.024230  audience  \n",
       "423              88    mixed  0.940645  audience  \n",
       "\n",
       "[424 rows x 7 columns]"
      ]
     },
     "execution_count": 16,
     "metadata": {},
     "output_type": "execute_result"
    }
   ],
   "source": [
    "scatter_melted = df[['genre','name','critic_score','audience_score','critic_postive','critic_negative','critic_neutral','critic_mixed','audience_postive','audience_negative','audience_neutral','audience_mixed']]\n",
    "scatter_melted = scatter_melted.melt(id_vars=['genre','name','critic_score','audience_score'], var_name='variable', value_name='value')\n",
    "scatter_melted['reviewby'] = scatter_melted['variable'].str.split('_').str[0]\n",
    "scatter_melted['variable'] = scatter_melted['variable'].str.split('_').str[1]\n",
    "scatter_melted"
   ]
  },
  {
   "cell_type": "code",
   "execution_count": 34,
   "metadata": {},
   "outputs": [
    {
     "data": {
      "application/vnd.plotly.v1+json": {
       "config": {
        "plotlyServerURL": "https://plot.ly"
       },
       "data": [
        {
         "customdata": [
          [
           "Drama",
           "postive",
           "four_daughters_2023"
          ],
          [
           "Drama",
           "postive",
           "the_taste_of_things"
          ],
          [
           "Drama",
           "postive",
           "killers_of_the_flower_moon"
          ],
          [
           "Drama",
           "postive",
           "our_son"
          ],
          [
           "Drama",
           "postive",
           "priscilla"
          ],
          [
           "Drama",
           "postive",
           "oppenheimer_2023"
          ],
          [
           "Drama",
           "postive",
           "napoleon_2023"
          ],
          [
           "Action",
           "postive",
           "napoleon_2023"
          ],
          [
           "Drama",
           "postive",
           "animal_2023_2"
          ],
          [
           "Action",
           "postive",
           "animal_2023_2"
          ],
          [
           "Drama",
           "postive",
           "saltburn"
          ],
          [
           "Comedy",
           "postive",
           "saltburn"
          ],
          [
           "Drama",
           "postive",
           "the_holdovers"
          ],
          [
           "Comedy",
           "postive",
           "the_holdovers"
          ],
          [
           "Drama",
           "postive",
           "poor_things"
          ],
          [
           "Comedy",
           "postive",
           "poor_things"
          ],
          [
           "Drama",
           "postive",
           "eileen"
          ],
          [
           "Drama",
           "postive",
           "dream_scenario"
          ],
          [
           "Comedy",
           "postive",
           "dream_scenario"
          ],
          [
           "Horror",
           "postive",
           "dream_scenario"
          ],
          [
           "Drama",
           "postive",
           "the_oath_2023"
          ],
          [
           "Action",
           "postive",
           "the_oath_2023"
          ],
          [
           "Drama",
           "postive",
           "radical"
          ],
          [
           "Drama",
           "postive",
           "scrapper_2023"
          ],
          [
           "Comedy",
           "postive",
           "scrapper_2023"
          ],
          [
           "Drama",
           "postive",
           "fallen_leaves"
          ],
          [
           "Comedy",
           "postive",
           "fallen_leaves"
          ],
          [
           "Drama",
           "postive",
           "the_marsh_kings_daughter"
          ],
          [
           "Drama",
           "postive",
           "the_road_dance"
          ],
          [
           "Drama",
           "postive",
           "the_three_musketeers_part_i_dartagnan"
          ],
          [
           "Drama",
           "postive",
           "the_end_we_start_from"
          ],
          [
           "Drama",
           "postive",
           "the_persian_version"
          ],
          [
           "Comedy",
           "postive",
           "the_persian_version"
          ],
          [
           "Comedy",
           "postive",
           "wonka"
          ],
          [
           "Comedy",
           "postive",
           "trolls_band_together"
          ],
          [
           "Comedy",
           "postive",
           "wish_2023"
          ],
          [
           "Comedy",
           "postive",
           "love_actually"
          ],
          [
           "Comedy",
           "postive",
           "next_goal_wins_2023"
          ],
          [
           "Comedy",
           "postive",
           "barbie"
          ],
          [
           "Comedy",
           "postive",
           "waitress_the_musical"
          ],
          [
           "Comedy",
           "postive",
           "chicken_run_dawn_of_the_nugget"
          ],
          [
           "Horror",
           "postive",
           "thanksgiving_2023"
          ],
          [
           "Horror",
           "postive",
           "five_nights_at_freddys"
          ],
          [
           "Horror",
           "postive",
           "peeping_tom_1960"
          ],
          [
           "Horror",
           "postive",
           "a_creature_was_stirring"
          ],
          [
           "Action",
           "postive",
           "godzilla_minus_one"
          ],
          [
           "Action",
           "postive",
           "the_hunger_games_the_ballad_of_songbirds_and_snakes"
          ],
          [
           "Action",
           "postive",
           "silent_night_2023"
          ],
          [
           "Action",
           "postive",
           "the_marvels"
          ],
          [
           "Action",
           "postive",
           "die_hard"
          ],
          [
           "Action",
           "postive",
           "fast_charlie"
          ],
          [
           "Action",
           "postive",
           "concrete_utopia"
          ],
          [
           "Action",
           "postive",
           "indiana_jones_and_the_dial_of_destiny"
          ]
         ],
         "hovertemplate": "Critic Score=%{x:.2f}<br>Sentiment Score=%{y:.2f}<br>genre=%{customdata[0]}<br>name=%{customdata[2]}<extra></extra>",
         "legendgroup": "postive",
         "marker": {
          "color": "darkgreen",
          "line": {
           "color": "black",
           "width": 1
          },
          "symbol": "circle"
         },
         "mode": "markers",
         "name": "postive",
         "orientation": "v",
         "showlegend": true,
         "type": "scatter",
         "x": [
          96,
          98,
          93,
          89,
          82,
          93,
          58,
          58,
          28,
          28,
          72,
          72,
          96,
          96,
          92,
          92,
          85,
          92,
          92,
          92,
          25,
          25,
          94,
          94,
          94,
          98,
          98,
          37,
          81,
          98,
          81,
          82,
          82,
          83,
          60,
          49,
          64,
          43,
          88,
          100,
          78,
          84,
          31,
          95,
          50,
          98,
          64,
          58,
          61,
          94,
          86,
          100,
          69
         ],
         "xaxis": "x",
         "y": [
          0.7653253674507141,
          0.0064013316296041,
          0.2781334519386291,
          0.9752984046936036,
          0.8452066779136658,
          0.4661130607128143,
          0.0051992200314998,
          0.0051992200314998,
          0.000198611014639,
          0.000198611014639,
          0.008187623694539,
          0.008187623694539,
          0.995400846004486,
          0.995400846004486,
          0.9187173843383788,
          0.9187173843383788,
          0.3231635093688965,
          0.0864600986242294,
          0.0864600986242294,
          0.0864600986242294,
          0.000486364820972,
          0.000486364820972,
          0.8188333511352539,
          0.2565098702907562,
          0.2565098702907562,
          0.9093925356864928,
          0.9093925356864928,
          0.0122251445427536,
          0.3107994198799133,
          0.4569014310836792,
          0.88569575548172,
          0.987676739692688,
          0.987676739692688,
          0.9900394082069396,
          0.0051012621261179,
          0.1270090490579605,
          0.9861375689506532,
          0.1578969359397888,
          0.9186843633651732,
          0.9332528710365297,
          0.014732526615262,
          0.2386961281299591,
          0.9697760939598083,
          0.8764887452125549,
          0.062940165400505,
          0.9947073459625244,
          0.0652946829795837,
          0.0298072639852762,
          0.0995678976178169,
          0.963401198387146,
          0.912847936153412,
          0.0597662664949893,
          0.0828957110643386
         ],
         "yaxis": "y"
        },
        {
         "hovertemplate": "<b>OLS trendline</b><br>value = 0.00911764 * critic_score + -0.242494<br>R<sup>2</sup>=0.242080<br><br>Critic Score=%{x:.2f}<br>Sentiment Score=%{y:.2f} <b>(trend)</b><extra></extra>",
         "legendgroup": "postive",
         "marker": {
          "color": "darkgreen",
          "line": {
           "color": "black",
           "width": 1
          },
          "symbol": "circle"
         },
         "mode": "lines",
         "name": "postive",
         "showlegend": false,
         "type": "scatter",
         "x": [
          25,
          25,
          28,
          28,
          31,
          37,
          43,
          49,
          50,
          58,
          58,
          58,
          60,
          61,
          64,
          64,
          69,
          72,
          72,
          78,
          81,
          81,
          82,
          82,
          82,
          83,
          84,
          85,
          86,
          88,
          89,
          92,
          92,
          92,
          92,
          92,
          93,
          93,
          94,
          94,
          94,
          94,
          95,
          96,
          96,
          96,
          98,
          98,
          98,
          98,
          98,
          100,
          100
         ],
         "xaxis": "x",
         "y": [
          -0.014552513842031128,
          -0.014552513842031128,
          0.012800415552526534,
          0.012800415552526534,
          0.040153344947084224,
          0.0948592037361995,
          0.14956506252531482,
          0.20427092131443014,
          0.21338856444594934,
          0.28632970949810316,
          0.28632970949810316,
          0.28632970949810316,
          0.30456499576114154,
          0.31368263889266074,
          0.3410355682872184,
          0.3410355682872184,
          0.3866237839448145,
          0.4139767133393722,
          0.4139767133393722,
          0.46868257212848746,
          0.49603550152304515,
          0.49603550152304515,
          0.5051531446545643,
          0.5051531446545643,
          0.5051531446545643,
          0.5142707877860835,
          0.5233884309176029,
          0.5325060740491221,
          0.5416237171806413,
          0.5598590034436797,
          0.5689766465751989,
          0.5963295759697567,
          0.5963295759697567,
          0.5963295759697567,
          0.5963295759697567,
          0.5963295759697567,
          0.6054472191012759,
          0.6054472191012759,
          0.614564862232795,
          0.614564862232795,
          0.614564862232795,
          0.614564862232795,
          0.6236825053643142,
          0.6328001484958334,
          0.6328001484958334,
          0.6328001484958334,
          0.6510354347588718,
          0.6510354347588718,
          0.6510354347588718,
          0.6510354347588718,
          0.6510354347588718,
          0.6692707210219102,
          0.6692707210219102
         ],
         "yaxis": "y"
        },
        {
         "customdata": [
          [
           "Drama",
           "negative",
           "four_daughters_2023"
          ],
          [
           "Drama",
           "negative",
           "the_taste_of_things"
          ],
          [
           "Drama",
           "negative",
           "killers_of_the_flower_moon"
          ],
          [
           "Drama",
           "negative",
           "our_son"
          ],
          [
           "Drama",
           "negative",
           "priscilla"
          ],
          [
           "Drama",
           "negative",
           "oppenheimer_2023"
          ],
          [
           "Drama",
           "negative",
           "napoleon_2023"
          ],
          [
           "Action",
           "negative",
           "napoleon_2023"
          ],
          [
           "Drama",
           "negative",
           "animal_2023_2"
          ],
          [
           "Action",
           "negative",
           "animal_2023_2"
          ],
          [
           "Drama",
           "negative",
           "saltburn"
          ],
          [
           "Comedy",
           "negative",
           "saltburn"
          ],
          [
           "Drama",
           "negative",
           "the_holdovers"
          ],
          [
           "Comedy",
           "negative",
           "the_holdovers"
          ],
          [
           "Drama",
           "negative",
           "poor_things"
          ],
          [
           "Comedy",
           "negative",
           "poor_things"
          ],
          [
           "Drama",
           "negative",
           "eileen"
          ],
          [
           "Drama",
           "negative",
           "dream_scenario"
          ],
          [
           "Comedy",
           "negative",
           "dream_scenario"
          ],
          [
           "Horror",
           "negative",
           "dream_scenario"
          ],
          [
           "Drama",
           "negative",
           "the_oath_2023"
          ],
          [
           "Action",
           "negative",
           "the_oath_2023"
          ],
          [
           "Drama",
           "negative",
           "radical"
          ],
          [
           "Drama",
           "negative",
           "scrapper_2023"
          ],
          [
           "Comedy",
           "negative",
           "scrapper_2023"
          ],
          [
           "Drama",
           "negative",
           "fallen_leaves"
          ],
          [
           "Comedy",
           "negative",
           "fallen_leaves"
          ],
          [
           "Drama",
           "negative",
           "the_marsh_kings_daughter"
          ],
          [
           "Drama",
           "negative",
           "the_road_dance"
          ],
          [
           "Drama",
           "negative",
           "the_three_musketeers_part_i_dartagnan"
          ],
          [
           "Drama",
           "negative",
           "the_end_we_start_from"
          ],
          [
           "Drama",
           "negative",
           "the_persian_version"
          ],
          [
           "Comedy",
           "negative",
           "the_persian_version"
          ],
          [
           "Comedy",
           "negative",
           "wonka"
          ],
          [
           "Comedy",
           "negative",
           "trolls_band_together"
          ],
          [
           "Comedy",
           "negative",
           "wish_2023"
          ],
          [
           "Comedy",
           "negative",
           "love_actually"
          ],
          [
           "Comedy",
           "negative",
           "next_goal_wins_2023"
          ],
          [
           "Comedy",
           "negative",
           "barbie"
          ],
          [
           "Comedy",
           "negative",
           "waitress_the_musical"
          ],
          [
           "Comedy",
           "negative",
           "chicken_run_dawn_of_the_nugget"
          ],
          [
           "Horror",
           "negative",
           "thanksgiving_2023"
          ],
          [
           "Horror",
           "negative",
           "five_nights_at_freddys"
          ],
          [
           "Horror",
           "negative",
           "peeping_tom_1960"
          ],
          [
           "Horror",
           "negative",
           "a_creature_was_stirring"
          ],
          [
           "Action",
           "negative",
           "godzilla_minus_one"
          ],
          [
           "Action",
           "negative",
           "the_hunger_games_the_ballad_of_songbirds_and_snakes"
          ],
          [
           "Action",
           "negative",
           "silent_night_2023"
          ],
          [
           "Action",
           "negative",
           "the_marvels"
          ],
          [
           "Action",
           "negative",
           "die_hard"
          ],
          [
           "Action",
           "negative",
           "fast_charlie"
          ],
          [
           "Action",
           "negative",
           "concrete_utopia"
          ],
          [
           "Action",
           "negative",
           "indiana_jones_and_the_dial_of_destiny"
          ]
         ],
         "hovertemplate": "Critic Score=%{x:.2f}<br>Sentiment Score=%{y:.2f}<br>genre=%{customdata[0]}<br>name=%{customdata[2]}<extra></extra>",
         "legendgroup": "negative",
         "marker": {
          "color": "firebrick",
          "line": {
           "color": "black",
           "width": 1
          },
          "symbol": "circle"
         },
         "mode": "markers",
         "name": "negative",
         "orientation": "v",
         "showlegend": true,
         "type": "scatter",
         "x": [
          96,
          98,
          93,
          89,
          82,
          93,
          58,
          58,
          28,
          28,
          72,
          72,
          96,
          96,
          92,
          92,
          85,
          92,
          92,
          92,
          25,
          25,
          94,
          94,
          94,
          98,
          98,
          37,
          81,
          98,
          81,
          82,
          82,
          83,
          60,
          49,
          64,
          43,
          88,
          100,
          78,
          84,
          31,
          95,
          50,
          98,
          64,
          58,
          61,
          94,
          86,
          100,
          69
         ],
         "xaxis": "x2",
         "y": [
          0.0013252248754724,
          0.0061160796321928,
          0.0041013467125594,
          0.0033267552498728,
          0.0024996034335345,
          0.0551511049270629,
          0.8333096504211426,
          0.8333096504211426,
          0.9994564652442932,
          0.9994564652442932,
          0.033803503960371,
          0.033803503960371,
          0.00009740202222019434,
          0.00009740202222019434,
          0.017230998724699,
          0.017230998724699,
          0.0021081352606415,
          0.0138207282871007,
          0.0138207282871007,
          0.0138207282871007,
          0.9461472630500792,
          0.9461472630500792,
          0.0002720195916481,
          0.0047644069418311,
          0.0047644069418311,
          0.0003891994711011,
          0.0003891994711011,
          0.602135956287384,
          0.1836012899875641,
          0.0027720399666577,
          0.0053650424815714,
          0.0001093462706194,
          0.0001093462706194,
          0.0003577864263206,
          0.1449597328901291,
          0.0704630836844444,
          0.0015150264371186,
          0.000940577185247,
          0.0003858734562527,
          0.0011405725963413,
          0.0029088507872074,
          0.0376935042440891,
          0.0051770936697721,
          0.0178066175431013,
          0.0075039896182715,
          0.0003206177789252,
          0.0023441524244844,
          0.073718711733818,
          0.1157113537192344,
          0.0015839990228414,
          0.0029245207551866,
          0.5146104693412781,
          0.0068769683130085
         ],
         "yaxis": "y2"
        },
        {
         "hovertemplate": "<b>OLS trendline</b><br>value = -0.00898747 * critic_score + 0.829643<br>R<sup>2</sup>=0.449223<br><br>Critic Score=%{x:.2f}<br>Sentiment Score=%{y:.2f} <b>(trend)</b><extra></extra>",
         "legendgroup": "negative",
         "marker": {
          "color": "firebrick",
          "line": {
           "color": "black",
           "width": 1
          },
          "symbol": "circle"
         },
         "mode": "lines",
         "name": "negative",
         "showlegend": false,
         "type": "scatter",
         "x": [
          25,
          25,
          28,
          28,
          31,
          37,
          43,
          49,
          50,
          58,
          58,
          58,
          60,
          61,
          64,
          64,
          69,
          72,
          72,
          78,
          81,
          81,
          82,
          82,
          82,
          83,
          84,
          85,
          86,
          88,
          89,
          92,
          92,
          92,
          92,
          92,
          93,
          93,
          94,
          94,
          94,
          94,
          95,
          96,
          96,
          96,
          98,
          98,
          98,
          98,
          98,
          100,
          100
         ],
         "xaxis": "x2",
         "y": [
          0.6049561228398528,
          0.6049561228398528,
          0.5779937162073832,
          0.5779937162073832,
          0.5510313095749134,
          0.49710649630997417,
          0.4431816830450349,
          0.3892568697800956,
          0.38026940090260575,
          0.30836964988268667,
          0.30836964988268667,
          0.30836964988268667,
          0.29039471212770696,
          0.28140724325021704,
          0.2544448366177474,
          0.2544448366177474,
          0.20950749223029796,
          0.18254508559782834,
          0.18254508559782834,
          0.12862027233288909,
          0.10165786570041946,
          0.10165786570041946,
          0.09267039682292955,
          0.09267039682292955,
          0.09267039682292955,
          0.08368292794543974,
          0.07469545906794983,
          0.06570799019045992,
          0.05672052131297012,
          0.03874558355799029,
          0.02975811468050038,
          0.002795708048030754,
          0.002795708048030754,
          0.002795708048030754,
          0.002795708048030754,
          0.002795708048030754,
          -0.006191760829459048,
          -0.006191760829459048,
          -0.01517922970694896,
          -0.01517922970694896,
          -0.01517922970694896,
          -0.01517922970694896,
          -0.024166698584438873,
          -0.033154167461928785,
          -0.033154167461928785,
          -0.033154167461928785,
          -0.0511291052169085,
          -0.0511291052169085,
          -0.0511291052169085,
          -0.0511291052169085,
          -0.0511291052169085,
          -0.06910404297188821,
          -0.06910404297188821
         ],
         "yaxis": "y2"
        },
        {
         "customdata": [
          [
           "Drama",
           "neutral",
           "four_daughters_2023"
          ],
          [
           "Drama",
           "neutral",
           "the_taste_of_things"
          ],
          [
           "Drama",
           "neutral",
           "killers_of_the_flower_moon"
          ],
          [
           "Drama",
           "neutral",
           "our_son"
          ],
          [
           "Drama",
           "neutral",
           "priscilla"
          ],
          [
           "Drama",
           "neutral",
           "oppenheimer_2023"
          ],
          [
           "Drama",
           "neutral",
           "napoleon_2023"
          ],
          [
           "Action",
           "neutral",
           "napoleon_2023"
          ],
          [
           "Drama",
           "neutral",
           "animal_2023_2"
          ],
          [
           "Action",
           "neutral",
           "animal_2023_2"
          ],
          [
           "Drama",
           "neutral",
           "saltburn"
          ],
          [
           "Comedy",
           "neutral",
           "saltburn"
          ],
          [
           "Drama",
           "neutral",
           "the_holdovers"
          ],
          [
           "Comedy",
           "neutral",
           "the_holdovers"
          ],
          [
           "Drama",
           "neutral",
           "poor_things"
          ],
          [
           "Comedy",
           "neutral",
           "poor_things"
          ],
          [
           "Drama",
           "neutral",
           "eileen"
          ],
          [
           "Drama",
           "neutral",
           "dream_scenario"
          ],
          [
           "Comedy",
           "neutral",
           "dream_scenario"
          ],
          [
           "Horror",
           "neutral",
           "dream_scenario"
          ],
          [
           "Drama",
           "neutral",
           "the_oath_2023"
          ],
          [
           "Action",
           "neutral",
           "the_oath_2023"
          ],
          [
           "Drama",
           "neutral",
           "radical"
          ],
          [
           "Drama",
           "neutral",
           "scrapper_2023"
          ],
          [
           "Comedy",
           "neutral",
           "scrapper_2023"
          ],
          [
           "Drama",
           "neutral",
           "fallen_leaves"
          ],
          [
           "Comedy",
           "neutral",
           "fallen_leaves"
          ],
          [
           "Drama",
           "neutral",
           "the_marsh_kings_daughter"
          ],
          [
           "Drama",
           "neutral",
           "the_road_dance"
          ],
          [
           "Drama",
           "neutral",
           "the_three_musketeers_part_i_dartagnan"
          ],
          [
           "Drama",
           "neutral",
           "the_end_we_start_from"
          ],
          [
           "Drama",
           "neutral",
           "the_persian_version"
          ],
          [
           "Comedy",
           "neutral",
           "the_persian_version"
          ],
          [
           "Comedy",
           "neutral",
           "wonka"
          ],
          [
           "Comedy",
           "neutral",
           "trolls_band_together"
          ],
          [
           "Comedy",
           "neutral",
           "wish_2023"
          ],
          [
           "Comedy",
           "neutral",
           "love_actually"
          ],
          [
           "Comedy",
           "neutral",
           "next_goal_wins_2023"
          ],
          [
           "Comedy",
           "neutral",
           "barbie"
          ],
          [
           "Comedy",
           "neutral",
           "waitress_the_musical"
          ],
          [
           "Comedy",
           "neutral",
           "chicken_run_dawn_of_the_nugget"
          ],
          [
           "Horror",
           "neutral",
           "thanksgiving_2023"
          ],
          [
           "Horror",
           "neutral",
           "five_nights_at_freddys"
          ],
          [
           "Horror",
           "neutral",
           "peeping_tom_1960"
          ],
          [
           "Horror",
           "neutral",
           "a_creature_was_stirring"
          ],
          [
           "Action",
           "neutral",
           "godzilla_minus_one"
          ],
          [
           "Action",
           "neutral",
           "the_hunger_games_the_ballad_of_songbirds_and_snakes"
          ],
          [
           "Action",
           "neutral",
           "silent_night_2023"
          ],
          [
           "Action",
           "neutral",
           "the_marvels"
          ],
          [
           "Action",
           "neutral",
           "die_hard"
          ],
          [
           "Action",
           "neutral",
           "fast_charlie"
          ],
          [
           "Action",
           "neutral",
           "concrete_utopia"
          ],
          [
           "Action",
           "neutral",
           "indiana_jones_and_the_dial_of_destiny"
          ]
         ],
         "hovertemplate": "Critic Score=%{x:.2f}<br>Sentiment Score=%{y:.2f}<br>genre=%{customdata[0]}<br>name=%{customdata[2]}<extra></extra>",
         "legendgroup": "neutral",
         "marker": {
          "color": "grey",
          "line": {
           "color": "black",
           "width": 1
          },
          "symbol": "circle"
         },
         "mode": "markers",
         "name": "neutral",
         "orientation": "v",
         "showlegend": true,
         "type": "scatter",
         "x": [
          96,
          98,
          93,
          89,
          82,
          93,
          58,
          58,
          28,
          28,
          72,
          72,
          96,
          96,
          92,
          92,
          85,
          92,
          92,
          92,
          25,
          25,
          94,
          94,
          94,
          98,
          98,
          37,
          81,
          98,
          81,
          82,
          82,
          83,
          60,
          49,
          64,
          43,
          88,
          100,
          78,
          84,
          31,
          95,
          50,
          98,
          64,
          58,
          61,
          94,
          86,
          100,
          69
         ],
         "xaxis": "x3",
         "y": [
          0.231601133942604,
          0.0013188545126467,
          0.0172451063990592,
          0.0077681560069322,
          0.1432439982891082,
          0.0244600344449281,
          0.0162898022681474,
          0.0162898022681474,
          0.0002733236178755,
          0.0002733236178755,
          0.0136465933173894,
          0.0136465933173894,
          0.0043668071739375,
          0.0043668071739375,
          0.0636493414640426,
          0.0636493414640426,
          0.0034839909058064,
          0.0035989850293844,
          0.0035989850293844,
          0.0035989850293844,
          0.0016190382884815,
          0.0016190382884815,
          0.1804262101650238,
          0.0075302026234567,
          0.0075302026234567,
          0.0889887735247612,
          0.0889887735247612,
          0.0052073164843022,
          0.0188254881650209,
          0.1077852174639701,
          0.0209209769964218,
          0.01177370082587,
          0.01177370082587,
          0.0089513296261429,
          0.0012439137790352,
          0.0102228131145238,
          0.0091410744935274,
          0.0109075931832194,
          0.0801274850964546,
          0.0580368563532829,
          0.0007904712110757,
          0.0127783082425594,
          0.0171674750745296,
          0.0068108066916465,
          0.0015974469715729,
          0.0032784638460725,
          0.0104952724650502,
          0.0034999591298401,
          0.0372493229806423,
          0.0065113264136016,
          0.0794551447033882,
          0.060544054955244,
          0.0049119247123599
         ],
         "yaxis": "y3"
        },
        {
         "hovertemplate": "<b>OLS trendline</b><br>value = 0.000745434 * critic_score + -0.0264988<br>R<sup>2</sup>=0.125202<br><br>Critic Score=%{x:.2f}<br>Sentiment Score=%{y:.2f} <b>(trend)</b><extra></extra>",
         "legendgroup": "neutral",
         "marker": {
          "color": "grey",
          "line": {
           "color": "black",
           "width": 1
          },
          "symbol": "circle"
         },
         "mode": "lines",
         "name": "neutral",
         "showlegend": false,
         "type": "scatter",
         "x": [
          25,
          25,
          28,
          28,
          31,
          37,
          43,
          49,
          50,
          58,
          58,
          58,
          60,
          61,
          64,
          64,
          69,
          72,
          72,
          78,
          81,
          81,
          82,
          82,
          82,
          83,
          84,
          85,
          86,
          88,
          89,
          92,
          92,
          92,
          92,
          92,
          93,
          93,
          94,
          94,
          94,
          94,
          95,
          96,
          96,
          96,
          98,
          98,
          98,
          98,
          98,
          100,
          100
         ],
         "xaxis": "x3",
         "y": [
          -0.007862968681718752,
          -0.007862968681718752,
          -0.005626666454491322,
          -0.005626666454491322,
          -0.003390364227263895,
          0.0010822402271909656,
          0.005554844681645826,
          0.01002744913610068,
          0.010772883211843158,
          0.016736355817782968,
          0.016736355817782968,
          0.016736355817782968,
          0.018227223969267924,
          0.0189726580450104,
          0.02120896027223783,
          0.02120896027223783,
          0.02493613065095021,
          0.027172432878177638,
          0.027172432878177638,
          0.0316450373326325,
          0.033881339559859926,
          0.033881339559859926,
          0.034626773635602404,
          0.034626773635602404,
          0.034626773635602404,
          0.03537220771134488,
          0.03611764178708736,
          0.03686307586282983,
          0.037608509938572315,
          0.03909937809005726,
          0.03984481216579974,
          0.04208111439302717,
          0.04208111439302717,
          0.04208111439302717,
          0.04208111439302717,
          0.04208111439302717,
          0.04282654846876964,
          0.04282654846876964,
          0.043571982544512125,
          0.043571982544512125,
          0.043571982544512125,
          0.043571982544512125,
          0.044317416620254596,
          0.04506285069599708,
          0.04506285069599708,
          0.04506285069599708,
          0.04655371884748202,
          0.04655371884748202,
          0.04655371884748202,
          0.04655371884748202,
          0.04655371884748202,
          0.04804458699896698,
          0.04804458699896698
         ],
         "yaxis": "y3"
        },
        {
         "customdata": [
          [
           "Drama",
           "mixed",
           "four_daughters_2023"
          ],
          [
           "Drama",
           "mixed",
           "the_taste_of_things"
          ],
          [
           "Drama",
           "mixed",
           "killers_of_the_flower_moon"
          ],
          [
           "Drama",
           "mixed",
           "our_son"
          ],
          [
           "Drama",
           "mixed",
           "priscilla"
          ],
          [
           "Drama",
           "mixed",
           "oppenheimer_2023"
          ],
          [
           "Drama",
           "mixed",
           "napoleon_2023"
          ],
          [
           "Action",
           "mixed",
           "napoleon_2023"
          ],
          [
           "Drama",
           "mixed",
           "animal_2023_2"
          ],
          [
           "Action",
           "mixed",
           "animal_2023_2"
          ],
          [
           "Drama",
           "mixed",
           "saltburn"
          ],
          [
           "Comedy",
           "mixed",
           "saltburn"
          ],
          [
           "Drama",
           "mixed",
           "the_holdovers"
          ],
          [
           "Comedy",
           "mixed",
           "the_holdovers"
          ],
          [
           "Drama",
           "mixed",
           "poor_things"
          ],
          [
           "Comedy",
           "mixed",
           "poor_things"
          ],
          [
           "Drama",
           "mixed",
           "eileen"
          ],
          [
           "Drama",
           "mixed",
           "dream_scenario"
          ],
          [
           "Comedy",
           "mixed",
           "dream_scenario"
          ],
          [
           "Horror",
           "mixed",
           "dream_scenario"
          ],
          [
           "Drama",
           "mixed",
           "the_oath_2023"
          ],
          [
           "Action",
           "mixed",
           "the_oath_2023"
          ],
          [
           "Drama",
           "mixed",
           "radical"
          ],
          [
           "Drama",
           "mixed",
           "scrapper_2023"
          ],
          [
           "Comedy",
           "mixed",
           "scrapper_2023"
          ],
          [
           "Drama",
           "mixed",
           "fallen_leaves"
          ],
          [
           "Comedy",
           "mixed",
           "fallen_leaves"
          ],
          [
           "Drama",
           "mixed",
           "the_marsh_kings_daughter"
          ],
          [
           "Drama",
           "mixed",
           "the_road_dance"
          ],
          [
           "Drama",
           "mixed",
           "the_three_musketeers_part_i_dartagnan"
          ],
          [
           "Drama",
           "mixed",
           "the_end_we_start_from"
          ],
          [
           "Drama",
           "mixed",
           "the_persian_version"
          ],
          [
           "Comedy",
           "mixed",
           "the_persian_version"
          ],
          [
           "Comedy",
           "mixed",
           "wonka"
          ],
          [
           "Comedy",
           "mixed",
           "trolls_band_together"
          ],
          [
           "Comedy",
           "mixed",
           "wish_2023"
          ],
          [
           "Comedy",
           "mixed",
           "love_actually"
          ],
          [
           "Comedy",
           "mixed",
           "next_goal_wins_2023"
          ],
          [
           "Comedy",
           "mixed",
           "barbie"
          ],
          [
           "Comedy",
           "mixed",
           "waitress_the_musical"
          ],
          [
           "Comedy",
           "mixed",
           "chicken_run_dawn_of_the_nugget"
          ],
          [
           "Horror",
           "mixed",
           "thanksgiving_2023"
          ],
          [
           "Horror",
           "mixed",
           "five_nights_at_freddys"
          ],
          [
           "Horror",
           "mixed",
           "peeping_tom_1960"
          ],
          [
           "Horror",
           "mixed",
           "a_creature_was_stirring"
          ],
          [
           "Action",
           "mixed",
           "godzilla_minus_one"
          ],
          [
           "Action",
           "mixed",
           "the_hunger_games_the_ballad_of_songbirds_and_snakes"
          ],
          [
           "Action",
           "mixed",
           "silent_night_2023"
          ],
          [
           "Action",
           "mixed",
           "the_marvels"
          ],
          [
           "Action",
           "mixed",
           "die_hard"
          ],
          [
           "Action",
           "mixed",
           "fast_charlie"
          ],
          [
           "Action",
           "mixed",
           "concrete_utopia"
          ],
          [
           "Action",
           "mixed",
           "indiana_jones_and_the_dial_of_destiny"
          ]
         ],
         "hovertemplate": "Critic Score=%{x:.2f}<br>Sentiment Score=%{y:.2f}<br>genre=%{customdata[0]}<br>name=%{customdata[2]}<extra></extra>",
         "legendgroup": "mixed",
         "marker": {
          "color": "orange",
          "line": {
           "color": "black",
           "width": 1
          },
          "symbol": "circle"
         },
         "mode": "markers",
         "name": "mixed",
         "orientation": "v",
         "showlegend": true,
         "type": "scatter",
         "x": [
          96,
          98,
          93,
          89,
          82,
          93,
          58,
          58,
          28,
          28,
          72,
          72,
          96,
          96,
          92,
          92,
          85,
          92,
          92,
          92,
          25,
          25,
          94,
          94,
          94,
          98,
          98,
          37,
          81,
          98,
          81,
          82,
          82,
          83,
          60,
          49,
          64,
          43,
          88,
          100,
          78,
          84,
          31,
          95,
          50,
          98,
          64,
          58,
          61,
          94,
          86,
          100,
          69
         ],
         "xaxis": "x4",
         "y": [
          0.0017482712864875,
          0.9861636757850648,
          0.7005200982093811,
          0.0136065790429711,
          0.009049735032022,
          0.4542757570743561,
          0.1452012509107589,
          0.1452012509107589,
          0.00007159350934671238,
          0.00007159350934671238,
          0.9443623423576356,
          0.9443623423576356,
          0.000134895715746,
          0.000134895715746,
          0.0004023834480904,
          0.0004023834480904,
          0.6712443828582764,
          0.8961201906204224,
          0.8961201906204224,
          0.8961201906204224,
          0.0517473928630352,
          0.0517473928630352,
          0.000468401267426,
          0.7311955094337463,
          0.7311955094337463,
          0.001229474786669,
          0.001229474786669,
          0.3804315626621246,
          0.4867737889289856,
          0.4325413405895233,
          0.0880182757973671,
          0.0004401770129334,
          0.0004401770129334,
          0.0006514429696835,
          0.8486951589584351,
          0.792305052280426,
          0.0032062740065157,
          0.830254852771759,
          0.0008023440022952,
          0.0075696567073464,
          0.9815682768821716,
          0.7108321189880371,
          0.0078793112188577,
          0.098893865942955,
          0.927958369255066,
          0.0016935029998421,
          0.9218658804893494,
          0.8929740190505981,
          0.7474714517593384,
          0.0285034477710723,
          0.0047723576426506,
          0.3650792241096496,
          0.905315399169922
         ],
         "yaxis": "y4"
        },
        {
         "hovertemplate": "<b>OLS trendline</b><br>value = -0.000875608 * critic_score + 0.43935<br>R<sup>2</sup>=0.002501<br><br>Critic Score=%{x:.2f}<br>Sentiment Score=%{y:.2f} <b>(trend)</b><extra></extra>",
         "legendgroup": "mixed",
         "marker": {
          "color": "orange",
          "line": {
           "color": "black",
           "width": 1
          },
          "symbol": "circle"
         },
         "mode": "lines",
         "name": "mixed",
         "showlegend": false,
         "type": "scatter",
         "x": [
          25,
          25,
          28,
          28,
          31,
          37,
          43,
          49,
          50,
          58,
          58,
          58,
          60,
          61,
          64,
          64,
          69,
          72,
          72,
          78,
          81,
          81,
          82,
          82,
          82,
          83,
          84,
          85,
          86,
          88,
          89,
          92,
          92,
          92,
          92,
          92,
          93,
          93,
          94,
          94,
          94,
          94,
          95,
          96,
          96,
          96,
          98,
          98,
          98,
          98,
          98,
          100,
          100
         ],
         "xaxis": "x4",
         "y": [
          0.41745936285368157,
          0.41745936285368157,
          0.41483253757590194,
          0.41483253757590194,
          0.41220571229812236,
          0.4069520617425631,
          0.4016984111870039,
          0.3964447606314447,
          0.39556915220551814,
          0.38856428479810584,
          0.38856428479810584,
          0.38856428479810584,
          0.38681306794625275,
          0.3859374595203262,
          0.3833106342425466,
          0.3833106342425466,
          0.3789325921129139,
          0.3763057668351343,
          0.3763057668351343,
          0.3710521162795751,
          0.36842529100179544,
          0.36842529100179544,
          0.36754968257586895,
          0.36754968257586895,
          0.36754968257586895,
          0.36667407414994235,
          0.36579846572401586,
          0.3649228572980893,
          0.3640472488721628,
          0.3622960320203097,
          0.36142042359438314,
          0.3587935983166035,
          0.3587935983166035,
          0.3587935983166035,
          0.3587935983166035,
          0.3587935983166035,
          0.357917989890677,
          0.357917989890677,
          0.3570423814647505,
          0.3570423814647505,
          0.3570423814647505,
          0.3570423814647505,
          0.35616677303882394,
          0.3552911646128974,
          0.3552911646128974,
          0.3552911646128974,
          0.3535399477610443,
          0.3535399477610443,
          0.3535399477610443,
          0.3535399477610443,
          0.3535399477610443,
          0.35178873090919127,
          0.35178873090919127
         ],
         "yaxis": "y4"
        }
       ],
       "layout": {
        "annotations": [
         {
          "font": {},
          "showarrow": false,
          "text": "Positive Reviews",
          "x": 0.1175,
          "xanchor": "center",
          "xref": "paper",
          "y": 1,
          "yanchor": "bottom",
          "yref": "paper"
         },
         {
          "font": {},
          "showarrow": false,
          "text": "Negative Reviews",
          "x": 0.3725,
          "xanchor": "center",
          "xref": "paper",
          "y": 1,
          "yanchor": "bottom",
          "yref": "paper"
         },
         {
          "font": {},
          "showarrow": false,
          "text": "Neutral Reviews",
          "x": 0.6275,
          "xanchor": "center",
          "xref": "paper",
          "y": 1,
          "yanchor": "bottom",
          "yref": "paper"
         },
         {
          "font": {},
          "showarrow": false,
          "text": "Mixed Reviews",
          "x": 0.8824999999999998,
          "xanchor": "center",
          "xref": "paper",
          "y": 1,
          "yanchor": "bottom",
          "yref": "paper"
         }
        ],
        "height": 450,
        "legend": {
         "title": {
          "text": "Sentiment"
         },
         "tracegroupgap": 0
        },
        "margin": {
         "t": 60
        },
        "showlegend": false,
        "template": {
         "data": {
          "bar": [
           {
            "error_x": {
             "color": "rgb(36,36,36)"
            },
            "error_y": {
             "color": "rgb(36,36,36)"
            },
            "marker": {
             "line": {
              "color": "white",
              "width": 0.5
             },
             "pattern": {
              "fillmode": "overlay",
              "size": 10,
              "solidity": 0.2
             }
            },
            "type": "bar"
           }
          ],
          "barpolar": [
           {
            "marker": {
             "line": {
              "color": "white",
              "width": 0.5
             },
             "pattern": {
              "fillmode": "overlay",
              "size": 10,
              "solidity": 0.2
             }
            },
            "type": "barpolar"
           }
          ],
          "carpet": [
           {
            "aaxis": {
             "endlinecolor": "rgb(36,36,36)",
             "gridcolor": "white",
             "linecolor": "white",
             "minorgridcolor": "white",
             "startlinecolor": "rgb(36,36,36)"
            },
            "baxis": {
             "endlinecolor": "rgb(36,36,36)",
             "gridcolor": "white",
             "linecolor": "white",
             "minorgridcolor": "white",
             "startlinecolor": "rgb(36,36,36)"
            },
            "type": "carpet"
           }
          ],
          "choropleth": [
           {
            "colorbar": {
             "outlinewidth": 1,
             "tickcolor": "rgb(36,36,36)",
             "ticks": "outside"
            },
            "type": "choropleth"
           }
          ],
          "contour": [
           {
            "colorbar": {
             "outlinewidth": 1,
             "tickcolor": "rgb(36,36,36)",
             "ticks": "outside"
            },
            "colorscale": [
             [
              0,
              "#440154"
             ],
             [
              0.1111111111111111,
              "#482878"
             ],
             [
              0.2222222222222222,
              "#3e4989"
             ],
             [
              0.3333333333333333,
              "#31688e"
             ],
             [
              0.4444444444444444,
              "#26828e"
             ],
             [
              0.5555555555555556,
              "#1f9e89"
             ],
             [
              0.6666666666666666,
              "#35b779"
             ],
             [
              0.7777777777777778,
              "#6ece58"
             ],
             [
              0.8888888888888888,
              "#b5de2b"
             ],
             [
              1,
              "#fde725"
             ]
            ],
            "type": "contour"
           }
          ],
          "contourcarpet": [
           {
            "colorbar": {
             "outlinewidth": 1,
             "tickcolor": "rgb(36,36,36)",
             "ticks": "outside"
            },
            "type": "contourcarpet"
           }
          ],
          "heatmap": [
           {
            "colorbar": {
             "outlinewidth": 1,
             "tickcolor": "rgb(36,36,36)",
             "ticks": "outside"
            },
            "colorscale": [
             [
              0,
              "#440154"
             ],
             [
              0.1111111111111111,
              "#482878"
             ],
             [
              0.2222222222222222,
              "#3e4989"
             ],
             [
              0.3333333333333333,
              "#31688e"
             ],
             [
              0.4444444444444444,
              "#26828e"
             ],
             [
              0.5555555555555556,
              "#1f9e89"
             ],
             [
              0.6666666666666666,
              "#35b779"
             ],
             [
              0.7777777777777778,
              "#6ece58"
             ],
             [
              0.8888888888888888,
              "#b5de2b"
             ],
             [
              1,
              "#fde725"
             ]
            ],
            "type": "heatmap"
           }
          ],
          "heatmapgl": [
           {
            "colorbar": {
             "outlinewidth": 1,
             "tickcolor": "rgb(36,36,36)",
             "ticks": "outside"
            },
            "colorscale": [
             [
              0,
              "#440154"
             ],
             [
              0.1111111111111111,
              "#482878"
             ],
             [
              0.2222222222222222,
              "#3e4989"
             ],
             [
              0.3333333333333333,
              "#31688e"
             ],
             [
              0.4444444444444444,
              "#26828e"
             ],
             [
              0.5555555555555556,
              "#1f9e89"
             ],
             [
              0.6666666666666666,
              "#35b779"
             ],
             [
              0.7777777777777778,
              "#6ece58"
             ],
             [
              0.8888888888888888,
              "#b5de2b"
             ],
             [
              1,
              "#fde725"
             ]
            ],
            "type": "heatmapgl"
           }
          ],
          "histogram": [
           {
            "marker": {
             "line": {
              "color": "white",
              "width": 0.6
             }
            },
            "type": "histogram"
           }
          ],
          "histogram2d": [
           {
            "colorbar": {
             "outlinewidth": 1,
             "tickcolor": "rgb(36,36,36)",
             "ticks": "outside"
            },
            "colorscale": [
             [
              0,
              "#440154"
             ],
             [
              0.1111111111111111,
              "#482878"
             ],
             [
              0.2222222222222222,
              "#3e4989"
             ],
             [
              0.3333333333333333,
              "#31688e"
             ],
             [
              0.4444444444444444,
              "#26828e"
             ],
             [
              0.5555555555555556,
              "#1f9e89"
             ],
             [
              0.6666666666666666,
              "#35b779"
             ],
             [
              0.7777777777777778,
              "#6ece58"
             ],
             [
              0.8888888888888888,
              "#b5de2b"
             ],
             [
              1,
              "#fde725"
             ]
            ],
            "type": "histogram2d"
           }
          ],
          "histogram2dcontour": [
           {
            "colorbar": {
             "outlinewidth": 1,
             "tickcolor": "rgb(36,36,36)",
             "ticks": "outside"
            },
            "colorscale": [
             [
              0,
              "#440154"
             ],
             [
              0.1111111111111111,
              "#482878"
             ],
             [
              0.2222222222222222,
              "#3e4989"
             ],
             [
              0.3333333333333333,
              "#31688e"
             ],
             [
              0.4444444444444444,
              "#26828e"
             ],
             [
              0.5555555555555556,
              "#1f9e89"
             ],
             [
              0.6666666666666666,
              "#35b779"
             ],
             [
              0.7777777777777778,
              "#6ece58"
             ],
             [
              0.8888888888888888,
              "#b5de2b"
             ],
             [
              1,
              "#fde725"
             ]
            ],
            "type": "histogram2dcontour"
           }
          ],
          "mesh3d": [
           {
            "colorbar": {
             "outlinewidth": 1,
             "tickcolor": "rgb(36,36,36)",
             "ticks": "outside"
            },
            "type": "mesh3d"
           }
          ],
          "parcoords": [
           {
            "line": {
             "colorbar": {
              "outlinewidth": 1,
              "tickcolor": "rgb(36,36,36)",
              "ticks": "outside"
             }
            },
            "type": "parcoords"
           }
          ],
          "pie": [
           {
            "automargin": true,
            "type": "pie"
           }
          ],
          "scatter": [
           {
            "fillpattern": {
             "fillmode": "overlay",
             "size": 10,
             "solidity": 0.2
            },
            "type": "scatter"
           }
          ],
          "scatter3d": [
           {
            "line": {
             "colorbar": {
              "outlinewidth": 1,
              "tickcolor": "rgb(36,36,36)",
              "ticks": "outside"
             }
            },
            "marker": {
             "colorbar": {
              "outlinewidth": 1,
              "tickcolor": "rgb(36,36,36)",
              "ticks": "outside"
             }
            },
            "type": "scatter3d"
           }
          ],
          "scattercarpet": [
           {
            "marker": {
             "colorbar": {
              "outlinewidth": 1,
              "tickcolor": "rgb(36,36,36)",
              "ticks": "outside"
             }
            },
            "type": "scattercarpet"
           }
          ],
          "scattergeo": [
           {
            "marker": {
             "colorbar": {
              "outlinewidth": 1,
              "tickcolor": "rgb(36,36,36)",
              "ticks": "outside"
             }
            },
            "type": "scattergeo"
           }
          ],
          "scattergl": [
           {
            "marker": {
             "colorbar": {
              "outlinewidth": 1,
              "tickcolor": "rgb(36,36,36)",
              "ticks": "outside"
             }
            },
            "type": "scattergl"
           }
          ],
          "scattermapbox": [
           {
            "marker": {
             "colorbar": {
              "outlinewidth": 1,
              "tickcolor": "rgb(36,36,36)",
              "ticks": "outside"
             }
            },
            "type": "scattermapbox"
           }
          ],
          "scatterpolar": [
           {
            "marker": {
             "colorbar": {
              "outlinewidth": 1,
              "tickcolor": "rgb(36,36,36)",
              "ticks": "outside"
             }
            },
            "type": "scatterpolar"
           }
          ],
          "scatterpolargl": [
           {
            "marker": {
             "colorbar": {
              "outlinewidth": 1,
              "tickcolor": "rgb(36,36,36)",
              "ticks": "outside"
             }
            },
            "type": "scatterpolargl"
           }
          ],
          "scatterternary": [
           {
            "marker": {
             "colorbar": {
              "outlinewidth": 1,
              "tickcolor": "rgb(36,36,36)",
              "ticks": "outside"
             }
            },
            "type": "scatterternary"
           }
          ],
          "surface": [
           {
            "colorbar": {
             "outlinewidth": 1,
             "tickcolor": "rgb(36,36,36)",
             "ticks": "outside"
            },
            "colorscale": [
             [
              0,
              "#440154"
             ],
             [
              0.1111111111111111,
              "#482878"
             ],
             [
              0.2222222222222222,
              "#3e4989"
             ],
             [
              0.3333333333333333,
              "#31688e"
             ],
             [
              0.4444444444444444,
              "#26828e"
             ],
             [
              0.5555555555555556,
              "#1f9e89"
             ],
             [
              0.6666666666666666,
              "#35b779"
             ],
             [
              0.7777777777777778,
              "#6ece58"
             ],
             [
              0.8888888888888888,
              "#b5de2b"
             ],
             [
              1,
              "#fde725"
             ]
            ],
            "type": "surface"
           }
          ],
          "table": [
           {
            "cells": {
             "fill": {
              "color": "rgb(237,237,237)"
             },
             "line": {
              "color": "white"
             }
            },
            "header": {
             "fill": {
              "color": "rgb(217,217,217)"
             },
             "line": {
              "color": "white"
             }
            },
            "type": "table"
           }
          ]
         },
         "layout": {
          "annotationdefaults": {
           "arrowhead": 0,
           "arrowwidth": 1
          },
          "autotypenumbers": "strict",
          "coloraxis": {
           "colorbar": {
            "outlinewidth": 1,
            "tickcolor": "rgb(36,36,36)",
            "ticks": "outside"
           }
          },
          "colorscale": {
           "diverging": [
            [
             0,
             "rgb(103,0,31)"
            ],
            [
             0.1,
             "rgb(178,24,43)"
            ],
            [
             0.2,
             "rgb(214,96,77)"
            ],
            [
             0.3,
             "rgb(244,165,130)"
            ],
            [
             0.4,
             "rgb(253,219,199)"
            ],
            [
             0.5,
             "rgb(247,247,247)"
            ],
            [
             0.6,
             "rgb(209,229,240)"
            ],
            [
             0.7,
             "rgb(146,197,222)"
            ],
            [
             0.8,
             "rgb(67,147,195)"
            ],
            [
             0.9,
             "rgb(33,102,172)"
            ],
            [
             1,
             "rgb(5,48,97)"
            ]
           ],
           "sequential": [
            [
             0,
             "#440154"
            ],
            [
             0.1111111111111111,
             "#482878"
            ],
            [
             0.2222222222222222,
             "#3e4989"
            ],
            [
             0.3333333333333333,
             "#31688e"
            ],
            [
             0.4444444444444444,
             "#26828e"
            ],
            [
             0.5555555555555556,
             "#1f9e89"
            ],
            [
             0.6666666666666666,
             "#35b779"
            ],
            [
             0.7777777777777778,
             "#6ece58"
            ],
            [
             0.8888888888888888,
             "#b5de2b"
            ],
            [
             1,
             "#fde725"
            ]
           ],
           "sequentialminus": [
            [
             0,
             "#440154"
            ],
            [
             0.1111111111111111,
             "#482878"
            ],
            [
             0.2222222222222222,
             "#3e4989"
            ],
            [
             0.3333333333333333,
             "#31688e"
            ],
            [
             0.4444444444444444,
             "#26828e"
            ],
            [
             0.5555555555555556,
             "#1f9e89"
            ],
            [
             0.6666666666666666,
             "#35b779"
            ],
            [
             0.7777777777777778,
             "#6ece58"
            ],
            [
             0.8888888888888888,
             "#b5de2b"
            ],
            [
             1,
             "#fde725"
            ]
           ]
          },
          "colorway": [
           "#1F77B4",
           "#FF7F0E",
           "#2CA02C",
           "#D62728",
           "#9467BD",
           "#8C564B",
           "#E377C2",
           "#7F7F7F",
           "#BCBD22",
           "#17BECF"
          ],
          "font": {
           "color": "rgb(36,36,36)"
          },
          "geo": {
           "bgcolor": "white",
           "lakecolor": "white",
           "landcolor": "white",
           "showlakes": true,
           "showland": true,
           "subunitcolor": "white"
          },
          "hoverlabel": {
           "align": "left"
          },
          "hovermode": "closest",
          "mapbox": {
           "style": "light"
          },
          "paper_bgcolor": "white",
          "plot_bgcolor": "white",
          "polar": {
           "angularaxis": {
            "gridcolor": "rgb(232,232,232)",
            "linecolor": "rgb(36,36,36)",
            "showgrid": false,
            "showline": true,
            "ticks": "outside"
           },
           "bgcolor": "white",
           "radialaxis": {
            "gridcolor": "rgb(232,232,232)",
            "linecolor": "rgb(36,36,36)",
            "showgrid": false,
            "showline": true,
            "ticks": "outside"
           }
          },
          "scene": {
           "xaxis": {
            "backgroundcolor": "white",
            "gridcolor": "rgb(232,232,232)",
            "gridwidth": 2,
            "linecolor": "rgb(36,36,36)",
            "showbackground": true,
            "showgrid": false,
            "showline": true,
            "ticks": "outside",
            "zeroline": false,
            "zerolinecolor": "rgb(36,36,36)"
           },
           "yaxis": {
            "backgroundcolor": "white",
            "gridcolor": "rgb(232,232,232)",
            "gridwidth": 2,
            "linecolor": "rgb(36,36,36)",
            "showbackground": true,
            "showgrid": false,
            "showline": true,
            "ticks": "outside",
            "zeroline": false,
            "zerolinecolor": "rgb(36,36,36)"
           },
           "zaxis": {
            "backgroundcolor": "white",
            "gridcolor": "rgb(232,232,232)",
            "gridwidth": 2,
            "linecolor": "rgb(36,36,36)",
            "showbackground": true,
            "showgrid": false,
            "showline": true,
            "ticks": "outside",
            "zeroline": false,
            "zerolinecolor": "rgb(36,36,36)"
           }
          },
          "shapedefaults": {
           "fillcolor": "black",
           "line": {
            "width": 0
           },
           "opacity": 0.3
          },
          "ternary": {
           "aaxis": {
            "gridcolor": "rgb(232,232,232)",
            "linecolor": "rgb(36,36,36)",
            "showgrid": false,
            "showline": true,
            "ticks": "outside"
           },
           "baxis": {
            "gridcolor": "rgb(232,232,232)",
            "linecolor": "rgb(36,36,36)",
            "showgrid": false,
            "showline": true,
            "ticks": "outside"
           },
           "bgcolor": "white",
           "caxis": {
            "gridcolor": "rgb(232,232,232)",
            "linecolor": "rgb(36,36,36)",
            "showgrid": false,
            "showline": true,
            "ticks": "outside"
           }
          },
          "title": {
           "x": 0.05
          },
          "xaxis": {
           "automargin": true,
           "gridcolor": "rgb(232,232,232)",
           "linecolor": "rgb(36,36,36)",
           "showgrid": false,
           "showline": true,
           "ticks": "outside",
           "title": {
            "standoff": 15
           },
           "zeroline": false,
           "zerolinecolor": "rgb(36,36,36)"
          },
          "yaxis": {
           "automargin": true,
           "gridcolor": "rgb(232,232,232)",
           "linecolor": "rgb(36,36,36)",
           "showgrid": false,
           "showline": true,
           "ticks": "outside",
           "title": {
            "standoff": 15
           },
           "zeroline": false,
           "zerolinecolor": "rgb(36,36,36)"
          }
         }
        },
        "title": {
         "font": {
          "size": 20
         },
         "text": "<b>Critic Sentiment Scores Compared to Critic Scores</b>",
         "x": 0.5
        },
        "width": 1400,
        "xaxis": {
         "anchor": "y",
         "domain": [
          0,
          0.235
         ],
         "range": [
          20,
          100
         ],
         "title": {
          "text": "Critic Score"
         }
        },
        "xaxis2": {
         "anchor": "y2",
         "domain": [
          0.255,
          0.49
         ],
         "matches": "x",
         "range": [
          20,
          100
         ],
         "title": {
          "text": "Critic Score"
         }
        },
        "xaxis3": {
         "anchor": "y3",
         "domain": [
          0.51,
          0.745
         ],
         "matches": "x",
         "range": [
          20,
          100
         ],
         "title": {
          "text": "Critic Score"
         }
        },
        "xaxis4": {
         "anchor": "y4",
         "domain": [
          0.7649999999999999,
          0.9999999999999999
         ],
         "matches": "x",
         "range": [
          20,
          100
         ],
         "title": {
          "text": "Critic Score"
         }
        },
        "yaxis": {
         "anchor": "x",
         "domain": [
          0,
          1
         ],
         "range": [
          0,
          1
         ],
         "title": {
          "text": "Sentiment Score"
         }
        },
        "yaxis2": {
         "anchor": "x2",
         "domain": [
          0,
          1
         ],
         "matches": "y",
         "range": [
          0,
          1
         ],
         "showticklabels": false
        },
        "yaxis3": {
         "anchor": "x3",
         "domain": [
          0,
          1
         ],
         "matches": "y",
         "range": [
          0,
          1
         ],
         "showticklabels": false
        },
        "yaxis4": {
         "anchor": "x4",
         "domain": [
          0,
          1
         ],
         "matches": "y",
         "range": [
          0,
          1
         ],
         "showticklabels": false
        }
       }
      },
      "text/html": [
       "<div>                            <div id=\"a1f589d8-8d10-4745-a575-3ce6b3634056\" class=\"plotly-graph-div\" style=\"height:450px; width:1400px;\"></div>            <script type=\"text/javascript\">                require([\"plotly\"], function(Plotly) {                    window.PLOTLYENV=window.PLOTLYENV || {};                                    if (document.getElementById(\"a1f589d8-8d10-4745-a575-3ce6b3634056\")) {                    Plotly.newPlot(                        \"a1f589d8-8d10-4745-a575-3ce6b3634056\",                        [{\"customdata\":[[\"Drama\",\"postive\",\"four_daughters_2023\"],[\"Drama\",\"postive\",\"the_taste_of_things\"],[\"Drama\",\"postive\",\"killers_of_the_flower_moon\"],[\"Drama\",\"postive\",\"our_son\"],[\"Drama\",\"postive\",\"priscilla\"],[\"Drama\",\"postive\",\"oppenheimer_2023\"],[\"Drama\",\"postive\",\"napoleon_2023\"],[\"Action\",\"postive\",\"napoleon_2023\"],[\"Drama\",\"postive\",\"animal_2023_2\"],[\"Action\",\"postive\",\"animal_2023_2\"],[\"Drama\",\"postive\",\"saltburn\"],[\"Comedy\",\"postive\",\"saltburn\"],[\"Drama\",\"postive\",\"the_holdovers\"],[\"Comedy\",\"postive\",\"the_holdovers\"],[\"Drama\",\"postive\",\"poor_things\"],[\"Comedy\",\"postive\",\"poor_things\"],[\"Drama\",\"postive\",\"eileen\"],[\"Drama\",\"postive\",\"dream_scenario\"],[\"Comedy\",\"postive\",\"dream_scenario\"],[\"Horror\",\"postive\",\"dream_scenario\"],[\"Drama\",\"postive\",\"the_oath_2023\"],[\"Action\",\"postive\",\"the_oath_2023\"],[\"Drama\",\"postive\",\"radical\"],[\"Drama\",\"postive\",\"scrapper_2023\"],[\"Comedy\",\"postive\",\"scrapper_2023\"],[\"Drama\",\"postive\",\"fallen_leaves\"],[\"Comedy\",\"postive\",\"fallen_leaves\"],[\"Drama\",\"postive\",\"the_marsh_kings_daughter\"],[\"Drama\",\"postive\",\"the_road_dance\"],[\"Drama\",\"postive\",\"the_three_musketeers_part_i_dartagnan\"],[\"Drama\",\"postive\",\"the_end_we_start_from\"],[\"Drama\",\"postive\",\"the_persian_version\"],[\"Comedy\",\"postive\",\"the_persian_version\"],[\"Comedy\",\"postive\",\"wonka\"],[\"Comedy\",\"postive\",\"trolls_band_together\"],[\"Comedy\",\"postive\",\"wish_2023\"],[\"Comedy\",\"postive\",\"love_actually\"],[\"Comedy\",\"postive\",\"next_goal_wins_2023\"],[\"Comedy\",\"postive\",\"barbie\"],[\"Comedy\",\"postive\",\"waitress_the_musical\"],[\"Comedy\",\"postive\",\"chicken_run_dawn_of_the_nugget\"],[\"Horror\",\"postive\",\"thanksgiving_2023\"],[\"Horror\",\"postive\",\"five_nights_at_freddys\"],[\"Horror\",\"postive\",\"peeping_tom_1960\"],[\"Horror\",\"postive\",\"a_creature_was_stirring\"],[\"Action\",\"postive\",\"godzilla_minus_one\"],[\"Action\",\"postive\",\"the_hunger_games_the_ballad_of_songbirds_and_snakes\"],[\"Action\",\"postive\",\"silent_night_2023\"],[\"Action\",\"postive\",\"the_marvels\"],[\"Action\",\"postive\",\"die_hard\"],[\"Action\",\"postive\",\"fast_charlie\"],[\"Action\",\"postive\",\"concrete_utopia\"],[\"Action\",\"postive\",\"indiana_jones_and_the_dial_of_destiny\"]],\"hovertemplate\":\"Critic Score=%{x:.2f}\\u003cbr\\u003eSentiment Score=%{y:.2f}\\u003cbr\\u003egenre=%{customdata[0]}\\u003cbr\\u003ename=%{customdata[2]}\\u003cextra\\u003e\\u003c\\u002fextra\\u003e\",\"legendgroup\":\"postive\",\"marker\":{\"color\":\"darkgreen\",\"symbol\":\"circle\",\"line\":{\"color\":\"black\",\"width\":1}},\"mode\":\"markers\",\"name\":\"postive\",\"orientation\":\"v\",\"showlegend\":true,\"x\":[96,98,93,89,82,93,58,58,28,28,72,72,96,96,92,92,85,92,92,92,25,25,94,94,94,98,98,37,81,98,81,82,82,83,60,49,64,43,88,100,78,84,31,95,50,98,64,58,61,94,86,100,69],\"xaxis\":\"x\",\"y\":[0.7653253674507141,0.0064013316296041,0.2781334519386291,0.9752984046936036,0.8452066779136658,0.4661130607128143,0.0051992200314998,0.0051992200314998,0.000198611014639,0.000198611014639,0.008187623694539,0.008187623694539,0.995400846004486,0.995400846004486,0.9187173843383788,0.9187173843383788,0.3231635093688965,0.0864600986242294,0.0864600986242294,0.0864600986242294,0.000486364820972,0.000486364820972,0.8188333511352539,0.2565098702907562,0.2565098702907562,0.9093925356864928,0.9093925356864928,0.0122251445427536,0.3107994198799133,0.4569014310836792,0.88569575548172,0.987676739692688,0.987676739692688,0.9900394082069396,0.0051012621261179,0.1270090490579605,0.9861375689506532,0.1578969359397888,0.9186843633651732,0.9332528710365297,0.014732526615262,0.2386961281299591,0.9697760939598083,0.8764887452125549,0.062940165400505,0.9947073459625244,0.0652946829795837,0.0298072639852762,0.0995678976178169,0.963401198387146,0.912847936153412,0.0597662664949893,0.0828957110643386],\"yaxis\":\"y\",\"type\":\"scatter\"},{\"hovertemplate\":\"\\u003cb\\u003eOLS trendline\\u003c\\u002fb\\u003e\\u003cbr\\u003evalue = 0.00911764 * critic_score + -0.242494\\u003cbr\\u003eR\\u003csup\\u003e2\\u003c\\u002fsup\\u003e=0.242080\\u003cbr\\u003e\\u003cbr\\u003eCritic Score=%{x:.2f}\\u003cbr\\u003eSentiment Score=%{y:.2f} \\u003cb\\u003e(trend)\\u003c\\u002fb\\u003e\\u003cextra\\u003e\\u003c\\u002fextra\\u003e\",\"legendgroup\":\"postive\",\"marker\":{\"color\":\"darkgreen\",\"symbol\":\"circle\",\"line\":{\"color\":\"black\",\"width\":1}},\"mode\":\"lines\",\"name\":\"postive\",\"showlegend\":false,\"x\":[25,25,28,28,31,37,43,49,50,58,58,58,60,61,64,64,69,72,72,78,81,81,82,82,82,83,84,85,86,88,89,92,92,92,92,92,93,93,94,94,94,94,95,96,96,96,98,98,98,98,98,100,100],\"xaxis\":\"x\",\"y\":[-0.014552513842031128,-0.014552513842031128,0.012800415552526534,0.012800415552526534,0.040153344947084224,0.0948592037361995,0.14956506252531482,0.20427092131443014,0.21338856444594934,0.28632970949810316,0.28632970949810316,0.28632970949810316,0.30456499576114154,0.31368263889266074,0.3410355682872184,0.3410355682872184,0.3866237839448145,0.4139767133393722,0.4139767133393722,0.46868257212848746,0.49603550152304515,0.49603550152304515,0.5051531446545643,0.5051531446545643,0.5051531446545643,0.5142707877860835,0.5233884309176029,0.5325060740491221,0.5416237171806413,0.5598590034436797,0.5689766465751989,0.5963295759697567,0.5963295759697567,0.5963295759697567,0.5963295759697567,0.5963295759697567,0.6054472191012759,0.6054472191012759,0.614564862232795,0.614564862232795,0.614564862232795,0.614564862232795,0.6236825053643142,0.6328001484958334,0.6328001484958334,0.6328001484958334,0.6510354347588718,0.6510354347588718,0.6510354347588718,0.6510354347588718,0.6510354347588718,0.6692707210219102,0.6692707210219102],\"yaxis\":\"y\",\"type\":\"scatter\"},{\"customdata\":[[\"Drama\",\"negative\",\"four_daughters_2023\"],[\"Drama\",\"negative\",\"the_taste_of_things\"],[\"Drama\",\"negative\",\"killers_of_the_flower_moon\"],[\"Drama\",\"negative\",\"our_son\"],[\"Drama\",\"negative\",\"priscilla\"],[\"Drama\",\"negative\",\"oppenheimer_2023\"],[\"Drama\",\"negative\",\"napoleon_2023\"],[\"Action\",\"negative\",\"napoleon_2023\"],[\"Drama\",\"negative\",\"animal_2023_2\"],[\"Action\",\"negative\",\"animal_2023_2\"],[\"Drama\",\"negative\",\"saltburn\"],[\"Comedy\",\"negative\",\"saltburn\"],[\"Drama\",\"negative\",\"the_holdovers\"],[\"Comedy\",\"negative\",\"the_holdovers\"],[\"Drama\",\"negative\",\"poor_things\"],[\"Comedy\",\"negative\",\"poor_things\"],[\"Drama\",\"negative\",\"eileen\"],[\"Drama\",\"negative\",\"dream_scenario\"],[\"Comedy\",\"negative\",\"dream_scenario\"],[\"Horror\",\"negative\",\"dream_scenario\"],[\"Drama\",\"negative\",\"the_oath_2023\"],[\"Action\",\"negative\",\"the_oath_2023\"],[\"Drama\",\"negative\",\"radical\"],[\"Drama\",\"negative\",\"scrapper_2023\"],[\"Comedy\",\"negative\",\"scrapper_2023\"],[\"Drama\",\"negative\",\"fallen_leaves\"],[\"Comedy\",\"negative\",\"fallen_leaves\"],[\"Drama\",\"negative\",\"the_marsh_kings_daughter\"],[\"Drama\",\"negative\",\"the_road_dance\"],[\"Drama\",\"negative\",\"the_three_musketeers_part_i_dartagnan\"],[\"Drama\",\"negative\",\"the_end_we_start_from\"],[\"Drama\",\"negative\",\"the_persian_version\"],[\"Comedy\",\"negative\",\"the_persian_version\"],[\"Comedy\",\"negative\",\"wonka\"],[\"Comedy\",\"negative\",\"trolls_band_together\"],[\"Comedy\",\"negative\",\"wish_2023\"],[\"Comedy\",\"negative\",\"love_actually\"],[\"Comedy\",\"negative\",\"next_goal_wins_2023\"],[\"Comedy\",\"negative\",\"barbie\"],[\"Comedy\",\"negative\",\"waitress_the_musical\"],[\"Comedy\",\"negative\",\"chicken_run_dawn_of_the_nugget\"],[\"Horror\",\"negative\",\"thanksgiving_2023\"],[\"Horror\",\"negative\",\"five_nights_at_freddys\"],[\"Horror\",\"negative\",\"peeping_tom_1960\"],[\"Horror\",\"negative\",\"a_creature_was_stirring\"],[\"Action\",\"negative\",\"godzilla_minus_one\"],[\"Action\",\"negative\",\"the_hunger_games_the_ballad_of_songbirds_and_snakes\"],[\"Action\",\"negative\",\"silent_night_2023\"],[\"Action\",\"negative\",\"the_marvels\"],[\"Action\",\"negative\",\"die_hard\"],[\"Action\",\"negative\",\"fast_charlie\"],[\"Action\",\"negative\",\"concrete_utopia\"],[\"Action\",\"negative\",\"indiana_jones_and_the_dial_of_destiny\"]],\"hovertemplate\":\"Critic Score=%{x:.2f}\\u003cbr\\u003eSentiment Score=%{y:.2f}\\u003cbr\\u003egenre=%{customdata[0]}\\u003cbr\\u003ename=%{customdata[2]}\\u003cextra\\u003e\\u003c\\u002fextra\\u003e\",\"legendgroup\":\"negative\",\"marker\":{\"color\":\"firebrick\",\"symbol\":\"circle\",\"line\":{\"color\":\"black\",\"width\":1}},\"mode\":\"markers\",\"name\":\"negative\",\"orientation\":\"v\",\"showlegend\":true,\"x\":[96,98,93,89,82,93,58,58,28,28,72,72,96,96,92,92,85,92,92,92,25,25,94,94,94,98,98,37,81,98,81,82,82,83,60,49,64,43,88,100,78,84,31,95,50,98,64,58,61,94,86,100,69],\"xaxis\":\"x2\",\"y\":[0.0013252248754724,0.0061160796321928,0.0041013467125594,0.0033267552498728,0.0024996034335345,0.0551511049270629,0.8333096504211426,0.8333096504211426,0.9994564652442932,0.9994564652442932,0.033803503960371,0.033803503960371,9.740202222019434e-05,9.740202222019434e-05,0.017230998724699,0.017230998724699,0.0021081352606415,0.0138207282871007,0.0138207282871007,0.0138207282871007,0.9461472630500792,0.9461472630500792,0.0002720195916481,0.0047644069418311,0.0047644069418311,0.0003891994711011,0.0003891994711011,0.602135956287384,0.1836012899875641,0.0027720399666577,0.0053650424815714,0.0001093462706194,0.0001093462706194,0.0003577864263206,0.1449597328901291,0.0704630836844444,0.0015150264371186,0.000940577185247,0.0003858734562527,0.0011405725963413,0.0029088507872074,0.0376935042440891,0.0051770936697721,0.0178066175431013,0.0075039896182715,0.0003206177789252,0.0023441524244844,0.073718711733818,0.1157113537192344,0.0015839990228414,0.0029245207551866,0.5146104693412781,0.0068769683130085],\"yaxis\":\"y2\",\"type\":\"scatter\"},{\"hovertemplate\":\"\\u003cb\\u003eOLS trendline\\u003c\\u002fb\\u003e\\u003cbr\\u003evalue = -0.00898747 * critic_score + 0.829643\\u003cbr\\u003eR\\u003csup\\u003e2\\u003c\\u002fsup\\u003e=0.449223\\u003cbr\\u003e\\u003cbr\\u003eCritic Score=%{x:.2f}\\u003cbr\\u003eSentiment Score=%{y:.2f} \\u003cb\\u003e(trend)\\u003c\\u002fb\\u003e\\u003cextra\\u003e\\u003c\\u002fextra\\u003e\",\"legendgroup\":\"negative\",\"marker\":{\"color\":\"firebrick\",\"symbol\":\"circle\",\"line\":{\"color\":\"black\",\"width\":1}},\"mode\":\"lines\",\"name\":\"negative\",\"showlegend\":false,\"x\":[25,25,28,28,31,37,43,49,50,58,58,58,60,61,64,64,69,72,72,78,81,81,82,82,82,83,84,85,86,88,89,92,92,92,92,92,93,93,94,94,94,94,95,96,96,96,98,98,98,98,98,100,100],\"xaxis\":\"x2\",\"y\":[0.6049561228398528,0.6049561228398528,0.5779937162073832,0.5779937162073832,0.5510313095749134,0.49710649630997417,0.4431816830450349,0.3892568697800956,0.38026940090260575,0.30836964988268667,0.30836964988268667,0.30836964988268667,0.29039471212770696,0.28140724325021704,0.2544448366177474,0.2544448366177474,0.20950749223029796,0.18254508559782834,0.18254508559782834,0.12862027233288909,0.10165786570041946,0.10165786570041946,0.09267039682292955,0.09267039682292955,0.09267039682292955,0.08368292794543974,0.07469545906794983,0.06570799019045992,0.05672052131297012,0.03874558355799029,0.02975811468050038,0.002795708048030754,0.002795708048030754,0.002795708048030754,0.002795708048030754,0.002795708048030754,-0.006191760829459048,-0.006191760829459048,-0.01517922970694896,-0.01517922970694896,-0.01517922970694896,-0.01517922970694896,-0.024166698584438873,-0.033154167461928785,-0.033154167461928785,-0.033154167461928785,-0.0511291052169085,-0.0511291052169085,-0.0511291052169085,-0.0511291052169085,-0.0511291052169085,-0.06910404297188821,-0.06910404297188821],\"yaxis\":\"y2\",\"type\":\"scatter\"},{\"customdata\":[[\"Drama\",\"neutral\",\"four_daughters_2023\"],[\"Drama\",\"neutral\",\"the_taste_of_things\"],[\"Drama\",\"neutral\",\"killers_of_the_flower_moon\"],[\"Drama\",\"neutral\",\"our_son\"],[\"Drama\",\"neutral\",\"priscilla\"],[\"Drama\",\"neutral\",\"oppenheimer_2023\"],[\"Drama\",\"neutral\",\"napoleon_2023\"],[\"Action\",\"neutral\",\"napoleon_2023\"],[\"Drama\",\"neutral\",\"animal_2023_2\"],[\"Action\",\"neutral\",\"animal_2023_2\"],[\"Drama\",\"neutral\",\"saltburn\"],[\"Comedy\",\"neutral\",\"saltburn\"],[\"Drama\",\"neutral\",\"the_holdovers\"],[\"Comedy\",\"neutral\",\"the_holdovers\"],[\"Drama\",\"neutral\",\"poor_things\"],[\"Comedy\",\"neutral\",\"poor_things\"],[\"Drama\",\"neutral\",\"eileen\"],[\"Drama\",\"neutral\",\"dream_scenario\"],[\"Comedy\",\"neutral\",\"dream_scenario\"],[\"Horror\",\"neutral\",\"dream_scenario\"],[\"Drama\",\"neutral\",\"the_oath_2023\"],[\"Action\",\"neutral\",\"the_oath_2023\"],[\"Drama\",\"neutral\",\"radical\"],[\"Drama\",\"neutral\",\"scrapper_2023\"],[\"Comedy\",\"neutral\",\"scrapper_2023\"],[\"Drama\",\"neutral\",\"fallen_leaves\"],[\"Comedy\",\"neutral\",\"fallen_leaves\"],[\"Drama\",\"neutral\",\"the_marsh_kings_daughter\"],[\"Drama\",\"neutral\",\"the_road_dance\"],[\"Drama\",\"neutral\",\"the_three_musketeers_part_i_dartagnan\"],[\"Drama\",\"neutral\",\"the_end_we_start_from\"],[\"Drama\",\"neutral\",\"the_persian_version\"],[\"Comedy\",\"neutral\",\"the_persian_version\"],[\"Comedy\",\"neutral\",\"wonka\"],[\"Comedy\",\"neutral\",\"trolls_band_together\"],[\"Comedy\",\"neutral\",\"wish_2023\"],[\"Comedy\",\"neutral\",\"love_actually\"],[\"Comedy\",\"neutral\",\"next_goal_wins_2023\"],[\"Comedy\",\"neutral\",\"barbie\"],[\"Comedy\",\"neutral\",\"waitress_the_musical\"],[\"Comedy\",\"neutral\",\"chicken_run_dawn_of_the_nugget\"],[\"Horror\",\"neutral\",\"thanksgiving_2023\"],[\"Horror\",\"neutral\",\"five_nights_at_freddys\"],[\"Horror\",\"neutral\",\"peeping_tom_1960\"],[\"Horror\",\"neutral\",\"a_creature_was_stirring\"],[\"Action\",\"neutral\",\"godzilla_minus_one\"],[\"Action\",\"neutral\",\"the_hunger_games_the_ballad_of_songbirds_and_snakes\"],[\"Action\",\"neutral\",\"silent_night_2023\"],[\"Action\",\"neutral\",\"the_marvels\"],[\"Action\",\"neutral\",\"die_hard\"],[\"Action\",\"neutral\",\"fast_charlie\"],[\"Action\",\"neutral\",\"concrete_utopia\"],[\"Action\",\"neutral\",\"indiana_jones_and_the_dial_of_destiny\"]],\"hovertemplate\":\"Critic Score=%{x:.2f}\\u003cbr\\u003eSentiment Score=%{y:.2f}\\u003cbr\\u003egenre=%{customdata[0]}\\u003cbr\\u003ename=%{customdata[2]}\\u003cextra\\u003e\\u003c\\u002fextra\\u003e\",\"legendgroup\":\"neutral\",\"marker\":{\"color\":\"grey\",\"symbol\":\"circle\",\"line\":{\"color\":\"black\",\"width\":1}},\"mode\":\"markers\",\"name\":\"neutral\",\"orientation\":\"v\",\"showlegend\":true,\"x\":[96,98,93,89,82,93,58,58,28,28,72,72,96,96,92,92,85,92,92,92,25,25,94,94,94,98,98,37,81,98,81,82,82,83,60,49,64,43,88,100,78,84,31,95,50,98,64,58,61,94,86,100,69],\"xaxis\":\"x3\",\"y\":[0.231601133942604,0.0013188545126467,0.0172451063990592,0.0077681560069322,0.1432439982891082,0.0244600344449281,0.0162898022681474,0.0162898022681474,0.0002733236178755,0.0002733236178755,0.0136465933173894,0.0136465933173894,0.0043668071739375,0.0043668071739375,0.0636493414640426,0.0636493414640426,0.0034839909058064,0.0035989850293844,0.0035989850293844,0.0035989850293844,0.0016190382884815,0.0016190382884815,0.1804262101650238,0.0075302026234567,0.0075302026234567,0.0889887735247612,0.0889887735247612,0.0052073164843022,0.0188254881650209,0.1077852174639701,0.0209209769964218,0.01177370082587,0.01177370082587,0.0089513296261429,0.0012439137790352,0.0102228131145238,0.0091410744935274,0.0109075931832194,0.0801274850964546,0.0580368563532829,0.0007904712110757,0.0127783082425594,0.0171674750745296,0.0068108066916465,0.0015974469715729,0.0032784638460725,0.0104952724650502,0.0034999591298401,0.0372493229806423,0.0065113264136016,0.0794551447033882,0.060544054955244,0.0049119247123599],\"yaxis\":\"y3\",\"type\":\"scatter\"},{\"hovertemplate\":\"\\u003cb\\u003eOLS trendline\\u003c\\u002fb\\u003e\\u003cbr\\u003evalue = 0.000745434 * critic_score + -0.0264988\\u003cbr\\u003eR\\u003csup\\u003e2\\u003c\\u002fsup\\u003e=0.125202\\u003cbr\\u003e\\u003cbr\\u003eCritic Score=%{x:.2f}\\u003cbr\\u003eSentiment Score=%{y:.2f} \\u003cb\\u003e(trend)\\u003c\\u002fb\\u003e\\u003cextra\\u003e\\u003c\\u002fextra\\u003e\",\"legendgroup\":\"neutral\",\"marker\":{\"color\":\"grey\",\"symbol\":\"circle\",\"line\":{\"color\":\"black\",\"width\":1}},\"mode\":\"lines\",\"name\":\"neutral\",\"showlegend\":false,\"x\":[25,25,28,28,31,37,43,49,50,58,58,58,60,61,64,64,69,72,72,78,81,81,82,82,82,83,84,85,86,88,89,92,92,92,92,92,93,93,94,94,94,94,95,96,96,96,98,98,98,98,98,100,100],\"xaxis\":\"x3\",\"y\":[-0.007862968681718752,-0.007862968681718752,-0.005626666454491322,-0.005626666454491322,-0.003390364227263895,0.0010822402271909656,0.005554844681645826,0.01002744913610068,0.010772883211843158,0.016736355817782968,0.016736355817782968,0.016736355817782968,0.018227223969267924,0.0189726580450104,0.02120896027223783,0.02120896027223783,0.02493613065095021,0.027172432878177638,0.027172432878177638,0.0316450373326325,0.033881339559859926,0.033881339559859926,0.034626773635602404,0.034626773635602404,0.034626773635602404,0.03537220771134488,0.03611764178708736,0.03686307586282983,0.037608509938572315,0.03909937809005726,0.03984481216579974,0.04208111439302717,0.04208111439302717,0.04208111439302717,0.04208111439302717,0.04208111439302717,0.04282654846876964,0.04282654846876964,0.043571982544512125,0.043571982544512125,0.043571982544512125,0.043571982544512125,0.044317416620254596,0.04506285069599708,0.04506285069599708,0.04506285069599708,0.04655371884748202,0.04655371884748202,0.04655371884748202,0.04655371884748202,0.04655371884748202,0.04804458699896698,0.04804458699896698],\"yaxis\":\"y3\",\"type\":\"scatter\"},{\"customdata\":[[\"Drama\",\"mixed\",\"four_daughters_2023\"],[\"Drama\",\"mixed\",\"the_taste_of_things\"],[\"Drama\",\"mixed\",\"killers_of_the_flower_moon\"],[\"Drama\",\"mixed\",\"our_son\"],[\"Drama\",\"mixed\",\"priscilla\"],[\"Drama\",\"mixed\",\"oppenheimer_2023\"],[\"Drama\",\"mixed\",\"napoleon_2023\"],[\"Action\",\"mixed\",\"napoleon_2023\"],[\"Drama\",\"mixed\",\"animal_2023_2\"],[\"Action\",\"mixed\",\"animal_2023_2\"],[\"Drama\",\"mixed\",\"saltburn\"],[\"Comedy\",\"mixed\",\"saltburn\"],[\"Drama\",\"mixed\",\"the_holdovers\"],[\"Comedy\",\"mixed\",\"the_holdovers\"],[\"Drama\",\"mixed\",\"poor_things\"],[\"Comedy\",\"mixed\",\"poor_things\"],[\"Drama\",\"mixed\",\"eileen\"],[\"Drama\",\"mixed\",\"dream_scenario\"],[\"Comedy\",\"mixed\",\"dream_scenario\"],[\"Horror\",\"mixed\",\"dream_scenario\"],[\"Drama\",\"mixed\",\"the_oath_2023\"],[\"Action\",\"mixed\",\"the_oath_2023\"],[\"Drama\",\"mixed\",\"radical\"],[\"Drama\",\"mixed\",\"scrapper_2023\"],[\"Comedy\",\"mixed\",\"scrapper_2023\"],[\"Drama\",\"mixed\",\"fallen_leaves\"],[\"Comedy\",\"mixed\",\"fallen_leaves\"],[\"Drama\",\"mixed\",\"the_marsh_kings_daughter\"],[\"Drama\",\"mixed\",\"the_road_dance\"],[\"Drama\",\"mixed\",\"the_three_musketeers_part_i_dartagnan\"],[\"Drama\",\"mixed\",\"the_end_we_start_from\"],[\"Drama\",\"mixed\",\"the_persian_version\"],[\"Comedy\",\"mixed\",\"the_persian_version\"],[\"Comedy\",\"mixed\",\"wonka\"],[\"Comedy\",\"mixed\",\"trolls_band_together\"],[\"Comedy\",\"mixed\",\"wish_2023\"],[\"Comedy\",\"mixed\",\"love_actually\"],[\"Comedy\",\"mixed\",\"next_goal_wins_2023\"],[\"Comedy\",\"mixed\",\"barbie\"],[\"Comedy\",\"mixed\",\"waitress_the_musical\"],[\"Comedy\",\"mixed\",\"chicken_run_dawn_of_the_nugget\"],[\"Horror\",\"mixed\",\"thanksgiving_2023\"],[\"Horror\",\"mixed\",\"five_nights_at_freddys\"],[\"Horror\",\"mixed\",\"peeping_tom_1960\"],[\"Horror\",\"mixed\",\"a_creature_was_stirring\"],[\"Action\",\"mixed\",\"godzilla_minus_one\"],[\"Action\",\"mixed\",\"the_hunger_games_the_ballad_of_songbirds_and_snakes\"],[\"Action\",\"mixed\",\"silent_night_2023\"],[\"Action\",\"mixed\",\"the_marvels\"],[\"Action\",\"mixed\",\"die_hard\"],[\"Action\",\"mixed\",\"fast_charlie\"],[\"Action\",\"mixed\",\"concrete_utopia\"],[\"Action\",\"mixed\",\"indiana_jones_and_the_dial_of_destiny\"]],\"hovertemplate\":\"Critic Score=%{x:.2f}\\u003cbr\\u003eSentiment Score=%{y:.2f}\\u003cbr\\u003egenre=%{customdata[0]}\\u003cbr\\u003ename=%{customdata[2]}\\u003cextra\\u003e\\u003c\\u002fextra\\u003e\",\"legendgroup\":\"mixed\",\"marker\":{\"color\":\"orange\",\"symbol\":\"circle\",\"line\":{\"color\":\"black\",\"width\":1}},\"mode\":\"markers\",\"name\":\"mixed\",\"orientation\":\"v\",\"showlegend\":true,\"x\":[96,98,93,89,82,93,58,58,28,28,72,72,96,96,92,92,85,92,92,92,25,25,94,94,94,98,98,37,81,98,81,82,82,83,60,49,64,43,88,100,78,84,31,95,50,98,64,58,61,94,86,100,69],\"xaxis\":\"x4\",\"y\":[0.0017482712864875,0.9861636757850648,0.7005200982093811,0.0136065790429711,0.009049735032022,0.4542757570743561,0.1452012509107589,0.1452012509107589,7.159350934671238e-05,7.159350934671238e-05,0.9443623423576356,0.9443623423576356,0.000134895715746,0.000134895715746,0.0004023834480904,0.0004023834480904,0.6712443828582764,0.8961201906204224,0.8961201906204224,0.8961201906204224,0.0517473928630352,0.0517473928630352,0.000468401267426,0.7311955094337463,0.7311955094337463,0.001229474786669,0.001229474786669,0.3804315626621246,0.4867737889289856,0.4325413405895233,0.0880182757973671,0.0004401770129334,0.0004401770129334,0.0006514429696835,0.8486951589584351,0.792305052280426,0.0032062740065157,0.830254852771759,0.0008023440022952,0.0075696567073464,0.9815682768821716,0.7108321189880371,0.0078793112188577,0.098893865942955,0.927958369255066,0.0016935029998421,0.9218658804893494,0.8929740190505981,0.7474714517593384,0.0285034477710723,0.0047723576426506,0.3650792241096496,0.905315399169922],\"yaxis\":\"y4\",\"type\":\"scatter\"},{\"hovertemplate\":\"\\u003cb\\u003eOLS trendline\\u003c\\u002fb\\u003e\\u003cbr\\u003evalue = -0.000875608 * critic_score + 0.43935\\u003cbr\\u003eR\\u003csup\\u003e2\\u003c\\u002fsup\\u003e=0.002501\\u003cbr\\u003e\\u003cbr\\u003eCritic Score=%{x:.2f}\\u003cbr\\u003eSentiment Score=%{y:.2f} \\u003cb\\u003e(trend)\\u003c\\u002fb\\u003e\\u003cextra\\u003e\\u003c\\u002fextra\\u003e\",\"legendgroup\":\"mixed\",\"marker\":{\"color\":\"orange\",\"symbol\":\"circle\",\"line\":{\"color\":\"black\",\"width\":1}},\"mode\":\"lines\",\"name\":\"mixed\",\"showlegend\":false,\"x\":[25,25,28,28,31,37,43,49,50,58,58,58,60,61,64,64,69,72,72,78,81,81,82,82,82,83,84,85,86,88,89,92,92,92,92,92,93,93,94,94,94,94,95,96,96,96,98,98,98,98,98,100,100],\"xaxis\":\"x4\",\"y\":[0.41745936285368157,0.41745936285368157,0.41483253757590194,0.41483253757590194,0.41220571229812236,0.4069520617425631,0.4016984111870039,0.3964447606314447,0.39556915220551814,0.38856428479810584,0.38856428479810584,0.38856428479810584,0.38681306794625275,0.3859374595203262,0.3833106342425466,0.3833106342425466,0.3789325921129139,0.3763057668351343,0.3763057668351343,0.3710521162795751,0.36842529100179544,0.36842529100179544,0.36754968257586895,0.36754968257586895,0.36754968257586895,0.36667407414994235,0.36579846572401586,0.3649228572980893,0.3640472488721628,0.3622960320203097,0.36142042359438314,0.3587935983166035,0.3587935983166035,0.3587935983166035,0.3587935983166035,0.3587935983166035,0.357917989890677,0.357917989890677,0.3570423814647505,0.3570423814647505,0.3570423814647505,0.3570423814647505,0.35616677303882394,0.3552911646128974,0.3552911646128974,0.3552911646128974,0.3535399477610443,0.3535399477610443,0.3535399477610443,0.3535399477610443,0.3535399477610443,0.35178873090919127,0.35178873090919127],\"yaxis\":\"y4\",\"type\":\"scatter\"}],                        {\"template\":{\"data\":{\"barpolar\":[{\"marker\":{\"line\":{\"color\":\"white\",\"width\":0.5},\"pattern\":{\"fillmode\":\"overlay\",\"size\":10,\"solidity\":0.2}},\"type\":\"barpolar\"}],\"bar\":[{\"error_x\":{\"color\":\"rgb(36,36,36)\"},\"error_y\":{\"color\":\"rgb(36,36,36)\"},\"marker\":{\"line\":{\"color\":\"white\",\"width\":0.5},\"pattern\":{\"fillmode\":\"overlay\",\"size\":10,\"solidity\":0.2}},\"type\":\"bar\"}],\"carpet\":[{\"aaxis\":{\"endlinecolor\":\"rgb(36,36,36)\",\"gridcolor\":\"white\",\"linecolor\":\"white\",\"minorgridcolor\":\"white\",\"startlinecolor\":\"rgb(36,36,36)\"},\"baxis\":{\"endlinecolor\":\"rgb(36,36,36)\",\"gridcolor\":\"white\",\"linecolor\":\"white\",\"minorgridcolor\":\"white\",\"startlinecolor\":\"rgb(36,36,36)\"},\"type\":\"carpet\"}],\"choropleth\":[{\"colorbar\":{\"outlinewidth\":1,\"tickcolor\":\"rgb(36,36,36)\",\"ticks\":\"outside\"},\"type\":\"choropleth\"}],\"contourcarpet\":[{\"colorbar\":{\"outlinewidth\":1,\"tickcolor\":\"rgb(36,36,36)\",\"ticks\":\"outside\"},\"type\":\"contourcarpet\"}],\"contour\":[{\"colorbar\":{\"outlinewidth\":1,\"tickcolor\":\"rgb(36,36,36)\",\"ticks\":\"outside\"},\"colorscale\":[[0.0,\"#440154\"],[0.1111111111111111,\"#482878\"],[0.2222222222222222,\"#3e4989\"],[0.3333333333333333,\"#31688e\"],[0.4444444444444444,\"#26828e\"],[0.5555555555555556,\"#1f9e89\"],[0.6666666666666666,\"#35b779\"],[0.7777777777777778,\"#6ece58\"],[0.8888888888888888,\"#b5de2b\"],[1.0,\"#fde725\"]],\"type\":\"contour\"}],\"heatmapgl\":[{\"colorbar\":{\"outlinewidth\":1,\"tickcolor\":\"rgb(36,36,36)\",\"ticks\":\"outside\"},\"colorscale\":[[0.0,\"#440154\"],[0.1111111111111111,\"#482878\"],[0.2222222222222222,\"#3e4989\"],[0.3333333333333333,\"#31688e\"],[0.4444444444444444,\"#26828e\"],[0.5555555555555556,\"#1f9e89\"],[0.6666666666666666,\"#35b779\"],[0.7777777777777778,\"#6ece58\"],[0.8888888888888888,\"#b5de2b\"],[1.0,\"#fde725\"]],\"type\":\"heatmapgl\"}],\"heatmap\":[{\"colorbar\":{\"outlinewidth\":1,\"tickcolor\":\"rgb(36,36,36)\",\"ticks\":\"outside\"},\"colorscale\":[[0.0,\"#440154\"],[0.1111111111111111,\"#482878\"],[0.2222222222222222,\"#3e4989\"],[0.3333333333333333,\"#31688e\"],[0.4444444444444444,\"#26828e\"],[0.5555555555555556,\"#1f9e89\"],[0.6666666666666666,\"#35b779\"],[0.7777777777777778,\"#6ece58\"],[0.8888888888888888,\"#b5de2b\"],[1.0,\"#fde725\"]],\"type\":\"heatmap\"}],\"histogram2dcontour\":[{\"colorbar\":{\"outlinewidth\":1,\"tickcolor\":\"rgb(36,36,36)\",\"ticks\":\"outside\"},\"colorscale\":[[0.0,\"#440154\"],[0.1111111111111111,\"#482878\"],[0.2222222222222222,\"#3e4989\"],[0.3333333333333333,\"#31688e\"],[0.4444444444444444,\"#26828e\"],[0.5555555555555556,\"#1f9e89\"],[0.6666666666666666,\"#35b779\"],[0.7777777777777778,\"#6ece58\"],[0.8888888888888888,\"#b5de2b\"],[1.0,\"#fde725\"]],\"type\":\"histogram2dcontour\"}],\"histogram2d\":[{\"colorbar\":{\"outlinewidth\":1,\"tickcolor\":\"rgb(36,36,36)\",\"ticks\":\"outside\"},\"colorscale\":[[0.0,\"#440154\"],[0.1111111111111111,\"#482878\"],[0.2222222222222222,\"#3e4989\"],[0.3333333333333333,\"#31688e\"],[0.4444444444444444,\"#26828e\"],[0.5555555555555556,\"#1f9e89\"],[0.6666666666666666,\"#35b779\"],[0.7777777777777778,\"#6ece58\"],[0.8888888888888888,\"#b5de2b\"],[1.0,\"#fde725\"]],\"type\":\"histogram2d\"}],\"histogram\":[{\"marker\":{\"line\":{\"color\":\"white\",\"width\":0.6}},\"type\":\"histogram\"}],\"mesh3d\":[{\"colorbar\":{\"outlinewidth\":1,\"tickcolor\":\"rgb(36,36,36)\",\"ticks\":\"outside\"},\"type\":\"mesh3d\"}],\"parcoords\":[{\"line\":{\"colorbar\":{\"outlinewidth\":1,\"tickcolor\":\"rgb(36,36,36)\",\"ticks\":\"outside\"}},\"type\":\"parcoords\"}],\"pie\":[{\"automargin\":true,\"type\":\"pie\"}],\"scatter3d\":[{\"line\":{\"colorbar\":{\"outlinewidth\":1,\"tickcolor\":\"rgb(36,36,36)\",\"ticks\":\"outside\"}},\"marker\":{\"colorbar\":{\"outlinewidth\":1,\"tickcolor\":\"rgb(36,36,36)\",\"ticks\":\"outside\"}},\"type\":\"scatter3d\"}],\"scattercarpet\":[{\"marker\":{\"colorbar\":{\"outlinewidth\":1,\"tickcolor\":\"rgb(36,36,36)\",\"ticks\":\"outside\"}},\"type\":\"scattercarpet\"}],\"scattergeo\":[{\"marker\":{\"colorbar\":{\"outlinewidth\":1,\"tickcolor\":\"rgb(36,36,36)\",\"ticks\":\"outside\"}},\"type\":\"scattergeo\"}],\"scattergl\":[{\"marker\":{\"colorbar\":{\"outlinewidth\":1,\"tickcolor\":\"rgb(36,36,36)\",\"ticks\":\"outside\"}},\"type\":\"scattergl\"}],\"scattermapbox\":[{\"marker\":{\"colorbar\":{\"outlinewidth\":1,\"tickcolor\":\"rgb(36,36,36)\",\"ticks\":\"outside\"}},\"type\":\"scattermapbox\"}],\"scatterpolargl\":[{\"marker\":{\"colorbar\":{\"outlinewidth\":1,\"tickcolor\":\"rgb(36,36,36)\",\"ticks\":\"outside\"}},\"type\":\"scatterpolargl\"}],\"scatterpolar\":[{\"marker\":{\"colorbar\":{\"outlinewidth\":1,\"tickcolor\":\"rgb(36,36,36)\",\"ticks\":\"outside\"}},\"type\":\"scatterpolar\"}],\"scatter\":[{\"fillpattern\":{\"fillmode\":\"overlay\",\"size\":10,\"solidity\":0.2},\"type\":\"scatter\"}],\"scatterternary\":[{\"marker\":{\"colorbar\":{\"outlinewidth\":1,\"tickcolor\":\"rgb(36,36,36)\",\"ticks\":\"outside\"}},\"type\":\"scatterternary\"}],\"surface\":[{\"colorbar\":{\"outlinewidth\":1,\"tickcolor\":\"rgb(36,36,36)\",\"ticks\":\"outside\"},\"colorscale\":[[0.0,\"#440154\"],[0.1111111111111111,\"#482878\"],[0.2222222222222222,\"#3e4989\"],[0.3333333333333333,\"#31688e\"],[0.4444444444444444,\"#26828e\"],[0.5555555555555556,\"#1f9e89\"],[0.6666666666666666,\"#35b779\"],[0.7777777777777778,\"#6ece58\"],[0.8888888888888888,\"#b5de2b\"],[1.0,\"#fde725\"]],\"type\":\"surface\"}],\"table\":[{\"cells\":{\"fill\":{\"color\":\"rgb(237,237,237)\"},\"line\":{\"color\":\"white\"}},\"header\":{\"fill\":{\"color\":\"rgb(217,217,217)\"},\"line\":{\"color\":\"white\"}},\"type\":\"table\"}]},\"layout\":{\"annotationdefaults\":{\"arrowhead\":0,\"arrowwidth\":1},\"autotypenumbers\":\"strict\",\"coloraxis\":{\"colorbar\":{\"outlinewidth\":1,\"tickcolor\":\"rgb(36,36,36)\",\"ticks\":\"outside\"}},\"colorscale\":{\"diverging\":[[0.0,\"rgb(103,0,31)\"],[0.1,\"rgb(178,24,43)\"],[0.2,\"rgb(214,96,77)\"],[0.3,\"rgb(244,165,130)\"],[0.4,\"rgb(253,219,199)\"],[0.5,\"rgb(247,247,247)\"],[0.6,\"rgb(209,229,240)\"],[0.7,\"rgb(146,197,222)\"],[0.8,\"rgb(67,147,195)\"],[0.9,\"rgb(33,102,172)\"],[1.0,\"rgb(5,48,97)\"]],\"sequential\":[[0.0,\"#440154\"],[0.1111111111111111,\"#482878\"],[0.2222222222222222,\"#3e4989\"],[0.3333333333333333,\"#31688e\"],[0.4444444444444444,\"#26828e\"],[0.5555555555555556,\"#1f9e89\"],[0.6666666666666666,\"#35b779\"],[0.7777777777777778,\"#6ece58\"],[0.8888888888888888,\"#b5de2b\"],[1.0,\"#fde725\"]],\"sequentialminus\":[[0.0,\"#440154\"],[0.1111111111111111,\"#482878\"],[0.2222222222222222,\"#3e4989\"],[0.3333333333333333,\"#31688e\"],[0.4444444444444444,\"#26828e\"],[0.5555555555555556,\"#1f9e89\"],[0.6666666666666666,\"#35b779\"],[0.7777777777777778,\"#6ece58\"],[0.8888888888888888,\"#b5de2b\"],[1.0,\"#fde725\"]]},\"colorway\":[\"#1F77B4\",\"#FF7F0E\",\"#2CA02C\",\"#D62728\",\"#9467BD\",\"#8C564B\",\"#E377C2\",\"#7F7F7F\",\"#BCBD22\",\"#17BECF\"],\"font\":{\"color\":\"rgb(36,36,36)\"},\"geo\":{\"bgcolor\":\"white\",\"lakecolor\":\"white\",\"landcolor\":\"white\",\"showlakes\":true,\"showland\":true,\"subunitcolor\":\"white\"},\"hoverlabel\":{\"align\":\"left\"},\"hovermode\":\"closest\",\"mapbox\":{\"style\":\"light\"},\"paper_bgcolor\":\"white\",\"plot_bgcolor\":\"white\",\"polar\":{\"angularaxis\":{\"gridcolor\":\"rgb(232,232,232)\",\"linecolor\":\"rgb(36,36,36)\",\"showgrid\":false,\"showline\":true,\"ticks\":\"outside\"},\"bgcolor\":\"white\",\"radialaxis\":{\"gridcolor\":\"rgb(232,232,232)\",\"linecolor\":\"rgb(36,36,36)\",\"showgrid\":false,\"showline\":true,\"ticks\":\"outside\"}},\"scene\":{\"xaxis\":{\"backgroundcolor\":\"white\",\"gridcolor\":\"rgb(232,232,232)\",\"gridwidth\":2,\"linecolor\":\"rgb(36,36,36)\",\"showbackground\":true,\"showgrid\":false,\"showline\":true,\"ticks\":\"outside\",\"zeroline\":false,\"zerolinecolor\":\"rgb(36,36,36)\"},\"yaxis\":{\"backgroundcolor\":\"white\",\"gridcolor\":\"rgb(232,232,232)\",\"gridwidth\":2,\"linecolor\":\"rgb(36,36,36)\",\"showbackground\":true,\"showgrid\":false,\"showline\":true,\"ticks\":\"outside\",\"zeroline\":false,\"zerolinecolor\":\"rgb(36,36,36)\"},\"zaxis\":{\"backgroundcolor\":\"white\",\"gridcolor\":\"rgb(232,232,232)\",\"gridwidth\":2,\"linecolor\":\"rgb(36,36,36)\",\"showbackground\":true,\"showgrid\":false,\"showline\":true,\"ticks\":\"outside\",\"zeroline\":false,\"zerolinecolor\":\"rgb(36,36,36)\"}},\"shapedefaults\":{\"fillcolor\":\"black\",\"line\":{\"width\":0},\"opacity\":0.3},\"ternary\":{\"aaxis\":{\"gridcolor\":\"rgb(232,232,232)\",\"linecolor\":\"rgb(36,36,36)\",\"showgrid\":false,\"showline\":true,\"ticks\":\"outside\"},\"baxis\":{\"gridcolor\":\"rgb(232,232,232)\",\"linecolor\":\"rgb(36,36,36)\",\"showgrid\":false,\"showline\":true,\"ticks\":\"outside\"},\"bgcolor\":\"white\",\"caxis\":{\"gridcolor\":\"rgb(232,232,232)\",\"linecolor\":\"rgb(36,36,36)\",\"showgrid\":false,\"showline\":true,\"ticks\":\"outside\"}},\"title\":{\"x\":0.05},\"xaxis\":{\"automargin\":true,\"gridcolor\":\"rgb(232,232,232)\",\"linecolor\":\"rgb(36,36,36)\",\"showgrid\":false,\"showline\":true,\"ticks\":\"outside\",\"title\":{\"standoff\":15},\"zeroline\":false,\"zerolinecolor\":\"rgb(36,36,36)\"},\"yaxis\":{\"automargin\":true,\"gridcolor\":\"rgb(232,232,232)\",\"linecolor\":\"rgb(36,36,36)\",\"showgrid\":false,\"showline\":true,\"ticks\":\"outside\",\"title\":{\"standoff\":15},\"zeroline\":false,\"zerolinecolor\":\"rgb(36,36,36)\"}}},\"xaxis\":{\"anchor\":\"y\",\"domain\":[0.0,0.235],\"title\":{\"text\":\"Critic Score\"},\"range\":[20,100]},\"yaxis\":{\"anchor\":\"x\",\"domain\":[0.0,1.0],\"title\":{\"text\":\"Sentiment Score\"},\"range\":[0,1]},\"xaxis2\":{\"anchor\":\"y2\",\"domain\":[0.255,0.49],\"matches\":\"x\",\"title\":{\"text\":\"Critic Score\"},\"range\":[20,100]},\"yaxis2\":{\"anchor\":\"x2\",\"domain\":[0.0,1.0],\"matches\":\"y\",\"showticklabels\":false,\"range\":[0,1]},\"xaxis3\":{\"anchor\":\"y3\",\"domain\":[0.51,0.745],\"matches\":\"x\",\"title\":{\"text\":\"Critic Score\"},\"range\":[20,100]},\"yaxis3\":{\"anchor\":\"x3\",\"domain\":[0.0,1.0],\"matches\":\"y\",\"showticklabels\":false,\"range\":[0,1]},\"xaxis4\":{\"anchor\":\"y4\",\"domain\":[0.7649999999999999,0.9999999999999999],\"matches\":\"x\",\"title\":{\"text\":\"Critic Score\"},\"range\":[20,100]},\"yaxis4\":{\"anchor\":\"x4\",\"domain\":[0.0,1.0],\"matches\":\"y\",\"showticklabels\":false,\"range\":[0,1]},\"annotations\":[{\"font\":{},\"showarrow\":false,\"text\":\"Positive Reviews\",\"x\":0.1175,\"xanchor\":\"center\",\"xref\":\"paper\",\"y\":1.0,\"yanchor\":\"bottom\",\"yref\":\"paper\"},{\"font\":{},\"showarrow\":false,\"text\":\"Negative Reviews\",\"x\":0.3725,\"xanchor\":\"center\",\"xref\":\"paper\",\"y\":1.0,\"yanchor\":\"bottom\",\"yref\":\"paper\"},{\"font\":{},\"showarrow\":false,\"text\":\"Neutral Reviews\",\"x\":0.6275,\"xanchor\":\"center\",\"xref\":\"paper\",\"y\":1.0,\"yanchor\":\"bottom\",\"yref\":\"paper\"},{\"font\":{},\"showarrow\":false,\"text\":\"Mixed Reviews\",\"x\":0.8824999999999998,\"xanchor\":\"center\",\"xref\":\"paper\",\"y\":1.0,\"yanchor\":\"bottom\",\"yref\":\"paper\"}],\"legend\":{\"title\":{\"text\":\"Sentiment\"},\"tracegroupgap\":0},\"margin\":{\"t\":60},\"title\":{\"font\":{\"size\":20},\"text\":\"\\u003cb\\u003eCritic Sentiment Scores Compared to Critic Scores\\u003c\\u002fb\\u003e\",\"x\":0.5},\"height\":450,\"width\":1400,\"showlegend\":false},                        {\"responsive\": true}                    ).then(function(){\n",
       "                            \n",
       "var gd = document.getElementById('a1f589d8-8d10-4745-a575-3ce6b3634056');\n",
       "var x = new MutationObserver(function (mutations, observer) {{\n",
       "        var display = window.getComputedStyle(gd).display;\n",
       "        if (!display || display === 'none') {{\n",
       "            console.log([gd, 'removed!']);\n",
       "            Plotly.purge(gd);\n",
       "            observer.disconnect();\n",
       "        }}\n",
       "}});\n",
       "\n",
       "// Listen for the removal of the full notebook cells\n",
       "var notebookContainer = gd.closest('#notebook-container');\n",
       "if (notebookContainer) {{\n",
       "    x.observe(notebookContainer, {childList: true});\n",
       "}}\n",
       "\n",
       "// Listen for the clearing of the current output cell\n",
       "var outputEl = gd.closest('.output');\n",
       "if (outputEl) {{\n",
       "    x.observe(outputEl, {childList: true});\n",
       "}}\n",
       "\n",
       "                        })                };                });            </script>        </div>"
      ]
     },
     "metadata": {},
     "output_type": "display_data"
    }
   ],
   "source": [
    "scatter1 = px.scatter(scatter_melted.query(\"reviewby == 'critic'\"), x='critic_score', y='value',\n",
    "                      color = 'variable',\n",
    "                      facet_col='variable',\n",
    "                      template=\"simple_white\",\n",
    "                     trendline='ols',\n",
    "                     labels = {'variable' : 'Sentiment','critic_score':'Critic Score','value':'Sentiment Score'}, # rename legend label\n",
    "                     hover_data={'genre': True, 'variable': False,'name':True, 'critic_score': ':.2f', 'value': ':.2f'},  # Include hover information\n",
    "                    color_discrete_map={'negative': 'firebrick', 'postive': 'darkgreen','neutral':'grey','mixed':'orange'})\n",
    "\n",
    "scatter1.update_layout(height=450, width=1400,\n",
    "                       title=dict(text='<b>Critic Sentiment Scores Compared to Critic Scores</b>',font=dict(size=20)),\n",
    "                        title_x = 0.5, # move title to the middle\n",
    "                        showlegend=False\n",
    "                        )\n",
    "\n",
    "scatter1.update_traces(marker=dict(line=dict(color='black', width=1)))\n",
    "\n",
    "scatter1.for_each_annotation(lambda a: a.update(text=a.text.split(\"=\")[-1].replace(\n",
    "    'postive', 'Positive Reviews').replace('negative', 'Negative Reviews').replace('neutral', 'Neutral Reviews').replace(\n",
    "        'mixed', 'Mixed Reviews').replace('critic', 'Critic Reviews').replace('audience', 'Audience Reviews'))) # rename facet titles\n",
    "\n",
    "scatter1.update_yaxes(range=[0, 1])\n",
    "scatter1.update_xaxes(range=[20, 100])\n",
    "\n",
    "scatter1.show()"
   ]
  },
  {
   "cell_type": "code",
   "execution_count": 37,
   "metadata": {},
   "outputs": [
    {
     "data": {
      "application/vnd.plotly.v1+json": {
       "config": {
        "plotlyServerURL": "https://plot.ly"
       },
       "data": [
        {
         "customdata": [
          [
           "Drama",
           "postive",
           "four_daughters_2023",
           96
          ],
          [
           "Drama",
           "postive",
           "the_taste_of_things",
           98
          ],
          [
           "Drama",
           "postive",
           "killers_of_the_flower_moon",
           93
          ],
          [
           "Drama",
           "postive",
           "our_son",
           89
          ],
          [
           "Drama",
           "postive",
           "priscilla",
           82
          ],
          [
           "Drama",
           "postive",
           "oppenheimer_2023",
           93
          ],
          [
           "Drama",
           "postive",
           "napoleon_2023",
           58
          ],
          [
           "Action",
           "postive",
           "napoleon_2023",
           58
          ],
          [
           "Drama",
           "postive",
           "animal_2023_2",
           28
          ],
          [
           "Action",
           "postive",
           "animal_2023_2",
           28
          ],
          [
           "Drama",
           "postive",
           "saltburn",
           72
          ],
          [
           "Comedy",
           "postive",
           "saltburn",
           72
          ],
          [
           "Drama",
           "postive",
           "the_holdovers",
           96
          ],
          [
           "Comedy",
           "postive",
           "the_holdovers",
           96
          ],
          [
           "Drama",
           "postive",
           "poor_things",
           92
          ],
          [
           "Comedy",
           "postive",
           "poor_things",
           92
          ],
          [
           "Drama",
           "postive",
           "eileen",
           85
          ],
          [
           "Drama",
           "postive",
           "dream_scenario",
           92
          ],
          [
           "Comedy",
           "postive",
           "dream_scenario",
           92
          ],
          [
           "Horror",
           "postive",
           "dream_scenario",
           92
          ],
          [
           "Drama",
           "postive",
           "the_oath_2023",
           25
          ],
          [
           "Action",
           "postive",
           "the_oath_2023",
           25
          ],
          [
           "Drama",
           "postive",
           "radical",
           94
          ],
          [
           "Drama",
           "postive",
           "scrapper_2023",
           94
          ],
          [
           "Comedy",
           "postive",
           "scrapper_2023",
           94
          ],
          [
           "Drama",
           "postive",
           "fallen_leaves",
           98
          ],
          [
           "Comedy",
           "postive",
           "fallen_leaves",
           98
          ],
          [
           "Drama",
           "postive",
           "the_marsh_kings_daughter",
           37
          ],
          [
           "Drama",
           "postive",
           "the_road_dance",
           81
          ],
          [
           "Drama",
           "postive",
           "the_three_musketeers_part_i_dartagnan",
           98
          ],
          [
           "Drama",
           "postive",
           "the_end_we_start_from",
           81
          ],
          [
           "Drama",
           "postive",
           "the_persian_version",
           82
          ],
          [
           "Comedy",
           "postive",
           "the_persian_version",
           82
          ],
          [
           "Comedy",
           "postive",
           "wonka",
           83
          ],
          [
           "Comedy",
           "postive",
           "trolls_band_together",
           60
          ],
          [
           "Comedy",
           "postive",
           "wish_2023",
           49
          ],
          [
           "Comedy",
           "postive",
           "love_actually",
           64
          ],
          [
           "Comedy",
           "postive",
           "next_goal_wins_2023",
           43
          ],
          [
           "Comedy",
           "postive",
           "barbie",
           88
          ],
          [
           "Comedy",
           "postive",
           "waitress_the_musical",
           100
          ],
          [
           "Comedy",
           "postive",
           "chicken_run_dawn_of_the_nugget",
           78
          ],
          [
           "Horror",
           "postive",
           "thanksgiving_2023",
           84
          ],
          [
           "Horror",
           "postive",
           "five_nights_at_freddys",
           31
          ],
          [
           "Horror",
           "postive",
           "peeping_tom_1960",
           95
          ],
          [
           "Horror",
           "postive",
           "a_creature_was_stirring",
           50
          ],
          [
           "Action",
           "postive",
           "godzilla_minus_one",
           98
          ],
          [
           "Action",
           "postive",
           "the_hunger_games_the_ballad_of_songbirds_and_snakes",
           64
          ],
          [
           "Action",
           "postive",
           "silent_night_2023",
           58
          ],
          [
           "Action",
           "postive",
           "the_marvels",
           61
          ],
          [
           "Action",
           "postive",
           "die_hard",
           94
          ],
          [
           "Action",
           "postive",
           "fast_charlie",
           86
          ],
          [
           "Action",
           "postive",
           "concrete_utopia",
           100
          ],
          [
           "Action",
           "postive",
           "indiana_jones_and_the_dial_of_destiny",
           69
          ]
         ],
         "hovertemplate": "Audience Score=%{x}<br>Sentiment Score=%{y:.2f}<br>genre=%{customdata[0]}<br>name=%{customdata[2]}<br>critic_score=%{customdata[3]:.2f}<extra></extra>",
         "legendgroup": "postive",
         "marker": {
          "color": "darkgreen",
          "line": {
           "color": "black",
           "width": 1
          },
          "symbol": "circle"
         },
         "mode": "markers",
         "name": "postive",
         "orientation": "v",
         "showlegend": true,
         "type": "scatter",
         "x": [
          91,
          100,
          84,
          62,
          63,
          91,
          58,
          58,
          81,
          81,
          79,
          79,
          91,
          91,
          93,
          93,
          51,
          68,
          68,
          68,
          88,
          88,
          99,
          83,
          83,
          79,
          79,
          73,
          94,
          81,
          86,
          92,
          92,
          89,
          92,
          81,
          72,
          85,
          83,
          98,
          90,
          79,
          87,
          85,
          38,
          98,
          89,
          50,
          83,
          94,
          84,
          79,
          88
         ],
         "xaxis": "x",
         "y": [
          0.9994064569473268,
          0.9946322441101074,
          0.003707371186465,
          0.9998084902763368,
          0.0018249034183099,
          0.9966734647750854,
          0.1310316622257232,
          0.1310316622257232,
          0.8626295328140259,
          0.8626295328140259,
          0.0749327987432479,
          0.0749327987432479,
          0.9997522234916688,
          0.9997522234916688,
          0.0425177440047264,
          0.0425177440047264,
          0.0311567261815071,
          0.0323716551065444,
          0.0323716551065444,
          0.0323716551065444,
          0.3090555965900421,
          0.3090555965900421,
          0.9864633083343506,
          0.9970882534980774,
          0.9970882534980774,
          0.9627706408500672,
          0.9627706408500672,
          0.8796493411064148,
          0.9989957213401794,
          0.6307958364486694,
          0.999267876148224,
          0.999818742275238,
          0.999818742275238,
          0.695363461971283,
          0.969309389591217,
          0.7892768383026123,
          0.3528504073619842,
          0.9997052550315856,
          0.0010906447423622,
          0.99906188249588,
          0.9997047781944276,
          0.2530571520328522,
          0.0230127871036529,
          0.0122909108176827,
          0.0033944183960556,
          0.9993646740913392,
          0.0077262255363166,
          0.0110637685284018,
          0.035154465585947,
          0.9991400241851808,
          0.9996412992477416,
          0.9379463791847228,
          0.0039025803562253
         ],
         "yaxis": "y"
        },
        {
         "hovertemplate": "<b>OLS trendline</b><br>value = 0.0163072 * audience_score + -0.770369<br>R<sup>2</sup>=0.236313<br><br>Audience Score=%{x}<br>Sentiment Score=%{y:.2f} <b>(trend)</b><extra></extra>",
         "legendgroup": "postive",
         "marker": {
          "color": "darkgreen",
          "line": {
           "color": "black",
           "width": 1
          },
          "symbol": "circle"
         },
         "mode": "lines",
         "name": "postive",
         "showlegend": false,
         "type": "scatter",
         "x": [
          38,
          50,
          51,
          58,
          58,
          62,
          63,
          68,
          68,
          68,
          72,
          73,
          79,
          79,
          79,
          79,
          79,
          79,
          81,
          81,
          81,
          81,
          83,
          83,
          83,
          83,
          84,
          84,
          85,
          85,
          86,
          87,
          88,
          88,
          88,
          89,
          89,
          90,
          91,
          91,
          91,
          91,
          92,
          92,
          92,
          93,
          93,
          94,
          94,
          98,
          98,
          99,
          100
         ],
         "xaxis": "x",
         "y": [
          -0.15069550847348545,
          0.04499074517787072,
          0.06129793298215036,
          0.1754482476121081,
          0.1754482476121081,
          0.24067699882922688,
          0.2569841866335064,
          0.33852012565490497,
          0.33852012565490497,
          0.33852012565490497,
          0.40374887687202354,
          0.4200560646763033,
          0.5178991915019814,
          0.5178991915019814,
          0.5178991915019814,
          0.5178991915019814,
          0.5178991915019814,
          0.5178991915019814,
          0.5505135671105407,
          0.5505135671105407,
          0.5505135671105407,
          0.5505135671105407,
          0.5831279427191,
          0.5831279427191,
          0.5831279427191,
          0.5831279427191,
          0.5994351305233797,
          0.5994351305233797,
          0.6157423183276595,
          0.6157423183276595,
          0.632049506131939,
          0.6483566939362188,
          0.6646638817404985,
          0.6646638817404985,
          0.6646638817404985,
          0.680971069544778,
          0.680971069544778,
          0.6972782573490578,
          0.7135854451533375,
          0.7135854451533375,
          0.7135854451533375,
          0.7135854451533375,
          0.7298926329576171,
          0.7298926329576171,
          0.7298926329576171,
          0.7461998207618968,
          0.7461998207618968,
          0.7625070085661766,
          0.7625070085661766,
          0.8277357597832952,
          0.8277357597832952,
          0.8440429475875749,
          0.8603501353918547
         ],
         "yaxis": "y"
        },
        {
         "customdata": [
          [
           "Drama",
           "negative",
           "four_daughters_2023",
           96
          ],
          [
           "Drama",
           "negative",
           "the_taste_of_things",
           98
          ],
          [
           "Drama",
           "negative",
           "killers_of_the_flower_moon",
           93
          ],
          [
           "Drama",
           "negative",
           "our_son",
           89
          ],
          [
           "Drama",
           "negative",
           "priscilla",
           82
          ],
          [
           "Drama",
           "negative",
           "oppenheimer_2023",
           93
          ],
          [
           "Drama",
           "negative",
           "napoleon_2023",
           58
          ],
          [
           "Action",
           "negative",
           "napoleon_2023",
           58
          ],
          [
           "Drama",
           "negative",
           "animal_2023_2",
           28
          ],
          [
           "Action",
           "negative",
           "animal_2023_2",
           28
          ],
          [
           "Drama",
           "negative",
           "saltburn",
           72
          ],
          [
           "Comedy",
           "negative",
           "saltburn",
           72
          ],
          [
           "Drama",
           "negative",
           "the_holdovers",
           96
          ],
          [
           "Comedy",
           "negative",
           "the_holdovers",
           96
          ],
          [
           "Drama",
           "negative",
           "poor_things",
           92
          ],
          [
           "Comedy",
           "negative",
           "poor_things",
           92
          ],
          [
           "Drama",
           "negative",
           "eileen",
           85
          ],
          [
           "Drama",
           "negative",
           "dream_scenario",
           92
          ],
          [
           "Comedy",
           "negative",
           "dream_scenario",
           92
          ],
          [
           "Horror",
           "negative",
           "dream_scenario",
           92
          ],
          [
           "Drama",
           "negative",
           "the_oath_2023",
           25
          ],
          [
           "Action",
           "negative",
           "the_oath_2023",
           25
          ],
          [
           "Drama",
           "negative",
           "radical",
           94
          ],
          [
           "Drama",
           "negative",
           "scrapper_2023",
           94
          ],
          [
           "Comedy",
           "negative",
           "scrapper_2023",
           94
          ],
          [
           "Drama",
           "negative",
           "fallen_leaves",
           98
          ],
          [
           "Comedy",
           "negative",
           "fallen_leaves",
           98
          ],
          [
           "Drama",
           "negative",
           "the_marsh_kings_daughter",
           37
          ],
          [
           "Drama",
           "negative",
           "the_road_dance",
           81
          ],
          [
           "Drama",
           "negative",
           "the_three_musketeers_part_i_dartagnan",
           98
          ],
          [
           "Drama",
           "negative",
           "the_end_we_start_from",
           81
          ],
          [
           "Drama",
           "negative",
           "the_persian_version",
           82
          ],
          [
           "Comedy",
           "negative",
           "the_persian_version",
           82
          ],
          [
           "Comedy",
           "negative",
           "wonka",
           83
          ],
          [
           "Comedy",
           "negative",
           "trolls_band_together",
           60
          ],
          [
           "Comedy",
           "negative",
           "wish_2023",
           49
          ],
          [
           "Comedy",
           "negative",
           "love_actually",
           64
          ],
          [
           "Comedy",
           "negative",
           "next_goal_wins_2023",
           43
          ],
          [
           "Comedy",
           "negative",
           "barbie",
           88
          ],
          [
           "Comedy",
           "negative",
           "waitress_the_musical",
           100
          ],
          [
           "Comedy",
           "negative",
           "chicken_run_dawn_of_the_nugget",
           78
          ],
          [
           "Horror",
           "negative",
           "thanksgiving_2023",
           84
          ],
          [
           "Horror",
           "negative",
           "five_nights_at_freddys",
           31
          ],
          [
           "Horror",
           "negative",
           "peeping_tom_1960",
           95
          ],
          [
           "Horror",
           "negative",
           "a_creature_was_stirring",
           50
          ],
          [
           "Action",
           "negative",
           "godzilla_minus_one",
           98
          ],
          [
           "Action",
           "negative",
           "the_hunger_games_the_ballad_of_songbirds_and_snakes",
           64
          ],
          [
           "Action",
           "negative",
           "silent_night_2023",
           58
          ],
          [
           "Action",
           "negative",
           "the_marvels",
           61
          ],
          [
           "Action",
           "negative",
           "die_hard",
           94
          ],
          [
           "Action",
           "negative",
           "fast_charlie",
           86
          ],
          [
           "Action",
           "negative",
           "concrete_utopia",
           100
          ],
          [
           "Action",
           "negative",
           "indiana_jones_and_the_dial_of_destiny",
           69
          ]
         ],
         "hovertemplate": "Audience Score=%{x}<br>Sentiment Score=%{y:.2f}<br>genre=%{customdata[0]}<br>name=%{customdata[2]}<br>critic_score=%{customdata[3]:.2f}<extra></extra>",
         "legendgroup": "negative",
         "marker": {
          "color": "firebrick",
          "line": {
           "color": "black",
           "width": 1
          },
          "symbol": "circle"
         },
         "mode": "markers",
         "name": "negative",
         "orientation": "v",
         "showlegend": true,
         "type": "scatter",
         "x": [
          91,
          100,
          84,
          62,
          63,
          91,
          58,
          58,
          81,
          81,
          79,
          79,
          91,
          91,
          93,
          93,
          51,
          68,
          68,
          68,
          88,
          88,
          99,
          83,
          83,
          79,
          79,
          73,
          94,
          81,
          86,
          92,
          92,
          89,
          92,
          81,
          72,
          85,
          83,
          98,
          90,
          79,
          87,
          85,
          38,
          98,
          89,
          50,
          83,
          94,
          84,
          79,
          88
         ],
         "xaxis": "x2",
         "y": [
          0.000024012300855247304,
          0.0014963762369006,
          0.7216087579727173,
          0.000053364012273959816,
          0.9355056285858154,
          0.0010587609140202,
          0.0033869296312332,
          0.0033869296312332,
          0.0515198111534118,
          0.0515198111534118,
          0.8930639028549194,
          0.8930639028549194,
          0.00004002039713668637,
          0.00004002039713668637,
          0.176873043179512,
          0.176873043179512,
          0.0080937882885336,
          0.1578191667795181,
          0.1578191667795181,
          0.1578191667795181,
          0.0111136119812726,
          0.0111136119812726,
          0.0010357422288507,
          0.0001146689610322,
          0.0001146689610322,
          0.0028115368913859,
          0.0028115368913859,
          0.0214711762964725,
          0.0001041681898641,
          0.0088797928765416,
          0.0000361400016117841,
          0.000032521915272809565,
          0.000032521915272809565,
          0.0102210054174065,
          0.0004716453258879,
          0.0454988963901996,
          0.1576026678085327,
          0.00005898041126783937,
          0.9912546873092652,
          0.0002231099933851,
          0.00004353376425569877,
          0.0322745069861412,
          0.001937338267453,
          0.6289188861846924,
          0.9808508157730104,
          0.00004621171319740824,
          0.2350822389125824,
          0.980715036392212,
          0.7885273098945618,
          0.0002302805369254,
          0.000056683915317989886,
          0.0055128429085016,
          0.054895743727684
         ],
         "yaxis": "y2"
        },
        {
         "hovertemplate": "<b>OLS trendline</b><br>value = -0.0096489 * audience_score + 0.961539<br>R<sup>2</sup>=0.157004<br><br>Audience Score=%{x}<br>Sentiment Score=%{y:.2f} <b>(trend)</b><extra></extra>",
         "legendgroup": "negative",
         "marker": {
          "color": "firebrick",
          "line": {
           "color": "black",
           "width": 1
          },
          "symbol": "circle"
         },
         "mode": "lines",
         "name": "negative",
         "showlegend": false,
         "type": "scatter",
         "x": [
          38,
          50,
          51,
          58,
          58,
          62,
          63,
          68,
          68,
          68,
          72,
          73,
          79,
          79,
          79,
          79,
          79,
          79,
          81,
          81,
          81,
          81,
          83,
          83,
          83,
          83,
          84,
          84,
          85,
          85,
          86,
          87,
          88,
          88,
          88,
          89,
          89,
          90,
          91,
          91,
          91,
          91,
          92,
          92,
          92,
          93,
          93,
          94,
          94,
          98,
          98,
          99,
          100
         ],
         "xaxis": "x2",
         "y": [
          0.5948807806485654,
          0.4790939892655364,
          0.4694450899836174,
          0.4019027950101838,
          0.4019027950101838,
          0.36330719788250754,
          0.3536582986005884,
          0.305413802190993,
          0.305413802190993,
          0.305413802190993,
          0.26681820506331677,
          0.25716930578139763,
          0.1992759100898832,
          0.1992759100898832,
          0.1992759100898832,
          0.1992759100898832,
          0.1992759100898832,
          0.1992759100898832,
          0.17997811152604504,
          0.17997811152604504,
          0.17997811152604504,
          0.17997811152604504,
          0.16068031296220686,
          0.16068031296220686,
          0.16068031296220686,
          0.16068031296220686,
          0.15103141368028783,
          0.15103141368028783,
          0.14138251439836869,
          0.14138251439836869,
          0.13173361511644965,
          0.12208471583453062,
          0.11243581655261148,
          0.11243581655261148,
          0.11243581655261148,
          0.10278691727069245,
          0.10278691727069245,
          0.0931380179887733,
          0.08348911870685427,
          0.08348911870685427,
          0.08348911870685427,
          0.08348911870685427,
          0.07384021942493524,
          0.07384021942493524,
          0.07384021942493524,
          0.0641913201430161,
          0.0641913201430161,
          0.05454242086109706,
          0.05454242086109706,
          0.015946823733420712,
          0.015946823733420712,
          0.00629792445150168,
          -0.0033509748304174636
         ],
         "yaxis": "y2"
        },
        {
         "customdata": [
          [
           "Drama",
           "neutral",
           "four_daughters_2023",
           96
          ],
          [
           "Drama",
           "neutral",
           "the_taste_of_things",
           98
          ],
          [
           "Drama",
           "neutral",
           "killers_of_the_flower_moon",
           93
          ],
          [
           "Drama",
           "neutral",
           "our_son",
           89
          ],
          [
           "Drama",
           "neutral",
           "priscilla",
           82
          ],
          [
           "Drama",
           "neutral",
           "oppenheimer_2023",
           93
          ],
          [
           "Drama",
           "neutral",
           "napoleon_2023",
           58
          ],
          [
           "Action",
           "neutral",
           "napoleon_2023",
           58
          ],
          [
           "Drama",
           "neutral",
           "animal_2023_2",
           28
          ],
          [
           "Action",
           "neutral",
           "animal_2023_2",
           28
          ],
          [
           "Drama",
           "neutral",
           "saltburn",
           72
          ],
          [
           "Comedy",
           "neutral",
           "saltburn",
           72
          ],
          [
           "Drama",
           "neutral",
           "the_holdovers",
           96
          ],
          [
           "Comedy",
           "neutral",
           "the_holdovers",
           96
          ],
          [
           "Drama",
           "neutral",
           "poor_things",
           92
          ],
          [
           "Comedy",
           "neutral",
           "poor_things",
           92
          ],
          [
           "Drama",
           "neutral",
           "eileen",
           85
          ],
          [
           "Drama",
           "neutral",
           "dream_scenario",
           92
          ],
          [
           "Comedy",
           "neutral",
           "dream_scenario",
           92
          ],
          [
           "Horror",
           "neutral",
           "dream_scenario",
           92
          ],
          [
           "Drama",
           "neutral",
           "the_oath_2023",
           25
          ],
          [
           "Action",
           "neutral",
           "the_oath_2023",
           25
          ],
          [
           "Drama",
           "neutral",
           "radical",
           94
          ],
          [
           "Drama",
           "neutral",
           "scrapper_2023",
           94
          ],
          [
           "Comedy",
           "neutral",
           "scrapper_2023",
           94
          ],
          [
           "Drama",
           "neutral",
           "fallen_leaves",
           98
          ],
          [
           "Comedy",
           "neutral",
           "fallen_leaves",
           98
          ],
          [
           "Drama",
           "neutral",
           "the_marsh_kings_daughter",
           37
          ],
          [
           "Drama",
           "neutral",
           "the_road_dance",
           81
          ],
          [
           "Drama",
           "neutral",
           "the_three_musketeers_part_i_dartagnan",
           98
          ],
          [
           "Drama",
           "neutral",
           "the_end_we_start_from",
           81
          ],
          [
           "Drama",
           "neutral",
           "the_persian_version",
           82
          ],
          [
           "Comedy",
           "neutral",
           "the_persian_version",
           82
          ],
          [
           "Comedy",
           "neutral",
           "wonka",
           83
          ],
          [
           "Comedy",
           "neutral",
           "trolls_band_together",
           60
          ],
          [
           "Comedy",
           "neutral",
           "wish_2023",
           49
          ],
          [
           "Comedy",
           "neutral",
           "love_actually",
           64
          ],
          [
           "Comedy",
           "neutral",
           "next_goal_wins_2023",
           43
          ],
          [
           "Comedy",
           "neutral",
           "barbie",
           88
          ],
          [
           "Comedy",
           "neutral",
           "waitress_the_musical",
           100
          ],
          [
           "Comedy",
           "neutral",
           "chicken_run_dawn_of_the_nugget",
           78
          ],
          [
           "Horror",
           "neutral",
           "thanksgiving_2023",
           84
          ],
          [
           "Horror",
           "neutral",
           "five_nights_at_freddys",
           31
          ],
          [
           "Horror",
           "neutral",
           "peeping_tom_1960",
           95
          ],
          [
           "Horror",
           "neutral",
           "a_creature_was_stirring",
           50
          ],
          [
           "Action",
           "neutral",
           "godzilla_minus_one",
           98
          ],
          [
           "Action",
           "neutral",
           "the_hunger_games_the_ballad_of_songbirds_and_snakes",
           64
          ],
          [
           "Action",
           "neutral",
           "silent_night_2023",
           58
          ],
          [
           "Action",
           "neutral",
           "the_marvels",
           61
          ],
          [
           "Action",
           "neutral",
           "die_hard",
           94
          ],
          [
           "Action",
           "neutral",
           "fast_charlie",
           86
          ],
          [
           "Action",
           "neutral",
           "concrete_utopia",
           100
          ],
          [
           "Action",
           "neutral",
           "indiana_jones_and_the_dial_of_destiny",
           69
          ]
         ],
         "hovertemplate": "Audience Score=%{x}<br>Sentiment Score=%{y:.2f}<br>genre=%{customdata[0]}<br>name=%{customdata[2]}<br>critic_score=%{customdata[3]:.2f}<extra></extra>",
         "legendgroup": "neutral",
         "marker": {
          "color": "grey",
          "line": {
           "color": "black",
           "width": 1
          },
          "symbol": "circle"
         },
         "mode": "markers",
         "name": "neutral",
         "orientation": "v",
         "showlegend": true,
         "type": "scatter",
         "x": [
          91,
          100,
          84,
          62,
          63,
          91,
          58,
          58,
          81,
          81,
          79,
          79,
          91,
          91,
          93,
          93,
          51,
          68,
          68,
          68,
          88,
          88,
          99,
          83,
          83,
          79,
          79,
          73,
          94,
          81,
          86,
          92,
          92,
          89,
          92,
          81,
          72,
          85,
          83,
          98,
          90,
          79,
          87,
          85,
          38,
          98,
          89,
          50,
          83,
          94,
          84,
          79,
          88
         ],
         "xaxis": "x3",
         "y": [
          0.0005449030431918,
          0.0037645867560058,
          0.0017367838881909,
          0.0001117865031119,
          0.0003158677427563,
          0.0004604419227689,
          0.0001313731772825,
          0.0001313731772825,
          0.0655369535088539,
          0.0655369535088539,
          0.0010881202761083,
          0.0010881202761083,
          0.0001298176503041,
          0.0001298176503041,
          0.00062213774072,
          0.00062213774072,
          0.00006982815830269828,
          0.0050589465536177,
          0.0050589465536177,
          0.0050589465536177,
          0.000403209705837,
          0.000403209705837,
          0.0005204047192819,
          0.0001164043278549,
          0.0001164043278549,
          0.0171919427812099,
          0.0171919427812099,
          0.0944309160113334,
          0.0008640892338007,
          0.3396311104297638,
          0.0006377683603204,
          0.0001016341484501,
          0.0001016341484501,
          0.0002949789341073,
          0.0002065016014967,
          0.0015840344130992,
          0.0061424705199897,
          0.0001268274500034,
          0.0001314275141339,
          0.0006761295953765,
          0.00015656404139,
          0.000634333177004,
          0.0001025933379423,
          0.0201116409152746,
          0.0010536964982748,
          0.0004606622387655,
          0.0010164385894313,
          0.0055444808676838,
          0.0296154506504535,
          0.0004063260857947,
          0.0001525421102996,
          0.0323111489415168,
          0.0005565542960539
         ],
         "yaxis": "y3"
        },
        {
         "hovertemplate": "<b>OLS trendline</b><br>value = -0.000141233 * audience_score + 0.025265<br>R<sup>2</sup>=0.001467<br><br>Audience Score=%{x}<br>Sentiment Score=%{y:.2f} <b>(trend)</b><extra></extra>",
         "legendgroup": "neutral",
         "marker": {
          "color": "grey",
          "line": {
           "color": "black",
           "width": 1
          },
          "symbol": "circle"
         },
         "mode": "lines",
         "name": "neutral",
         "showlegend": false,
         "type": "scatter",
         "x": [
          38,
          50,
          51,
          58,
          58,
          62,
          63,
          68,
          68,
          68,
          72,
          73,
          79,
          79,
          79,
          79,
          79,
          79,
          81,
          81,
          81,
          81,
          83,
          83,
          83,
          83,
          84,
          84,
          85,
          85,
          86,
          87,
          88,
          88,
          88,
          89,
          89,
          90,
          91,
          91,
          91,
          91,
          92,
          92,
          92,
          93,
          93,
          94,
          94,
          98,
          98,
          99,
          100
         ],
         "xaxis": "x3",
         "y": [
          0.019898195987318335,
          0.018203405882902885,
          0.018062173374201598,
          0.01707354581329259,
          0.01707354581329259,
          0.01650861577848744,
          0.01636738326978615,
          0.015661220726279713,
          0.015661220726279713,
          0.015661220726279713,
          0.015096290691474562,
          0.014955058182773274,
          0.014107663130565551,
          0.014107663130565551,
          0.014107663130565551,
          0.014107663130565551,
          0.014107663130565551,
          0.014107663130565551,
          0.013825198113162976,
          0.013825198113162976,
          0.013825198113162976,
          0.013825198113162976,
          0.0135427330957604,
          0.0135427330957604,
          0.0135427330957604,
          0.0135427330957604,
          0.013401500587059113,
          0.013401500587059113,
          0.013260268078357826,
          0.013260268078357826,
          0.013119035569656538,
          0.01297780306095525,
          0.012836570552253963,
          0.012836570552253963,
          0.012836570552253963,
          0.012695338043552676,
          0.012695338043552676,
          0.012554105534851388,
          0.0124128730261501,
          0.0124128730261501,
          0.0124128730261501,
          0.0124128730261501,
          0.012271640517448813,
          0.012271640517448813,
          0.012271640517448813,
          0.012130408008747526,
          0.012130408008747526,
          0.011989175500046238,
          0.011989175500046238,
          0.01142424546524109,
          0.01142424546524109,
          0.011283012956539802,
          0.011141780447838515
         ],
         "yaxis": "y3"
        },
        {
         "customdata": [
          [
           "Drama",
           "mixed",
           "four_daughters_2023",
           96
          ],
          [
           "Drama",
           "mixed",
           "the_taste_of_things",
           98
          ],
          [
           "Drama",
           "mixed",
           "killers_of_the_flower_moon",
           93
          ],
          [
           "Drama",
           "mixed",
           "our_son",
           89
          ],
          [
           "Drama",
           "mixed",
           "priscilla",
           82
          ],
          [
           "Drama",
           "mixed",
           "oppenheimer_2023",
           93
          ],
          [
           "Drama",
           "mixed",
           "napoleon_2023",
           58
          ],
          [
           "Action",
           "mixed",
           "napoleon_2023",
           58
          ],
          [
           "Drama",
           "mixed",
           "animal_2023_2",
           28
          ],
          [
           "Action",
           "mixed",
           "animal_2023_2",
           28
          ],
          [
           "Drama",
           "mixed",
           "saltburn",
           72
          ],
          [
           "Comedy",
           "mixed",
           "saltburn",
           72
          ],
          [
           "Drama",
           "mixed",
           "the_holdovers",
           96
          ],
          [
           "Comedy",
           "mixed",
           "the_holdovers",
           96
          ],
          [
           "Drama",
           "mixed",
           "poor_things",
           92
          ],
          [
           "Comedy",
           "mixed",
           "poor_things",
           92
          ],
          [
           "Drama",
           "mixed",
           "eileen",
           85
          ],
          [
           "Drama",
           "mixed",
           "dream_scenario",
           92
          ],
          [
           "Comedy",
           "mixed",
           "dream_scenario",
           92
          ],
          [
           "Horror",
           "mixed",
           "dream_scenario",
           92
          ],
          [
           "Drama",
           "mixed",
           "the_oath_2023",
           25
          ],
          [
           "Action",
           "mixed",
           "the_oath_2023",
           25
          ],
          [
           "Drama",
           "mixed",
           "radical",
           94
          ],
          [
           "Drama",
           "mixed",
           "scrapper_2023",
           94
          ],
          [
           "Comedy",
           "mixed",
           "scrapper_2023",
           94
          ],
          [
           "Drama",
           "mixed",
           "fallen_leaves",
           98
          ],
          [
           "Comedy",
           "mixed",
           "fallen_leaves",
           98
          ],
          [
           "Drama",
           "mixed",
           "the_marsh_kings_daughter",
           37
          ],
          [
           "Drama",
           "mixed",
           "the_road_dance",
           81
          ],
          [
           "Drama",
           "mixed",
           "the_three_musketeers_part_i_dartagnan",
           98
          ],
          [
           "Drama",
           "mixed",
           "the_end_we_start_from",
           81
          ],
          [
           "Drama",
           "mixed",
           "the_persian_version",
           82
          ],
          [
           "Comedy",
           "mixed",
           "the_persian_version",
           82
          ],
          [
           "Comedy",
           "mixed",
           "wonka",
           83
          ],
          [
           "Comedy",
           "mixed",
           "trolls_band_together",
           60
          ],
          [
           "Comedy",
           "mixed",
           "wish_2023",
           49
          ],
          [
           "Comedy",
           "mixed",
           "love_actually",
           64
          ],
          [
           "Comedy",
           "mixed",
           "next_goal_wins_2023",
           43
          ],
          [
           "Comedy",
           "mixed",
           "barbie",
           88
          ],
          [
           "Comedy",
           "mixed",
           "waitress_the_musical",
           100
          ],
          [
           "Comedy",
           "mixed",
           "chicken_run_dawn_of_the_nugget",
           78
          ],
          [
           "Horror",
           "mixed",
           "thanksgiving_2023",
           84
          ],
          [
           "Horror",
           "mixed",
           "five_nights_at_freddys",
           31
          ],
          [
           "Horror",
           "mixed",
           "peeping_tom_1960",
           95
          ],
          [
           "Horror",
           "mixed",
           "a_creature_was_stirring",
           50
          ],
          [
           "Action",
           "mixed",
           "godzilla_minus_one",
           98
          ],
          [
           "Action",
           "mixed",
           "the_hunger_games_the_ballad_of_songbirds_and_snakes",
           64
          ],
          [
           "Action",
           "mixed",
           "silent_night_2023",
           58
          ],
          [
           "Action",
           "mixed",
           "the_marvels",
           61
          ],
          [
           "Action",
           "mixed",
           "die_hard",
           94
          ],
          [
           "Action",
           "mixed",
           "fast_charlie",
           86
          ],
          [
           "Action",
           "mixed",
           "concrete_utopia",
           100
          ],
          [
           "Action",
           "mixed",
           "indiana_jones_and_the_dial_of_destiny",
           69
          ]
         ],
         "hovertemplate": "Audience Score=%{x}<br>Sentiment Score=%{y:.2f}<br>genre=%{customdata[0]}<br>name=%{customdata[2]}<br>critic_score=%{customdata[3]:.2f}<extra></extra>",
         "legendgroup": "mixed",
         "marker": {
          "color": "orange",
          "line": {
           "color": "black",
           "width": 1
          },
          "symbol": "circle"
         },
         "mode": "markers",
         "name": "mixed",
         "orientation": "v",
         "showlegend": true,
         "type": "scatter",
         "x": [
          91,
          100,
          84,
          62,
          63,
          91,
          58,
          58,
          81,
          81,
          79,
          79,
          91,
          91,
          93,
          93,
          51,
          68,
          68,
          68,
          88,
          88,
          99,
          83,
          83,
          79,
          79,
          73,
          94,
          81,
          86,
          92,
          92,
          89,
          92,
          81,
          72,
          85,
          83,
          98,
          90,
          79,
          87,
          85,
          38,
          98,
          89,
          50,
          83,
          94,
          84,
          79,
          88
         ],
         "xaxis": "x4",
         "y": [
          0.00002463305827404838,
          0.0001068809797288,
          0.2729470729827881,
          0.000026325054932385683,
          0.0623535104095935,
          0.0018072931561619,
          0.8654500842094421,
          0.8654500842094421,
          0.0203137993812561,
          0.0203137993812561,
          0.030915169045329,
          0.030915169045329,
          0.00007790325616952032,
          0.00007790325616952032,
          0.7799870371818542,
          0.7799870371818542,
          0.9606795907020568,
          0.8047502040863037,
          0.8047502040863037,
          0.8047502040863037,
          0.6794276237487793,
          0.6794276237487793,
          0.0119805177673697,
          0.0026807119138538,
          0.0026807119138538,
          0.0172258745878934,
          0.0172258745878934,
          0.0044485577382147,
          0.00003603246659622528,
          0.0206932667642831,
          0.00005830528607475571,
          0.00004706321487901732,
          0.00004706321487901732,
          0.2941206097602844,
          0.0300124436616897,
          0.1636402457952499,
          0.4834045469760895,
          0.0001088746939785,
          0.007523238658905,
          0.00003889740037266165,
          0.0000951618785620667,
          0.7140340209007263,
          0.9749472737312316,
          0.3386785686016083,
          0.0147010711953043,
          0.0001284727768506,
          0.7561751008033752,
          0.0026766548398882,
          0.1467027813196182,
          0.0002234432467957,
          0.0001494703174103,
          0.0242295954376459,
          0.9406452178955078
         ],
         "yaxis": "y4"
        },
        {
         "hovertemplate": "<b>OLS trendline</b><br>value = -0.00651706 * audience_score + 0.783565<br>R<sup>2</sup>=0.059730<br><br>Audience Score=%{x}<br>Sentiment Score=%{y:.2f} <b>(trend)</b><extra></extra>",
         "legendgroup": "mixed",
         "marker": {
          "color": "orange",
          "line": {
           "color": "black",
           "width": 1
          },
          "symbol": "circle"
         },
         "mode": "lines",
         "name": "mixed",
         "showlegend": false,
         "type": "scatter",
         "x": [
          38,
          50,
          51,
          58,
          58,
          62,
          63,
          68,
          68,
          68,
          72,
          73,
          79,
          79,
          79,
          79,
          79,
          79,
          81,
          81,
          81,
          81,
          83,
          83,
          83,
          83,
          84,
          84,
          85,
          85,
          86,
          87,
          88,
          88,
          88,
          89,
          89,
          90,
          91,
          91,
          91,
          91,
          92,
          92,
          92,
          93,
          93,
          94,
          94,
          98,
          98,
          99,
          100
         ],
         "xaxis": "x4",
         "y": [
          0.5359165074671806,
          0.4577118436056277,
          0.4511947882838317,
          0.40557540103125916,
          0.40557540103125916,
          0.3795071797440749,
          0.37299012442227886,
          0.3404048478132985,
          0.3404048478132985,
          0.3404048478132985,
          0.3143366265261142,
          0.30781957120431813,
          0.26871723927354174,
          0.26871723927354174,
          0.26871723927354174,
          0.26871723927354174,
          0.26871723927354174,
          0.26871723927354174,
          0.2556831286299496,
          0.2556831286299496,
          0.2556831286299496,
          0.2556831286299496,
          0.24264901798635752,
          0.24264901798635752,
          0.24264901798635752,
          0.24264901798635752,
          0.23613196266456138,
          0.23613196266456138,
          0.22961490734276535,
          0.22961490734276535,
          0.2230978520209692,
          0.21658079669917318,
          0.21006374137737716,
          0.21006374137737716,
          0.21006374137737716,
          0.20354668605558102,
          0.20354668605558102,
          0.197029630733785,
          0.19051257541198896,
          0.19051257541198896,
          0.19051257541198896,
          0.19051257541198896,
          0.18399552009019282,
          0.18399552009019282,
          0.18399552009019282,
          0.1774784647683968,
          0.1774784647683968,
          0.17096140944660065,
          0.17096140944660065,
          0.14489318815941643,
          0.14489318815941643,
          0.1383761328376204,
          0.13185907751582426
         ],
         "yaxis": "y4"
        }
       ],
       "layout": {
        "annotations": [
         {
          "font": {},
          "showarrow": false,
          "text": "Positive Reviews",
          "x": 0.1175,
          "xanchor": "center",
          "xref": "paper",
          "y": 1,
          "yanchor": "bottom",
          "yref": "paper"
         },
         {
          "font": {},
          "showarrow": false,
          "text": "Negative Reviews",
          "x": 0.3725,
          "xanchor": "center",
          "xref": "paper",
          "y": 1,
          "yanchor": "bottom",
          "yref": "paper"
         },
         {
          "font": {},
          "showarrow": false,
          "text": "Neutral Reviews",
          "x": 0.6275,
          "xanchor": "center",
          "xref": "paper",
          "y": 1,
          "yanchor": "bottom",
          "yref": "paper"
         },
         {
          "font": {},
          "showarrow": false,
          "text": "Mixed Reviews",
          "x": 0.8824999999999998,
          "xanchor": "center",
          "xref": "paper",
          "y": 1,
          "yanchor": "bottom",
          "yref": "paper"
         }
        ],
        "height": 450,
        "legend": {
         "title": {
          "text": "Sentiment"
         },
         "tracegroupgap": 0
        },
        "margin": {
         "t": 60
        },
        "showlegend": false,
        "template": {
         "data": {
          "bar": [
           {
            "error_x": {
             "color": "rgb(36,36,36)"
            },
            "error_y": {
             "color": "rgb(36,36,36)"
            },
            "marker": {
             "line": {
              "color": "white",
              "width": 0.5
             },
             "pattern": {
              "fillmode": "overlay",
              "size": 10,
              "solidity": 0.2
             }
            },
            "type": "bar"
           }
          ],
          "barpolar": [
           {
            "marker": {
             "line": {
              "color": "white",
              "width": 0.5
             },
             "pattern": {
              "fillmode": "overlay",
              "size": 10,
              "solidity": 0.2
             }
            },
            "type": "barpolar"
           }
          ],
          "carpet": [
           {
            "aaxis": {
             "endlinecolor": "rgb(36,36,36)",
             "gridcolor": "white",
             "linecolor": "white",
             "minorgridcolor": "white",
             "startlinecolor": "rgb(36,36,36)"
            },
            "baxis": {
             "endlinecolor": "rgb(36,36,36)",
             "gridcolor": "white",
             "linecolor": "white",
             "minorgridcolor": "white",
             "startlinecolor": "rgb(36,36,36)"
            },
            "type": "carpet"
           }
          ],
          "choropleth": [
           {
            "colorbar": {
             "outlinewidth": 1,
             "tickcolor": "rgb(36,36,36)",
             "ticks": "outside"
            },
            "type": "choropleth"
           }
          ],
          "contour": [
           {
            "colorbar": {
             "outlinewidth": 1,
             "tickcolor": "rgb(36,36,36)",
             "ticks": "outside"
            },
            "colorscale": [
             [
              0,
              "#440154"
             ],
             [
              0.1111111111111111,
              "#482878"
             ],
             [
              0.2222222222222222,
              "#3e4989"
             ],
             [
              0.3333333333333333,
              "#31688e"
             ],
             [
              0.4444444444444444,
              "#26828e"
             ],
             [
              0.5555555555555556,
              "#1f9e89"
             ],
             [
              0.6666666666666666,
              "#35b779"
             ],
             [
              0.7777777777777778,
              "#6ece58"
             ],
             [
              0.8888888888888888,
              "#b5de2b"
             ],
             [
              1,
              "#fde725"
             ]
            ],
            "type": "contour"
           }
          ],
          "contourcarpet": [
           {
            "colorbar": {
             "outlinewidth": 1,
             "tickcolor": "rgb(36,36,36)",
             "ticks": "outside"
            },
            "type": "contourcarpet"
           }
          ],
          "heatmap": [
           {
            "colorbar": {
             "outlinewidth": 1,
             "tickcolor": "rgb(36,36,36)",
             "ticks": "outside"
            },
            "colorscale": [
             [
              0,
              "#440154"
             ],
             [
              0.1111111111111111,
              "#482878"
             ],
             [
              0.2222222222222222,
              "#3e4989"
             ],
             [
              0.3333333333333333,
              "#31688e"
             ],
             [
              0.4444444444444444,
              "#26828e"
             ],
             [
              0.5555555555555556,
              "#1f9e89"
             ],
             [
              0.6666666666666666,
              "#35b779"
             ],
             [
              0.7777777777777778,
              "#6ece58"
             ],
             [
              0.8888888888888888,
              "#b5de2b"
             ],
             [
              1,
              "#fde725"
             ]
            ],
            "type": "heatmap"
           }
          ],
          "heatmapgl": [
           {
            "colorbar": {
             "outlinewidth": 1,
             "tickcolor": "rgb(36,36,36)",
             "ticks": "outside"
            },
            "colorscale": [
             [
              0,
              "#440154"
             ],
             [
              0.1111111111111111,
              "#482878"
             ],
             [
              0.2222222222222222,
              "#3e4989"
             ],
             [
              0.3333333333333333,
              "#31688e"
             ],
             [
              0.4444444444444444,
              "#26828e"
             ],
             [
              0.5555555555555556,
              "#1f9e89"
             ],
             [
              0.6666666666666666,
              "#35b779"
             ],
             [
              0.7777777777777778,
              "#6ece58"
             ],
             [
              0.8888888888888888,
              "#b5de2b"
             ],
             [
              1,
              "#fde725"
             ]
            ],
            "type": "heatmapgl"
           }
          ],
          "histogram": [
           {
            "marker": {
             "line": {
              "color": "white",
              "width": 0.6
             }
            },
            "type": "histogram"
           }
          ],
          "histogram2d": [
           {
            "colorbar": {
             "outlinewidth": 1,
             "tickcolor": "rgb(36,36,36)",
             "ticks": "outside"
            },
            "colorscale": [
             [
              0,
              "#440154"
             ],
             [
              0.1111111111111111,
              "#482878"
             ],
             [
              0.2222222222222222,
              "#3e4989"
             ],
             [
              0.3333333333333333,
              "#31688e"
             ],
             [
              0.4444444444444444,
              "#26828e"
             ],
             [
              0.5555555555555556,
              "#1f9e89"
             ],
             [
              0.6666666666666666,
              "#35b779"
             ],
             [
              0.7777777777777778,
              "#6ece58"
             ],
             [
              0.8888888888888888,
              "#b5de2b"
             ],
             [
              1,
              "#fde725"
             ]
            ],
            "type": "histogram2d"
           }
          ],
          "histogram2dcontour": [
           {
            "colorbar": {
             "outlinewidth": 1,
             "tickcolor": "rgb(36,36,36)",
             "ticks": "outside"
            },
            "colorscale": [
             [
              0,
              "#440154"
             ],
             [
              0.1111111111111111,
              "#482878"
             ],
             [
              0.2222222222222222,
              "#3e4989"
             ],
             [
              0.3333333333333333,
              "#31688e"
             ],
             [
              0.4444444444444444,
              "#26828e"
             ],
             [
              0.5555555555555556,
              "#1f9e89"
             ],
             [
              0.6666666666666666,
              "#35b779"
             ],
             [
              0.7777777777777778,
              "#6ece58"
             ],
             [
              0.8888888888888888,
              "#b5de2b"
             ],
             [
              1,
              "#fde725"
             ]
            ],
            "type": "histogram2dcontour"
           }
          ],
          "mesh3d": [
           {
            "colorbar": {
             "outlinewidth": 1,
             "tickcolor": "rgb(36,36,36)",
             "ticks": "outside"
            },
            "type": "mesh3d"
           }
          ],
          "parcoords": [
           {
            "line": {
             "colorbar": {
              "outlinewidth": 1,
              "tickcolor": "rgb(36,36,36)",
              "ticks": "outside"
             }
            },
            "type": "parcoords"
           }
          ],
          "pie": [
           {
            "automargin": true,
            "type": "pie"
           }
          ],
          "scatter": [
           {
            "fillpattern": {
             "fillmode": "overlay",
             "size": 10,
             "solidity": 0.2
            },
            "type": "scatter"
           }
          ],
          "scatter3d": [
           {
            "line": {
             "colorbar": {
              "outlinewidth": 1,
              "tickcolor": "rgb(36,36,36)",
              "ticks": "outside"
             }
            },
            "marker": {
             "colorbar": {
              "outlinewidth": 1,
              "tickcolor": "rgb(36,36,36)",
              "ticks": "outside"
             }
            },
            "type": "scatter3d"
           }
          ],
          "scattercarpet": [
           {
            "marker": {
             "colorbar": {
              "outlinewidth": 1,
              "tickcolor": "rgb(36,36,36)",
              "ticks": "outside"
             }
            },
            "type": "scattercarpet"
           }
          ],
          "scattergeo": [
           {
            "marker": {
             "colorbar": {
              "outlinewidth": 1,
              "tickcolor": "rgb(36,36,36)",
              "ticks": "outside"
             }
            },
            "type": "scattergeo"
           }
          ],
          "scattergl": [
           {
            "marker": {
             "colorbar": {
              "outlinewidth": 1,
              "tickcolor": "rgb(36,36,36)",
              "ticks": "outside"
             }
            },
            "type": "scattergl"
           }
          ],
          "scattermapbox": [
           {
            "marker": {
             "colorbar": {
              "outlinewidth": 1,
              "tickcolor": "rgb(36,36,36)",
              "ticks": "outside"
             }
            },
            "type": "scattermapbox"
           }
          ],
          "scatterpolar": [
           {
            "marker": {
             "colorbar": {
              "outlinewidth": 1,
              "tickcolor": "rgb(36,36,36)",
              "ticks": "outside"
             }
            },
            "type": "scatterpolar"
           }
          ],
          "scatterpolargl": [
           {
            "marker": {
             "colorbar": {
              "outlinewidth": 1,
              "tickcolor": "rgb(36,36,36)",
              "ticks": "outside"
             }
            },
            "type": "scatterpolargl"
           }
          ],
          "scatterternary": [
           {
            "marker": {
             "colorbar": {
              "outlinewidth": 1,
              "tickcolor": "rgb(36,36,36)",
              "ticks": "outside"
             }
            },
            "type": "scatterternary"
           }
          ],
          "surface": [
           {
            "colorbar": {
             "outlinewidth": 1,
             "tickcolor": "rgb(36,36,36)",
             "ticks": "outside"
            },
            "colorscale": [
             [
              0,
              "#440154"
             ],
             [
              0.1111111111111111,
              "#482878"
             ],
             [
              0.2222222222222222,
              "#3e4989"
             ],
             [
              0.3333333333333333,
              "#31688e"
             ],
             [
              0.4444444444444444,
              "#26828e"
             ],
             [
              0.5555555555555556,
              "#1f9e89"
             ],
             [
              0.6666666666666666,
              "#35b779"
             ],
             [
              0.7777777777777778,
              "#6ece58"
             ],
             [
              0.8888888888888888,
              "#b5de2b"
             ],
             [
              1,
              "#fde725"
             ]
            ],
            "type": "surface"
           }
          ],
          "table": [
           {
            "cells": {
             "fill": {
              "color": "rgb(237,237,237)"
             },
             "line": {
              "color": "white"
             }
            },
            "header": {
             "fill": {
              "color": "rgb(217,217,217)"
             },
             "line": {
              "color": "white"
             }
            },
            "type": "table"
           }
          ]
         },
         "layout": {
          "annotationdefaults": {
           "arrowhead": 0,
           "arrowwidth": 1
          },
          "autotypenumbers": "strict",
          "coloraxis": {
           "colorbar": {
            "outlinewidth": 1,
            "tickcolor": "rgb(36,36,36)",
            "ticks": "outside"
           }
          },
          "colorscale": {
           "diverging": [
            [
             0,
             "rgb(103,0,31)"
            ],
            [
             0.1,
             "rgb(178,24,43)"
            ],
            [
             0.2,
             "rgb(214,96,77)"
            ],
            [
             0.3,
             "rgb(244,165,130)"
            ],
            [
             0.4,
             "rgb(253,219,199)"
            ],
            [
             0.5,
             "rgb(247,247,247)"
            ],
            [
             0.6,
             "rgb(209,229,240)"
            ],
            [
             0.7,
             "rgb(146,197,222)"
            ],
            [
             0.8,
             "rgb(67,147,195)"
            ],
            [
             0.9,
             "rgb(33,102,172)"
            ],
            [
             1,
             "rgb(5,48,97)"
            ]
           ],
           "sequential": [
            [
             0,
             "#440154"
            ],
            [
             0.1111111111111111,
             "#482878"
            ],
            [
             0.2222222222222222,
             "#3e4989"
            ],
            [
             0.3333333333333333,
             "#31688e"
            ],
            [
             0.4444444444444444,
             "#26828e"
            ],
            [
             0.5555555555555556,
             "#1f9e89"
            ],
            [
             0.6666666666666666,
             "#35b779"
            ],
            [
             0.7777777777777778,
             "#6ece58"
            ],
            [
             0.8888888888888888,
             "#b5de2b"
            ],
            [
             1,
             "#fde725"
            ]
           ],
           "sequentialminus": [
            [
             0,
             "#440154"
            ],
            [
             0.1111111111111111,
             "#482878"
            ],
            [
             0.2222222222222222,
             "#3e4989"
            ],
            [
             0.3333333333333333,
             "#31688e"
            ],
            [
             0.4444444444444444,
             "#26828e"
            ],
            [
             0.5555555555555556,
             "#1f9e89"
            ],
            [
             0.6666666666666666,
             "#35b779"
            ],
            [
             0.7777777777777778,
             "#6ece58"
            ],
            [
             0.8888888888888888,
             "#b5de2b"
            ],
            [
             1,
             "#fde725"
            ]
           ]
          },
          "colorway": [
           "#1F77B4",
           "#FF7F0E",
           "#2CA02C",
           "#D62728",
           "#9467BD",
           "#8C564B",
           "#E377C2",
           "#7F7F7F",
           "#BCBD22",
           "#17BECF"
          ],
          "font": {
           "color": "rgb(36,36,36)"
          },
          "geo": {
           "bgcolor": "white",
           "lakecolor": "white",
           "landcolor": "white",
           "showlakes": true,
           "showland": true,
           "subunitcolor": "white"
          },
          "hoverlabel": {
           "align": "left"
          },
          "hovermode": "closest",
          "mapbox": {
           "style": "light"
          },
          "paper_bgcolor": "white",
          "plot_bgcolor": "white",
          "polar": {
           "angularaxis": {
            "gridcolor": "rgb(232,232,232)",
            "linecolor": "rgb(36,36,36)",
            "showgrid": false,
            "showline": true,
            "ticks": "outside"
           },
           "bgcolor": "white",
           "radialaxis": {
            "gridcolor": "rgb(232,232,232)",
            "linecolor": "rgb(36,36,36)",
            "showgrid": false,
            "showline": true,
            "ticks": "outside"
           }
          },
          "scene": {
           "xaxis": {
            "backgroundcolor": "white",
            "gridcolor": "rgb(232,232,232)",
            "gridwidth": 2,
            "linecolor": "rgb(36,36,36)",
            "showbackground": true,
            "showgrid": false,
            "showline": true,
            "ticks": "outside",
            "zeroline": false,
            "zerolinecolor": "rgb(36,36,36)"
           },
           "yaxis": {
            "backgroundcolor": "white",
            "gridcolor": "rgb(232,232,232)",
            "gridwidth": 2,
            "linecolor": "rgb(36,36,36)",
            "showbackground": true,
            "showgrid": false,
            "showline": true,
            "ticks": "outside",
            "zeroline": false,
            "zerolinecolor": "rgb(36,36,36)"
           },
           "zaxis": {
            "backgroundcolor": "white",
            "gridcolor": "rgb(232,232,232)",
            "gridwidth": 2,
            "linecolor": "rgb(36,36,36)",
            "showbackground": true,
            "showgrid": false,
            "showline": true,
            "ticks": "outside",
            "zeroline": false,
            "zerolinecolor": "rgb(36,36,36)"
           }
          },
          "shapedefaults": {
           "fillcolor": "black",
           "line": {
            "width": 0
           },
           "opacity": 0.3
          },
          "ternary": {
           "aaxis": {
            "gridcolor": "rgb(232,232,232)",
            "linecolor": "rgb(36,36,36)",
            "showgrid": false,
            "showline": true,
            "ticks": "outside"
           },
           "baxis": {
            "gridcolor": "rgb(232,232,232)",
            "linecolor": "rgb(36,36,36)",
            "showgrid": false,
            "showline": true,
            "ticks": "outside"
           },
           "bgcolor": "white",
           "caxis": {
            "gridcolor": "rgb(232,232,232)",
            "linecolor": "rgb(36,36,36)",
            "showgrid": false,
            "showline": true,
            "ticks": "outside"
           }
          },
          "title": {
           "x": 0.05
          },
          "xaxis": {
           "automargin": true,
           "gridcolor": "rgb(232,232,232)",
           "linecolor": "rgb(36,36,36)",
           "showgrid": false,
           "showline": true,
           "ticks": "outside",
           "title": {
            "standoff": 15
           },
           "zeroline": false,
           "zerolinecolor": "rgb(36,36,36)"
          },
          "yaxis": {
           "automargin": true,
           "gridcolor": "rgb(232,232,232)",
           "linecolor": "rgb(36,36,36)",
           "showgrid": false,
           "showline": true,
           "ticks": "outside",
           "title": {
            "standoff": 15
           },
           "zeroline": false,
           "zerolinecolor": "rgb(36,36,36)"
          }
         }
        },
        "title": {
         "font": {
          "size": 20
         },
         "text": "<b>Audience Sentiment Scores Compared to Audience Scores</b>",
         "x": 0.5
        },
        "width": 1400,
        "xaxis": {
         "anchor": "y",
         "domain": [
          0,
          0.235
         ],
         "range": [
          20,
          100
         ],
         "title": {
          "text": "Audience Score"
         }
        },
        "xaxis2": {
         "anchor": "y2",
         "domain": [
          0.255,
          0.49
         ],
         "matches": "x",
         "range": [
          20,
          100
         ],
         "title": {
          "text": "Audience Score"
         }
        },
        "xaxis3": {
         "anchor": "y3",
         "domain": [
          0.51,
          0.745
         ],
         "matches": "x",
         "range": [
          20,
          100
         ],
         "title": {
          "text": "Audience Score"
         }
        },
        "xaxis4": {
         "anchor": "y4",
         "domain": [
          0.7649999999999999,
          0.9999999999999999
         ],
         "matches": "x",
         "range": [
          20,
          100
         ],
         "title": {
          "text": "Audience Score"
         }
        },
        "yaxis": {
         "anchor": "x",
         "domain": [
          0,
          1
         ],
         "range": [
          0,
          1
         ],
         "title": {
          "text": "Sentiment Score"
         }
        },
        "yaxis2": {
         "anchor": "x2",
         "domain": [
          0,
          1
         ],
         "matches": "y",
         "range": [
          0,
          1
         ],
         "showticklabels": false
        },
        "yaxis3": {
         "anchor": "x3",
         "domain": [
          0,
          1
         ],
         "matches": "y",
         "range": [
          0,
          1
         ],
         "showticklabels": false
        },
        "yaxis4": {
         "anchor": "x4",
         "domain": [
          0,
          1
         ],
         "matches": "y",
         "range": [
          0,
          1
         ],
         "showticklabels": false
        }
       }
      },
      "text/html": [
       "<div>                            <div id=\"7534de3e-8a7a-4cee-b99a-0b19700810c9\" class=\"plotly-graph-div\" style=\"height:450px; width:1400px;\"></div>            <script type=\"text/javascript\">                require([\"plotly\"], function(Plotly) {                    window.PLOTLYENV=window.PLOTLYENV || {};                                    if (document.getElementById(\"7534de3e-8a7a-4cee-b99a-0b19700810c9\")) {                    Plotly.newPlot(                        \"7534de3e-8a7a-4cee-b99a-0b19700810c9\",                        [{\"customdata\":[[\"Drama\",\"postive\",\"four_daughters_2023\",96],[\"Drama\",\"postive\",\"the_taste_of_things\",98],[\"Drama\",\"postive\",\"killers_of_the_flower_moon\",93],[\"Drama\",\"postive\",\"our_son\",89],[\"Drama\",\"postive\",\"priscilla\",82],[\"Drama\",\"postive\",\"oppenheimer_2023\",93],[\"Drama\",\"postive\",\"napoleon_2023\",58],[\"Action\",\"postive\",\"napoleon_2023\",58],[\"Drama\",\"postive\",\"animal_2023_2\",28],[\"Action\",\"postive\",\"animal_2023_2\",28],[\"Drama\",\"postive\",\"saltburn\",72],[\"Comedy\",\"postive\",\"saltburn\",72],[\"Drama\",\"postive\",\"the_holdovers\",96],[\"Comedy\",\"postive\",\"the_holdovers\",96],[\"Drama\",\"postive\",\"poor_things\",92],[\"Comedy\",\"postive\",\"poor_things\",92],[\"Drama\",\"postive\",\"eileen\",85],[\"Drama\",\"postive\",\"dream_scenario\",92],[\"Comedy\",\"postive\",\"dream_scenario\",92],[\"Horror\",\"postive\",\"dream_scenario\",92],[\"Drama\",\"postive\",\"the_oath_2023\",25],[\"Action\",\"postive\",\"the_oath_2023\",25],[\"Drama\",\"postive\",\"radical\",94],[\"Drama\",\"postive\",\"scrapper_2023\",94],[\"Comedy\",\"postive\",\"scrapper_2023\",94],[\"Drama\",\"postive\",\"fallen_leaves\",98],[\"Comedy\",\"postive\",\"fallen_leaves\",98],[\"Drama\",\"postive\",\"the_marsh_kings_daughter\",37],[\"Drama\",\"postive\",\"the_road_dance\",81],[\"Drama\",\"postive\",\"the_three_musketeers_part_i_dartagnan\",98],[\"Drama\",\"postive\",\"the_end_we_start_from\",81],[\"Drama\",\"postive\",\"the_persian_version\",82],[\"Comedy\",\"postive\",\"the_persian_version\",82],[\"Comedy\",\"postive\",\"wonka\",83],[\"Comedy\",\"postive\",\"trolls_band_together\",60],[\"Comedy\",\"postive\",\"wish_2023\",49],[\"Comedy\",\"postive\",\"love_actually\",64],[\"Comedy\",\"postive\",\"next_goal_wins_2023\",43],[\"Comedy\",\"postive\",\"barbie\",88],[\"Comedy\",\"postive\",\"waitress_the_musical\",100],[\"Comedy\",\"postive\",\"chicken_run_dawn_of_the_nugget\",78],[\"Horror\",\"postive\",\"thanksgiving_2023\",84],[\"Horror\",\"postive\",\"five_nights_at_freddys\",31],[\"Horror\",\"postive\",\"peeping_tom_1960\",95],[\"Horror\",\"postive\",\"a_creature_was_stirring\",50],[\"Action\",\"postive\",\"godzilla_minus_one\",98],[\"Action\",\"postive\",\"the_hunger_games_the_ballad_of_songbirds_and_snakes\",64],[\"Action\",\"postive\",\"silent_night_2023\",58],[\"Action\",\"postive\",\"the_marvels\",61],[\"Action\",\"postive\",\"die_hard\",94],[\"Action\",\"postive\",\"fast_charlie\",86],[\"Action\",\"postive\",\"concrete_utopia\",100],[\"Action\",\"postive\",\"indiana_jones_and_the_dial_of_destiny\",69]],\"hovertemplate\":\"Audience Score=%{x}\\u003cbr\\u003eSentiment Score=%{y:.2f}\\u003cbr\\u003egenre=%{customdata[0]}\\u003cbr\\u003ename=%{customdata[2]}\\u003cbr\\u003ecritic_score=%{customdata[3]:.2f}\\u003cextra\\u003e\\u003c\\u002fextra\\u003e\",\"legendgroup\":\"postive\",\"marker\":{\"color\":\"darkgreen\",\"symbol\":\"circle\",\"line\":{\"color\":\"black\",\"width\":1}},\"mode\":\"markers\",\"name\":\"postive\",\"orientation\":\"v\",\"showlegend\":true,\"x\":[91,100,84,62,63,91,58,58,81,81,79,79,91,91,93,93,51,68,68,68,88,88,99,83,83,79,79,73,94,81,86,92,92,89,92,81,72,85,83,98,90,79,87,85,38,98,89,50,83,94,84,79,88],\"xaxis\":\"x\",\"y\":[0.9994064569473268,0.9946322441101074,0.003707371186465,0.9998084902763368,0.0018249034183099,0.9966734647750854,0.1310316622257232,0.1310316622257232,0.8626295328140259,0.8626295328140259,0.0749327987432479,0.0749327987432479,0.9997522234916688,0.9997522234916688,0.0425177440047264,0.0425177440047264,0.0311567261815071,0.0323716551065444,0.0323716551065444,0.0323716551065444,0.3090555965900421,0.3090555965900421,0.9864633083343506,0.9970882534980774,0.9970882534980774,0.9627706408500672,0.9627706408500672,0.8796493411064148,0.9989957213401794,0.6307958364486694,0.999267876148224,0.999818742275238,0.999818742275238,0.695363461971283,0.969309389591217,0.7892768383026123,0.3528504073619842,0.9997052550315856,0.0010906447423622,0.99906188249588,0.9997047781944276,0.2530571520328522,0.0230127871036529,0.0122909108176827,0.0033944183960556,0.9993646740913392,0.0077262255363166,0.0110637685284018,0.035154465585947,0.9991400241851808,0.9996412992477416,0.9379463791847228,0.0039025803562253],\"yaxis\":\"y\",\"type\":\"scatter\"},{\"hovertemplate\":\"\\u003cb\\u003eOLS trendline\\u003c\\u002fb\\u003e\\u003cbr\\u003evalue = 0.0163072 * audience_score + -0.770369\\u003cbr\\u003eR\\u003csup\\u003e2\\u003c\\u002fsup\\u003e=0.236313\\u003cbr\\u003e\\u003cbr\\u003eAudience Score=%{x}\\u003cbr\\u003eSentiment Score=%{y:.2f} \\u003cb\\u003e(trend)\\u003c\\u002fb\\u003e\\u003cextra\\u003e\\u003c\\u002fextra\\u003e\",\"legendgroup\":\"postive\",\"marker\":{\"color\":\"darkgreen\",\"symbol\":\"circle\",\"line\":{\"color\":\"black\",\"width\":1}},\"mode\":\"lines\",\"name\":\"postive\",\"showlegend\":false,\"x\":[38,50,51,58,58,62,63,68,68,68,72,73,79,79,79,79,79,79,81,81,81,81,83,83,83,83,84,84,85,85,86,87,88,88,88,89,89,90,91,91,91,91,92,92,92,93,93,94,94,98,98,99,100],\"xaxis\":\"x\",\"y\":[-0.15069550847348545,0.04499074517787072,0.06129793298215036,0.1754482476121081,0.1754482476121081,0.24067699882922688,0.2569841866335064,0.33852012565490497,0.33852012565490497,0.33852012565490497,0.40374887687202354,0.4200560646763033,0.5178991915019814,0.5178991915019814,0.5178991915019814,0.5178991915019814,0.5178991915019814,0.5178991915019814,0.5505135671105407,0.5505135671105407,0.5505135671105407,0.5505135671105407,0.5831279427191,0.5831279427191,0.5831279427191,0.5831279427191,0.5994351305233797,0.5994351305233797,0.6157423183276595,0.6157423183276595,0.632049506131939,0.6483566939362188,0.6646638817404985,0.6646638817404985,0.6646638817404985,0.680971069544778,0.680971069544778,0.6972782573490578,0.7135854451533375,0.7135854451533375,0.7135854451533375,0.7135854451533375,0.7298926329576171,0.7298926329576171,0.7298926329576171,0.7461998207618968,0.7461998207618968,0.7625070085661766,0.7625070085661766,0.8277357597832952,0.8277357597832952,0.8440429475875749,0.8603501353918547],\"yaxis\":\"y\",\"type\":\"scatter\"},{\"customdata\":[[\"Drama\",\"negative\",\"four_daughters_2023\",96],[\"Drama\",\"negative\",\"the_taste_of_things\",98],[\"Drama\",\"negative\",\"killers_of_the_flower_moon\",93],[\"Drama\",\"negative\",\"our_son\",89],[\"Drama\",\"negative\",\"priscilla\",82],[\"Drama\",\"negative\",\"oppenheimer_2023\",93],[\"Drama\",\"negative\",\"napoleon_2023\",58],[\"Action\",\"negative\",\"napoleon_2023\",58],[\"Drama\",\"negative\",\"animal_2023_2\",28],[\"Action\",\"negative\",\"animal_2023_2\",28],[\"Drama\",\"negative\",\"saltburn\",72],[\"Comedy\",\"negative\",\"saltburn\",72],[\"Drama\",\"negative\",\"the_holdovers\",96],[\"Comedy\",\"negative\",\"the_holdovers\",96],[\"Drama\",\"negative\",\"poor_things\",92],[\"Comedy\",\"negative\",\"poor_things\",92],[\"Drama\",\"negative\",\"eileen\",85],[\"Drama\",\"negative\",\"dream_scenario\",92],[\"Comedy\",\"negative\",\"dream_scenario\",92],[\"Horror\",\"negative\",\"dream_scenario\",92],[\"Drama\",\"negative\",\"the_oath_2023\",25],[\"Action\",\"negative\",\"the_oath_2023\",25],[\"Drama\",\"negative\",\"radical\",94],[\"Drama\",\"negative\",\"scrapper_2023\",94],[\"Comedy\",\"negative\",\"scrapper_2023\",94],[\"Drama\",\"negative\",\"fallen_leaves\",98],[\"Comedy\",\"negative\",\"fallen_leaves\",98],[\"Drama\",\"negative\",\"the_marsh_kings_daughter\",37],[\"Drama\",\"negative\",\"the_road_dance\",81],[\"Drama\",\"negative\",\"the_three_musketeers_part_i_dartagnan\",98],[\"Drama\",\"negative\",\"the_end_we_start_from\",81],[\"Drama\",\"negative\",\"the_persian_version\",82],[\"Comedy\",\"negative\",\"the_persian_version\",82],[\"Comedy\",\"negative\",\"wonka\",83],[\"Comedy\",\"negative\",\"trolls_band_together\",60],[\"Comedy\",\"negative\",\"wish_2023\",49],[\"Comedy\",\"negative\",\"love_actually\",64],[\"Comedy\",\"negative\",\"next_goal_wins_2023\",43],[\"Comedy\",\"negative\",\"barbie\",88],[\"Comedy\",\"negative\",\"waitress_the_musical\",100],[\"Comedy\",\"negative\",\"chicken_run_dawn_of_the_nugget\",78],[\"Horror\",\"negative\",\"thanksgiving_2023\",84],[\"Horror\",\"negative\",\"five_nights_at_freddys\",31],[\"Horror\",\"negative\",\"peeping_tom_1960\",95],[\"Horror\",\"negative\",\"a_creature_was_stirring\",50],[\"Action\",\"negative\",\"godzilla_minus_one\",98],[\"Action\",\"negative\",\"the_hunger_games_the_ballad_of_songbirds_and_snakes\",64],[\"Action\",\"negative\",\"silent_night_2023\",58],[\"Action\",\"negative\",\"the_marvels\",61],[\"Action\",\"negative\",\"die_hard\",94],[\"Action\",\"negative\",\"fast_charlie\",86],[\"Action\",\"negative\",\"concrete_utopia\",100],[\"Action\",\"negative\",\"indiana_jones_and_the_dial_of_destiny\",69]],\"hovertemplate\":\"Audience Score=%{x}\\u003cbr\\u003eSentiment Score=%{y:.2f}\\u003cbr\\u003egenre=%{customdata[0]}\\u003cbr\\u003ename=%{customdata[2]}\\u003cbr\\u003ecritic_score=%{customdata[3]:.2f}\\u003cextra\\u003e\\u003c\\u002fextra\\u003e\",\"legendgroup\":\"negative\",\"marker\":{\"color\":\"firebrick\",\"symbol\":\"circle\",\"line\":{\"color\":\"black\",\"width\":1}},\"mode\":\"markers\",\"name\":\"negative\",\"orientation\":\"v\",\"showlegend\":true,\"x\":[91,100,84,62,63,91,58,58,81,81,79,79,91,91,93,93,51,68,68,68,88,88,99,83,83,79,79,73,94,81,86,92,92,89,92,81,72,85,83,98,90,79,87,85,38,98,89,50,83,94,84,79,88],\"xaxis\":\"x2\",\"y\":[2.4012300855247304e-05,0.0014963762369006,0.7216087579727173,5.3364012273959816e-05,0.9355056285858154,0.0010587609140202,0.0033869296312332,0.0033869296312332,0.0515198111534118,0.0515198111534118,0.8930639028549194,0.8930639028549194,4.002039713668637e-05,4.002039713668637e-05,0.176873043179512,0.176873043179512,0.0080937882885336,0.1578191667795181,0.1578191667795181,0.1578191667795181,0.0111136119812726,0.0111136119812726,0.0010357422288507,0.0001146689610322,0.0001146689610322,0.0028115368913859,0.0028115368913859,0.0214711762964725,0.0001041681898641,0.0088797928765416,3.61400016117841e-05,3.2521915272809565e-05,3.2521915272809565e-05,0.0102210054174065,0.0004716453258879,0.0454988963901996,0.1576026678085327,5.898041126783937e-05,0.9912546873092652,0.0002231099933851,4.353376425569877e-05,0.0322745069861412,0.001937338267453,0.6289188861846924,0.9808508157730104,4.621171319740824e-05,0.2350822389125824,0.980715036392212,0.7885273098945618,0.0002302805369254,5.6683915317989886e-05,0.0055128429085016,0.054895743727684],\"yaxis\":\"y2\",\"type\":\"scatter\"},{\"hovertemplate\":\"\\u003cb\\u003eOLS trendline\\u003c\\u002fb\\u003e\\u003cbr\\u003evalue = -0.0096489 * audience_score + 0.961539\\u003cbr\\u003eR\\u003csup\\u003e2\\u003c\\u002fsup\\u003e=0.157004\\u003cbr\\u003e\\u003cbr\\u003eAudience Score=%{x}\\u003cbr\\u003eSentiment Score=%{y:.2f} \\u003cb\\u003e(trend)\\u003c\\u002fb\\u003e\\u003cextra\\u003e\\u003c\\u002fextra\\u003e\",\"legendgroup\":\"negative\",\"marker\":{\"color\":\"firebrick\",\"symbol\":\"circle\",\"line\":{\"color\":\"black\",\"width\":1}},\"mode\":\"lines\",\"name\":\"negative\",\"showlegend\":false,\"x\":[38,50,51,58,58,62,63,68,68,68,72,73,79,79,79,79,79,79,81,81,81,81,83,83,83,83,84,84,85,85,86,87,88,88,88,89,89,90,91,91,91,91,92,92,92,93,93,94,94,98,98,99,100],\"xaxis\":\"x2\",\"y\":[0.5948807806485654,0.4790939892655364,0.4694450899836174,0.4019027950101838,0.4019027950101838,0.36330719788250754,0.3536582986005884,0.305413802190993,0.305413802190993,0.305413802190993,0.26681820506331677,0.25716930578139763,0.1992759100898832,0.1992759100898832,0.1992759100898832,0.1992759100898832,0.1992759100898832,0.1992759100898832,0.17997811152604504,0.17997811152604504,0.17997811152604504,0.17997811152604504,0.16068031296220686,0.16068031296220686,0.16068031296220686,0.16068031296220686,0.15103141368028783,0.15103141368028783,0.14138251439836869,0.14138251439836869,0.13173361511644965,0.12208471583453062,0.11243581655261148,0.11243581655261148,0.11243581655261148,0.10278691727069245,0.10278691727069245,0.0931380179887733,0.08348911870685427,0.08348911870685427,0.08348911870685427,0.08348911870685427,0.07384021942493524,0.07384021942493524,0.07384021942493524,0.0641913201430161,0.0641913201430161,0.05454242086109706,0.05454242086109706,0.015946823733420712,0.015946823733420712,0.00629792445150168,-0.0033509748304174636],\"yaxis\":\"y2\",\"type\":\"scatter\"},{\"customdata\":[[\"Drama\",\"neutral\",\"four_daughters_2023\",96],[\"Drama\",\"neutral\",\"the_taste_of_things\",98],[\"Drama\",\"neutral\",\"killers_of_the_flower_moon\",93],[\"Drama\",\"neutral\",\"our_son\",89],[\"Drama\",\"neutral\",\"priscilla\",82],[\"Drama\",\"neutral\",\"oppenheimer_2023\",93],[\"Drama\",\"neutral\",\"napoleon_2023\",58],[\"Action\",\"neutral\",\"napoleon_2023\",58],[\"Drama\",\"neutral\",\"animal_2023_2\",28],[\"Action\",\"neutral\",\"animal_2023_2\",28],[\"Drama\",\"neutral\",\"saltburn\",72],[\"Comedy\",\"neutral\",\"saltburn\",72],[\"Drama\",\"neutral\",\"the_holdovers\",96],[\"Comedy\",\"neutral\",\"the_holdovers\",96],[\"Drama\",\"neutral\",\"poor_things\",92],[\"Comedy\",\"neutral\",\"poor_things\",92],[\"Drama\",\"neutral\",\"eileen\",85],[\"Drama\",\"neutral\",\"dream_scenario\",92],[\"Comedy\",\"neutral\",\"dream_scenario\",92],[\"Horror\",\"neutral\",\"dream_scenario\",92],[\"Drama\",\"neutral\",\"the_oath_2023\",25],[\"Action\",\"neutral\",\"the_oath_2023\",25],[\"Drama\",\"neutral\",\"radical\",94],[\"Drama\",\"neutral\",\"scrapper_2023\",94],[\"Comedy\",\"neutral\",\"scrapper_2023\",94],[\"Drama\",\"neutral\",\"fallen_leaves\",98],[\"Comedy\",\"neutral\",\"fallen_leaves\",98],[\"Drama\",\"neutral\",\"the_marsh_kings_daughter\",37],[\"Drama\",\"neutral\",\"the_road_dance\",81],[\"Drama\",\"neutral\",\"the_three_musketeers_part_i_dartagnan\",98],[\"Drama\",\"neutral\",\"the_end_we_start_from\",81],[\"Drama\",\"neutral\",\"the_persian_version\",82],[\"Comedy\",\"neutral\",\"the_persian_version\",82],[\"Comedy\",\"neutral\",\"wonka\",83],[\"Comedy\",\"neutral\",\"trolls_band_together\",60],[\"Comedy\",\"neutral\",\"wish_2023\",49],[\"Comedy\",\"neutral\",\"love_actually\",64],[\"Comedy\",\"neutral\",\"next_goal_wins_2023\",43],[\"Comedy\",\"neutral\",\"barbie\",88],[\"Comedy\",\"neutral\",\"waitress_the_musical\",100],[\"Comedy\",\"neutral\",\"chicken_run_dawn_of_the_nugget\",78],[\"Horror\",\"neutral\",\"thanksgiving_2023\",84],[\"Horror\",\"neutral\",\"five_nights_at_freddys\",31],[\"Horror\",\"neutral\",\"peeping_tom_1960\",95],[\"Horror\",\"neutral\",\"a_creature_was_stirring\",50],[\"Action\",\"neutral\",\"godzilla_minus_one\",98],[\"Action\",\"neutral\",\"the_hunger_games_the_ballad_of_songbirds_and_snakes\",64],[\"Action\",\"neutral\",\"silent_night_2023\",58],[\"Action\",\"neutral\",\"the_marvels\",61],[\"Action\",\"neutral\",\"die_hard\",94],[\"Action\",\"neutral\",\"fast_charlie\",86],[\"Action\",\"neutral\",\"concrete_utopia\",100],[\"Action\",\"neutral\",\"indiana_jones_and_the_dial_of_destiny\",69]],\"hovertemplate\":\"Audience Score=%{x}\\u003cbr\\u003eSentiment Score=%{y:.2f}\\u003cbr\\u003egenre=%{customdata[0]}\\u003cbr\\u003ename=%{customdata[2]}\\u003cbr\\u003ecritic_score=%{customdata[3]:.2f}\\u003cextra\\u003e\\u003c\\u002fextra\\u003e\",\"legendgroup\":\"neutral\",\"marker\":{\"color\":\"grey\",\"symbol\":\"circle\",\"line\":{\"color\":\"black\",\"width\":1}},\"mode\":\"markers\",\"name\":\"neutral\",\"orientation\":\"v\",\"showlegend\":true,\"x\":[91,100,84,62,63,91,58,58,81,81,79,79,91,91,93,93,51,68,68,68,88,88,99,83,83,79,79,73,94,81,86,92,92,89,92,81,72,85,83,98,90,79,87,85,38,98,89,50,83,94,84,79,88],\"xaxis\":\"x3\",\"y\":[0.0005449030431918,0.0037645867560058,0.0017367838881909,0.0001117865031119,0.0003158677427563,0.0004604419227689,0.0001313731772825,0.0001313731772825,0.0655369535088539,0.0655369535088539,0.0010881202761083,0.0010881202761083,0.0001298176503041,0.0001298176503041,0.00062213774072,0.00062213774072,6.982815830269828e-05,0.0050589465536177,0.0050589465536177,0.0050589465536177,0.000403209705837,0.000403209705837,0.0005204047192819,0.0001164043278549,0.0001164043278549,0.0171919427812099,0.0171919427812099,0.0944309160113334,0.0008640892338007,0.3396311104297638,0.0006377683603204,0.0001016341484501,0.0001016341484501,0.0002949789341073,0.0002065016014967,0.0015840344130992,0.0061424705199897,0.0001268274500034,0.0001314275141339,0.0006761295953765,0.00015656404139,0.000634333177004,0.0001025933379423,0.0201116409152746,0.0010536964982748,0.0004606622387655,0.0010164385894313,0.0055444808676838,0.0296154506504535,0.0004063260857947,0.0001525421102996,0.0323111489415168,0.0005565542960539],\"yaxis\":\"y3\",\"type\":\"scatter\"},{\"hovertemplate\":\"\\u003cb\\u003eOLS trendline\\u003c\\u002fb\\u003e\\u003cbr\\u003evalue = -0.000141233 * audience_score + 0.025265\\u003cbr\\u003eR\\u003csup\\u003e2\\u003c\\u002fsup\\u003e=0.001467\\u003cbr\\u003e\\u003cbr\\u003eAudience Score=%{x}\\u003cbr\\u003eSentiment Score=%{y:.2f} \\u003cb\\u003e(trend)\\u003c\\u002fb\\u003e\\u003cextra\\u003e\\u003c\\u002fextra\\u003e\",\"legendgroup\":\"neutral\",\"marker\":{\"color\":\"grey\",\"symbol\":\"circle\",\"line\":{\"color\":\"black\",\"width\":1}},\"mode\":\"lines\",\"name\":\"neutral\",\"showlegend\":false,\"x\":[38,50,51,58,58,62,63,68,68,68,72,73,79,79,79,79,79,79,81,81,81,81,83,83,83,83,84,84,85,85,86,87,88,88,88,89,89,90,91,91,91,91,92,92,92,93,93,94,94,98,98,99,100],\"xaxis\":\"x3\",\"y\":[0.019898195987318335,0.018203405882902885,0.018062173374201598,0.01707354581329259,0.01707354581329259,0.01650861577848744,0.01636738326978615,0.015661220726279713,0.015661220726279713,0.015661220726279713,0.015096290691474562,0.014955058182773274,0.014107663130565551,0.014107663130565551,0.014107663130565551,0.014107663130565551,0.014107663130565551,0.014107663130565551,0.013825198113162976,0.013825198113162976,0.013825198113162976,0.013825198113162976,0.0135427330957604,0.0135427330957604,0.0135427330957604,0.0135427330957604,0.013401500587059113,0.013401500587059113,0.013260268078357826,0.013260268078357826,0.013119035569656538,0.01297780306095525,0.012836570552253963,0.012836570552253963,0.012836570552253963,0.012695338043552676,0.012695338043552676,0.012554105534851388,0.0124128730261501,0.0124128730261501,0.0124128730261501,0.0124128730261501,0.012271640517448813,0.012271640517448813,0.012271640517448813,0.012130408008747526,0.012130408008747526,0.011989175500046238,0.011989175500046238,0.01142424546524109,0.01142424546524109,0.011283012956539802,0.011141780447838515],\"yaxis\":\"y3\",\"type\":\"scatter\"},{\"customdata\":[[\"Drama\",\"mixed\",\"four_daughters_2023\",96],[\"Drama\",\"mixed\",\"the_taste_of_things\",98],[\"Drama\",\"mixed\",\"killers_of_the_flower_moon\",93],[\"Drama\",\"mixed\",\"our_son\",89],[\"Drama\",\"mixed\",\"priscilla\",82],[\"Drama\",\"mixed\",\"oppenheimer_2023\",93],[\"Drama\",\"mixed\",\"napoleon_2023\",58],[\"Action\",\"mixed\",\"napoleon_2023\",58],[\"Drama\",\"mixed\",\"animal_2023_2\",28],[\"Action\",\"mixed\",\"animal_2023_2\",28],[\"Drama\",\"mixed\",\"saltburn\",72],[\"Comedy\",\"mixed\",\"saltburn\",72],[\"Drama\",\"mixed\",\"the_holdovers\",96],[\"Comedy\",\"mixed\",\"the_holdovers\",96],[\"Drama\",\"mixed\",\"poor_things\",92],[\"Comedy\",\"mixed\",\"poor_things\",92],[\"Drama\",\"mixed\",\"eileen\",85],[\"Drama\",\"mixed\",\"dream_scenario\",92],[\"Comedy\",\"mixed\",\"dream_scenario\",92],[\"Horror\",\"mixed\",\"dream_scenario\",92],[\"Drama\",\"mixed\",\"the_oath_2023\",25],[\"Action\",\"mixed\",\"the_oath_2023\",25],[\"Drama\",\"mixed\",\"radical\",94],[\"Drama\",\"mixed\",\"scrapper_2023\",94],[\"Comedy\",\"mixed\",\"scrapper_2023\",94],[\"Drama\",\"mixed\",\"fallen_leaves\",98],[\"Comedy\",\"mixed\",\"fallen_leaves\",98],[\"Drama\",\"mixed\",\"the_marsh_kings_daughter\",37],[\"Drama\",\"mixed\",\"the_road_dance\",81],[\"Drama\",\"mixed\",\"the_three_musketeers_part_i_dartagnan\",98],[\"Drama\",\"mixed\",\"the_end_we_start_from\",81],[\"Drama\",\"mixed\",\"the_persian_version\",82],[\"Comedy\",\"mixed\",\"the_persian_version\",82],[\"Comedy\",\"mixed\",\"wonka\",83],[\"Comedy\",\"mixed\",\"trolls_band_together\",60],[\"Comedy\",\"mixed\",\"wish_2023\",49],[\"Comedy\",\"mixed\",\"love_actually\",64],[\"Comedy\",\"mixed\",\"next_goal_wins_2023\",43],[\"Comedy\",\"mixed\",\"barbie\",88],[\"Comedy\",\"mixed\",\"waitress_the_musical\",100],[\"Comedy\",\"mixed\",\"chicken_run_dawn_of_the_nugget\",78],[\"Horror\",\"mixed\",\"thanksgiving_2023\",84],[\"Horror\",\"mixed\",\"five_nights_at_freddys\",31],[\"Horror\",\"mixed\",\"peeping_tom_1960\",95],[\"Horror\",\"mixed\",\"a_creature_was_stirring\",50],[\"Action\",\"mixed\",\"godzilla_minus_one\",98],[\"Action\",\"mixed\",\"the_hunger_games_the_ballad_of_songbirds_and_snakes\",64],[\"Action\",\"mixed\",\"silent_night_2023\",58],[\"Action\",\"mixed\",\"the_marvels\",61],[\"Action\",\"mixed\",\"die_hard\",94],[\"Action\",\"mixed\",\"fast_charlie\",86],[\"Action\",\"mixed\",\"concrete_utopia\",100],[\"Action\",\"mixed\",\"indiana_jones_and_the_dial_of_destiny\",69]],\"hovertemplate\":\"Audience Score=%{x}\\u003cbr\\u003eSentiment Score=%{y:.2f}\\u003cbr\\u003egenre=%{customdata[0]}\\u003cbr\\u003ename=%{customdata[2]}\\u003cbr\\u003ecritic_score=%{customdata[3]:.2f}\\u003cextra\\u003e\\u003c\\u002fextra\\u003e\",\"legendgroup\":\"mixed\",\"marker\":{\"color\":\"orange\",\"symbol\":\"circle\",\"line\":{\"color\":\"black\",\"width\":1}},\"mode\":\"markers\",\"name\":\"mixed\",\"orientation\":\"v\",\"showlegend\":true,\"x\":[91,100,84,62,63,91,58,58,81,81,79,79,91,91,93,93,51,68,68,68,88,88,99,83,83,79,79,73,94,81,86,92,92,89,92,81,72,85,83,98,90,79,87,85,38,98,89,50,83,94,84,79,88],\"xaxis\":\"x4\",\"y\":[2.463305827404838e-05,0.0001068809797288,0.2729470729827881,2.6325054932385683e-05,0.0623535104095935,0.0018072931561619,0.8654500842094421,0.8654500842094421,0.0203137993812561,0.0203137993812561,0.030915169045329,0.030915169045329,7.790325616952032e-05,7.790325616952032e-05,0.7799870371818542,0.7799870371818542,0.9606795907020568,0.8047502040863037,0.8047502040863037,0.8047502040863037,0.6794276237487793,0.6794276237487793,0.0119805177673697,0.0026807119138538,0.0026807119138538,0.0172258745878934,0.0172258745878934,0.0044485577382147,3.603246659622528e-05,0.0206932667642831,5.830528607475571e-05,4.706321487901732e-05,4.706321487901732e-05,0.2941206097602844,0.0300124436616897,0.1636402457952499,0.4834045469760895,0.0001088746939785,0.007523238658905,3.889740037266165e-05,9.51618785620667e-05,0.7140340209007263,0.9749472737312316,0.3386785686016083,0.0147010711953043,0.0001284727768506,0.7561751008033752,0.0026766548398882,0.1467027813196182,0.0002234432467957,0.0001494703174103,0.0242295954376459,0.9406452178955078],\"yaxis\":\"y4\",\"type\":\"scatter\"},{\"hovertemplate\":\"\\u003cb\\u003eOLS trendline\\u003c\\u002fb\\u003e\\u003cbr\\u003evalue = -0.00651706 * audience_score + 0.783565\\u003cbr\\u003eR\\u003csup\\u003e2\\u003c\\u002fsup\\u003e=0.059730\\u003cbr\\u003e\\u003cbr\\u003eAudience Score=%{x}\\u003cbr\\u003eSentiment Score=%{y:.2f} \\u003cb\\u003e(trend)\\u003c\\u002fb\\u003e\\u003cextra\\u003e\\u003c\\u002fextra\\u003e\",\"legendgroup\":\"mixed\",\"marker\":{\"color\":\"orange\",\"symbol\":\"circle\",\"line\":{\"color\":\"black\",\"width\":1}},\"mode\":\"lines\",\"name\":\"mixed\",\"showlegend\":false,\"x\":[38,50,51,58,58,62,63,68,68,68,72,73,79,79,79,79,79,79,81,81,81,81,83,83,83,83,84,84,85,85,86,87,88,88,88,89,89,90,91,91,91,91,92,92,92,93,93,94,94,98,98,99,100],\"xaxis\":\"x4\",\"y\":[0.5359165074671806,0.4577118436056277,0.4511947882838317,0.40557540103125916,0.40557540103125916,0.3795071797440749,0.37299012442227886,0.3404048478132985,0.3404048478132985,0.3404048478132985,0.3143366265261142,0.30781957120431813,0.26871723927354174,0.26871723927354174,0.26871723927354174,0.26871723927354174,0.26871723927354174,0.26871723927354174,0.2556831286299496,0.2556831286299496,0.2556831286299496,0.2556831286299496,0.24264901798635752,0.24264901798635752,0.24264901798635752,0.24264901798635752,0.23613196266456138,0.23613196266456138,0.22961490734276535,0.22961490734276535,0.2230978520209692,0.21658079669917318,0.21006374137737716,0.21006374137737716,0.21006374137737716,0.20354668605558102,0.20354668605558102,0.197029630733785,0.19051257541198896,0.19051257541198896,0.19051257541198896,0.19051257541198896,0.18399552009019282,0.18399552009019282,0.18399552009019282,0.1774784647683968,0.1774784647683968,0.17096140944660065,0.17096140944660065,0.14489318815941643,0.14489318815941643,0.1383761328376204,0.13185907751582426],\"yaxis\":\"y4\",\"type\":\"scatter\"}],                        {\"template\":{\"data\":{\"barpolar\":[{\"marker\":{\"line\":{\"color\":\"white\",\"width\":0.5},\"pattern\":{\"fillmode\":\"overlay\",\"size\":10,\"solidity\":0.2}},\"type\":\"barpolar\"}],\"bar\":[{\"error_x\":{\"color\":\"rgb(36,36,36)\"},\"error_y\":{\"color\":\"rgb(36,36,36)\"},\"marker\":{\"line\":{\"color\":\"white\",\"width\":0.5},\"pattern\":{\"fillmode\":\"overlay\",\"size\":10,\"solidity\":0.2}},\"type\":\"bar\"}],\"carpet\":[{\"aaxis\":{\"endlinecolor\":\"rgb(36,36,36)\",\"gridcolor\":\"white\",\"linecolor\":\"white\",\"minorgridcolor\":\"white\",\"startlinecolor\":\"rgb(36,36,36)\"},\"baxis\":{\"endlinecolor\":\"rgb(36,36,36)\",\"gridcolor\":\"white\",\"linecolor\":\"white\",\"minorgridcolor\":\"white\",\"startlinecolor\":\"rgb(36,36,36)\"},\"type\":\"carpet\"}],\"choropleth\":[{\"colorbar\":{\"outlinewidth\":1,\"tickcolor\":\"rgb(36,36,36)\",\"ticks\":\"outside\"},\"type\":\"choropleth\"}],\"contourcarpet\":[{\"colorbar\":{\"outlinewidth\":1,\"tickcolor\":\"rgb(36,36,36)\",\"ticks\":\"outside\"},\"type\":\"contourcarpet\"}],\"contour\":[{\"colorbar\":{\"outlinewidth\":1,\"tickcolor\":\"rgb(36,36,36)\",\"ticks\":\"outside\"},\"colorscale\":[[0.0,\"#440154\"],[0.1111111111111111,\"#482878\"],[0.2222222222222222,\"#3e4989\"],[0.3333333333333333,\"#31688e\"],[0.4444444444444444,\"#26828e\"],[0.5555555555555556,\"#1f9e89\"],[0.6666666666666666,\"#35b779\"],[0.7777777777777778,\"#6ece58\"],[0.8888888888888888,\"#b5de2b\"],[1.0,\"#fde725\"]],\"type\":\"contour\"}],\"heatmapgl\":[{\"colorbar\":{\"outlinewidth\":1,\"tickcolor\":\"rgb(36,36,36)\",\"ticks\":\"outside\"},\"colorscale\":[[0.0,\"#440154\"],[0.1111111111111111,\"#482878\"],[0.2222222222222222,\"#3e4989\"],[0.3333333333333333,\"#31688e\"],[0.4444444444444444,\"#26828e\"],[0.5555555555555556,\"#1f9e89\"],[0.6666666666666666,\"#35b779\"],[0.7777777777777778,\"#6ece58\"],[0.8888888888888888,\"#b5de2b\"],[1.0,\"#fde725\"]],\"type\":\"heatmapgl\"}],\"heatmap\":[{\"colorbar\":{\"outlinewidth\":1,\"tickcolor\":\"rgb(36,36,36)\",\"ticks\":\"outside\"},\"colorscale\":[[0.0,\"#440154\"],[0.1111111111111111,\"#482878\"],[0.2222222222222222,\"#3e4989\"],[0.3333333333333333,\"#31688e\"],[0.4444444444444444,\"#26828e\"],[0.5555555555555556,\"#1f9e89\"],[0.6666666666666666,\"#35b779\"],[0.7777777777777778,\"#6ece58\"],[0.8888888888888888,\"#b5de2b\"],[1.0,\"#fde725\"]],\"type\":\"heatmap\"}],\"histogram2dcontour\":[{\"colorbar\":{\"outlinewidth\":1,\"tickcolor\":\"rgb(36,36,36)\",\"ticks\":\"outside\"},\"colorscale\":[[0.0,\"#440154\"],[0.1111111111111111,\"#482878\"],[0.2222222222222222,\"#3e4989\"],[0.3333333333333333,\"#31688e\"],[0.4444444444444444,\"#26828e\"],[0.5555555555555556,\"#1f9e89\"],[0.6666666666666666,\"#35b779\"],[0.7777777777777778,\"#6ece58\"],[0.8888888888888888,\"#b5de2b\"],[1.0,\"#fde725\"]],\"type\":\"histogram2dcontour\"}],\"histogram2d\":[{\"colorbar\":{\"outlinewidth\":1,\"tickcolor\":\"rgb(36,36,36)\",\"ticks\":\"outside\"},\"colorscale\":[[0.0,\"#440154\"],[0.1111111111111111,\"#482878\"],[0.2222222222222222,\"#3e4989\"],[0.3333333333333333,\"#31688e\"],[0.4444444444444444,\"#26828e\"],[0.5555555555555556,\"#1f9e89\"],[0.6666666666666666,\"#35b779\"],[0.7777777777777778,\"#6ece58\"],[0.8888888888888888,\"#b5de2b\"],[1.0,\"#fde725\"]],\"type\":\"histogram2d\"}],\"histogram\":[{\"marker\":{\"line\":{\"color\":\"white\",\"width\":0.6}},\"type\":\"histogram\"}],\"mesh3d\":[{\"colorbar\":{\"outlinewidth\":1,\"tickcolor\":\"rgb(36,36,36)\",\"ticks\":\"outside\"},\"type\":\"mesh3d\"}],\"parcoords\":[{\"line\":{\"colorbar\":{\"outlinewidth\":1,\"tickcolor\":\"rgb(36,36,36)\",\"ticks\":\"outside\"}},\"type\":\"parcoords\"}],\"pie\":[{\"automargin\":true,\"type\":\"pie\"}],\"scatter3d\":[{\"line\":{\"colorbar\":{\"outlinewidth\":1,\"tickcolor\":\"rgb(36,36,36)\",\"ticks\":\"outside\"}},\"marker\":{\"colorbar\":{\"outlinewidth\":1,\"tickcolor\":\"rgb(36,36,36)\",\"ticks\":\"outside\"}},\"type\":\"scatter3d\"}],\"scattercarpet\":[{\"marker\":{\"colorbar\":{\"outlinewidth\":1,\"tickcolor\":\"rgb(36,36,36)\",\"ticks\":\"outside\"}},\"type\":\"scattercarpet\"}],\"scattergeo\":[{\"marker\":{\"colorbar\":{\"outlinewidth\":1,\"tickcolor\":\"rgb(36,36,36)\",\"ticks\":\"outside\"}},\"type\":\"scattergeo\"}],\"scattergl\":[{\"marker\":{\"colorbar\":{\"outlinewidth\":1,\"tickcolor\":\"rgb(36,36,36)\",\"ticks\":\"outside\"}},\"type\":\"scattergl\"}],\"scattermapbox\":[{\"marker\":{\"colorbar\":{\"outlinewidth\":1,\"tickcolor\":\"rgb(36,36,36)\",\"ticks\":\"outside\"}},\"type\":\"scattermapbox\"}],\"scatterpolargl\":[{\"marker\":{\"colorbar\":{\"outlinewidth\":1,\"tickcolor\":\"rgb(36,36,36)\",\"ticks\":\"outside\"}},\"type\":\"scatterpolargl\"}],\"scatterpolar\":[{\"marker\":{\"colorbar\":{\"outlinewidth\":1,\"tickcolor\":\"rgb(36,36,36)\",\"ticks\":\"outside\"}},\"type\":\"scatterpolar\"}],\"scatter\":[{\"fillpattern\":{\"fillmode\":\"overlay\",\"size\":10,\"solidity\":0.2},\"type\":\"scatter\"}],\"scatterternary\":[{\"marker\":{\"colorbar\":{\"outlinewidth\":1,\"tickcolor\":\"rgb(36,36,36)\",\"ticks\":\"outside\"}},\"type\":\"scatterternary\"}],\"surface\":[{\"colorbar\":{\"outlinewidth\":1,\"tickcolor\":\"rgb(36,36,36)\",\"ticks\":\"outside\"},\"colorscale\":[[0.0,\"#440154\"],[0.1111111111111111,\"#482878\"],[0.2222222222222222,\"#3e4989\"],[0.3333333333333333,\"#31688e\"],[0.4444444444444444,\"#26828e\"],[0.5555555555555556,\"#1f9e89\"],[0.6666666666666666,\"#35b779\"],[0.7777777777777778,\"#6ece58\"],[0.8888888888888888,\"#b5de2b\"],[1.0,\"#fde725\"]],\"type\":\"surface\"}],\"table\":[{\"cells\":{\"fill\":{\"color\":\"rgb(237,237,237)\"},\"line\":{\"color\":\"white\"}},\"header\":{\"fill\":{\"color\":\"rgb(217,217,217)\"},\"line\":{\"color\":\"white\"}},\"type\":\"table\"}]},\"layout\":{\"annotationdefaults\":{\"arrowhead\":0,\"arrowwidth\":1},\"autotypenumbers\":\"strict\",\"coloraxis\":{\"colorbar\":{\"outlinewidth\":1,\"tickcolor\":\"rgb(36,36,36)\",\"ticks\":\"outside\"}},\"colorscale\":{\"diverging\":[[0.0,\"rgb(103,0,31)\"],[0.1,\"rgb(178,24,43)\"],[0.2,\"rgb(214,96,77)\"],[0.3,\"rgb(244,165,130)\"],[0.4,\"rgb(253,219,199)\"],[0.5,\"rgb(247,247,247)\"],[0.6,\"rgb(209,229,240)\"],[0.7,\"rgb(146,197,222)\"],[0.8,\"rgb(67,147,195)\"],[0.9,\"rgb(33,102,172)\"],[1.0,\"rgb(5,48,97)\"]],\"sequential\":[[0.0,\"#440154\"],[0.1111111111111111,\"#482878\"],[0.2222222222222222,\"#3e4989\"],[0.3333333333333333,\"#31688e\"],[0.4444444444444444,\"#26828e\"],[0.5555555555555556,\"#1f9e89\"],[0.6666666666666666,\"#35b779\"],[0.7777777777777778,\"#6ece58\"],[0.8888888888888888,\"#b5de2b\"],[1.0,\"#fde725\"]],\"sequentialminus\":[[0.0,\"#440154\"],[0.1111111111111111,\"#482878\"],[0.2222222222222222,\"#3e4989\"],[0.3333333333333333,\"#31688e\"],[0.4444444444444444,\"#26828e\"],[0.5555555555555556,\"#1f9e89\"],[0.6666666666666666,\"#35b779\"],[0.7777777777777778,\"#6ece58\"],[0.8888888888888888,\"#b5de2b\"],[1.0,\"#fde725\"]]},\"colorway\":[\"#1F77B4\",\"#FF7F0E\",\"#2CA02C\",\"#D62728\",\"#9467BD\",\"#8C564B\",\"#E377C2\",\"#7F7F7F\",\"#BCBD22\",\"#17BECF\"],\"font\":{\"color\":\"rgb(36,36,36)\"},\"geo\":{\"bgcolor\":\"white\",\"lakecolor\":\"white\",\"landcolor\":\"white\",\"showlakes\":true,\"showland\":true,\"subunitcolor\":\"white\"},\"hoverlabel\":{\"align\":\"left\"},\"hovermode\":\"closest\",\"mapbox\":{\"style\":\"light\"},\"paper_bgcolor\":\"white\",\"plot_bgcolor\":\"white\",\"polar\":{\"angularaxis\":{\"gridcolor\":\"rgb(232,232,232)\",\"linecolor\":\"rgb(36,36,36)\",\"showgrid\":false,\"showline\":true,\"ticks\":\"outside\"},\"bgcolor\":\"white\",\"radialaxis\":{\"gridcolor\":\"rgb(232,232,232)\",\"linecolor\":\"rgb(36,36,36)\",\"showgrid\":false,\"showline\":true,\"ticks\":\"outside\"}},\"scene\":{\"xaxis\":{\"backgroundcolor\":\"white\",\"gridcolor\":\"rgb(232,232,232)\",\"gridwidth\":2,\"linecolor\":\"rgb(36,36,36)\",\"showbackground\":true,\"showgrid\":false,\"showline\":true,\"ticks\":\"outside\",\"zeroline\":false,\"zerolinecolor\":\"rgb(36,36,36)\"},\"yaxis\":{\"backgroundcolor\":\"white\",\"gridcolor\":\"rgb(232,232,232)\",\"gridwidth\":2,\"linecolor\":\"rgb(36,36,36)\",\"showbackground\":true,\"showgrid\":false,\"showline\":true,\"ticks\":\"outside\",\"zeroline\":false,\"zerolinecolor\":\"rgb(36,36,36)\"},\"zaxis\":{\"backgroundcolor\":\"white\",\"gridcolor\":\"rgb(232,232,232)\",\"gridwidth\":2,\"linecolor\":\"rgb(36,36,36)\",\"showbackground\":true,\"showgrid\":false,\"showline\":true,\"ticks\":\"outside\",\"zeroline\":false,\"zerolinecolor\":\"rgb(36,36,36)\"}},\"shapedefaults\":{\"fillcolor\":\"black\",\"line\":{\"width\":0},\"opacity\":0.3},\"ternary\":{\"aaxis\":{\"gridcolor\":\"rgb(232,232,232)\",\"linecolor\":\"rgb(36,36,36)\",\"showgrid\":false,\"showline\":true,\"ticks\":\"outside\"},\"baxis\":{\"gridcolor\":\"rgb(232,232,232)\",\"linecolor\":\"rgb(36,36,36)\",\"showgrid\":false,\"showline\":true,\"ticks\":\"outside\"},\"bgcolor\":\"white\",\"caxis\":{\"gridcolor\":\"rgb(232,232,232)\",\"linecolor\":\"rgb(36,36,36)\",\"showgrid\":false,\"showline\":true,\"ticks\":\"outside\"}},\"title\":{\"x\":0.05},\"xaxis\":{\"automargin\":true,\"gridcolor\":\"rgb(232,232,232)\",\"linecolor\":\"rgb(36,36,36)\",\"showgrid\":false,\"showline\":true,\"ticks\":\"outside\",\"title\":{\"standoff\":15},\"zeroline\":false,\"zerolinecolor\":\"rgb(36,36,36)\"},\"yaxis\":{\"automargin\":true,\"gridcolor\":\"rgb(232,232,232)\",\"linecolor\":\"rgb(36,36,36)\",\"showgrid\":false,\"showline\":true,\"ticks\":\"outside\",\"title\":{\"standoff\":15},\"zeroline\":false,\"zerolinecolor\":\"rgb(36,36,36)\"}}},\"xaxis\":{\"anchor\":\"y\",\"domain\":[0.0,0.235],\"title\":{\"text\":\"Audience Score\"},\"range\":[20,100]},\"yaxis\":{\"anchor\":\"x\",\"domain\":[0.0,1.0],\"title\":{\"text\":\"Sentiment Score\"},\"range\":[0,1]},\"xaxis2\":{\"anchor\":\"y2\",\"domain\":[0.255,0.49],\"matches\":\"x\",\"title\":{\"text\":\"Audience Score\"},\"range\":[20,100]},\"yaxis2\":{\"anchor\":\"x2\",\"domain\":[0.0,1.0],\"matches\":\"y\",\"showticklabels\":false,\"range\":[0,1]},\"xaxis3\":{\"anchor\":\"y3\",\"domain\":[0.51,0.745],\"matches\":\"x\",\"title\":{\"text\":\"Audience Score\"},\"range\":[20,100]},\"yaxis3\":{\"anchor\":\"x3\",\"domain\":[0.0,1.0],\"matches\":\"y\",\"showticklabels\":false,\"range\":[0,1]},\"xaxis4\":{\"anchor\":\"y4\",\"domain\":[0.7649999999999999,0.9999999999999999],\"matches\":\"x\",\"title\":{\"text\":\"Audience Score\"},\"range\":[20,100]},\"yaxis4\":{\"anchor\":\"x4\",\"domain\":[0.0,1.0],\"matches\":\"y\",\"showticklabels\":false,\"range\":[0,1]},\"annotations\":[{\"font\":{},\"showarrow\":false,\"text\":\"Positive Reviews\",\"x\":0.1175,\"xanchor\":\"center\",\"xref\":\"paper\",\"y\":1.0,\"yanchor\":\"bottom\",\"yref\":\"paper\"},{\"font\":{},\"showarrow\":false,\"text\":\"Negative Reviews\",\"x\":0.3725,\"xanchor\":\"center\",\"xref\":\"paper\",\"y\":1.0,\"yanchor\":\"bottom\",\"yref\":\"paper\"},{\"font\":{},\"showarrow\":false,\"text\":\"Neutral Reviews\",\"x\":0.6275,\"xanchor\":\"center\",\"xref\":\"paper\",\"y\":1.0,\"yanchor\":\"bottom\",\"yref\":\"paper\"},{\"font\":{},\"showarrow\":false,\"text\":\"Mixed Reviews\",\"x\":0.8824999999999998,\"xanchor\":\"center\",\"xref\":\"paper\",\"y\":1.0,\"yanchor\":\"bottom\",\"yref\":\"paper\"}],\"legend\":{\"title\":{\"text\":\"Sentiment\"},\"tracegroupgap\":0},\"margin\":{\"t\":60},\"title\":{\"font\":{\"size\":20},\"text\":\"\\u003cb\\u003eAudience Sentiment Scores Compared to Audience Scores\\u003c\\u002fb\\u003e\",\"x\":0.5},\"height\":450,\"width\":1400,\"showlegend\":false},                        {\"responsive\": true}                    ).then(function(){\n",
       "                            \n",
       "var gd = document.getElementById('7534de3e-8a7a-4cee-b99a-0b19700810c9');\n",
       "var x = new MutationObserver(function (mutations, observer) {{\n",
       "        var display = window.getComputedStyle(gd).display;\n",
       "        if (!display || display === 'none') {{\n",
       "            console.log([gd, 'removed!']);\n",
       "            Plotly.purge(gd);\n",
       "            observer.disconnect();\n",
       "        }}\n",
       "}});\n",
       "\n",
       "// Listen for the removal of the full notebook cells\n",
       "var notebookContainer = gd.closest('#notebook-container');\n",
       "if (notebookContainer) {{\n",
       "    x.observe(notebookContainer, {childList: true});\n",
       "}}\n",
       "\n",
       "// Listen for the clearing of the current output cell\n",
       "var outputEl = gd.closest('.output');\n",
       "if (outputEl) {{\n",
       "    x.observe(outputEl, {childList: true});\n",
       "}}\n",
       "\n",
       "                        })                };                });            </script>        </div>"
      ]
     },
     "metadata": {},
     "output_type": "display_data"
    }
   ],
   "source": [
    "scatter2 = px.scatter(scatter_melted.query(\"reviewby == 'audience'\"), x='audience_score', y='value',\n",
    "                      color = 'variable',\n",
    "                      facet_col='variable',\n",
    "                      template=\"simple_white\",\n",
    "                     trendline='ols',\n",
    "                     labels = {'variable' : 'Sentiment','audience_score':'Audience Score','value':'Sentiment Score'}, # rename legend label\n",
    "                     hover_data={'genre': True, 'variable': False,'name':True, 'critic_score': ':.2f', 'value': ':.2f'},\n",
    "                    color_discrete_map={'negative': 'firebrick', 'postive': 'darkgreen','neutral':'grey','mixed':'orange'})\n",
    "\n",
    "scatter2.update_layout(height=450, width=1400,\n",
    "                       title=dict(text='<b>Audience Sentiment Scores Compared to Audience Scores</b>',font=dict(size=20)),\n",
    "                        title_x = 0.5, # move title to the middle\n",
    "                        showlegend=False\n",
    "                        )\n",
    "\n",
    "scatter2.update_traces(marker=dict(line=dict(color='black', width=1)))\n",
    "\n",
    "scatter2.for_each_annotation(lambda a: a.update(text=a.text.split(\"=\")[-1].replace(\n",
    "    'postive', 'Positive Reviews').replace('negative', 'Negative Reviews').replace('neutral', 'Neutral Reviews').replace(\n",
    "        'mixed', 'Mixed Reviews').replace('critic', 'Critic Reviews').replace('audience', 'Audience Reviews'))) # rename facet titles\n",
    "\n",
    "scatter2.update_yaxes(range=[0, 1])\n",
    "scatter2.update_xaxes(range=[20, 100])\n",
    "\n",
    "scatter2.show()"
   ]
  },
  {
   "cell_type": "code",
   "execution_count": 19,
   "metadata": {},
   "outputs": [
    {
     "data": {
      "text/html": [
       "<div>\n",
       "<style scoped>\n",
       "    .dataframe tbody tr th:only-of-type {\n",
       "        vertical-align: middle;\n",
       "    }\n",
       "\n",
       "    .dataframe tbody tr th {\n",
       "        vertical-align: top;\n",
       "    }\n",
       "\n",
       "    .dataframe thead th {\n",
       "        text-align: right;\n",
       "    }\n",
       "</style>\n",
       "<table border=\"1\" class=\"dataframe\">\n",
       "  <thead>\n",
       "    <tr style=\"text-align: right;\">\n",
       "      <th></th>\n",
       "      <th>genre</th>\n",
       "      <th>name</th>\n",
       "      <th>critic_score</th>\n",
       "      <th>audience_score</th>\n",
       "      <th>variable</th>\n",
       "      <th>value</th>\n",
       "    </tr>\n",
       "  </thead>\n",
       "  <tbody>\n",
       "    <tr>\n",
       "      <th>0</th>\n",
       "      <td>Drama</td>\n",
       "      <td>four_daughters_2023</td>\n",
       "      <td>96</td>\n",
       "      <td>91</td>\n",
       "      <td>critic_sentiment</td>\n",
       "      <td>POSITIVE</td>\n",
       "    </tr>\n",
       "    <tr>\n",
       "      <th>1</th>\n",
       "      <td>Drama</td>\n",
       "      <td>the_taste_of_things</td>\n",
       "      <td>98</td>\n",
       "      <td>100</td>\n",
       "      <td>critic_sentiment</td>\n",
       "      <td>MIXED</td>\n",
       "    </tr>\n",
       "    <tr>\n",
       "      <th>2</th>\n",
       "      <td>Drama</td>\n",
       "      <td>killers_of_the_flower_moon</td>\n",
       "      <td>93</td>\n",
       "      <td>84</td>\n",
       "      <td>critic_sentiment</td>\n",
       "      <td>MIXED</td>\n",
       "    </tr>\n",
       "    <tr>\n",
       "      <th>3</th>\n",
       "      <td>Drama</td>\n",
       "      <td>our_son</td>\n",
       "      <td>89</td>\n",
       "      <td>62</td>\n",
       "      <td>critic_sentiment</td>\n",
       "      <td>POSITIVE</td>\n",
       "    </tr>\n",
       "    <tr>\n",
       "      <th>4</th>\n",
       "      <td>Drama</td>\n",
       "      <td>priscilla</td>\n",
       "      <td>82</td>\n",
       "      <td>63</td>\n",
       "      <td>critic_sentiment</td>\n",
       "      <td>POSITIVE</td>\n",
       "    </tr>\n",
       "    <tr>\n",
       "      <th>...</th>\n",
       "      <td>...</td>\n",
       "      <td>...</td>\n",
       "      <td>...</td>\n",
       "      <td>...</td>\n",
       "      <td>...</td>\n",
       "      <td>...</td>\n",
       "    </tr>\n",
       "    <tr>\n",
       "      <th>101</th>\n",
       "      <td>Action</td>\n",
       "      <td>the_marvels</td>\n",
       "      <td>61</td>\n",
       "      <td>83</td>\n",
       "      <td>audience_sentiment</td>\n",
       "      <td>NEGATIVE</td>\n",
       "    </tr>\n",
       "    <tr>\n",
       "      <th>102</th>\n",
       "      <td>Action</td>\n",
       "      <td>die_hard</td>\n",
       "      <td>94</td>\n",
       "      <td>94</td>\n",
       "      <td>audience_sentiment</td>\n",
       "      <td>POSITIVE</td>\n",
       "    </tr>\n",
       "    <tr>\n",
       "      <th>103</th>\n",
       "      <td>Action</td>\n",
       "      <td>fast_charlie</td>\n",
       "      <td>86</td>\n",
       "      <td>84</td>\n",
       "      <td>audience_sentiment</td>\n",
       "      <td>POSITIVE</td>\n",
       "    </tr>\n",
       "    <tr>\n",
       "      <th>104</th>\n",
       "      <td>Action</td>\n",
       "      <td>concrete_utopia</td>\n",
       "      <td>100</td>\n",
       "      <td>79</td>\n",
       "      <td>audience_sentiment</td>\n",
       "      <td>POSITIVE</td>\n",
       "    </tr>\n",
       "    <tr>\n",
       "      <th>105</th>\n",
       "      <td>Action</td>\n",
       "      <td>indiana_jones_and_the_dial_of_destiny</td>\n",
       "      <td>69</td>\n",
       "      <td>88</td>\n",
       "      <td>audience_sentiment</td>\n",
       "      <td>MIXED</td>\n",
       "    </tr>\n",
       "  </tbody>\n",
       "</table>\n",
       "<p>106 rows × 6 columns</p>\n",
       "</div>"
      ],
      "text/plain": [
       "      genre                                   name  critic_score  \\\n",
       "0     Drama                    four_daughters_2023            96   \n",
       "1     Drama                    the_taste_of_things            98   \n",
       "2     Drama             killers_of_the_flower_moon            93   \n",
       "3     Drama                                our_son            89   \n",
       "4     Drama                              priscilla            82   \n",
       "..      ...                                    ...           ...   \n",
       "101  Action                            the_marvels            61   \n",
       "102  Action                               die_hard            94   \n",
       "103  Action                           fast_charlie            86   \n",
       "104  Action                        concrete_utopia           100   \n",
       "105  Action  indiana_jones_and_the_dial_of_destiny            69   \n",
       "\n",
       "     audience_score            variable     value  \n",
       "0                91    critic_sentiment  POSITIVE  \n",
       "1               100    critic_sentiment     MIXED  \n",
       "2                84    critic_sentiment     MIXED  \n",
       "3                62    critic_sentiment  POSITIVE  \n",
       "4                63    critic_sentiment  POSITIVE  \n",
       "..              ...                 ...       ...  \n",
       "101              83  audience_sentiment  NEGATIVE  \n",
       "102              94  audience_sentiment  POSITIVE  \n",
       "103              84  audience_sentiment  POSITIVE  \n",
       "104              79  audience_sentiment  POSITIVE  \n",
       "105              88  audience_sentiment     MIXED  \n",
       "\n",
       "[106 rows x 6 columns]"
      ]
     },
     "execution_count": 19,
     "metadata": {},
     "output_type": "execute_result"
    }
   ],
   "source": [
    "sentiments = df[['genre','name','critic_score','audience_score','critic_sentiment','audience_sentiment']]\n",
    "sentiments = sentiments.melt(id_vars=['genre','name','critic_score','audience_score'])\n",
    "sentiments"
   ]
  },
  {
   "cell_type": "code",
   "execution_count": 20,
   "metadata": {},
   "outputs": [
    {
     "name": "stderr",
     "output_type": "stream",
     "text": [
      "/tmp/ipykernel_1547/1420266868.py:2: SettingWithCopyWarning:\n",
      "\n",
      "\n",
      "A value is trying to be set on a copy of a slice from a DataFrame.\n",
      "Try using .loc[row_indexer,col_indexer] = value instead\n",
      "\n",
      "See the caveats in the documentation: https://pandas.pydata.org/pandas-docs/stable/user_guide/indexing.html#returning-a-view-versus-a-copy\n",
      "\n"
     ]
    },
    {
     "data": {
      "text/html": [
       "<div>\n",
       "<style scoped>\n",
       "    .dataframe tbody tr th:only-of-type {\n",
       "        vertical-align: middle;\n",
       "    }\n",
       "\n",
       "    .dataframe tbody tr th {\n",
       "        vertical-align: top;\n",
       "    }\n",
       "\n",
       "    .dataframe thead th {\n",
       "        text-align: right;\n",
       "    }\n",
       "</style>\n",
       "<table border=\"1\" class=\"dataframe\">\n",
       "  <thead>\n",
       "    <tr style=\"text-align: right;\">\n",
       "      <th></th>\n",
       "      <th>genre</th>\n",
       "      <th>name</th>\n",
       "      <th>critic_score</th>\n",
       "      <th>audience_score</th>\n",
       "      <th>same_sentiment</th>\n",
       "      <th>variable</th>\n",
       "      <th>value</th>\n",
       "    </tr>\n",
       "  </thead>\n",
       "  <tbody>\n",
       "    <tr>\n",
       "      <th>0</th>\n",
       "      <td>Drama</td>\n",
       "      <td>four_daughters_2023</td>\n",
       "      <td>96</td>\n",
       "      <td>91</td>\n",
       "      <td>1</td>\n",
       "      <td>Same for Critics and Audience</td>\n",
       "      <td>POSITIVE</td>\n",
       "    </tr>\n",
       "    <tr>\n",
       "      <th>1</th>\n",
       "      <td>Drama</td>\n",
       "      <td>the_taste_of_things</td>\n",
       "      <td>98</td>\n",
       "      <td>100</td>\n",
       "      <td>0</td>\n",
       "      <td>Critic Sentiment</td>\n",
       "      <td>MIXED</td>\n",
       "    </tr>\n",
       "    <tr>\n",
       "      <th>2</th>\n",
       "      <td>Drama</td>\n",
       "      <td>killers_of_the_flower_moon</td>\n",
       "      <td>93</td>\n",
       "      <td>84</td>\n",
       "      <td>0</td>\n",
       "      <td>Critic Sentiment</td>\n",
       "      <td>MIXED</td>\n",
       "    </tr>\n",
       "    <tr>\n",
       "      <th>3</th>\n",
       "      <td>Drama</td>\n",
       "      <td>our_son</td>\n",
       "      <td>89</td>\n",
       "      <td>62</td>\n",
       "      <td>1</td>\n",
       "      <td>Same for Critics and Audience</td>\n",
       "      <td>POSITIVE</td>\n",
       "    </tr>\n",
       "    <tr>\n",
       "      <th>4</th>\n",
       "      <td>Drama</td>\n",
       "      <td>priscilla</td>\n",
       "      <td>82</td>\n",
       "      <td>63</td>\n",
       "      <td>0</td>\n",
       "      <td>Critic Sentiment</td>\n",
       "      <td>POSITIVE</td>\n",
       "    </tr>\n",
       "    <tr>\n",
       "      <th>...</th>\n",
       "      <td>...</td>\n",
       "      <td>...</td>\n",
       "      <td>...</td>\n",
       "      <td>...</td>\n",
       "      <td>...</td>\n",
       "      <td>...</td>\n",
       "      <td>...</td>\n",
       "    </tr>\n",
       "    <tr>\n",
       "      <th>101</th>\n",
       "      <td>Action</td>\n",
       "      <td>the_marvels</td>\n",
       "      <td>61</td>\n",
       "      <td>83</td>\n",
       "      <td>0</td>\n",
       "      <td>Audience Sentiment</td>\n",
       "      <td>NEGATIVE</td>\n",
       "    </tr>\n",
       "    <tr>\n",
       "      <th>102</th>\n",
       "      <td>Action</td>\n",
       "      <td>die_hard</td>\n",
       "      <td>94</td>\n",
       "      <td>94</td>\n",
       "      <td>1</td>\n",
       "      <td>Same for Critics and Audience</td>\n",
       "      <td>POSITIVE</td>\n",
       "    </tr>\n",
       "    <tr>\n",
       "      <th>103</th>\n",
       "      <td>Action</td>\n",
       "      <td>fast_charlie</td>\n",
       "      <td>86</td>\n",
       "      <td>84</td>\n",
       "      <td>1</td>\n",
       "      <td>Same for Critics and Audience</td>\n",
       "      <td>POSITIVE</td>\n",
       "    </tr>\n",
       "    <tr>\n",
       "      <th>104</th>\n",
       "      <td>Action</td>\n",
       "      <td>concrete_utopia</td>\n",
       "      <td>100</td>\n",
       "      <td>79</td>\n",
       "      <td>0</td>\n",
       "      <td>Audience Sentiment</td>\n",
       "      <td>POSITIVE</td>\n",
       "    </tr>\n",
       "    <tr>\n",
       "      <th>105</th>\n",
       "      <td>Action</td>\n",
       "      <td>indiana_jones_and_the_dial_of_destiny</td>\n",
       "      <td>69</td>\n",
       "      <td>88</td>\n",
       "      <td>1</td>\n",
       "      <td>Same for Critics and Audience</td>\n",
       "      <td>MIXED</td>\n",
       "    </tr>\n",
       "  </tbody>\n",
       "</table>\n",
       "<p>106 rows × 7 columns</p>\n",
       "</div>"
      ],
      "text/plain": [
       "      genre                                   name  critic_score  \\\n",
       "0     Drama                    four_daughters_2023            96   \n",
       "1     Drama                    the_taste_of_things            98   \n",
       "2     Drama             killers_of_the_flower_moon            93   \n",
       "3     Drama                                our_son            89   \n",
       "4     Drama                              priscilla            82   \n",
       "..      ...                                    ...           ...   \n",
       "101  Action                            the_marvels            61   \n",
       "102  Action                               die_hard            94   \n",
       "103  Action                           fast_charlie            86   \n",
       "104  Action                        concrete_utopia           100   \n",
       "105  Action  indiana_jones_and_the_dial_of_destiny            69   \n",
       "\n",
       "     audience_score  same_sentiment                       variable     value  \n",
       "0                91               1  Same for Critics and Audience  POSITIVE  \n",
       "1               100               0               Critic Sentiment     MIXED  \n",
       "2                84               0               Critic Sentiment     MIXED  \n",
       "3                62               1  Same for Critics and Audience  POSITIVE  \n",
       "4                63               0               Critic Sentiment  POSITIVE  \n",
       "..              ...             ...                            ...       ...  \n",
       "101              83               0             Audience Sentiment  NEGATIVE  \n",
       "102              94               1  Same for Critics and Audience  POSITIVE  \n",
       "103              84               1  Same for Critics and Audience  POSITIVE  \n",
       "104              79               0             Audience Sentiment  POSITIVE  \n",
       "105              88               1  Same for Critics and Audience     MIXED  \n",
       "\n",
       "[106 rows x 7 columns]"
      ]
     },
     "execution_count": 20,
     "metadata": {},
     "output_type": "execute_result"
    }
   ],
   "source": [
    "sentiment = df[['genre','name','critic_score','audience_score','critic_sentiment','audience_sentiment']]\n",
    "sentiment['same_sentiment'] = (sentiment['critic_sentiment'] == sentiment['audience_sentiment']).astype(int)\n",
    "sentiment = sentiment.melt(id_vars=['genre','name','critic_score','audience_score','same_sentiment'])\n",
    "\n",
    "sentiment['variable'] = sentiment.apply(lambda x: 'Same for Critics and Audience' if x['same_sentiment'] == 1 else x['variable'], axis=1)\n",
    "sentiment['variable'] = sentiment.apply(lambda x: x['variable'].replace('critic_sentiment','Critic Sentiment').replace('audience_sentiment','Audience Sentiment'), axis=1)\n",
    "sentiment\n"
   ]
  },
  {
   "cell_type": "code",
   "execution_count": 75,
   "metadata": {},
   "outputs": [
    {
     "data": {
      "application/vnd.plotly.v1+json": {
       "config": {
        "plotlyServerURL": "https://plot.ly"
       },
       "data": [
        {
         "customdata": [
          [
           "Drama",
           "Same for Critics and Audience",
           "four_daughters_2023",
           "POSITIVE"
          ],
          [
           "Drama",
           "Same for Critics and Audience",
           "our_son",
           "POSITIVE"
          ],
          [
           "Drama",
           "Same for Critics and Audience",
           "oppenheimer_2023",
           "POSITIVE"
          ],
          [
           "Drama",
           "Same for Critics and Audience",
           "the_holdovers",
           "POSITIVE"
          ],
          [
           "Comedy",
           "Same for Critics and Audience",
           "the_holdovers",
           "POSITIVE"
          ],
          [
           "Drama",
           "Same for Critics and Audience",
           "radical",
           "POSITIVE"
          ],
          [
           "Drama",
           "Same for Critics and Audience",
           "fallen_leaves",
           "POSITIVE"
          ],
          [
           "Comedy",
           "Same for Critics and Audience",
           "fallen_leaves",
           "POSITIVE"
          ],
          [
           "Drama",
           "Same for Critics and Audience",
           "the_three_musketeers_part_i_dartagnan",
           "POSITIVE"
          ],
          [
           "Drama",
           "Same for Critics and Audience",
           "the_end_we_start_from",
           "POSITIVE"
          ],
          [
           "Drama",
           "Same for Critics and Audience",
           "the_persian_version",
           "POSITIVE"
          ],
          [
           "Comedy",
           "Same for Critics and Audience",
           "the_persian_version",
           "POSITIVE"
          ],
          [
           "Comedy",
           "Same for Critics and Audience",
           "wonka",
           "POSITIVE"
          ],
          [
           "Comedy",
           "Same for Critics and Audience",
           "waitress_the_musical",
           "POSITIVE"
          ],
          [
           "Action",
           "Same for Critics and Audience",
           "godzilla_minus_one",
           "POSITIVE"
          ],
          [
           "Action",
           "Same for Critics and Audience",
           "die_hard",
           "POSITIVE"
          ],
          [
           "Action",
           "Same for Critics and Audience",
           "fast_charlie",
           "POSITIVE"
          ],
          [
           "Drama",
           "Same for Critics and Audience",
           "four_daughters_2023",
           "POSITIVE"
          ],
          [
           "Drama",
           "Same for Critics and Audience",
           "our_son",
           "POSITIVE"
          ],
          [
           "Drama",
           "Same for Critics and Audience",
           "oppenheimer_2023",
           "POSITIVE"
          ],
          [
           "Drama",
           "Same for Critics and Audience",
           "the_holdovers",
           "POSITIVE"
          ],
          [
           "Comedy",
           "Same for Critics and Audience",
           "the_holdovers",
           "POSITIVE"
          ],
          [
           "Drama",
           "Same for Critics and Audience",
           "radical",
           "POSITIVE"
          ],
          [
           "Drama",
           "Same for Critics and Audience",
           "fallen_leaves",
           "POSITIVE"
          ],
          [
           "Comedy",
           "Same for Critics and Audience",
           "fallen_leaves",
           "POSITIVE"
          ],
          [
           "Drama",
           "Same for Critics and Audience",
           "the_three_musketeers_part_i_dartagnan",
           "POSITIVE"
          ],
          [
           "Drama",
           "Same for Critics and Audience",
           "the_end_we_start_from",
           "POSITIVE"
          ],
          [
           "Drama",
           "Same for Critics and Audience",
           "the_persian_version",
           "POSITIVE"
          ],
          [
           "Comedy",
           "Same for Critics and Audience",
           "the_persian_version",
           "POSITIVE"
          ],
          [
           "Comedy",
           "Same for Critics and Audience",
           "wonka",
           "POSITIVE"
          ],
          [
           "Comedy",
           "Same for Critics and Audience",
           "waitress_the_musical",
           "POSITIVE"
          ],
          [
           "Action",
           "Same for Critics and Audience",
           "godzilla_minus_one",
           "POSITIVE"
          ],
          [
           "Action",
           "Same for Critics and Audience",
           "die_hard",
           "POSITIVE"
          ],
          [
           "Action",
           "Same for Critics and Audience",
           "fast_charlie",
           "POSITIVE"
          ]
         ],
         "hovertemplate": "Sentiment Score=%{customdata[3]:.2f}<br>Critic Score=%{x:.2f}<br>Audience Score=%{y}<br>genre=%{customdata[0]}<br>name=%{customdata[2]}<extra></extra>",
         "legendgroup": "Same for Critics and Audience",
         "marker": {
          "color": "green",
          "line": {
           "color": "black",
           "width": 0.5
          },
          "size": 8,
          "symbol": "circle"
         },
         "mode": "markers",
         "name": "Same for Critics and Audience",
         "orientation": "v",
         "showlegend": true,
         "type": "scatter",
         "x": [
          96,
          89,
          93,
          96,
          96,
          94,
          98,
          98,
          98,
          81,
          82,
          82,
          83,
          100,
          98,
          94,
          86,
          96,
          89,
          93,
          96,
          96,
          94,
          98,
          98,
          98,
          81,
          82,
          82,
          83,
          100,
          98,
          94,
          86
         ],
         "xaxis": "x",
         "y": [
          91,
          62,
          91,
          91,
          91,
          99,
          79,
          79,
          81,
          86,
          92,
          92,
          89,
          98,
          98,
          94,
          84,
          91,
          62,
          91,
          91,
          91,
          99,
          79,
          79,
          81,
          86,
          92,
          92,
          89,
          98,
          98,
          94,
          84
         ],
         "yaxis": "y"
        },
        {
         "customdata": [
          [
           "Drama",
           "Same for Critics and Audience",
           "eileen",
           "MIXED"
          ],
          [
           "Drama",
           "Same for Critics and Audience",
           "dream_scenario",
           "MIXED"
          ],
          [
           "Comedy",
           "Same for Critics and Audience",
           "dream_scenario",
           "MIXED"
          ],
          [
           "Horror",
           "Same for Critics and Audience",
           "dream_scenario",
           "MIXED"
          ],
          [
           "Horror",
           "Same for Critics and Audience",
           "thanksgiving_2023",
           "MIXED"
          ],
          [
           "Action",
           "Same for Critics and Audience",
           "the_hunger_games_the_ballad_of_songbirds_and_snakes",
           "MIXED"
          ],
          [
           "Action",
           "Same for Critics and Audience",
           "indiana_jones_and_the_dial_of_destiny",
           "MIXED"
          ],
          [
           "Drama",
           "Same for Critics and Audience",
           "eileen",
           "MIXED"
          ],
          [
           "Drama",
           "Same for Critics and Audience",
           "dream_scenario",
           "MIXED"
          ],
          [
           "Comedy",
           "Same for Critics and Audience",
           "dream_scenario",
           "MIXED"
          ],
          [
           "Horror",
           "Same for Critics and Audience",
           "dream_scenario",
           "MIXED"
          ],
          [
           "Horror",
           "Same for Critics and Audience",
           "thanksgiving_2023",
           "MIXED"
          ],
          [
           "Action",
           "Same for Critics and Audience",
           "the_hunger_games_the_ballad_of_songbirds_and_snakes",
           "MIXED"
          ],
          [
           "Action",
           "Same for Critics and Audience",
           "indiana_jones_and_the_dial_of_destiny",
           "MIXED"
          ]
         ],
         "hovertemplate": "Sentiment Score=%{customdata[3]:.2f}<br>Critic Score=%{x:.2f}<br>Audience Score=%{y}<br>genre=%{customdata[0]}<br>name=%{customdata[2]}<extra></extra>",
         "legendgroup": "Same for Critics and Audience",
         "marker": {
          "color": "green",
          "line": {
           "color": "black",
           "width": 0.5
          },
          "size": 8,
          "symbol": "circle"
         },
         "mode": "markers",
         "name": "Same for Critics and Audience",
         "orientation": "v",
         "showlegend": false,
         "type": "scatter",
         "x": [
          85,
          92,
          92,
          92,
          84,
          64,
          69,
          85,
          92,
          92,
          92,
          84,
          64,
          69
         ],
         "xaxis": "x2",
         "y": [
          51,
          68,
          68,
          68,
          79,
          89,
          88,
          51,
          68,
          68,
          68,
          79,
          89,
          88
         ],
         "yaxis": "y2"
        },
        {
         "customdata": [
          [
           "Drama",
           "Critic Sentiment",
           "priscilla",
           "POSITIVE"
          ],
          [
           "Drama",
           "Critic Sentiment",
           "poor_things",
           "POSITIVE"
          ],
          [
           "Comedy",
           "Critic Sentiment",
           "poor_things",
           "POSITIVE"
          ],
          [
           "Comedy",
           "Critic Sentiment",
           "love_actually",
           "POSITIVE"
          ],
          [
           "Comedy",
           "Critic Sentiment",
           "barbie",
           "POSITIVE"
          ],
          [
           "Horror",
           "Critic Sentiment",
           "five_nights_at_freddys",
           "POSITIVE"
          ],
          [
           "Horror",
           "Critic Sentiment",
           "peeping_tom_1960",
           "POSITIVE"
          ]
         ],
         "hovertemplate": "Sentiment Score=%{customdata[3]:.2f}<br>Critic Score=%{x:.2f}<br>Audience Score=%{y}<br>genre=%{customdata[0]}<br>name=%{customdata[2]}<extra></extra>",
         "legendgroup": "Critic Sentiment",
         "marker": {
          "color": "DarkRed",
          "line": {
           "color": "black",
           "width": 0.5
          },
          "size": 8,
          "symbol": "circle"
         },
         "mode": "markers",
         "name": "Critic Sentiment",
         "orientation": "v",
         "showlegend": true,
         "type": "scatter",
         "x": [
          82,
          92,
          92,
          64,
          88,
          31,
          95
         ],
         "xaxis": "x",
         "y": [
          63,
          93,
          93,
          72,
          83,
          87,
          85
         ],
         "yaxis": "y"
        },
        {
         "customdata": [
          [
           "Drama",
           "Critic Sentiment",
           "the_taste_of_things",
           "MIXED"
          ],
          [
           "Drama",
           "Critic Sentiment",
           "killers_of_the_flower_moon",
           "MIXED"
          ],
          [
           "Drama",
           "Critic Sentiment",
           "saltburn",
           "MIXED"
          ],
          [
           "Comedy",
           "Critic Sentiment",
           "saltburn",
           "MIXED"
          ],
          [
           "Drama",
           "Critic Sentiment",
           "scrapper_2023",
           "MIXED"
          ],
          [
           "Comedy",
           "Critic Sentiment",
           "scrapper_2023",
           "MIXED"
          ],
          [
           "Drama",
           "Critic Sentiment",
           "the_road_dance",
           "MIXED"
          ],
          [
           "Comedy",
           "Critic Sentiment",
           "trolls_band_together",
           "MIXED"
          ],
          [
           "Comedy",
           "Critic Sentiment",
           "wish_2023",
           "MIXED"
          ],
          [
           "Comedy",
           "Critic Sentiment",
           "next_goal_wins_2023",
           "MIXED"
          ],
          [
           "Comedy",
           "Critic Sentiment",
           "chicken_run_dawn_of_the_nugget",
           "MIXED"
          ],
          [
           "Horror",
           "Critic Sentiment",
           "a_creature_was_stirring",
           "MIXED"
          ],
          [
           "Action",
           "Critic Sentiment",
           "silent_night_2023",
           "MIXED"
          ],
          [
           "Action",
           "Critic Sentiment",
           "the_marvels",
           "MIXED"
          ]
         ],
         "hovertemplate": "Sentiment Score=%{customdata[3]:.2f}<br>Critic Score=%{x:.2f}<br>Audience Score=%{y}<br>genre=%{customdata[0]}<br>name=%{customdata[2]}<extra></extra>",
         "legendgroup": "Critic Sentiment",
         "marker": {
          "color": "DarkRed",
          "line": {
           "color": "black",
           "width": 0.5
          },
          "size": 8,
          "symbol": "circle"
         },
         "mode": "markers",
         "name": "Critic Sentiment",
         "orientation": "v",
         "showlegend": false,
         "type": "scatter",
         "x": [
          98,
          93,
          72,
          72,
          94,
          94,
          81,
          60,
          49,
          43,
          78,
          50,
          58,
          61
         ],
         "xaxis": "x2",
         "y": [
          100,
          84,
          79,
          79,
          83,
          83,
          94,
          92,
          81,
          85,
          90,
          38,
          50,
          83
         ],
         "yaxis": "y2"
        },
        {
         "customdata": [
          [
           "Drama",
           "Critic Sentiment",
           "napoleon_2023",
           "NEGATIVE"
          ],
          [
           "Action",
           "Critic Sentiment",
           "napoleon_2023",
           "NEGATIVE"
          ],
          [
           "Drama",
           "Critic Sentiment",
           "animal_2023_2",
           "NEGATIVE"
          ],
          [
           "Action",
           "Critic Sentiment",
           "animal_2023_2",
           "NEGATIVE"
          ],
          [
           "Drama",
           "Critic Sentiment",
           "the_oath_2023",
           "NEGATIVE"
          ],
          [
           "Action",
           "Critic Sentiment",
           "the_oath_2023",
           "NEGATIVE"
          ],
          [
           "Drama",
           "Critic Sentiment",
           "the_marsh_kings_daughter",
           "NEGATIVE"
          ],
          [
           "Action",
           "Critic Sentiment",
           "concrete_utopia",
           "NEGATIVE"
          ]
         ],
         "hovertemplate": "Sentiment Score=%{customdata[3]:.2f}<br>Critic Score=%{x:.2f}<br>Audience Score=%{y}<br>genre=%{customdata[0]}<br>name=%{customdata[2]}<extra></extra>",
         "legendgroup": "Critic Sentiment",
         "marker": {
          "color": "DarkRed",
          "line": {
           "color": "black",
           "width": 0.5
          },
          "size": 8,
          "symbol": "circle"
         },
         "mode": "markers",
         "name": "Critic Sentiment",
         "orientation": "v",
         "showlegend": false,
         "type": "scatter",
         "x": [
          58,
          58,
          28,
          28,
          25,
          25,
          37,
          100
         ],
         "xaxis": "x3",
         "y": [
          58,
          58,
          81,
          81,
          88,
          88,
          73,
          79
         ],
         "yaxis": "y3"
        },
        {
         "customdata": [
          [
           "Drama",
           "Audience Sentiment",
           "the_taste_of_things",
           "POSITIVE"
          ],
          [
           "Drama",
           "Audience Sentiment",
           "animal_2023_2",
           "POSITIVE"
          ],
          [
           "Action",
           "Audience Sentiment",
           "animal_2023_2",
           "POSITIVE"
          ],
          [
           "Drama",
           "Audience Sentiment",
           "scrapper_2023",
           "POSITIVE"
          ],
          [
           "Comedy",
           "Audience Sentiment",
           "scrapper_2023",
           "POSITIVE"
          ],
          [
           "Drama",
           "Audience Sentiment",
           "the_marsh_kings_daughter",
           "POSITIVE"
          ],
          [
           "Drama",
           "Audience Sentiment",
           "the_road_dance",
           "POSITIVE"
          ],
          [
           "Comedy",
           "Audience Sentiment",
           "trolls_band_together",
           "POSITIVE"
          ],
          [
           "Comedy",
           "Audience Sentiment",
           "wish_2023",
           "POSITIVE"
          ],
          [
           "Comedy",
           "Audience Sentiment",
           "next_goal_wins_2023",
           "POSITIVE"
          ],
          [
           "Comedy",
           "Audience Sentiment",
           "chicken_run_dawn_of_the_nugget",
           "POSITIVE"
          ],
          [
           "Action",
           "Audience Sentiment",
           "concrete_utopia",
           "POSITIVE"
          ]
         ],
         "hovertemplate": "Sentiment Score=%{customdata[3]:.2f}<br>Critic Score=%{x:.2f}<br>Audience Score=%{y}<br>genre=%{customdata[0]}<br>name=%{customdata[2]}<extra></extra>",
         "legendgroup": "Audience Sentiment",
         "marker": {
          "color": "Yellow",
          "line": {
           "color": "black",
           "width": 0.5
          },
          "size": 8,
          "symbol": "circle"
         },
         "mode": "markers",
         "name": "Audience Sentiment",
         "orientation": "v",
         "showlegend": true,
         "type": "scatter",
         "x": [
          98,
          28,
          28,
          94,
          94,
          37,
          81,
          60,
          49,
          43,
          78,
          100
         ],
         "xaxis": "x",
         "y": [
          100,
          81,
          81,
          83,
          83,
          73,
          94,
          92,
          81,
          85,
          90,
          79
         ],
         "yaxis": "y"
        },
        {
         "customdata": [
          [
           "Drama",
           "Audience Sentiment",
           "napoleon_2023",
           "MIXED"
          ],
          [
           "Action",
           "Audience Sentiment",
           "napoleon_2023",
           "MIXED"
          ],
          [
           "Drama",
           "Audience Sentiment",
           "poor_things",
           "MIXED"
          ],
          [
           "Comedy",
           "Audience Sentiment",
           "poor_things",
           "MIXED"
          ],
          [
           "Drama",
           "Audience Sentiment",
           "the_oath_2023",
           "MIXED"
          ],
          [
           "Action",
           "Audience Sentiment",
           "the_oath_2023",
           "MIXED"
          ],
          [
           "Comedy",
           "Audience Sentiment",
           "love_actually",
           "MIXED"
          ],
          [
           "Horror",
           "Audience Sentiment",
           "five_nights_at_freddys",
           "MIXED"
          ]
         ],
         "hovertemplate": "Sentiment Score=%{customdata[3]:.2f}<br>Critic Score=%{x:.2f}<br>Audience Score=%{y}<br>genre=%{customdata[0]}<br>name=%{customdata[2]}<extra></extra>",
         "legendgroup": "Audience Sentiment",
         "marker": {
          "color": "Yellow",
          "line": {
           "color": "black",
           "width": 0.5
          },
          "size": 8,
          "symbol": "circle"
         },
         "mode": "markers",
         "name": "Audience Sentiment",
         "orientation": "v",
         "showlegend": false,
         "type": "scatter",
         "x": [
          58,
          58,
          92,
          92,
          25,
          25,
          64,
          31
         ],
         "xaxis": "x2",
         "y": [
          58,
          58,
          93,
          93,
          88,
          88,
          72,
          87
         ],
         "yaxis": "y2"
        },
        {
         "customdata": [
          [
           "Drama",
           "Audience Sentiment",
           "killers_of_the_flower_moon",
           "NEGATIVE"
          ],
          [
           "Drama",
           "Audience Sentiment",
           "priscilla",
           "NEGATIVE"
          ],
          [
           "Drama",
           "Audience Sentiment",
           "saltburn",
           "NEGATIVE"
          ],
          [
           "Comedy",
           "Audience Sentiment",
           "saltburn",
           "NEGATIVE"
          ],
          [
           "Comedy",
           "Audience Sentiment",
           "barbie",
           "NEGATIVE"
          ],
          [
           "Horror",
           "Audience Sentiment",
           "peeping_tom_1960",
           "NEGATIVE"
          ],
          [
           "Horror",
           "Audience Sentiment",
           "a_creature_was_stirring",
           "NEGATIVE"
          ],
          [
           "Action",
           "Audience Sentiment",
           "silent_night_2023",
           "NEGATIVE"
          ],
          [
           "Action",
           "Audience Sentiment",
           "the_marvels",
           "NEGATIVE"
          ]
         ],
         "hovertemplate": "Sentiment Score=%{customdata[3]:.2f}<br>Critic Score=%{x:.2f}<br>Audience Score=%{y}<br>genre=%{customdata[0]}<br>name=%{customdata[2]}<extra></extra>",
         "legendgroup": "Audience Sentiment",
         "marker": {
          "color": "Yellow",
          "line": {
           "color": "black",
           "width": 0.5
          },
          "size": 8,
          "symbol": "circle"
         },
         "mode": "markers",
         "name": "Audience Sentiment",
         "orientation": "v",
         "showlegend": false,
         "type": "scatter",
         "x": [
          93,
          82,
          72,
          72,
          88,
          95,
          50,
          58,
          61
         ],
         "xaxis": "x3",
         "y": [
          84,
          63,
          79,
          79,
          83,
          85,
          38,
          50,
          83
         ],
         "yaxis": "y3"
        }
       ],
       "layout": {
        "annotations": [
         {
          "font": {},
          "showarrow": false,
          "text": "POSITIVE",
          "x": 0.15999999999999998,
          "xanchor": "center",
          "xref": "paper",
          "y": 1,
          "yanchor": "bottom",
          "yref": "paper"
         },
         {
          "font": {},
          "showarrow": false,
          "text": "MIXED",
          "x": 0.49999999999999994,
          "xanchor": "center",
          "xref": "paper",
          "y": 1,
          "yanchor": "bottom",
          "yref": "paper"
         },
         {
          "font": {},
          "showarrow": false,
          "text": "NEGATIVE",
          "x": 0.8399999999999999,
          "xanchor": "center",
          "xref": "paper",
          "y": 1,
          "yanchor": "bottom",
          "yref": "paper"
         }
        ],
        "height": 600,
        "legend": {
         "font": {
          "size": 14
         },
         "title": {
          "text": "Sentiment"
         },
         "tracegroupgap": 0
        },
        "template": {
         "data": {
          "bar": [
           {
            "error_x": {
             "color": "rgb(36,36,36)"
            },
            "error_y": {
             "color": "rgb(36,36,36)"
            },
            "marker": {
             "line": {
              "color": "white",
              "width": 0.5
             },
             "pattern": {
              "fillmode": "overlay",
              "size": 10,
              "solidity": 0.2
             }
            },
            "type": "bar"
           }
          ],
          "barpolar": [
           {
            "marker": {
             "line": {
              "color": "white",
              "width": 0.5
             },
             "pattern": {
              "fillmode": "overlay",
              "size": 10,
              "solidity": 0.2
             }
            },
            "type": "barpolar"
           }
          ],
          "carpet": [
           {
            "aaxis": {
             "endlinecolor": "rgb(36,36,36)",
             "gridcolor": "white",
             "linecolor": "white",
             "minorgridcolor": "white",
             "startlinecolor": "rgb(36,36,36)"
            },
            "baxis": {
             "endlinecolor": "rgb(36,36,36)",
             "gridcolor": "white",
             "linecolor": "white",
             "minorgridcolor": "white",
             "startlinecolor": "rgb(36,36,36)"
            },
            "type": "carpet"
           }
          ],
          "choropleth": [
           {
            "colorbar": {
             "outlinewidth": 1,
             "tickcolor": "rgb(36,36,36)",
             "ticks": "outside"
            },
            "type": "choropleth"
           }
          ],
          "contour": [
           {
            "colorbar": {
             "outlinewidth": 1,
             "tickcolor": "rgb(36,36,36)",
             "ticks": "outside"
            },
            "colorscale": [
             [
              0,
              "#440154"
             ],
             [
              0.1111111111111111,
              "#482878"
             ],
             [
              0.2222222222222222,
              "#3e4989"
             ],
             [
              0.3333333333333333,
              "#31688e"
             ],
             [
              0.4444444444444444,
              "#26828e"
             ],
             [
              0.5555555555555556,
              "#1f9e89"
             ],
             [
              0.6666666666666666,
              "#35b779"
             ],
             [
              0.7777777777777778,
              "#6ece58"
             ],
             [
              0.8888888888888888,
              "#b5de2b"
             ],
             [
              1,
              "#fde725"
             ]
            ],
            "type": "contour"
           }
          ],
          "contourcarpet": [
           {
            "colorbar": {
             "outlinewidth": 1,
             "tickcolor": "rgb(36,36,36)",
             "ticks": "outside"
            },
            "type": "contourcarpet"
           }
          ],
          "heatmap": [
           {
            "colorbar": {
             "outlinewidth": 1,
             "tickcolor": "rgb(36,36,36)",
             "ticks": "outside"
            },
            "colorscale": [
             [
              0,
              "#440154"
             ],
             [
              0.1111111111111111,
              "#482878"
             ],
             [
              0.2222222222222222,
              "#3e4989"
             ],
             [
              0.3333333333333333,
              "#31688e"
             ],
             [
              0.4444444444444444,
              "#26828e"
             ],
             [
              0.5555555555555556,
              "#1f9e89"
             ],
             [
              0.6666666666666666,
              "#35b779"
             ],
             [
              0.7777777777777778,
              "#6ece58"
             ],
             [
              0.8888888888888888,
              "#b5de2b"
             ],
             [
              1,
              "#fde725"
             ]
            ],
            "type": "heatmap"
           }
          ],
          "heatmapgl": [
           {
            "colorbar": {
             "outlinewidth": 1,
             "tickcolor": "rgb(36,36,36)",
             "ticks": "outside"
            },
            "colorscale": [
             [
              0,
              "#440154"
             ],
             [
              0.1111111111111111,
              "#482878"
             ],
             [
              0.2222222222222222,
              "#3e4989"
             ],
             [
              0.3333333333333333,
              "#31688e"
             ],
             [
              0.4444444444444444,
              "#26828e"
             ],
             [
              0.5555555555555556,
              "#1f9e89"
             ],
             [
              0.6666666666666666,
              "#35b779"
             ],
             [
              0.7777777777777778,
              "#6ece58"
             ],
             [
              0.8888888888888888,
              "#b5de2b"
             ],
             [
              1,
              "#fde725"
             ]
            ],
            "type": "heatmapgl"
           }
          ],
          "histogram": [
           {
            "marker": {
             "line": {
              "color": "white",
              "width": 0.6
             }
            },
            "type": "histogram"
           }
          ],
          "histogram2d": [
           {
            "colorbar": {
             "outlinewidth": 1,
             "tickcolor": "rgb(36,36,36)",
             "ticks": "outside"
            },
            "colorscale": [
             [
              0,
              "#440154"
             ],
             [
              0.1111111111111111,
              "#482878"
             ],
             [
              0.2222222222222222,
              "#3e4989"
             ],
             [
              0.3333333333333333,
              "#31688e"
             ],
             [
              0.4444444444444444,
              "#26828e"
             ],
             [
              0.5555555555555556,
              "#1f9e89"
             ],
             [
              0.6666666666666666,
              "#35b779"
             ],
             [
              0.7777777777777778,
              "#6ece58"
             ],
             [
              0.8888888888888888,
              "#b5de2b"
             ],
             [
              1,
              "#fde725"
             ]
            ],
            "type": "histogram2d"
           }
          ],
          "histogram2dcontour": [
           {
            "colorbar": {
             "outlinewidth": 1,
             "tickcolor": "rgb(36,36,36)",
             "ticks": "outside"
            },
            "colorscale": [
             [
              0,
              "#440154"
             ],
             [
              0.1111111111111111,
              "#482878"
             ],
             [
              0.2222222222222222,
              "#3e4989"
             ],
             [
              0.3333333333333333,
              "#31688e"
             ],
             [
              0.4444444444444444,
              "#26828e"
             ],
             [
              0.5555555555555556,
              "#1f9e89"
             ],
             [
              0.6666666666666666,
              "#35b779"
             ],
             [
              0.7777777777777778,
              "#6ece58"
             ],
             [
              0.8888888888888888,
              "#b5de2b"
             ],
             [
              1,
              "#fde725"
             ]
            ],
            "type": "histogram2dcontour"
           }
          ],
          "mesh3d": [
           {
            "colorbar": {
             "outlinewidth": 1,
             "tickcolor": "rgb(36,36,36)",
             "ticks": "outside"
            },
            "type": "mesh3d"
           }
          ],
          "parcoords": [
           {
            "line": {
             "colorbar": {
              "outlinewidth": 1,
              "tickcolor": "rgb(36,36,36)",
              "ticks": "outside"
             }
            },
            "type": "parcoords"
           }
          ],
          "pie": [
           {
            "automargin": true,
            "type": "pie"
           }
          ],
          "scatter": [
           {
            "fillpattern": {
             "fillmode": "overlay",
             "size": 10,
             "solidity": 0.2
            },
            "type": "scatter"
           }
          ],
          "scatter3d": [
           {
            "line": {
             "colorbar": {
              "outlinewidth": 1,
              "tickcolor": "rgb(36,36,36)",
              "ticks": "outside"
             }
            },
            "marker": {
             "colorbar": {
              "outlinewidth": 1,
              "tickcolor": "rgb(36,36,36)",
              "ticks": "outside"
             }
            },
            "type": "scatter3d"
           }
          ],
          "scattercarpet": [
           {
            "marker": {
             "colorbar": {
              "outlinewidth": 1,
              "tickcolor": "rgb(36,36,36)",
              "ticks": "outside"
             }
            },
            "type": "scattercarpet"
           }
          ],
          "scattergeo": [
           {
            "marker": {
             "colorbar": {
              "outlinewidth": 1,
              "tickcolor": "rgb(36,36,36)",
              "ticks": "outside"
             }
            },
            "type": "scattergeo"
           }
          ],
          "scattergl": [
           {
            "marker": {
             "colorbar": {
              "outlinewidth": 1,
              "tickcolor": "rgb(36,36,36)",
              "ticks": "outside"
             }
            },
            "type": "scattergl"
           }
          ],
          "scattermapbox": [
           {
            "marker": {
             "colorbar": {
              "outlinewidth": 1,
              "tickcolor": "rgb(36,36,36)",
              "ticks": "outside"
             }
            },
            "type": "scattermapbox"
           }
          ],
          "scatterpolar": [
           {
            "marker": {
             "colorbar": {
              "outlinewidth": 1,
              "tickcolor": "rgb(36,36,36)",
              "ticks": "outside"
             }
            },
            "type": "scatterpolar"
           }
          ],
          "scatterpolargl": [
           {
            "marker": {
             "colorbar": {
              "outlinewidth": 1,
              "tickcolor": "rgb(36,36,36)",
              "ticks": "outside"
             }
            },
            "type": "scatterpolargl"
           }
          ],
          "scatterternary": [
           {
            "marker": {
             "colorbar": {
              "outlinewidth": 1,
              "tickcolor": "rgb(36,36,36)",
              "ticks": "outside"
             }
            },
            "type": "scatterternary"
           }
          ],
          "surface": [
           {
            "colorbar": {
             "outlinewidth": 1,
             "tickcolor": "rgb(36,36,36)",
             "ticks": "outside"
            },
            "colorscale": [
             [
              0,
              "#440154"
             ],
             [
              0.1111111111111111,
              "#482878"
             ],
             [
              0.2222222222222222,
              "#3e4989"
             ],
             [
              0.3333333333333333,
              "#31688e"
             ],
             [
              0.4444444444444444,
              "#26828e"
             ],
             [
              0.5555555555555556,
              "#1f9e89"
             ],
             [
              0.6666666666666666,
              "#35b779"
             ],
             [
              0.7777777777777778,
              "#6ece58"
             ],
             [
              0.8888888888888888,
              "#b5de2b"
             ],
             [
              1,
              "#fde725"
             ]
            ],
            "type": "surface"
           }
          ],
          "table": [
           {
            "cells": {
             "fill": {
              "color": "rgb(237,237,237)"
             },
             "line": {
              "color": "white"
             }
            },
            "header": {
             "fill": {
              "color": "rgb(217,217,217)"
             },
             "line": {
              "color": "white"
             }
            },
            "type": "table"
           }
          ]
         },
         "layout": {
          "annotationdefaults": {
           "arrowhead": 0,
           "arrowwidth": 1
          },
          "autotypenumbers": "strict",
          "coloraxis": {
           "colorbar": {
            "outlinewidth": 1,
            "tickcolor": "rgb(36,36,36)",
            "ticks": "outside"
           }
          },
          "colorscale": {
           "diverging": [
            [
             0,
             "rgb(103,0,31)"
            ],
            [
             0.1,
             "rgb(178,24,43)"
            ],
            [
             0.2,
             "rgb(214,96,77)"
            ],
            [
             0.3,
             "rgb(244,165,130)"
            ],
            [
             0.4,
             "rgb(253,219,199)"
            ],
            [
             0.5,
             "rgb(247,247,247)"
            ],
            [
             0.6,
             "rgb(209,229,240)"
            ],
            [
             0.7,
             "rgb(146,197,222)"
            ],
            [
             0.8,
             "rgb(67,147,195)"
            ],
            [
             0.9,
             "rgb(33,102,172)"
            ],
            [
             1,
             "rgb(5,48,97)"
            ]
           ],
           "sequential": [
            [
             0,
             "#440154"
            ],
            [
             0.1111111111111111,
             "#482878"
            ],
            [
             0.2222222222222222,
             "#3e4989"
            ],
            [
             0.3333333333333333,
             "#31688e"
            ],
            [
             0.4444444444444444,
             "#26828e"
            ],
            [
             0.5555555555555556,
             "#1f9e89"
            ],
            [
             0.6666666666666666,
             "#35b779"
            ],
            [
             0.7777777777777778,
             "#6ece58"
            ],
            [
             0.8888888888888888,
             "#b5de2b"
            ],
            [
             1,
             "#fde725"
            ]
           ],
           "sequentialminus": [
            [
             0,
             "#440154"
            ],
            [
             0.1111111111111111,
             "#482878"
            ],
            [
             0.2222222222222222,
             "#3e4989"
            ],
            [
             0.3333333333333333,
             "#31688e"
            ],
            [
             0.4444444444444444,
             "#26828e"
            ],
            [
             0.5555555555555556,
             "#1f9e89"
            ],
            [
             0.6666666666666666,
             "#35b779"
            ],
            [
             0.7777777777777778,
             "#6ece58"
            ],
            [
             0.8888888888888888,
             "#b5de2b"
            ],
            [
             1,
             "#fde725"
            ]
           ]
          },
          "colorway": [
           "#1F77B4",
           "#FF7F0E",
           "#2CA02C",
           "#D62728",
           "#9467BD",
           "#8C564B",
           "#E377C2",
           "#7F7F7F",
           "#BCBD22",
           "#17BECF"
          ],
          "font": {
           "color": "rgb(36,36,36)"
          },
          "geo": {
           "bgcolor": "white",
           "lakecolor": "white",
           "landcolor": "white",
           "showlakes": true,
           "showland": true,
           "subunitcolor": "white"
          },
          "hoverlabel": {
           "align": "left"
          },
          "hovermode": "closest",
          "mapbox": {
           "style": "light"
          },
          "paper_bgcolor": "white",
          "plot_bgcolor": "white",
          "polar": {
           "angularaxis": {
            "gridcolor": "rgb(232,232,232)",
            "linecolor": "rgb(36,36,36)",
            "showgrid": false,
            "showline": true,
            "ticks": "outside"
           },
           "bgcolor": "white",
           "radialaxis": {
            "gridcolor": "rgb(232,232,232)",
            "linecolor": "rgb(36,36,36)",
            "showgrid": false,
            "showline": true,
            "ticks": "outside"
           }
          },
          "scene": {
           "xaxis": {
            "backgroundcolor": "white",
            "gridcolor": "rgb(232,232,232)",
            "gridwidth": 2,
            "linecolor": "rgb(36,36,36)",
            "showbackground": true,
            "showgrid": false,
            "showline": true,
            "ticks": "outside",
            "zeroline": false,
            "zerolinecolor": "rgb(36,36,36)"
           },
           "yaxis": {
            "backgroundcolor": "white",
            "gridcolor": "rgb(232,232,232)",
            "gridwidth": 2,
            "linecolor": "rgb(36,36,36)",
            "showbackground": true,
            "showgrid": false,
            "showline": true,
            "ticks": "outside",
            "zeroline": false,
            "zerolinecolor": "rgb(36,36,36)"
           },
           "zaxis": {
            "backgroundcolor": "white",
            "gridcolor": "rgb(232,232,232)",
            "gridwidth": 2,
            "linecolor": "rgb(36,36,36)",
            "showbackground": true,
            "showgrid": false,
            "showline": true,
            "ticks": "outside",
            "zeroline": false,
            "zerolinecolor": "rgb(36,36,36)"
           }
          },
          "shapedefaults": {
           "fillcolor": "black",
           "line": {
            "width": 0
           },
           "opacity": 0.3
          },
          "ternary": {
           "aaxis": {
            "gridcolor": "rgb(232,232,232)",
            "linecolor": "rgb(36,36,36)",
            "showgrid": false,
            "showline": true,
            "ticks": "outside"
           },
           "baxis": {
            "gridcolor": "rgb(232,232,232)",
            "linecolor": "rgb(36,36,36)",
            "showgrid": false,
            "showline": true,
            "ticks": "outside"
           },
           "bgcolor": "white",
           "caxis": {
            "gridcolor": "rgb(232,232,232)",
            "linecolor": "rgb(36,36,36)",
            "showgrid": false,
            "showline": true,
            "ticks": "outside"
           }
          },
          "title": {
           "x": 0.05
          },
          "xaxis": {
           "automargin": true,
           "gridcolor": "rgb(232,232,232)",
           "linecolor": "rgb(36,36,36)",
           "showgrid": false,
           "showline": true,
           "ticks": "outside",
           "title": {
            "standoff": 15
           },
           "zeroline": false,
           "zerolinecolor": "rgb(36,36,36)"
          },
          "yaxis": {
           "automargin": true,
           "gridcolor": "rgb(232,232,232)",
           "linecolor": "rgb(36,36,36)",
           "showgrid": false,
           "showline": true,
           "ticks": "outside",
           "title": {
            "standoff": 15
           },
           "zeroline": false,
           "zerolinecolor": "rgb(36,36,36)"
          }
         }
        },
        "title": {
         "font": {
          "size": 20
         },
         "text": "<b>Movie Sentiments </b>",
         "x": 0.5
        },
        "width": 1600,
        "xaxis": {
         "anchor": "y",
         "domain": [
          0,
          0.31999999999999995
         ],
         "title": {
          "text": "Critic Score"
         }
        },
        "xaxis2": {
         "anchor": "y2",
         "domain": [
          0.33999999999999997,
          0.6599999999999999
         ],
         "matches": "x",
         "title": {
          "text": "Critic Score"
         }
        },
        "xaxis3": {
         "anchor": "y3",
         "domain": [
          0.6799999999999999,
          0.9999999999999999
         ],
         "matches": "x",
         "title": {
          "text": "Critic Score"
         }
        },
        "yaxis": {
         "anchor": "x",
         "domain": [
          0,
          1
         ],
         "title": {
          "text": "Audience Score"
         }
        },
        "yaxis2": {
         "anchor": "x2",
         "domain": [
          0,
          1
         ],
         "matches": "y",
         "showticklabels": false
        },
        "yaxis3": {
         "anchor": "x3",
         "domain": [
          0,
          1
         ],
         "matches": "y",
         "showticklabels": false
        }
       }
      },
      "text/html": [
       "<div>                            <div id=\"115fe32d-281b-4f34-87e5-ae59370cfa5b\" class=\"plotly-graph-div\" style=\"height:600px; width:1600px;\"></div>            <script type=\"text/javascript\">                require([\"plotly\"], function(Plotly) {                    window.PLOTLYENV=window.PLOTLYENV || {};                                    if (document.getElementById(\"115fe32d-281b-4f34-87e5-ae59370cfa5b\")) {                    Plotly.newPlot(                        \"115fe32d-281b-4f34-87e5-ae59370cfa5b\",                        [{\"customdata\":[[\"Drama\",\"Same for Critics and Audience\",\"four_daughters_2023\",\"POSITIVE\"],[\"Drama\",\"Same for Critics and Audience\",\"our_son\",\"POSITIVE\"],[\"Drama\",\"Same for Critics and Audience\",\"oppenheimer_2023\",\"POSITIVE\"],[\"Drama\",\"Same for Critics and Audience\",\"the_holdovers\",\"POSITIVE\"],[\"Comedy\",\"Same for Critics and Audience\",\"the_holdovers\",\"POSITIVE\"],[\"Drama\",\"Same for Critics and Audience\",\"radical\",\"POSITIVE\"],[\"Drama\",\"Same for Critics and Audience\",\"fallen_leaves\",\"POSITIVE\"],[\"Comedy\",\"Same for Critics and Audience\",\"fallen_leaves\",\"POSITIVE\"],[\"Drama\",\"Same for Critics and Audience\",\"the_three_musketeers_part_i_dartagnan\",\"POSITIVE\"],[\"Drama\",\"Same for Critics and Audience\",\"the_end_we_start_from\",\"POSITIVE\"],[\"Drama\",\"Same for Critics and Audience\",\"the_persian_version\",\"POSITIVE\"],[\"Comedy\",\"Same for Critics and Audience\",\"the_persian_version\",\"POSITIVE\"],[\"Comedy\",\"Same for Critics and Audience\",\"wonka\",\"POSITIVE\"],[\"Comedy\",\"Same for Critics and Audience\",\"waitress_the_musical\",\"POSITIVE\"],[\"Action\",\"Same for Critics and Audience\",\"godzilla_minus_one\",\"POSITIVE\"],[\"Action\",\"Same for Critics and Audience\",\"die_hard\",\"POSITIVE\"],[\"Action\",\"Same for Critics and Audience\",\"fast_charlie\",\"POSITIVE\"],[\"Drama\",\"Same for Critics and Audience\",\"four_daughters_2023\",\"POSITIVE\"],[\"Drama\",\"Same for Critics and Audience\",\"our_son\",\"POSITIVE\"],[\"Drama\",\"Same for Critics and Audience\",\"oppenheimer_2023\",\"POSITIVE\"],[\"Drama\",\"Same for Critics and Audience\",\"the_holdovers\",\"POSITIVE\"],[\"Comedy\",\"Same for Critics and Audience\",\"the_holdovers\",\"POSITIVE\"],[\"Drama\",\"Same for Critics and Audience\",\"radical\",\"POSITIVE\"],[\"Drama\",\"Same for Critics and Audience\",\"fallen_leaves\",\"POSITIVE\"],[\"Comedy\",\"Same for Critics and Audience\",\"fallen_leaves\",\"POSITIVE\"],[\"Drama\",\"Same for Critics and Audience\",\"the_three_musketeers_part_i_dartagnan\",\"POSITIVE\"],[\"Drama\",\"Same for Critics and Audience\",\"the_end_we_start_from\",\"POSITIVE\"],[\"Drama\",\"Same for Critics and Audience\",\"the_persian_version\",\"POSITIVE\"],[\"Comedy\",\"Same for Critics and Audience\",\"the_persian_version\",\"POSITIVE\"],[\"Comedy\",\"Same for Critics and Audience\",\"wonka\",\"POSITIVE\"],[\"Comedy\",\"Same for Critics and Audience\",\"waitress_the_musical\",\"POSITIVE\"],[\"Action\",\"Same for Critics and Audience\",\"godzilla_minus_one\",\"POSITIVE\"],[\"Action\",\"Same for Critics and Audience\",\"die_hard\",\"POSITIVE\"],[\"Action\",\"Same for Critics and Audience\",\"fast_charlie\",\"POSITIVE\"]],\"hovertemplate\":\"Sentiment Score=%{customdata[3]:.2f}\\u003cbr\\u003eCritic Score=%{x:.2f}\\u003cbr\\u003eAudience Score=%{y}\\u003cbr\\u003egenre=%{customdata[0]}\\u003cbr\\u003ename=%{customdata[2]}\\u003cextra\\u003e\\u003c\\u002fextra\\u003e\",\"legendgroup\":\"Same for Critics and Audience\",\"marker\":{\"color\":\"green\",\"symbol\":\"circle\",\"line\":{\"color\":\"black\",\"width\":0.5},\"size\":8},\"mode\":\"markers\",\"name\":\"Same for Critics and Audience\",\"orientation\":\"v\",\"showlegend\":true,\"x\":[96,89,93,96,96,94,98,98,98,81,82,82,83,100,98,94,86,96,89,93,96,96,94,98,98,98,81,82,82,83,100,98,94,86],\"xaxis\":\"x\",\"y\":[91,62,91,91,91,99,79,79,81,86,92,92,89,98,98,94,84,91,62,91,91,91,99,79,79,81,86,92,92,89,98,98,94,84],\"yaxis\":\"y\",\"type\":\"scatter\"},{\"customdata\":[[\"Drama\",\"Same for Critics and Audience\",\"eileen\",\"MIXED\"],[\"Drama\",\"Same for Critics and Audience\",\"dream_scenario\",\"MIXED\"],[\"Comedy\",\"Same for Critics and Audience\",\"dream_scenario\",\"MIXED\"],[\"Horror\",\"Same for Critics and Audience\",\"dream_scenario\",\"MIXED\"],[\"Horror\",\"Same for Critics and Audience\",\"thanksgiving_2023\",\"MIXED\"],[\"Action\",\"Same for Critics and Audience\",\"the_hunger_games_the_ballad_of_songbirds_and_snakes\",\"MIXED\"],[\"Action\",\"Same for Critics and Audience\",\"indiana_jones_and_the_dial_of_destiny\",\"MIXED\"],[\"Drama\",\"Same for Critics and Audience\",\"eileen\",\"MIXED\"],[\"Drama\",\"Same for Critics and Audience\",\"dream_scenario\",\"MIXED\"],[\"Comedy\",\"Same for Critics and Audience\",\"dream_scenario\",\"MIXED\"],[\"Horror\",\"Same for Critics and Audience\",\"dream_scenario\",\"MIXED\"],[\"Horror\",\"Same for Critics and Audience\",\"thanksgiving_2023\",\"MIXED\"],[\"Action\",\"Same for Critics and Audience\",\"the_hunger_games_the_ballad_of_songbirds_and_snakes\",\"MIXED\"],[\"Action\",\"Same for Critics and Audience\",\"indiana_jones_and_the_dial_of_destiny\",\"MIXED\"]],\"hovertemplate\":\"Sentiment Score=%{customdata[3]:.2f}\\u003cbr\\u003eCritic Score=%{x:.2f}\\u003cbr\\u003eAudience Score=%{y}\\u003cbr\\u003egenre=%{customdata[0]}\\u003cbr\\u003ename=%{customdata[2]}\\u003cextra\\u003e\\u003c\\u002fextra\\u003e\",\"legendgroup\":\"Same for Critics and Audience\",\"marker\":{\"color\":\"green\",\"symbol\":\"circle\",\"line\":{\"color\":\"black\",\"width\":0.5},\"size\":8},\"mode\":\"markers\",\"name\":\"Same for Critics and Audience\",\"orientation\":\"v\",\"showlegend\":false,\"x\":[85,92,92,92,84,64,69,85,92,92,92,84,64,69],\"xaxis\":\"x2\",\"y\":[51,68,68,68,79,89,88,51,68,68,68,79,89,88],\"yaxis\":\"y2\",\"type\":\"scatter\"},{\"customdata\":[[\"Drama\",\"Critic Sentiment\",\"priscilla\",\"POSITIVE\"],[\"Drama\",\"Critic Sentiment\",\"poor_things\",\"POSITIVE\"],[\"Comedy\",\"Critic Sentiment\",\"poor_things\",\"POSITIVE\"],[\"Comedy\",\"Critic Sentiment\",\"love_actually\",\"POSITIVE\"],[\"Comedy\",\"Critic Sentiment\",\"barbie\",\"POSITIVE\"],[\"Horror\",\"Critic Sentiment\",\"five_nights_at_freddys\",\"POSITIVE\"],[\"Horror\",\"Critic Sentiment\",\"peeping_tom_1960\",\"POSITIVE\"]],\"hovertemplate\":\"Sentiment Score=%{customdata[3]:.2f}\\u003cbr\\u003eCritic Score=%{x:.2f}\\u003cbr\\u003eAudience Score=%{y}\\u003cbr\\u003egenre=%{customdata[0]}\\u003cbr\\u003ename=%{customdata[2]}\\u003cextra\\u003e\\u003c\\u002fextra\\u003e\",\"legendgroup\":\"Critic Sentiment\",\"marker\":{\"color\":\"DarkRed\",\"symbol\":\"circle\",\"line\":{\"color\":\"black\",\"width\":0.5},\"size\":8},\"mode\":\"markers\",\"name\":\"Critic Sentiment\",\"orientation\":\"v\",\"showlegend\":true,\"x\":[82,92,92,64,88,31,95],\"xaxis\":\"x\",\"y\":[63,93,93,72,83,87,85],\"yaxis\":\"y\",\"type\":\"scatter\"},{\"customdata\":[[\"Drama\",\"Critic Sentiment\",\"the_taste_of_things\",\"MIXED\"],[\"Drama\",\"Critic Sentiment\",\"killers_of_the_flower_moon\",\"MIXED\"],[\"Drama\",\"Critic Sentiment\",\"saltburn\",\"MIXED\"],[\"Comedy\",\"Critic Sentiment\",\"saltburn\",\"MIXED\"],[\"Drama\",\"Critic Sentiment\",\"scrapper_2023\",\"MIXED\"],[\"Comedy\",\"Critic Sentiment\",\"scrapper_2023\",\"MIXED\"],[\"Drama\",\"Critic Sentiment\",\"the_road_dance\",\"MIXED\"],[\"Comedy\",\"Critic Sentiment\",\"trolls_band_together\",\"MIXED\"],[\"Comedy\",\"Critic Sentiment\",\"wish_2023\",\"MIXED\"],[\"Comedy\",\"Critic Sentiment\",\"next_goal_wins_2023\",\"MIXED\"],[\"Comedy\",\"Critic Sentiment\",\"chicken_run_dawn_of_the_nugget\",\"MIXED\"],[\"Horror\",\"Critic Sentiment\",\"a_creature_was_stirring\",\"MIXED\"],[\"Action\",\"Critic Sentiment\",\"silent_night_2023\",\"MIXED\"],[\"Action\",\"Critic Sentiment\",\"the_marvels\",\"MIXED\"]],\"hovertemplate\":\"Sentiment Score=%{customdata[3]:.2f}\\u003cbr\\u003eCritic Score=%{x:.2f}\\u003cbr\\u003eAudience Score=%{y}\\u003cbr\\u003egenre=%{customdata[0]}\\u003cbr\\u003ename=%{customdata[2]}\\u003cextra\\u003e\\u003c\\u002fextra\\u003e\",\"legendgroup\":\"Critic Sentiment\",\"marker\":{\"color\":\"DarkRed\",\"symbol\":\"circle\",\"line\":{\"color\":\"black\",\"width\":0.5},\"size\":8},\"mode\":\"markers\",\"name\":\"Critic Sentiment\",\"orientation\":\"v\",\"showlegend\":false,\"x\":[98,93,72,72,94,94,81,60,49,43,78,50,58,61],\"xaxis\":\"x2\",\"y\":[100,84,79,79,83,83,94,92,81,85,90,38,50,83],\"yaxis\":\"y2\",\"type\":\"scatter\"},{\"customdata\":[[\"Drama\",\"Critic Sentiment\",\"napoleon_2023\",\"NEGATIVE\"],[\"Action\",\"Critic Sentiment\",\"napoleon_2023\",\"NEGATIVE\"],[\"Drama\",\"Critic Sentiment\",\"animal_2023_2\",\"NEGATIVE\"],[\"Action\",\"Critic Sentiment\",\"animal_2023_2\",\"NEGATIVE\"],[\"Drama\",\"Critic Sentiment\",\"the_oath_2023\",\"NEGATIVE\"],[\"Action\",\"Critic Sentiment\",\"the_oath_2023\",\"NEGATIVE\"],[\"Drama\",\"Critic Sentiment\",\"the_marsh_kings_daughter\",\"NEGATIVE\"],[\"Action\",\"Critic Sentiment\",\"concrete_utopia\",\"NEGATIVE\"]],\"hovertemplate\":\"Sentiment Score=%{customdata[3]:.2f}\\u003cbr\\u003eCritic Score=%{x:.2f}\\u003cbr\\u003eAudience Score=%{y}\\u003cbr\\u003egenre=%{customdata[0]}\\u003cbr\\u003ename=%{customdata[2]}\\u003cextra\\u003e\\u003c\\u002fextra\\u003e\",\"legendgroup\":\"Critic Sentiment\",\"marker\":{\"color\":\"DarkRed\",\"symbol\":\"circle\",\"line\":{\"color\":\"black\",\"width\":0.5},\"size\":8},\"mode\":\"markers\",\"name\":\"Critic Sentiment\",\"orientation\":\"v\",\"showlegend\":false,\"x\":[58,58,28,28,25,25,37,100],\"xaxis\":\"x3\",\"y\":[58,58,81,81,88,88,73,79],\"yaxis\":\"y3\",\"type\":\"scatter\"},{\"customdata\":[[\"Drama\",\"Audience Sentiment\",\"the_taste_of_things\",\"POSITIVE\"],[\"Drama\",\"Audience Sentiment\",\"animal_2023_2\",\"POSITIVE\"],[\"Action\",\"Audience Sentiment\",\"animal_2023_2\",\"POSITIVE\"],[\"Drama\",\"Audience Sentiment\",\"scrapper_2023\",\"POSITIVE\"],[\"Comedy\",\"Audience Sentiment\",\"scrapper_2023\",\"POSITIVE\"],[\"Drama\",\"Audience Sentiment\",\"the_marsh_kings_daughter\",\"POSITIVE\"],[\"Drama\",\"Audience Sentiment\",\"the_road_dance\",\"POSITIVE\"],[\"Comedy\",\"Audience Sentiment\",\"trolls_band_together\",\"POSITIVE\"],[\"Comedy\",\"Audience Sentiment\",\"wish_2023\",\"POSITIVE\"],[\"Comedy\",\"Audience Sentiment\",\"next_goal_wins_2023\",\"POSITIVE\"],[\"Comedy\",\"Audience Sentiment\",\"chicken_run_dawn_of_the_nugget\",\"POSITIVE\"],[\"Action\",\"Audience Sentiment\",\"concrete_utopia\",\"POSITIVE\"]],\"hovertemplate\":\"Sentiment Score=%{customdata[3]:.2f}\\u003cbr\\u003eCritic Score=%{x:.2f}\\u003cbr\\u003eAudience Score=%{y}\\u003cbr\\u003egenre=%{customdata[0]}\\u003cbr\\u003ename=%{customdata[2]}\\u003cextra\\u003e\\u003c\\u002fextra\\u003e\",\"legendgroup\":\"Audience Sentiment\",\"marker\":{\"color\":\"Yellow\",\"symbol\":\"circle\",\"line\":{\"color\":\"black\",\"width\":0.5},\"size\":8},\"mode\":\"markers\",\"name\":\"Audience Sentiment\",\"orientation\":\"v\",\"showlegend\":true,\"x\":[98,28,28,94,94,37,81,60,49,43,78,100],\"xaxis\":\"x\",\"y\":[100,81,81,83,83,73,94,92,81,85,90,79],\"yaxis\":\"y\",\"type\":\"scatter\"},{\"customdata\":[[\"Drama\",\"Audience Sentiment\",\"napoleon_2023\",\"MIXED\"],[\"Action\",\"Audience Sentiment\",\"napoleon_2023\",\"MIXED\"],[\"Drama\",\"Audience Sentiment\",\"poor_things\",\"MIXED\"],[\"Comedy\",\"Audience Sentiment\",\"poor_things\",\"MIXED\"],[\"Drama\",\"Audience Sentiment\",\"the_oath_2023\",\"MIXED\"],[\"Action\",\"Audience Sentiment\",\"the_oath_2023\",\"MIXED\"],[\"Comedy\",\"Audience Sentiment\",\"love_actually\",\"MIXED\"],[\"Horror\",\"Audience Sentiment\",\"five_nights_at_freddys\",\"MIXED\"]],\"hovertemplate\":\"Sentiment Score=%{customdata[3]:.2f}\\u003cbr\\u003eCritic Score=%{x:.2f}\\u003cbr\\u003eAudience Score=%{y}\\u003cbr\\u003egenre=%{customdata[0]}\\u003cbr\\u003ename=%{customdata[2]}\\u003cextra\\u003e\\u003c\\u002fextra\\u003e\",\"legendgroup\":\"Audience Sentiment\",\"marker\":{\"color\":\"Yellow\",\"symbol\":\"circle\",\"line\":{\"color\":\"black\",\"width\":0.5},\"size\":8},\"mode\":\"markers\",\"name\":\"Audience Sentiment\",\"orientation\":\"v\",\"showlegend\":false,\"x\":[58,58,92,92,25,25,64,31],\"xaxis\":\"x2\",\"y\":[58,58,93,93,88,88,72,87],\"yaxis\":\"y2\",\"type\":\"scatter\"},{\"customdata\":[[\"Drama\",\"Audience Sentiment\",\"killers_of_the_flower_moon\",\"NEGATIVE\"],[\"Drama\",\"Audience Sentiment\",\"priscilla\",\"NEGATIVE\"],[\"Drama\",\"Audience Sentiment\",\"saltburn\",\"NEGATIVE\"],[\"Comedy\",\"Audience Sentiment\",\"saltburn\",\"NEGATIVE\"],[\"Comedy\",\"Audience Sentiment\",\"barbie\",\"NEGATIVE\"],[\"Horror\",\"Audience Sentiment\",\"peeping_tom_1960\",\"NEGATIVE\"],[\"Horror\",\"Audience Sentiment\",\"a_creature_was_stirring\",\"NEGATIVE\"],[\"Action\",\"Audience Sentiment\",\"silent_night_2023\",\"NEGATIVE\"],[\"Action\",\"Audience Sentiment\",\"the_marvels\",\"NEGATIVE\"]],\"hovertemplate\":\"Sentiment Score=%{customdata[3]:.2f}\\u003cbr\\u003eCritic Score=%{x:.2f}\\u003cbr\\u003eAudience Score=%{y}\\u003cbr\\u003egenre=%{customdata[0]}\\u003cbr\\u003ename=%{customdata[2]}\\u003cextra\\u003e\\u003c\\u002fextra\\u003e\",\"legendgroup\":\"Audience Sentiment\",\"marker\":{\"color\":\"Yellow\",\"symbol\":\"circle\",\"line\":{\"color\":\"black\",\"width\":0.5},\"size\":8},\"mode\":\"markers\",\"name\":\"Audience Sentiment\",\"orientation\":\"v\",\"showlegend\":false,\"x\":[93,82,72,72,88,95,50,58,61],\"xaxis\":\"x3\",\"y\":[84,63,79,79,83,85,38,50,83],\"yaxis\":\"y3\",\"type\":\"scatter\"}],                        {\"template\":{\"data\":{\"barpolar\":[{\"marker\":{\"line\":{\"color\":\"white\",\"width\":0.5},\"pattern\":{\"fillmode\":\"overlay\",\"size\":10,\"solidity\":0.2}},\"type\":\"barpolar\"}],\"bar\":[{\"error_x\":{\"color\":\"rgb(36,36,36)\"},\"error_y\":{\"color\":\"rgb(36,36,36)\"},\"marker\":{\"line\":{\"color\":\"white\",\"width\":0.5},\"pattern\":{\"fillmode\":\"overlay\",\"size\":10,\"solidity\":0.2}},\"type\":\"bar\"}],\"carpet\":[{\"aaxis\":{\"endlinecolor\":\"rgb(36,36,36)\",\"gridcolor\":\"white\",\"linecolor\":\"white\",\"minorgridcolor\":\"white\",\"startlinecolor\":\"rgb(36,36,36)\"},\"baxis\":{\"endlinecolor\":\"rgb(36,36,36)\",\"gridcolor\":\"white\",\"linecolor\":\"white\",\"minorgridcolor\":\"white\",\"startlinecolor\":\"rgb(36,36,36)\"},\"type\":\"carpet\"}],\"choropleth\":[{\"colorbar\":{\"outlinewidth\":1,\"tickcolor\":\"rgb(36,36,36)\",\"ticks\":\"outside\"},\"type\":\"choropleth\"}],\"contourcarpet\":[{\"colorbar\":{\"outlinewidth\":1,\"tickcolor\":\"rgb(36,36,36)\",\"ticks\":\"outside\"},\"type\":\"contourcarpet\"}],\"contour\":[{\"colorbar\":{\"outlinewidth\":1,\"tickcolor\":\"rgb(36,36,36)\",\"ticks\":\"outside\"},\"colorscale\":[[0.0,\"#440154\"],[0.1111111111111111,\"#482878\"],[0.2222222222222222,\"#3e4989\"],[0.3333333333333333,\"#31688e\"],[0.4444444444444444,\"#26828e\"],[0.5555555555555556,\"#1f9e89\"],[0.6666666666666666,\"#35b779\"],[0.7777777777777778,\"#6ece58\"],[0.8888888888888888,\"#b5de2b\"],[1.0,\"#fde725\"]],\"type\":\"contour\"}],\"heatmapgl\":[{\"colorbar\":{\"outlinewidth\":1,\"tickcolor\":\"rgb(36,36,36)\",\"ticks\":\"outside\"},\"colorscale\":[[0.0,\"#440154\"],[0.1111111111111111,\"#482878\"],[0.2222222222222222,\"#3e4989\"],[0.3333333333333333,\"#31688e\"],[0.4444444444444444,\"#26828e\"],[0.5555555555555556,\"#1f9e89\"],[0.6666666666666666,\"#35b779\"],[0.7777777777777778,\"#6ece58\"],[0.8888888888888888,\"#b5de2b\"],[1.0,\"#fde725\"]],\"type\":\"heatmapgl\"}],\"heatmap\":[{\"colorbar\":{\"outlinewidth\":1,\"tickcolor\":\"rgb(36,36,36)\",\"ticks\":\"outside\"},\"colorscale\":[[0.0,\"#440154\"],[0.1111111111111111,\"#482878\"],[0.2222222222222222,\"#3e4989\"],[0.3333333333333333,\"#31688e\"],[0.4444444444444444,\"#26828e\"],[0.5555555555555556,\"#1f9e89\"],[0.6666666666666666,\"#35b779\"],[0.7777777777777778,\"#6ece58\"],[0.8888888888888888,\"#b5de2b\"],[1.0,\"#fde725\"]],\"type\":\"heatmap\"}],\"histogram2dcontour\":[{\"colorbar\":{\"outlinewidth\":1,\"tickcolor\":\"rgb(36,36,36)\",\"ticks\":\"outside\"},\"colorscale\":[[0.0,\"#440154\"],[0.1111111111111111,\"#482878\"],[0.2222222222222222,\"#3e4989\"],[0.3333333333333333,\"#31688e\"],[0.4444444444444444,\"#26828e\"],[0.5555555555555556,\"#1f9e89\"],[0.6666666666666666,\"#35b779\"],[0.7777777777777778,\"#6ece58\"],[0.8888888888888888,\"#b5de2b\"],[1.0,\"#fde725\"]],\"type\":\"histogram2dcontour\"}],\"histogram2d\":[{\"colorbar\":{\"outlinewidth\":1,\"tickcolor\":\"rgb(36,36,36)\",\"ticks\":\"outside\"},\"colorscale\":[[0.0,\"#440154\"],[0.1111111111111111,\"#482878\"],[0.2222222222222222,\"#3e4989\"],[0.3333333333333333,\"#31688e\"],[0.4444444444444444,\"#26828e\"],[0.5555555555555556,\"#1f9e89\"],[0.6666666666666666,\"#35b779\"],[0.7777777777777778,\"#6ece58\"],[0.8888888888888888,\"#b5de2b\"],[1.0,\"#fde725\"]],\"type\":\"histogram2d\"}],\"histogram\":[{\"marker\":{\"line\":{\"color\":\"white\",\"width\":0.6}},\"type\":\"histogram\"}],\"mesh3d\":[{\"colorbar\":{\"outlinewidth\":1,\"tickcolor\":\"rgb(36,36,36)\",\"ticks\":\"outside\"},\"type\":\"mesh3d\"}],\"parcoords\":[{\"line\":{\"colorbar\":{\"outlinewidth\":1,\"tickcolor\":\"rgb(36,36,36)\",\"ticks\":\"outside\"}},\"type\":\"parcoords\"}],\"pie\":[{\"automargin\":true,\"type\":\"pie\"}],\"scatter3d\":[{\"line\":{\"colorbar\":{\"outlinewidth\":1,\"tickcolor\":\"rgb(36,36,36)\",\"ticks\":\"outside\"}},\"marker\":{\"colorbar\":{\"outlinewidth\":1,\"tickcolor\":\"rgb(36,36,36)\",\"ticks\":\"outside\"}},\"type\":\"scatter3d\"}],\"scattercarpet\":[{\"marker\":{\"colorbar\":{\"outlinewidth\":1,\"tickcolor\":\"rgb(36,36,36)\",\"ticks\":\"outside\"}},\"type\":\"scattercarpet\"}],\"scattergeo\":[{\"marker\":{\"colorbar\":{\"outlinewidth\":1,\"tickcolor\":\"rgb(36,36,36)\",\"ticks\":\"outside\"}},\"type\":\"scattergeo\"}],\"scattergl\":[{\"marker\":{\"colorbar\":{\"outlinewidth\":1,\"tickcolor\":\"rgb(36,36,36)\",\"ticks\":\"outside\"}},\"type\":\"scattergl\"}],\"scattermapbox\":[{\"marker\":{\"colorbar\":{\"outlinewidth\":1,\"tickcolor\":\"rgb(36,36,36)\",\"ticks\":\"outside\"}},\"type\":\"scattermapbox\"}],\"scatterpolargl\":[{\"marker\":{\"colorbar\":{\"outlinewidth\":1,\"tickcolor\":\"rgb(36,36,36)\",\"ticks\":\"outside\"}},\"type\":\"scatterpolargl\"}],\"scatterpolar\":[{\"marker\":{\"colorbar\":{\"outlinewidth\":1,\"tickcolor\":\"rgb(36,36,36)\",\"ticks\":\"outside\"}},\"type\":\"scatterpolar\"}],\"scatter\":[{\"fillpattern\":{\"fillmode\":\"overlay\",\"size\":10,\"solidity\":0.2},\"type\":\"scatter\"}],\"scatterternary\":[{\"marker\":{\"colorbar\":{\"outlinewidth\":1,\"tickcolor\":\"rgb(36,36,36)\",\"ticks\":\"outside\"}},\"type\":\"scatterternary\"}],\"surface\":[{\"colorbar\":{\"outlinewidth\":1,\"tickcolor\":\"rgb(36,36,36)\",\"ticks\":\"outside\"},\"colorscale\":[[0.0,\"#440154\"],[0.1111111111111111,\"#482878\"],[0.2222222222222222,\"#3e4989\"],[0.3333333333333333,\"#31688e\"],[0.4444444444444444,\"#26828e\"],[0.5555555555555556,\"#1f9e89\"],[0.6666666666666666,\"#35b779\"],[0.7777777777777778,\"#6ece58\"],[0.8888888888888888,\"#b5de2b\"],[1.0,\"#fde725\"]],\"type\":\"surface\"}],\"table\":[{\"cells\":{\"fill\":{\"color\":\"rgb(237,237,237)\"},\"line\":{\"color\":\"white\"}},\"header\":{\"fill\":{\"color\":\"rgb(217,217,217)\"},\"line\":{\"color\":\"white\"}},\"type\":\"table\"}]},\"layout\":{\"annotationdefaults\":{\"arrowhead\":0,\"arrowwidth\":1},\"autotypenumbers\":\"strict\",\"coloraxis\":{\"colorbar\":{\"outlinewidth\":1,\"tickcolor\":\"rgb(36,36,36)\",\"ticks\":\"outside\"}},\"colorscale\":{\"diverging\":[[0.0,\"rgb(103,0,31)\"],[0.1,\"rgb(178,24,43)\"],[0.2,\"rgb(214,96,77)\"],[0.3,\"rgb(244,165,130)\"],[0.4,\"rgb(253,219,199)\"],[0.5,\"rgb(247,247,247)\"],[0.6,\"rgb(209,229,240)\"],[0.7,\"rgb(146,197,222)\"],[0.8,\"rgb(67,147,195)\"],[0.9,\"rgb(33,102,172)\"],[1.0,\"rgb(5,48,97)\"]],\"sequential\":[[0.0,\"#440154\"],[0.1111111111111111,\"#482878\"],[0.2222222222222222,\"#3e4989\"],[0.3333333333333333,\"#31688e\"],[0.4444444444444444,\"#26828e\"],[0.5555555555555556,\"#1f9e89\"],[0.6666666666666666,\"#35b779\"],[0.7777777777777778,\"#6ece58\"],[0.8888888888888888,\"#b5de2b\"],[1.0,\"#fde725\"]],\"sequentialminus\":[[0.0,\"#440154\"],[0.1111111111111111,\"#482878\"],[0.2222222222222222,\"#3e4989\"],[0.3333333333333333,\"#31688e\"],[0.4444444444444444,\"#26828e\"],[0.5555555555555556,\"#1f9e89\"],[0.6666666666666666,\"#35b779\"],[0.7777777777777778,\"#6ece58\"],[0.8888888888888888,\"#b5de2b\"],[1.0,\"#fde725\"]]},\"colorway\":[\"#1F77B4\",\"#FF7F0E\",\"#2CA02C\",\"#D62728\",\"#9467BD\",\"#8C564B\",\"#E377C2\",\"#7F7F7F\",\"#BCBD22\",\"#17BECF\"],\"font\":{\"color\":\"rgb(36,36,36)\"},\"geo\":{\"bgcolor\":\"white\",\"lakecolor\":\"white\",\"landcolor\":\"white\",\"showlakes\":true,\"showland\":true,\"subunitcolor\":\"white\"},\"hoverlabel\":{\"align\":\"left\"},\"hovermode\":\"closest\",\"mapbox\":{\"style\":\"light\"},\"paper_bgcolor\":\"white\",\"plot_bgcolor\":\"white\",\"polar\":{\"angularaxis\":{\"gridcolor\":\"rgb(232,232,232)\",\"linecolor\":\"rgb(36,36,36)\",\"showgrid\":false,\"showline\":true,\"ticks\":\"outside\"},\"bgcolor\":\"white\",\"radialaxis\":{\"gridcolor\":\"rgb(232,232,232)\",\"linecolor\":\"rgb(36,36,36)\",\"showgrid\":false,\"showline\":true,\"ticks\":\"outside\"}},\"scene\":{\"xaxis\":{\"backgroundcolor\":\"white\",\"gridcolor\":\"rgb(232,232,232)\",\"gridwidth\":2,\"linecolor\":\"rgb(36,36,36)\",\"showbackground\":true,\"showgrid\":false,\"showline\":true,\"ticks\":\"outside\",\"zeroline\":false,\"zerolinecolor\":\"rgb(36,36,36)\"},\"yaxis\":{\"backgroundcolor\":\"white\",\"gridcolor\":\"rgb(232,232,232)\",\"gridwidth\":2,\"linecolor\":\"rgb(36,36,36)\",\"showbackground\":true,\"showgrid\":false,\"showline\":true,\"ticks\":\"outside\",\"zeroline\":false,\"zerolinecolor\":\"rgb(36,36,36)\"},\"zaxis\":{\"backgroundcolor\":\"white\",\"gridcolor\":\"rgb(232,232,232)\",\"gridwidth\":2,\"linecolor\":\"rgb(36,36,36)\",\"showbackground\":true,\"showgrid\":false,\"showline\":true,\"ticks\":\"outside\",\"zeroline\":false,\"zerolinecolor\":\"rgb(36,36,36)\"}},\"shapedefaults\":{\"fillcolor\":\"black\",\"line\":{\"width\":0},\"opacity\":0.3},\"ternary\":{\"aaxis\":{\"gridcolor\":\"rgb(232,232,232)\",\"linecolor\":\"rgb(36,36,36)\",\"showgrid\":false,\"showline\":true,\"ticks\":\"outside\"},\"baxis\":{\"gridcolor\":\"rgb(232,232,232)\",\"linecolor\":\"rgb(36,36,36)\",\"showgrid\":false,\"showline\":true,\"ticks\":\"outside\"},\"bgcolor\":\"white\",\"caxis\":{\"gridcolor\":\"rgb(232,232,232)\",\"linecolor\":\"rgb(36,36,36)\",\"showgrid\":false,\"showline\":true,\"ticks\":\"outside\"}},\"title\":{\"x\":0.05},\"xaxis\":{\"automargin\":true,\"gridcolor\":\"rgb(232,232,232)\",\"linecolor\":\"rgb(36,36,36)\",\"showgrid\":false,\"showline\":true,\"ticks\":\"outside\",\"title\":{\"standoff\":15},\"zeroline\":false,\"zerolinecolor\":\"rgb(36,36,36)\"},\"yaxis\":{\"automargin\":true,\"gridcolor\":\"rgb(232,232,232)\",\"linecolor\":\"rgb(36,36,36)\",\"showgrid\":false,\"showline\":true,\"ticks\":\"outside\",\"title\":{\"standoff\":15},\"zeroline\":false,\"zerolinecolor\":\"rgb(36,36,36)\"}}},\"xaxis\":{\"anchor\":\"y\",\"domain\":[0.0,0.31999999999999995],\"title\":{\"text\":\"Critic Score\"}},\"yaxis\":{\"anchor\":\"x\",\"domain\":[0.0,1.0],\"title\":{\"text\":\"Audience Score\"}},\"xaxis2\":{\"anchor\":\"y2\",\"domain\":[0.33999999999999997,0.6599999999999999],\"matches\":\"x\",\"title\":{\"text\":\"Critic Score\"}},\"yaxis2\":{\"anchor\":\"x2\",\"domain\":[0.0,1.0],\"matches\":\"y\",\"showticklabels\":false},\"xaxis3\":{\"anchor\":\"y3\",\"domain\":[0.6799999999999999,0.9999999999999999],\"matches\":\"x\",\"title\":{\"text\":\"Critic Score\"}},\"yaxis3\":{\"anchor\":\"x3\",\"domain\":[0.0,1.0],\"matches\":\"y\",\"showticklabels\":false},\"annotations\":[{\"font\":{},\"showarrow\":false,\"text\":\"POSITIVE\",\"x\":0.15999999999999998,\"xanchor\":\"center\",\"xref\":\"paper\",\"y\":1.0,\"yanchor\":\"bottom\",\"yref\":\"paper\"},{\"font\":{},\"showarrow\":false,\"text\":\"MIXED\",\"x\":0.49999999999999994,\"xanchor\":\"center\",\"xref\":\"paper\",\"y\":1.0,\"yanchor\":\"bottom\",\"yref\":\"paper\"},{\"font\":{},\"showarrow\":false,\"text\":\"NEGATIVE\",\"x\":0.8399999999999999,\"xanchor\":\"center\",\"xref\":\"paper\",\"y\":1.0,\"yanchor\":\"bottom\",\"yref\":\"paper\"}],\"legend\":{\"title\":{\"text\":\"Sentiment\"},\"tracegroupgap\":0,\"font\":{\"size\":14}},\"title\":{\"text\":\"\\u003cb\\u003eMovie Sentiments \\u003c\\u002fb\\u003e\",\"font\":{\"size\":20},\"x\":0.5},\"height\":600,\"width\":1600},                        {\"responsive\": true}                    ).then(function(){\n",
       "                            \n",
       "var gd = document.getElementById('115fe32d-281b-4f34-87e5-ae59370cfa5b');\n",
       "var x = new MutationObserver(function (mutations, observer) {{\n",
       "        var display = window.getComputedStyle(gd).display;\n",
       "        if (!display || display === 'none') {{\n",
       "            console.log([gd, 'removed!']);\n",
       "            Plotly.purge(gd);\n",
       "            observer.disconnect();\n",
       "        }}\n",
       "}});\n",
       "\n",
       "// Listen for the removal of the full notebook cells\n",
       "var notebookContainer = gd.closest('#notebook-container');\n",
       "if (notebookContainer) {{\n",
       "    x.observe(notebookContainer, {childList: true});\n",
       "}}\n",
       "\n",
       "// Listen for the clearing of the current output cell\n",
       "var outputEl = gd.closest('.output');\n",
       "if (outputEl) {{\n",
       "    x.observe(outputEl, {childList: true});\n",
       "}}\n",
       "\n",
       "                        })                };                });            </script>        </div>"
      ]
     },
     "metadata": {},
     "output_type": "display_data"
    }
   ],
   "source": [
    "scatter3 = px.scatter(sentiment, x='critic_score',\n",
    "                       y='audience_score',\n",
    "                         title='Average Sentiment Score by Genre',\n",
    "                         color = 'variable',\n",
    "                         facet_col='value',\n",
    "                         template = \"simple_white\",\n",
    "                          hover_data={'genre': True, 'variable': False,'name':True, 'critic_score': ':.2f', 'value': ':.2f'},\n",
    "                         labels = {'variable' : 'Sentiment','audience_score':'Audience Score','value':'Sentiment Score','critic_score':'Critic Score'}, # rename legend label\n",
    "                    color_discrete_map={'Same for Critics and Audience': 'green', 'Critic Sentiment': 'DarkRed','Audience Sentiment':'Yellow',})\n",
    "\n",
    "scatter3.update_layout(height=600, width=1600,\n",
    "                       title=dict(text='<b>Movie Sentiments </b>',font=dict(size=20)),\n",
    "                        title_x = 0.5, # move title to the middle\n",
    "                        legend=dict(font=dict(size=14))\n",
    "                        )\n",
    "\n",
    "scatter3.update_traces(marker=dict(line=dict(color='black', width=0.5),\n",
    "                                   size=8, symbol='circle'),  # Set the default marker as 'circle'\n",
    "                       selector=dict(mode='markers'))\n",
    "\n",
    "scatter3.update_traces(marker_symbol='circle', selector=dict(variable='Same for Critics and Audience'))\n",
    "scatter3.update_traces(marker_symbol='x', selector=dict(variable='Critic Sentiment'))\n",
    "scatter3.update_traces(marker_symbol='star', selector=dict(variable='Audience Sentiment'))\n",
    "\n",
    "scatter3.for_each_annotation(lambda a: a.update(text=a.text.split(\"=\")[-1].replace(\n",
    "    'postive', 'Positive Reviews').replace('negative', 'Negative Reviews').replace('neutral', 'Neutral Reviews').replace(\n",
    "        'mixed', 'Mixed Reviews').replace('critic', 'Critic Reviews').replace('critic_score', 'Critic Score'))) # rename facet titles\n",
    "\n",
    "scatter3.update_layout(xaxis_title='Critic Score',yaxis_title='Audience Score')\n",
    "\n",
    "scatter3.show()"
   ]
  },
  {
   "cell_type": "code",
   "execution_count": null,
   "metadata": {},
   "outputs": [],
   "source": []
  }
 ],
 "metadata": {
  "kernelspec": {
   "display_name": "Python 3",
   "language": "python",
   "name": "python3"
  },
  "language_info": {
   "codemirror_mode": {
    "name": "ipython",
    "version": 3
   },
   "file_extension": ".py",
   "mimetype": "text/x-python",
   "name": "python",
   "nbconvert_exporter": "python",
   "pygments_lexer": "ipython3",
   "version": "3.11.6"
  }
 },
 "nbformat": 4,
 "nbformat_minor": 2
}
