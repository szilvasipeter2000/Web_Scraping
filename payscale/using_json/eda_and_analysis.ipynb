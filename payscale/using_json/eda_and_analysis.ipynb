{
 "cells": [
  {
   "cell_type": "code",
   "execution_count": 1,
   "metadata": {},
   "outputs": [],
   "source": [
    "import pandas as pd\n",
    "import geopandas as gpd\n",
    "import seaborn as sns\n",
    "import matplotlib.pyplot as plt\n",
    "import plotly.express as px\n"
   ]
  },
  {
   "cell_type": "code",
   "execution_count": 2,
   "metadata": {},
   "outputs": [],
   "source": [
    "# readinig the clean data\n",
    "df_location = pd.read_csv('https://raw.githubusercontent.com/szilvasipeter2000/Web_Scraping/main/payscale/using_json/data/clean/clean_data_location.csv')\n",
    "df_employer = pd.read_csv('https://raw.githubusercontent.com/szilvasipeter2000/Web_Scraping/main/payscale/using_json/data/clean/clean_data_employer.csv')\n",
    "df_skills = pd.read_csv('https://raw.githubusercontent.com/szilvasipeter2000/Web_Scraping/main/payscale/using_json/data/clean/clean_data_skills.csv')\n",
    "df_experience = pd.read_csv('https://raw.githubusercontent.com/szilvasipeter2000/Web_Scraping/main/payscale/using_json/data/clean/clean_data_experience.csv')\n",
    "df_summary = pd.read_csv('https://raw.githubusercontent.com/szilvasipeter2000/Web_Scraping/main/payscale/using_json/data/clean/clean_data_summary.csv')"
   ]
  },
  {
   "cell_type": "markdown",
   "metadata": {},
   "source": [
    "---\n",
    "# EDA on Location\n",
    "---"
   ]
  },
  {
   "cell_type": "code",
   "execution_count": 3,
   "metadata": {},
   "outputs": [
    {
     "data": {
      "text/html": [
       "<div>\n",
       "<style scoped>\n",
       "    .dataframe tbody tr th:only-of-type {\n",
       "        vertical-align: middle;\n",
       "    }\n",
       "\n",
       "    .dataframe tbody tr th {\n",
       "        vertical-align: top;\n",
       "    }\n",
       "\n",
       "    .dataframe thead th {\n",
       "        text-align: right;\n",
       "    }\n",
       "</style>\n",
       "<table border=\"1\" class=\"dataframe\">\n",
       "  <thead>\n",
       "    <tr style=\"text-align: right;\">\n",
       "      <th></th>\n",
       "      <th>state</th>\n",
       "      <th>city</th>\n",
       "      <th>job_title</th>\n",
       "      <th>median_salary</th>\n",
       "      <th>profile_count</th>\n",
       "    </tr>\n",
       "  </thead>\n",
       "  <tbody>\n",
       "    <tr>\n",
       "      <th>0</th>\n",
       "      <td>New York</td>\n",
       "      <td>New York</td>\n",
       "      <td>ABAP_Developer</td>\n",
       "      <td>73758.95</td>\n",
       "      <td>10</td>\n",
       "    </tr>\n",
       "    <tr>\n",
       "      <th>1</th>\n",
       "      <td>Georgia</td>\n",
       "      <td>Atlanta</td>\n",
       "      <td>ABAP_Developer</td>\n",
       "      <td>80000.00</td>\n",
       "      <td>8</td>\n",
       "    </tr>\n",
       "    <tr>\n",
       "      <th>2</th>\n",
       "      <td>Minnesota</td>\n",
       "      <td>Minneapolis</td>\n",
       "      <td>ABAP_Developer</td>\n",
       "      <td>104963.73</td>\n",
       "      <td>5</td>\n",
       "    </tr>\n",
       "    <tr>\n",
       "      <th>3</th>\n",
       "      <td>District of Columbia</td>\n",
       "      <td>Washington</td>\n",
       "      <td>ABAP_Developer</td>\n",
       "      <td>67250.00</td>\n",
       "      <td>5</td>\n",
       "    </tr>\n",
       "    <tr>\n",
       "      <th>4</th>\n",
       "      <td>Texas</td>\n",
       "      <td>Dallas</td>\n",
       "      <td>ABAP_Developer</td>\n",
       "      <td>105500.00</td>\n",
       "      <td>4</td>\n",
       "    </tr>\n",
       "    <tr>\n",
       "      <th>...</th>\n",
       "      <td>...</td>\n",
       "      <td>...</td>\n",
       "      <td>...</td>\n",
       "      <td>...</td>\n",
       "      <td>...</td>\n",
       "    </tr>\n",
       "    <tr>\n",
       "      <th>32658</th>\n",
       "      <td>Georgia</td>\n",
       "      <td>Atlanta</td>\n",
       "      <td>Wireless_Communications_Engineer</td>\n",
       "      <td>82424.24</td>\n",
       "      <td>7</td>\n",
       "    </tr>\n",
       "    <tr>\n",
       "      <th>32659</th>\n",
       "      <td>California</td>\n",
       "      <td>Santa Clara</td>\n",
       "      <td>Wireless_Communications_Engineer</td>\n",
       "      <td>120000.00</td>\n",
       "      <td>5</td>\n",
       "    </tr>\n",
       "    <tr>\n",
       "      <th>32660</th>\n",
       "      <td>California</td>\n",
       "      <td>San Diego</td>\n",
       "      <td>Wireless_Communications_Engineer</td>\n",
       "      <td>97000.00</td>\n",
       "      <td>5</td>\n",
       "    </tr>\n",
       "    <tr>\n",
       "      <th>32661</th>\n",
       "      <td>New York</td>\n",
       "      <td>New York</td>\n",
       "      <td>Wireless_Communications_Engineer</td>\n",
       "      <td>85000.00</td>\n",
       "      <td>5</td>\n",
       "    </tr>\n",
       "    <tr>\n",
       "      <th>32662</th>\n",
       "      <td>Illinois</td>\n",
       "      <td>Chicago</td>\n",
       "      <td>Wireless_Communications_Engineer</td>\n",
       "      <td>58000.00</td>\n",
       "      <td>4</td>\n",
       "    </tr>\n",
       "  </tbody>\n",
       "</table>\n",
       "<p>32663 rows × 5 columns</p>\n",
       "</div>"
      ],
      "text/plain": [
       "                      state         city                         job_title  \\\n",
       "0                  New York     New York                    ABAP_Developer   \n",
       "1                   Georgia      Atlanta                    ABAP_Developer   \n",
       "2                 Minnesota  Minneapolis                    ABAP_Developer   \n",
       "3      District of Columbia   Washington                    ABAP_Developer   \n",
       "4                     Texas       Dallas                    ABAP_Developer   \n",
       "...                     ...          ...                               ...   \n",
       "32658               Georgia      Atlanta  Wireless_Communications_Engineer   \n",
       "32659            California  Santa Clara  Wireless_Communications_Engineer   \n",
       "32660            California    San Diego  Wireless_Communications_Engineer   \n",
       "32661              New York     New York  Wireless_Communications_Engineer   \n",
       "32662              Illinois      Chicago  Wireless_Communications_Engineer   \n",
       "\n",
       "       median_salary  profile_count  \n",
       "0           73758.95             10  \n",
       "1           80000.00              8  \n",
       "2          104963.73              5  \n",
       "3           67250.00              5  \n",
       "4          105500.00              4  \n",
       "...              ...            ...  \n",
       "32658       82424.24              7  \n",
       "32659      120000.00              5  \n",
       "32660       97000.00              5  \n",
       "32661       85000.00              5  \n",
       "32662       58000.00              4  \n",
       "\n",
       "[32663 rows x 5 columns]"
      ]
     },
     "execution_count": 3,
     "metadata": {},
     "output_type": "execute_result"
    }
   ],
   "source": [
    "df_location"
   ]
  },
  {
   "cell_type": "code",
   "execution_count": 4,
   "metadata": {},
   "outputs": [
    {
     "name": "stdout",
     "output_type": "stream",
     "text": [
      "<class 'pandas.core.frame.DataFrame'>\n",
      "RangeIndex: 32663 entries, 0 to 32662\n",
      "Data columns (total 5 columns):\n",
      " #   Column         Non-Null Count  Dtype  \n",
      "---  ------         --------------  -----  \n",
      " 0   state          32663 non-null  object \n",
      " 1   city           32663 non-null  object \n",
      " 2   job_title      29674 non-null  object \n",
      " 3   median_salary  31302 non-null  float64\n",
      " 4   profile_count  32663 non-null  int64  \n",
      "dtypes: float64(1), int64(1), object(3)\n",
      "memory usage: 1.2+ MB\n"
     ]
    }
   ],
   "source": [
    "# check data types\n",
    "df_location.info()"
   ]
  },
  {
   "cell_type": "code",
   "execution_count": 5,
   "metadata": {},
   "outputs": [
    {
     "data": {
      "text/html": [
       "<div>\n",
       "<style scoped>\n",
       "    .dataframe tbody tr th:only-of-type {\n",
       "        vertical-align: middle;\n",
       "    }\n",
       "\n",
       "    .dataframe tbody tr th {\n",
       "        vertical-align: top;\n",
       "    }\n",
       "\n",
       "    .dataframe thead th {\n",
       "        text-align: right;\n",
       "    }\n",
       "</style>\n",
       "<table border=\"1\" class=\"dataframe\">\n",
       "  <thead>\n",
       "    <tr style=\"text-align: right;\">\n",
       "      <th></th>\n",
       "      <th>median_salary</th>\n",
       "      <th>profile_count</th>\n",
       "    </tr>\n",
       "  </thead>\n",
       "  <tbody>\n",
       "    <tr>\n",
       "      <th>count</th>\n",
       "      <td>31302.000000</td>\n",
       "      <td>32663.000000</td>\n",
       "    </tr>\n",
       "    <tr>\n",
       "      <th>mean</th>\n",
       "      <td>79471.627573</td>\n",
       "      <td>11.962251</td>\n",
       "    </tr>\n",
       "    <tr>\n",
       "      <th>std</th>\n",
       "      <td>34644.256437</td>\n",
       "      <td>27.116447</td>\n",
       "    </tr>\n",
       "    <tr>\n",
       "      <th>min</th>\n",
       "      <td>8.170000</td>\n",
       "      <td>2.000000</td>\n",
       "    </tr>\n",
       "    <tr>\n",
       "      <th>25%</th>\n",
       "      <td>60500.000000</td>\n",
       "      <td>5.000000</td>\n",
       "    </tr>\n",
       "    <tr>\n",
       "      <th>50%</th>\n",
       "      <td>77500.000000</td>\n",
       "      <td>6.000000</td>\n",
       "    </tr>\n",
       "    <tr>\n",
       "      <th>75%</th>\n",
       "      <td>99989.730000</td>\n",
       "      <td>10.000000</td>\n",
       "    </tr>\n",
       "    <tr>\n",
       "      <th>max</th>\n",
       "      <td>251139.430000</td>\n",
       "      <td>1411.000000</td>\n",
       "    </tr>\n",
       "  </tbody>\n",
       "</table>\n",
       "</div>"
      ],
      "text/plain": [
       "       median_salary  profile_count\n",
       "count   31302.000000   32663.000000\n",
       "mean    79471.627573      11.962251\n",
       "std     34644.256437      27.116447\n",
       "min         8.170000       2.000000\n",
       "25%     60500.000000       5.000000\n",
       "50%     77500.000000       6.000000\n",
       "75%     99989.730000      10.000000\n",
       "max    251139.430000    1411.000000"
      ]
     },
     "execution_count": 5,
     "metadata": {},
     "output_type": "execute_result"
    }
   ],
   "source": [
    "# Generate descriptive table\n",
    "df_location.describe()"
   ]
  },
  {
   "cell_type": "code",
   "execution_count": 6,
   "metadata": {},
   "outputs": [],
   "source": [
    "# minimum is 8.17 so these include hourly wages"
   ]
  },
  {
   "cell_type": "code",
   "execution_count": 7,
   "metadata": {},
   "outputs": [
    {
     "data": {
      "text/plain": [
       "<Axes: xlabel='median_salary', ylabel='Count'>"
      ]
     },
     "execution_count": 7,
     "metadata": {},
     "output_type": "execute_result"
    },
    {
     "data": {
      "image/png": "[encoded data removed]",
      "text/plain": [
       "<Figure size 640x480 with 1 Axes>"
      ]
     },
     "metadata": {},
     "output_type": "display_data"
    }
   ],
   "source": [
    "sns.histplot(data=df_location, x='median_salary', bins=20)"
   ]
  },
  {
   "cell_type": "code",
   "execution_count": 8,
   "metadata": {},
   "outputs": [],
   "source": [
    "# filter out hourly wages\n",
    "df_location = df_location[(df_location['median_salary'] > 1000)]"
   ]
  },
  {
   "cell_type": "code",
   "execution_count": 9,
   "metadata": {},
   "outputs": [
    {
     "data": {
      "text/plain": [
       "<Axes: xlabel='median_salary', ylabel='Count'>"
      ]
     },
     "execution_count": 9,
     "metadata": {},
     "output_type": "execute_result"
    },
    {
     "data": {
      "image/png": "[encoded data removed]",
      "text/plain": [
       "<Figure size 640x480 with 1 Axes>"
      ]
     },
     "metadata": {},
     "output_type": "display_data"
    }
   ],
   "source": [
    "sns.histplot(data=df_location, x='median_salary', bins=20)"
   ]
  },
  {
   "cell_type": "code",
   "execution_count": 10,
   "metadata": {},
   "outputs": [
    {
     "name": "stdout",
     "output_type": "stream",
     "text": [
      "We have 0 null values in the state column\n",
      "We have 0 null values in the city column\n",
      "We have 677 null values in the job_title column\n",
      "We have 0 null values in the median_salary column\n",
      "We have 0 null values in the profile_count column\n"
     ]
    }
   ],
   "source": [
    "print(f'We have {df_location[\"state\"].isnull().sum()} null values in the state column')\n",
    "print(f'We have {df_location[\"city\"].isnull().sum()} null values in the city column')\n",
    "print(f'We have {df_location[\"job_title\"].isnull().sum()} null values in the job_title column')\n",
    "print(f'We have {df_location[\"median_salary\"].isnull().sum()} null values in the median_salary column')\n",
    "print(f'We have {df_location[\"profile_count\"].isnull().sum()} null values in the profile_count column')"
   ]
  },
  {
   "cell_type": "code",
   "execution_count": 11,
   "metadata": {},
   "outputs": [],
   "source": [
    "# drop those where job_title is null\n",
    "df_location = df_location.dropna(subset='job_title')"
   ]
  },
  {
   "cell_type": "code",
   "execution_count": 12,
   "metadata": {},
   "outputs": [
    {
     "name": "stdout",
     "output_type": "stream",
     "text": [
      "We have 51 unique values in the state column\n",
      "We have 1675 unique values in the city column\n",
      "We have 492 unique values in the job_title column\n"
     ]
    }
   ],
   "source": [
    "print(f'We have {df_location[\"state\"].nunique()} unique values in the state column')\n",
    "print(f'We have {df_location[\"city\"].nunique()} unique values in the city column')\n",
    "print(f'We have {df_location[\"job_title\"].nunique()} unique values in the job_title column')"
   ]
  },
  {
   "cell_type": "code",
   "execution_count": 13,
   "metadata": {},
   "outputs": [
    {
     "name": "stdout",
     "output_type": "stream",
     "text": [
      "We have 28530 observations in the data\n"
     ]
    }
   ],
   "source": [
    "print(f'We have {df_location.shape[0]} observations in the data')"
   ]
  },
  {
   "cell_type": "code",
   "execution_count": 14,
   "metadata": {},
   "outputs": [
    {
     "data": {
      "text/html": [
       "<div>\n",
       "<style scoped>\n",
       "    .dataframe tbody tr th:only-of-type {\n",
       "        vertical-align: middle;\n",
       "    }\n",
       "\n",
       "    .dataframe tbody tr th {\n",
       "        vertical-align: top;\n",
       "    }\n",
       "\n",
       "    .dataframe thead th {\n",
       "        text-align: right;\n",
       "    }\n",
       "</style>\n",
       "<table border=\"1\" class=\"dataframe\">\n",
       "  <thead>\n",
       "    <tr style=\"text-align: right;\">\n",
       "      <th></th>\n",
       "      <th>index</th>\n",
       "      <th>job_title</th>\n",
       "    </tr>\n",
       "  </thead>\n",
       "  <tbody>\n",
       "    <tr>\n",
       "      <th>0</th>\n",
       "      <td>Senior_Software_Engineer</td>\n",
       "      <td>975</td>\n",
       "    </tr>\n",
       "    <tr>\n",
       "      <th>1</th>\n",
       "      <td>Information_Technology_(IT)_Manager</td>\n",
       "      <td>857</td>\n",
       "    </tr>\n",
       "    <tr>\n",
       "      <th>2</th>\n",
       "      <td>Information_Technology_(IT)_Director</td>\n",
       "      <td>673</td>\n",
       "    </tr>\n",
       "    <tr>\n",
       "      <th>3</th>\n",
       "      <td>Web_Developer</td>\n",
       "      <td>486</td>\n",
       "    </tr>\n",
       "    <tr>\n",
       "      <th>4</th>\n",
       "      <td>Business_Analyst_IT</td>\n",
       "      <td>458</td>\n",
       "    </tr>\n",
       "    <tr>\n",
       "      <th>5</th>\n",
       "      <td>Project_Manager_Information_Technology_(IT)</td>\n",
       "      <td>456</td>\n",
       "    </tr>\n",
       "    <tr>\n",
       "      <th>6</th>\n",
       "      <td>Database_Administrator_(DBA)</td>\n",
       "      <td>424</td>\n",
       "    </tr>\n",
       "    <tr>\n",
       "      <th>7</th>\n",
       "      <td>Applications_Engineer</td>\n",
       "      <td>421</td>\n",
       "    </tr>\n",
       "    <tr>\n",
       "      <th>8</th>\n",
       "      <td>Network_Engineer</td>\n",
       "      <td>402</td>\n",
       "    </tr>\n",
       "    <tr>\n",
       "      <th>9</th>\n",
       "      <td>Network_Engineer_IT</td>\n",
       "      <td>380</td>\n",
       "    </tr>\n",
       "  </tbody>\n",
       "</table>\n",
       "</div>"
      ],
      "text/plain": [
       "                                         index  job_title\n",
       "0                     Senior_Software_Engineer        975\n",
       "1          Information_Technology_(IT)_Manager        857\n",
       "2         Information_Technology_(IT)_Director        673\n",
       "3                                Web_Developer        486\n",
       "4                          Business_Analyst_IT        458\n",
       "5  Project_Manager_Information_Technology_(IT)        456\n",
       "6                 Database_Administrator_(DBA)        424\n",
       "7                        Applications_Engineer        421\n",
       "8                             Network_Engineer        402\n",
       "9                          Network_Engineer_IT        380"
      ]
     },
     "execution_count": 14,
     "metadata": {},
     "output_type": "execute_result"
    }
   ],
   "source": [
    "# top 10 most frequent job titles\n",
    "df_location['job_title'].value_counts().reset_index().head(10)"
   ]
  },
  {
   "cell_type": "code",
   "execution_count": 15,
   "metadata": {},
   "outputs": [
    {
     "data": {
      "text/html": [
       "<div>\n",
       "<style scoped>\n",
       "    .dataframe tbody tr th:only-of-type {\n",
       "        vertical-align: middle;\n",
       "    }\n",
       "\n",
       "    .dataframe tbody tr th {\n",
       "        vertical-align: top;\n",
       "    }\n",
       "\n",
       "    .dataframe thead th {\n",
       "        text-align: right;\n",
       "    }\n",
       "</style>\n",
       "<table border=\"1\" class=\"dataframe\">\n",
       "  <thead>\n",
       "    <tr style=\"text-align: right;\">\n",
       "      <th></th>\n",
       "      <th>index</th>\n",
       "      <th>city</th>\n",
       "    </tr>\n",
       "  </thead>\n",
       "  <tbody>\n",
       "    <tr>\n",
       "      <th>0</th>\n",
       "      <td>New York</td>\n",
       "      <td>402</td>\n",
       "    </tr>\n",
       "    <tr>\n",
       "      <th>1</th>\n",
       "      <td>Chicago</td>\n",
       "      <td>368</td>\n",
       "    </tr>\n",
       "    <tr>\n",
       "      <th>2</th>\n",
       "      <td>Atlanta</td>\n",
       "      <td>332</td>\n",
       "    </tr>\n",
       "    <tr>\n",
       "      <th>3</th>\n",
       "      <td>Seattle</td>\n",
       "      <td>331</td>\n",
       "    </tr>\n",
       "    <tr>\n",
       "      <th>4</th>\n",
       "      <td>Boston</td>\n",
       "      <td>328</td>\n",
       "    </tr>\n",
       "    <tr>\n",
       "      <th>5</th>\n",
       "      <td>Dallas</td>\n",
       "      <td>325</td>\n",
       "    </tr>\n",
       "    <tr>\n",
       "      <th>6</th>\n",
       "      <td>Los Angeles</td>\n",
       "      <td>316</td>\n",
       "    </tr>\n",
       "    <tr>\n",
       "      <th>7</th>\n",
       "      <td>Washington</td>\n",
       "      <td>314</td>\n",
       "    </tr>\n",
       "    <tr>\n",
       "      <th>8</th>\n",
       "      <td>San Francisco</td>\n",
       "      <td>312</td>\n",
       "    </tr>\n",
       "    <tr>\n",
       "      <th>9</th>\n",
       "      <td>Houston</td>\n",
       "      <td>306</td>\n",
       "    </tr>\n",
       "  </tbody>\n",
       "</table>\n",
       "</div>"
      ],
      "text/plain": [
       "           index  city\n",
       "0       New York   402\n",
       "1        Chicago   368\n",
       "2        Atlanta   332\n",
       "3        Seattle   331\n",
       "4         Boston   328\n",
       "5         Dallas   325\n",
       "6    Los Angeles   316\n",
       "7     Washington   314\n",
       "8  San Francisco   312\n",
       "9        Houston   306"
      ]
     },
     "execution_count": 15,
     "metadata": {},
     "output_type": "execute_result"
    }
   ],
   "source": [
    "# top 10 most frequent cities\n",
    "df_location['city'].value_counts().reset_index().head(10)"
   ]
  },
  {
   "cell_type": "code",
   "execution_count": 16,
   "metadata": {},
   "outputs": [
    {
     "data": {
      "text/html": [
       "<div>\n",
       "<style scoped>\n",
       "    .dataframe tbody tr th:only-of-type {\n",
       "        vertical-align: middle;\n",
       "    }\n",
       "\n",
       "    .dataframe tbody tr th {\n",
       "        vertical-align: top;\n",
       "    }\n",
       "\n",
       "    .dataframe thead th {\n",
       "        text-align: right;\n",
       "    }\n",
       "</style>\n",
       "<table border=\"1\" class=\"dataframe\">\n",
       "  <thead>\n",
       "    <tr style=\"text-align: right;\">\n",
       "      <th></th>\n",
       "      <th>index</th>\n",
       "      <th>state</th>\n",
       "    </tr>\n",
       "  </thead>\n",
       "  <tbody>\n",
       "    <tr>\n",
       "      <th>0</th>\n",
       "      <td>California</td>\n",
       "      <td>3579</td>\n",
       "    </tr>\n",
       "    <tr>\n",
       "      <th>1</th>\n",
       "      <td>Texas</td>\n",
       "      <td>2014</td>\n",
       "    </tr>\n",
       "    <tr>\n",
       "      <th>2</th>\n",
       "      <td>Florida</td>\n",
       "      <td>1678</td>\n",
       "    </tr>\n",
       "    <tr>\n",
       "      <th>3</th>\n",
       "      <td>Virginia</td>\n",
       "      <td>1472</td>\n",
       "    </tr>\n",
       "    <tr>\n",
       "      <th>4</th>\n",
       "      <td>Pennsylvania</td>\n",
       "      <td>1133</td>\n",
       "    </tr>\n",
       "    <tr>\n",
       "      <th>5</th>\n",
       "      <td>New York</td>\n",
       "      <td>1068</td>\n",
       "    </tr>\n",
       "    <tr>\n",
       "      <th>6</th>\n",
       "      <td>North Carolina</td>\n",
       "      <td>1037</td>\n",
       "    </tr>\n",
       "    <tr>\n",
       "      <th>7</th>\n",
       "      <td>Ohio</td>\n",
       "      <td>1017</td>\n",
       "    </tr>\n",
       "    <tr>\n",
       "      <th>8</th>\n",
       "      <td>Michigan</td>\n",
       "      <td>1009</td>\n",
       "    </tr>\n",
       "    <tr>\n",
       "      <th>9</th>\n",
       "      <td>Illinois</td>\n",
       "      <td>958</td>\n",
       "    </tr>\n",
       "  </tbody>\n",
       "</table>\n",
       "</div>"
      ],
      "text/plain": [
       "            index  state\n",
       "0      California   3579\n",
       "1           Texas   2014\n",
       "2         Florida   1678\n",
       "3        Virginia   1472\n",
       "4    Pennsylvania   1133\n",
       "5        New York   1068\n",
       "6  North Carolina   1037\n",
       "7            Ohio   1017\n",
       "8        Michigan   1009\n",
       "9        Illinois    958"
      ]
     },
     "execution_count": 16,
     "metadata": {},
     "output_type": "execute_result"
    }
   ],
   "source": [
    "# top 10 most frequent state\n",
    "df_location['state'].value_counts().reset_index().head(10)"
   ]
  },
  {
   "cell_type": "markdown",
   "metadata": {},
   "source": [
    "---\n",
    "# EDA on Experience\n",
    "---"
   ]
  },
  {
   "cell_type": "code",
   "execution_count": 17,
   "metadata": {},
   "outputs": [
    {
     "data": {
      "text/html": [
       "<div>\n",
       "<style scoped>\n",
       "    .dataframe tbody tr th:only-of-type {\n",
       "        vertical-align: middle;\n",
       "    }\n",
       "\n",
       "    .dataframe tbody tr th {\n",
       "        vertical-align: top;\n",
       "    }\n",
       "\n",
       "    .dataframe thead th {\n",
       "        text-align: right;\n",
       "    }\n",
       "</style>\n",
       "<table border=\"1\" class=\"dataframe\">\n",
       "  <thead>\n",
       "    <tr style=\"text-align: right;\">\n",
       "      <th></th>\n",
       "      <th>level</th>\n",
       "      <th>experience</th>\n",
       "      <th>job_title</th>\n",
       "      <th>median_salary</th>\n",
       "      <th>profile_count</th>\n",
       "    </tr>\n",
       "  </thead>\n",
       "  <tbody>\n",
       "    <tr>\n",
       "      <th>0</th>\n",
       "      <td>Entry Level</td>\n",
       "      <td>Less than 1 year</td>\n",
       "      <td>ABAP_Developer</td>\n",
       "      <td>57391.30</td>\n",
       "      <td>5</td>\n",
       "    </tr>\n",
       "    <tr>\n",
       "      <th>1</th>\n",
       "      <td>Junior Level</td>\n",
       "      <td>1-4 years</td>\n",
       "      <td>ABAP_Developer</td>\n",
       "      <td>72696.54</td>\n",
       "      <td>10</td>\n",
       "    </tr>\n",
       "    <tr>\n",
       "      <th>2</th>\n",
       "      <td>Mid Level</td>\n",
       "      <td>5-9 years</td>\n",
       "      <td>ABAP_Developer</td>\n",
       "      <td>95595.10</td>\n",
       "      <td>17</td>\n",
       "    </tr>\n",
       "    <tr>\n",
       "      <th>3</th>\n",
       "      <td>Senior Level</td>\n",
       "      <td>10-19 years</td>\n",
       "      <td>ABAP_Developer</td>\n",
       "      <td>111411.79</td>\n",
       "      <td>14</td>\n",
       "    </tr>\n",
       "    <tr>\n",
       "      <th>4</th>\n",
       "      <td>Executive Level</td>\n",
       "      <td>20 years or more</td>\n",
       "      <td>ABAP_Developer</td>\n",
       "      <td>101119.65</td>\n",
       "      <td>14</td>\n",
       "    </tr>\n",
       "    <tr>\n",
       "      <th>...</th>\n",
       "      <td>...</td>\n",
       "      <td>...</td>\n",
       "      <td>...</td>\n",
       "      <td>...</td>\n",
       "      <td>...</td>\n",
       "    </tr>\n",
       "    <tr>\n",
       "      <th>2641</th>\n",
       "      <td>Senior Level</td>\n",
       "      <td>10-19 years</td>\n",
       "      <td>Wireless_Communications_Engineer</td>\n",
       "      <td>101791.67</td>\n",
       "      <td>17</td>\n",
       "    </tr>\n",
       "    <tr>\n",
       "      <th>2642</th>\n",
       "      <td>Executive Level</td>\n",
       "      <td>20 years or more</td>\n",
       "      <td>Wireless_Communications_Engineer</td>\n",
       "      <td>92000.00</td>\n",
       "      <td>15</td>\n",
       "    </tr>\n",
       "    <tr>\n",
       "      <th>2643</th>\n",
       "      <td>Junior Level</td>\n",
       "      <td>1-4 years</td>\n",
       "      <td>Wireless_Network_Optimization_Engineer</td>\n",
       "      <td>65000.00</td>\n",
       "      <td>8</td>\n",
       "    </tr>\n",
       "    <tr>\n",
       "      <th>2644</th>\n",
       "      <td>Mid Level</td>\n",
       "      <td>5-9 years</td>\n",
       "      <td>Wireless_Network_Optimization_Engineer</td>\n",
       "      <td>72000.00</td>\n",
       "      <td>8</td>\n",
       "    </tr>\n",
       "    <tr>\n",
       "      <th>2645</th>\n",
       "      <td>Senior Level</td>\n",
       "      <td>10-19 years</td>\n",
       "      <td>Wireless_Network_Optimization_Engineer</td>\n",
       "      <td>110011.21</td>\n",
       "      <td>5</td>\n",
       "    </tr>\n",
       "  </tbody>\n",
       "</table>\n",
       "<p>2646 rows × 5 columns</p>\n",
       "</div>"
      ],
      "text/plain": [
       "                level        experience  \\\n",
       "0         Entry Level  Less than 1 year   \n",
       "1        Junior Level         1-4 years   \n",
       "2           Mid Level         5-9 years   \n",
       "3        Senior Level       10-19 years   \n",
       "4     Executive Level  20 years or more   \n",
       "...               ...               ...   \n",
       "2641     Senior Level       10-19 years   \n",
       "2642  Executive Level  20 years or more   \n",
       "2643     Junior Level         1-4 years   \n",
       "2644        Mid Level         5-9 years   \n",
       "2645     Senior Level       10-19 years   \n",
       "\n",
       "                                   job_title  median_salary  profile_count  \n",
       "0                             ABAP_Developer       57391.30              5  \n",
       "1                             ABAP_Developer       72696.54             10  \n",
       "2                             ABAP_Developer       95595.10             17  \n",
       "3                             ABAP_Developer      111411.79             14  \n",
       "4                             ABAP_Developer      101119.65             14  \n",
       "...                                      ...            ...            ...  \n",
       "2641        Wireless_Communications_Engineer      101791.67             17  \n",
       "2642        Wireless_Communications_Engineer       92000.00             15  \n",
       "2643  Wireless_Network_Optimization_Engineer       65000.00              8  \n",
       "2644  Wireless_Network_Optimization_Engineer       72000.00              8  \n",
       "2645  Wireless_Network_Optimization_Engineer      110011.21              5  \n",
       "\n",
       "[2646 rows x 5 columns]"
      ]
     },
     "execution_count": 17,
     "metadata": {},
     "output_type": "execute_result"
    }
   ],
   "source": [
    "df_experience"
   ]
  },
  {
   "cell_type": "code",
   "execution_count": 18,
   "metadata": {},
   "outputs": [
    {
     "data": {
      "text/html": [
       "<div>\n",
       "<style scoped>\n",
       "    .dataframe tbody tr th:only-of-type {\n",
       "        vertical-align: middle;\n",
       "    }\n",
       "\n",
       "    .dataframe tbody tr th {\n",
       "        vertical-align: top;\n",
       "    }\n",
       "\n",
       "    .dataframe thead th {\n",
       "        text-align: right;\n",
       "    }\n",
       "</style>\n",
       "<table border=\"1\" class=\"dataframe\">\n",
       "  <thead>\n",
       "    <tr style=\"text-align: right;\">\n",
       "      <th></th>\n",
       "      <th>median_salary</th>\n",
       "      <th>profile_count</th>\n",
       "    </tr>\n",
       "  </thead>\n",
       "  <tbody>\n",
       "    <tr>\n",
       "      <th>count</th>\n",
       "      <td>2636.000000</td>\n",
       "      <td>2646.000000</td>\n",
       "    </tr>\n",
       "    <tr>\n",
       "      <th>mean</th>\n",
       "      <td>80370.207124</td>\n",
       "      <td>157.204082</td>\n",
       "    </tr>\n",
       "    <tr>\n",
       "      <th>std</th>\n",
       "      <td>36230.297022</td>\n",
       "      <td>524.722191</td>\n",
       "    </tr>\n",
       "    <tr>\n",
       "      <th>min</th>\n",
       "      <td>10.170000</td>\n",
       "      <td>2.000000</td>\n",
       "    </tr>\n",
       "    <tr>\n",
       "      <th>25%</th>\n",
       "      <td>63155.500000</td>\n",
       "      <td>10.000000</td>\n",
       "    </tr>\n",
       "    <tr>\n",
       "      <th>50%</th>\n",
       "      <td>79764.865000</td>\n",
       "      <td>27.000000</td>\n",
       "    </tr>\n",
       "    <tr>\n",
       "      <th>75%</th>\n",
       "      <td>102699.357500</td>\n",
       "      <td>95.750000</td>\n",
       "    </tr>\n",
       "    <tr>\n",
       "      <th>max</th>\n",
       "      <td>198214.410000</td>\n",
       "      <td>11834.000000</td>\n",
       "    </tr>\n",
       "  </tbody>\n",
       "</table>\n",
       "</div>"
      ],
      "text/plain": [
       "       median_salary  profile_count\n",
       "count    2636.000000    2646.000000\n",
       "mean    80370.207124     157.204082\n",
       "std     36230.297022     524.722191\n",
       "min        10.170000       2.000000\n",
       "25%     63155.500000      10.000000\n",
       "50%     79764.865000      27.000000\n",
       "75%    102699.357500      95.750000\n",
       "max    198214.410000   11834.000000"
      ]
     },
     "execution_count": 18,
     "metadata": {},
     "output_type": "execute_result"
    }
   ],
   "source": [
    "# Generate descriptive table\n",
    "df_experience.describe()"
   ]
  },
  {
   "cell_type": "code",
   "execution_count": 19,
   "metadata": {},
   "outputs": [
    {
     "data": {
      "text/plain": [
       "<Axes: xlabel='median_salary', ylabel='Count'>"
      ]
     },
     "execution_count": 19,
     "metadata": {},
     "output_type": "execute_result"
    },
    {
     "data": {
      "image/png": "[encoded data removed]",
      "text/plain": [
       "<Figure size 640x480 with 1 Axes>"
      ]
     },
     "metadata": {},
     "output_type": "display_data"
    }
   ],
   "source": [
    "# hourly salary is also present here\n",
    "# filter them out\n",
    "df_experience = df_experience[(df_experience['median_salary'] > 1000)]\n",
    "sns.histplot(data=df_experience, x='median_salary', bins=20)"
   ]
  },
  {
   "cell_type": "code",
   "execution_count": 20,
   "metadata": {},
   "outputs": [
    {
     "name": "stdout",
     "output_type": "stream",
     "text": [
      "We have 0 null values in the state column\n",
      "We have 0 null values in the city column\n",
      "We have 35 null values in the job_title column\n",
      "We have 0 null values in the median_salary column\n",
      "We have 0 null values in the profile_count column\n"
     ]
    }
   ],
   "source": [
    "print(f'We have {df_experience[\"level\"].isnull().sum()} null values in the state column')\n",
    "print(f'We have {df_experience[\"experience\"].isnull().sum()} null values in the city column')\n",
    "print(f'We have {df_experience[\"job_title\"].isnull().sum()} null values in the job_title column')\n",
    "print(f'We have {df_experience[\"median_salary\"].isnull().sum()} null values in the median_salary column')\n",
    "print(f'We have {df_experience[\"profile_count\"].isnull().sum()} null values in the profile_count column')"
   ]
  },
  {
   "cell_type": "code",
   "execution_count": 21,
   "metadata": {},
   "outputs": [],
   "source": [
    "# drop those where job_title or median salary is null\n",
    "df_location = df_location.dropna(subset='median_salary')"
   ]
  },
  {
   "cell_type": "code",
   "execution_count": 22,
   "metadata": {},
   "outputs": [
    {
     "name": "stdout",
     "output_type": "stream",
     "text": [
      "We have 577 unique values in the job_title column\n"
     ]
    }
   ],
   "source": [
    "print(f'We have {df_experience[\"job_title\"].nunique()} unique values in the job_title column')"
   ]
  },
  {
   "cell_type": "markdown",
   "metadata": {},
   "source": [
    "---\n",
    "# EDA on Employer\n",
    "---"
   ]
  },
  {
   "cell_type": "code",
   "execution_count": 23,
   "metadata": {},
   "outputs": [
    {
     "data": {
      "text/html": [
       "<div>\n",
       "<style scoped>\n",
       "    .dataframe tbody tr th:only-of-type {\n",
       "        vertical-align: middle;\n",
       "    }\n",
       "\n",
       "    .dataframe tbody tr th {\n",
       "        vertical-align: top;\n",
       "    }\n",
       "\n",
       "    .dataframe thead th {\n",
       "        text-align: right;\n",
       "    }\n",
       "</style>\n",
       "<table border=\"1\" class=\"dataframe\">\n",
       "  <thead>\n",
       "    <tr style=\"text-align: right;\">\n",
       "      <th></th>\n",
       "      <th>median_salary</th>\n",
       "      <th>profile_count</th>\n",
       "    </tr>\n",
       "  </thead>\n",
       "  <tbody>\n",
       "    <tr>\n",
       "      <th>count</th>\n",
       "      <td>6377.000000</td>\n",
       "      <td>6670.000000</td>\n",
       "    </tr>\n",
       "    <tr>\n",
       "      <th>mean</th>\n",
       "      <td>90463.986603</td>\n",
       "      <td>7.898651</td>\n",
       "    </tr>\n",
       "    <tr>\n",
       "      <th>std</th>\n",
       "      <td>32032.961979</td>\n",
       "      <td>6.558450</td>\n",
       "    </tr>\n",
       "    <tr>\n",
       "      <th>min</th>\n",
       "      <td>8.500000</td>\n",
       "      <td>2.000000</td>\n",
       "    </tr>\n",
       "    <tr>\n",
       "      <th>25%</th>\n",
       "      <td>69104.160000</td>\n",
       "      <td>5.000000</td>\n",
       "    </tr>\n",
       "    <tr>\n",
       "      <th>50%</th>\n",
       "      <td>88273.640000</td>\n",
       "      <td>6.000000</td>\n",
       "    </tr>\n",
       "    <tr>\n",
       "      <th>75%</th>\n",
       "      <td>111500.000000</td>\n",
       "      <td>8.000000</td>\n",
       "    </tr>\n",
       "    <tr>\n",
       "      <th>max</th>\n",
       "      <td>246697.360000</td>\n",
       "      <td>168.000000</td>\n",
       "    </tr>\n",
       "  </tbody>\n",
       "</table>\n",
       "</div>"
      ],
      "text/plain": [
       "       median_salary  profile_count\n",
       "count    6377.000000    6670.000000\n",
       "mean    90463.986603       7.898651\n",
       "std     32032.961979       6.558450\n",
       "min         8.500000       2.000000\n",
       "25%     69104.160000       5.000000\n",
       "50%     88273.640000       6.000000\n",
       "75%    111500.000000       8.000000\n",
       "max    246697.360000     168.000000"
      ]
     },
     "execution_count": 23,
     "metadata": {},
     "output_type": "execute_result"
    }
   ],
   "source": [
    "df_employer.describe()"
   ]
  },
  {
   "cell_type": "code",
   "execution_count": 24,
   "metadata": {},
   "outputs": [],
   "source": [
    "# remove hourly wages\n",
    "df_employer = df_employer[(df_employer['median_salary'] > 1000)]"
   ]
  },
  {
   "cell_type": "code",
   "execution_count": 25,
   "metadata": {},
   "outputs": [
    {
     "name": "stdout",
     "output_type": "stream",
     "text": [
      "We have 0 null values in the name column\n",
      "We have 95 null in the job_title column\n",
      "We have 0 null in the median_salary column\n"
     ]
    }
   ],
   "source": [
    "print(f\"We have {df_employer['name'].isnull().sum()} null values in the name column\")\n",
    "print(f\"We have {df_employer['job_title'].isnull().sum()} null in the job_title column\")\n",
    "print(f\"We have {df_employer['median_salary'].isnull().sum()} null in the median_salary column\")"
   ]
  },
  {
   "cell_type": "code",
   "execution_count": 26,
   "metadata": {},
   "outputs": [],
   "source": [
    "# drop those where job_title is null\n",
    "df_employer = df_employer.dropna(subset='job_title')"
   ]
  },
  {
   "cell_type": "code",
   "execution_count": 27,
   "metadata": {},
   "outputs": [
    {
     "name": "stdout",
     "output_type": "stream",
     "text": [
      "We have 6123 observations in the employer data\n"
     ]
    }
   ],
   "source": [
    "print(f'We have {df_employer.shape[0]} observations in the employer data')"
   ]
  },
  {
   "cell_type": "markdown",
   "metadata": {},
   "source": [
    "--- \n",
    "# Analytics\n",
    "---"
   ]
  },
  {
   "cell_type": "code",
   "execution_count": 28,
   "metadata": {},
   "outputs": [
    {
     "name": "stderr",
     "output_type": "stream",
     "text": [
      "C:\\Users\\Peti\\AppData\\Local\\Temp\\ipykernel_33968\\3576309604.py:18: SettingWithCopyWarning: \n",
      "A value is trying to be set on a copy of a slice from a DataFrame.\n",
      "Try using .loc[row_indexer,col_indexer] = value instead\n",
      "\n",
      "See the caveats in the documentation: https://pandas.pydata.org/pandas-docs/stable/user_guide/indexing.html#returning-a-view-versus-a-copy\n",
      "  df.loc[:, \"geometry\"] = df.geometry.translate(yoff=y, xoff=x)\n",
      "C:\\Users\\Peti\\AppData\\Local\\Temp\\ipykernel_33968\\3576309604.py:18: DeprecationWarning: In a future version, `df.iloc[:, i] = newvals` will attempt to set the values inplace instead of always setting a new array. To retain the old behavior, use either `df[df.columns[i]] = newvals` or, if columns are non-unique, `df.isetitem(i, newvals)`\n",
      "  df.loc[:, \"geometry\"] = df.geometry.translate(yoff=y, xoff=x)\n",
      "C:\\Users\\Peti\\AppData\\Local\\Temp\\ipykernel_33968\\3576309604.py:20: SettingWithCopyWarning: \n",
      "A value is trying to be set on a copy of a slice from a DataFrame.\n",
      "Try using .loc[row_indexer,col_indexer] = value instead\n",
      "\n",
      "See the caveats in the documentation: https://pandas.pydata.org/pandas-docs/stable/user_guide/indexing.html#returning-a-view-versus-a-copy\n",
      "  df.loc[:, \"geometry\"] = df.geometry.scale(xfact=scale, yfact=scale, origin=center)\n",
      "C:\\Users\\Peti\\AppData\\Local\\Temp\\ipykernel_33968\\3576309604.py:20: DeprecationWarning: In a future version, `df.iloc[:, i] = newvals` will attempt to set the values inplace instead of always setting a new array. To retain the old behavior, use either `df[df.columns[i]] = newvals` or, if columns are non-unique, `df.isetitem(i, newvals)`\n",
      "  df.loc[:, \"geometry\"] = df.geometry.scale(xfact=scale, yfact=scale, origin=center)\n",
      "C:\\Users\\Peti\\AppData\\Local\\Temp\\ipykernel_33968\\3576309604.py:21: SettingWithCopyWarning: \n",
      "A value is trying to be set on a copy of a slice from a DataFrame.\n",
      "Try using .loc[row_indexer,col_indexer] = value instead\n",
      "\n",
      "See the caveats in the documentation: https://pandas.pydata.org/pandas-docs/stable/user_guide/indexing.html#returning-a-view-versus-a-copy\n",
      "  df.loc[:, \"geometry\"] = df.geometry.rotate(rotate, origin=center)\n",
      "C:\\Users\\Peti\\AppData\\Local\\Temp\\ipykernel_33968\\3576309604.py:21: DeprecationWarning: In a future version, `df.iloc[:, i] = newvals` will attempt to set the values inplace instead of always setting a new array. To retain the old behavior, use either `df[df.columns[i]] = newvals` or, if columns are non-unique, `df.isetitem(i, newvals)`\n",
      "  df.loc[:, \"geometry\"] = df.geometry.rotate(rotate, origin=center)\n",
      "C:\\Users\\Peti\\AppData\\Local\\Temp\\ipykernel_33968\\3576309604.py:18: SettingWithCopyWarning: \n",
      "A value is trying to be set on a copy of a slice from a DataFrame.\n",
      "Try using .loc[row_indexer,col_indexer] = value instead\n",
      "\n",
      "See the caveats in the documentation: https://pandas.pydata.org/pandas-docs/stable/user_guide/indexing.html#returning-a-view-versus-a-copy\n",
      "  df.loc[:, \"geometry\"] = df.geometry.translate(yoff=y, xoff=x)\n",
      "C:\\Users\\Peti\\AppData\\Local\\Temp\\ipykernel_33968\\3576309604.py:18: DeprecationWarning: In a future version, `df.iloc[:, i] = newvals` will attempt to set the values inplace instead of always setting a new array. To retain the old behavior, use either `df[df.columns[i]] = newvals` or, if columns are non-unique, `df.isetitem(i, newvals)`\n",
      "  df.loc[:, \"geometry\"] = df.geometry.translate(yoff=y, xoff=x)\n",
      "C:\\Users\\Peti\\AppData\\Local\\Temp\\ipykernel_33968\\3576309604.py:20: SettingWithCopyWarning: \n",
      "A value is trying to be set on a copy of a slice from a DataFrame.\n",
      "Try using .loc[row_indexer,col_indexer] = value instead\n",
      "\n",
      "See the caveats in the documentation: https://pandas.pydata.org/pandas-docs/stable/user_guide/indexing.html#returning-a-view-versus-a-copy\n",
      "  df.loc[:, \"geometry\"] = df.geometry.scale(xfact=scale, yfact=scale, origin=center)\n",
      "C:\\Users\\Peti\\AppData\\Local\\Temp\\ipykernel_33968\\3576309604.py:20: DeprecationWarning: In a future version, `df.iloc[:, i] = newvals` will attempt to set the values inplace instead of always setting a new array. To retain the old behavior, use either `df[df.columns[i]] = newvals` or, if columns are non-unique, `df.isetitem(i, newvals)`\n",
      "  df.loc[:, \"geometry\"] = df.geometry.scale(xfact=scale, yfact=scale, origin=center)\n",
      "C:\\Users\\Peti\\AppData\\Local\\Temp\\ipykernel_33968\\3576309604.py:21: SettingWithCopyWarning: \n",
      "A value is trying to be set on a copy of a slice from a DataFrame.\n",
      "Try using .loc[row_indexer,col_indexer] = value instead\n",
      "\n",
      "See the caveats in the documentation: https://pandas.pydata.org/pandas-docs/stable/user_guide/indexing.html#returning-a-view-versus-a-copy\n",
      "  df.loc[:, \"geometry\"] = df.geometry.rotate(rotate, origin=center)\n",
      "C:\\Users\\Peti\\AppData\\Local\\Temp\\ipykernel_33968\\3576309604.py:21: DeprecationWarning: In a future version, `df.iloc[:, i] = newvals` will attempt to set the values inplace instead of always setting a new array. To retain the old behavior, use either `df[df.columns[i]] = newvals` or, if columns are non-unique, `df.isetitem(i, newvals)`\n",
      "  df.loc[:, \"geometry\"] = df.geometry.rotate(rotate, origin=center)\n"
     ]
    }
   ],
   "source": [
    "# Preparation for map visualization:\n",
    "# inspiration and idea by https://towardsdatascience.com/how-to-create-data-maps-of-the-united-states-with-python-and-matplotlib-5dfb425bd87d\n",
    "\n",
    "def translate_geometries(df, x, y, scale, rotate):\n",
    "    \"\"\"\n",
    "    Translates, scales, and rotates the geometries in the given DataFrame.\n",
    "\n",
    "    Args:\n",
    "        df (pandas.DataFrame): The DataFrame containing the geometries.\n",
    "        x (float): The amount to translate the geometries along the x-axis.\n",
    "        y (float): The amount to translate the geometries along the y-axis.\n",
    "        scale (float): The scaling factor for the geometries.\n",
    "        rotate (float): The angle (in degrees) to rotate the geometries.\n",
    "\n",
    "    Returns:\n",
    "        pandas.DataFrame: The DataFrame with the translated, scaled, and rotated geometries.\n",
    "    \"\"\"\n",
    "    df.loc[:, \"geometry\"] = df.geometry.translate(yoff=y, xoff=x)\n",
    "    center = df.dissolve().centroid.iloc[0]\n",
    "    df.loc[:, \"geometry\"] = df.geometry.scale(xfact=scale, yfact=scale, origin=center)\n",
    "    df.loc[:, \"geometry\"] = df.geometry.rotate(rotate, origin=center)\n",
    "    return df\n",
    "\n",
    "def adjust_maps(df):\n",
    "    \"\"\"\n",
    "    Adjusts the maps by translating the geometries of Alaska and Hawaii.\n",
    "\n",
    "    Parameters:\n",
    "    df (pandas.DataFrame): The input DataFrame containing the map data.\n",
    "\n",
    "    Returns:\n",
    "    pandas.DataFrame: The adjusted DataFrame with translated geometries for Alaska and Hawaii.\n",
    "    \"\"\"\n",
    "    df_main_land = df[~df.STATEFP.isin([\"02\", \"15\"])]\n",
    "    df_alaska = df[df.STATEFP == \"02\"]\n",
    "    df_hawaii = df[df.STATEFP == \"15\"]\n",
    "    \n",
    "    df_alaska = translate_geometries(df_alaska, 1300000, -4900000, 0.5, 32)\n",
    "    df_hawaii = translate_geometries(df_hawaii, 5400000, -1500000, 1, 24)\n",
    "    \n",
    "    return pd.concat([df_main_land, df_alaska, df_hawaii])\n",
    "\n",
    "# Load and prepare geo-data\n",
    "states = gpd.read_file(\"cb_2018_us_state_500k/\")\n",
    "states = states[~states.STATEFP.isin([\"72\", \"69\", \"60\", \"66\", \"78\"])]\n",
    "states = states.to_crs(\"ESRI:102003\")\n",
    "states = adjust_maps(states)\n",
    "\n",
    "edge_color = \"#30011E\"\n",
    "background_color = \"#fafafa\"\n",
    "\n",
    "sns.set_style({\n",
    "    \"font.family\": \"serif\",\n",
    "    \"figure.facecolor\": background_color,\n",
    "    \"axes.facecolor\": background_color,\n",
    "})"
   ]
  },
  {
   "cell_type": "code",
   "execution_count": 29,
   "metadata": {},
   "outputs": [],
   "source": [
    "def state_df(df, job_title):\n",
    "    \"\"\"\n",
    "    Create a DataFrame for the map by querying for a specific job title, grouping by state, and aggregating the median salary.\n",
    "\n",
    "    Parameters:\n",
    "    df (DataFrame): df_location\n",
    "    job_title (str): The job title to filter the data.\n",
    "\n",
    "    Returns:\n",
    "    DataFrame: The merged DataFrame with state-level median salary information.\n",
    "    \"\"\"\n",
    "\n",
    "    # Query for the job title\n",
    "    df_state = df.query('job_title == @job_title')\n",
    "\n",
    "    # Group by state and aggregate the median salary\n",
    "    df_state = df_state.groupby('state').aggregate({'median_salary':'mean'}).reset_index()\n",
    "\n",
    "    # Merge the two dataframes\n",
    "    merged_df = states.merge(df_state, right_on='state', left_on='NAME')\n",
    "\n",
    "    return merged_df\n",
    "    "
   ]
  },
  {
   "cell_type": "code",
   "execution_count": 30,
   "metadata": {},
   "outputs": [],
   "source": [
    "# apply previous function\n",
    "merged_df = state_df(df_location, 'Data_Scientist')"
   ]
  },
  {
   "cell_type": "code",
   "execution_count": 31,
   "metadata": {},
   "outputs": [],
   "source": [
    "# create function to create city DataFrame to later be used for highest salary cities\n",
    "def city_df(df, job_title):\n",
    "    \"\"\"\n",
    "    Create a DataFrame for the map by querying for a specific job title, grouping by city, and aggregating the median salary.\n",
    "\n",
    "    Parameters:\n",
    "    df (DataFrame): The input DataFrame containing job data.\n",
    "    job_title (str): The job title to filter the data.\n",
    "\n",
    "    Returns:\n",
    "    DataFrame: The merged DataFrame with city-level median salary information.\n",
    "    \"\"\"\n",
    "\n",
    "    # Query for the job title\n",
    "    df_city = df.query('job_title == @job_title')\n",
    "\n",
    "    # Group by city and aggregate the median salary\n",
    "    df_city = df_city.groupby(['city','state']).aggregate({'median_salary':'mean'}).reset_index()\n",
    "\n",
    "    return df_city\n",
    "\n",
    "cities_df = city_df(df_location,'Data_Scientist')\n"
   ]
  },
  {
   "cell_type": "code",
   "execution_count": 32,
   "metadata": {},
   "outputs": [
    {
     "data": {
      "text/html": [
       "<div>\n",
       "<style scoped>\n",
       "    .dataframe tbody tr th:only-of-type {\n",
       "        vertical-align: middle;\n",
       "    }\n",
       "\n",
       "    .dataframe tbody tr th {\n",
       "        vertical-align: top;\n",
       "    }\n",
       "\n",
       "    .dataframe thead th {\n",
       "        text-align: right;\n",
       "    }\n",
       "</style>\n",
       "<table border=\"1\" class=\"dataframe\">\n",
       "  <thead>\n",
       "    <tr style=\"text-align: right;\">\n",
       "      <th></th>\n",
       "      <th>city</th>\n",
       "      <th>state</th>\n",
       "      <th>median_salary</th>\n",
       "    </tr>\n",
       "  </thead>\n",
       "  <tbody>\n",
       "    <tr>\n",
       "      <th>264</th>\n",
       "      <td>Stanford</td>\n",
       "      <td>California</td>\n",
       "      <td>154386.03</td>\n",
       "    </tr>\n",
       "    <tr>\n",
       "      <th>99</th>\n",
       "      <td>Fort Meade</td>\n",
       "      <td>Maryland</td>\n",
       "      <td>150000.00</td>\n",
       "    </tr>\n",
       "    <tr>\n",
       "      <th>147</th>\n",
       "      <td>Livermore</td>\n",
       "      <td>California</td>\n",
       "      <td>148982.25</td>\n",
       "    </tr>\n",
       "    <tr>\n",
       "      <th>281</th>\n",
       "      <td>Walnut Creek</td>\n",
       "      <td>California</td>\n",
       "      <td>142431.07</td>\n",
       "    </tr>\n",
       "    <tr>\n",
       "      <th>68</th>\n",
       "      <td>Cupertino</td>\n",
       "      <td>California</td>\n",
       "      <td>141157.97</td>\n",
       "    </tr>\n",
       "    <tr>\n",
       "      <th>171</th>\n",
       "      <td>Mountain View</td>\n",
       "      <td>California</td>\n",
       "      <td>138889.52</td>\n",
       "    </tr>\n",
       "    <tr>\n",
       "      <th>161</th>\n",
       "      <td>Menlo Park</td>\n",
       "      <td>California</td>\n",
       "      <td>138811.13</td>\n",
       "    </tr>\n",
       "    <tr>\n",
       "      <th>232</th>\n",
       "      <td>San Mateo</td>\n",
       "      <td>California</td>\n",
       "      <td>134149.68</td>\n",
       "    </tr>\n",
       "    <tr>\n",
       "      <th>96</th>\n",
       "      <td>Folsom</td>\n",
       "      <td>California</td>\n",
       "      <td>134129.70</td>\n",
       "    </tr>\n",
       "    <tr>\n",
       "      <th>252</th>\n",
       "      <td>South San Francisco</td>\n",
       "      <td>California</td>\n",
       "      <td>132828.48</td>\n",
       "    </tr>\n",
       "  </tbody>\n",
       "</table>\n",
       "</div>"
      ],
      "text/plain": [
       "                    city       state  median_salary\n",
       "264             Stanford  California      154386.03\n",
       "99            Fort Meade    Maryland      150000.00\n",
       "147            Livermore  California      148982.25\n",
       "281         Walnut Creek  California      142431.07\n",
       "68             Cupertino  California      141157.97\n",
       "171        Mountain View  California      138889.52\n",
       "161           Menlo Park  California      138811.13\n",
       "232            San Mateo  California      134149.68\n",
       "96                Folsom  California      134129.70\n",
       "252  South San Francisco  California      132828.48"
      ]
     },
     "execution_count": 32,
     "metadata": {},
     "output_type": "execute_result"
    }
   ],
   "source": [
    "highest_paid_cities = cities_df.sort_values(by='median_salary',ascending=False).head(10)\n",
    "highest_paid_cities"
   ]
  },
  {
   "cell_type": "code",
   "execution_count": 33,
   "metadata": {},
   "outputs": [
    {
     "data": {
      "application/vnd.plotly.v1+json": {
       "config": {
        "plotlyServerURL": "https://plot.ly"
       },
       "data": [
        {
         "alignmentgroup": "True",
         "hovertemplate": "State=California<br>median_salary=%{x}<br>city=%{y}<extra></extra>",
         "legendgroup": "California",
         "marker": {
          "color": "steelblue",
          "pattern": {
           "shape": ""
          }
         },
         "name": "California",
         "offsetgroup": "California",
         "orientation": "h",
         "showlegend": true,
         "textposition": "auto",
         "type": "bar",
         "x": [
          154386.03,
          148982.25,
          142431.07,
          141157.97,
          138889.52,
          138811.13,
          134149.68,
          134129.7,
          132828.48
         ],
         "xaxis": "x",
         "y": [
          "Stanford",
          "Livermore",
          "Walnut Creek",
          "Cupertino",
          "Mountain View",
          "Menlo Park",
          "San Mateo",
          "Folsom",
          "South San Francisco"
         ],
         "yaxis": "y"
        },
        {
         "alignmentgroup": "True",
         "hovertemplate": "State=Maryland<br>median_salary=%{x}<br>city=%{y}<extra></extra>",
         "legendgroup": "Maryland",
         "marker": {
          "color": "#EF553B",
          "pattern": {
           "shape": ""
          }
         },
         "name": "Maryland",
         "offsetgroup": "Maryland",
         "orientation": "h",
         "showlegend": true,
         "textposition": "auto",
         "type": "bar",
         "x": [
          150000
         ],
         "xaxis": "x",
         "y": [
          "Fort Meade"
         ],
         "yaxis": "y"
        }
       ],
       "layout": {
        "barmode": "relative",
        "height": 500,
        "legend": {
         "font": {
          "size": 16
         },
         "title": {
          "text": "State"
         },
         "tracegroupgap": 0,
         "x": 1,
         "y": 1
        },
        "template": {
         "data": {
          "bar": [
           {
            "error_x": {
             "color": "rgb(36,36,36)"
            },
            "error_y": {
             "color": "rgb(36,36,36)"
            },
            "marker": {
             "line": {
              "color": "white",
              "width": 0.5
             },
             "pattern": {
              "fillmode": "overlay",
              "size": 10,
              "solidity": 0.2
             }
            },
            "type": "bar"
           }
          ],
          "barpolar": [
           {
            "marker": {
             "line": {
              "color": "white",
              "width": 0.5
             },
             "pattern": {
              "fillmode": "overlay",
              "size": 10,
              "solidity": 0.2
             }
            },
            "type": "barpolar"
           }
          ],
          "carpet": [
           {
            "aaxis": {
             "endlinecolor": "rgb(36,36,36)",
             "gridcolor": "white",
             "linecolor": "white",
             "minorgridcolor": "white",
             "startlinecolor": "rgb(36,36,36)"
            },
            "baxis": {
             "endlinecolor": "rgb(36,36,36)",
             "gridcolor": "white",
             "linecolor": "white",
             "minorgridcolor": "white",
             "startlinecolor": "rgb(36,36,36)"
            },
            "type": "carpet"
           }
          ],
          "choropleth": [
           {
            "colorbar": {
             "outlinewidth": 1,
             "tickcolor": "rgb(36,36,36)",
             "ticks": "outside"
            },
            "type": "choropleth"
           }
          ],
          "contour": [
           {
            "colorbar": {
             "outlinewidth": 1,
             "tickcolor": "rgb(36,36,36)",
             "ticks": "outside"
            },
            "colorscale": [
             [
              0,
              "#440154"
             ],
             [
              0.1111111111111111,
              "#482878"
             ],
             [
              0.2222222222222222,
              "#3e4989"
             ],
             [
              0.3333333333333333,
              "#31688e"
             ],
             [
              0.4444444444444444,
              "#26828e"
             ],
             [
              0.5555555555555556,
              "#1f9e89"
             ],
             [
              0.6666666666666666,
              "#35b779"
             ],
             [
              0.7777777777777778,
              "#6ece58"
             ],
             [
              0.8888888888888888,
              "#b5de2b"
             ],
             [
              1,
              "#fde725"
             ]
            ],
            "type": "contour"
           }
          ],
          "contourcarpet": [
           {
            "colorbar": {
             "outlinewidth": 1,
             "tickcolor": "rgb(36,36,36)",
             "ticks": "outside"
            },
            "type": "contourcarpet"
           }
          ],
          "heatmap": [
           {
            "colorbar": {
             "outlinewidth": 1,
             "tickcolor": "rgb(36,36,36)",
             "ticks": "outside"
            },
            "colorscale": [
             [
              0,
              "#440154"
             ],
             [
              0.1111111111111111,
              "#482878"
             ],
             [
              0.2222222222222222,
              "#3e4989"
             ],
             [
              0.3333333333333333,
              "#31688e"
             ],
             [
              0.4444444444444444,
              "#26828e"
             ],
             [
              0.5555555555555556,
              "#1f9e89"
             ],
             [
              0.6666666666666666,
              "#35b779"
             ],
             [
              0.7777777777777778,
              "#6ece58"
             ],
             [
              0.8888888888888888,
              "#b5de2b"
             ],
             [
              1,
              "#fde725"
             ]
            ],
            "type": "heatmap"
           }
          ],
          "heatmapgl": [
           {
            "colorbar": {
             "outlinewidth": 1,
             "tickcolor": "rgb(36,36,36)",
             "ticks": "outside"
            },
            "colorscale": [
             [
              0,
              "#440154"
             ],
             [
              0.1111111111111111,
              "#482878"
             ],
             [
              0.2222222222222222,
              "#3e4989"
             ],
             [
              0.3333333333333333,
              "#31688e"
             ],
             [
              0.4444444444444444,
              "#26828e"
             ],
             [
              0.5555555555555556,
              "#1f9e89"
             ],
             [
              0.6666666666666666,
              "#35b779"
             ],
             [
              0.7777777777777778,
              "#6ece58"
             ],
             [
              0.8888888888888888,
              "#b5de2b"
             ],
             [
              1,
              "#fde725"
             ]
            ],
            "type": "heatmapgl"
           }
          ],
          "histogram": [
           {
            "marker": {
             "line": {
              "color": "white",
              "width": 0.6
             }
            },
            "type": "histogram"
           }
          ],
          "histogram2d": [
           {
            "colorbar": {
             "outlinewidth": 1,
             "tickcolor": "rgb(36,36,36)",
             "ticks": "outside"
            },
            "colorscale": [
             [
              0,
              "#440154"
             ],
             [
              0.1111111111111111,
              "#482878"
             ],
             [
              0.2222222222222222,
              "#3e4989"
             ],
             [
              0.3333333333333333,
              "#31688e"
             ],
             [
              0.4444444444444444,
              "#26828e"
             ],
             [
              0.5555555555555556,
              "#1f9e89"
             ],
             [
              0.6666666666666666,
              "#35b779"
             ],
             [
              0.7777777777777778,
              "#6ece58"
             ],
             [
              0.8888888888888888,
              "#b5de2b"
             ],
             [
              1,
              "#fde725"
             ]
            ],
            "type": "histogram2d"
           }
          ],
          "histogram2dcontour": [
           {
            "colorbar": {
             "outlinewidth": 1,
             "tickcolor": "rgb(36,36,36)",
             "ticks": "outside"
            },
            "colorscale": [
             [
              0,
              "#440154"
             ],
             [
              0.1111111111111111,
              "#482878"
             ],
             [
              0.2222222222222222,
              "#3e4989"
             ],
             [
              0.3333333333333333,
              "#31688e"
             ],
             [
              0.4444444444444444,
              "#26828e"
             ],
             [
              0.5555555555555556,
              "#1f9e89"
             ],
             [
              0.6666666666666666,
              "#35b779"
             ],
             [
              0.7777777777777778,
              "#6ece58"
             ],
             [
              0.8888888888888888,
              "#b5de2b"
             ],
             [
              1,
              "#fde725"
             ]
            ],
            "type": "histogram2dcontour"
           }
          ],
          "mesh3d": [
           {
            "colorbar": {
             "outlinewidth": 1,
             "tickcolor": "rgb(36,36,36)",
             "ticks": "outside"
            },
            "type": "mesh3d"
           }
          ],
          "parcoords": [
           {
            "line": {
             "colorbar": {
              "outlinewidth": 1,
              "tickcolor": "rgb(36,36,36)",
              "ticks": "outside"
             }
            },
            "type": "parcoords"
           }
          ],
          "pie": [
           {
            "automargin": true,
            "type": "pie"
           }
          ],
          "scatter": [
           {
            "fillpattern": {
             "fillmode": "overlay",
             "size": 10,
             "solidity": 0.2
            },
            "type": "scatter"
           }
          ],
          "scatter3d": [
           {
            "line": {
             "colorbar": {
              "outlinewidth": 1,
              "tickcolor": "rgb(36,36,36)",
              "ticks": "outside"
             }
            },
            "marker": {
             "colorbar": {
              "outlinewidth": 1,
              "tickcolor": "rgb(36,36,36)",
              "ticks": "outside"
             }
            },
            "type": "scatter3d"
           }
          ],
          "scattercarpet": [
           {
            "marker": {
             "colorbar": {
              "outlinewidth": 1,
              "tickcolor": "rgb(36,36,36)",
              "ticks": "outside"
             }
            },
            "type": "scattercarpet"
           }
          ],
          "scattergeo": [
           {
            "marker": {
             "colorbar": {
              "outlinewidth": 1,
              "tickcolor": "rgb(36,36,36)",
              "ticks": "outside"
             }
            },
            "type": "scattergeo"
           }
          ],
          "scattergl": [
           {
            "marker": {
             "colorbar": {
              "outlinewidth": 1,
              "tickcolor": "rgb(36,36,36)",
              "ticks": "outside"
             }
            },
            "type": "scattergl"
           }
          ],
          "scattermapbox": [
           {
            "marker": {
             "colorbar": {
              "outlinewidth": 1,
              "tickcolor": "rgb(36,36,36)",
              "ticks": "outside"
             }
            },
            "type": "scattermapbox"
           }
          ],
          "scatterpolar": [
           {
            "marker": {
             "colorbar": {
              "outlinewidth": 1,
              "tickcolor": "rgb(36,36,36)",
              "ticks": "outside"
             }
            },
            "type": "scatterpolar"
           }
          ],
          "scatterpolargl": [
           {
            "marker": {
             "colorbar": {
              "outlinewidth": 1,
              "tickcolor": "rgb(36,36,36)",
              "ticks": "outside"
             }
            },
            "type": "scatterpolargl"
           }
          ],
          "scatterternary": [
           {
            "marker": {
             "colorbar": {
              "outlinewidth": 1,
              "tickcolor": "rgb(36,36,36)",
              "ticks": "outside"
             }
            },
            "type": "scatterternary"
           }
          ],
          "surface": [
           {
            "colorbar": {
             "outlinewidth": 1,
             "tickcolor": "rgb(36,36,36)",
             "ticks": "outside"
            },
            "colorscale": [
             [
              0,
              "#440154"
             ],
             [
              0.1111111111111111,
              "#482878"
             ],
             [
              0.2222222222222222,
              "#3e4989"
             ],
             [
              0.3333333333333333,
              "#31688e"
             ],
             [
              0.4444444444444444,
              "#26828e"
             ],
             [
              0.5555555555555556,
              "#1f9e89"
             ],
             [
              0.6666666666666666,
              "#35b779"
             ],
             [
              0.7777777777777778,
              "#6ece58"
             ],
             [
              0.8888888888888888,
              "#b5de2b"
             ],
             [
              1,
              "#fde725"
             ]
            ],
            "type": "surface"
           }
          ],
          "table": [
           {
            "cells": {
             "fill": {
              "color": "rgb(237,237,237)"
             },
             "line": {
              "color": "white"
             }
            },
            "header": {
             "fill": {
              "color": "rgb(217,217,217)"
             },
             "line": {
              "color": "white"
             }
            },
            "type": "table"
           }
          ]
         },
         "layout": {
          "annotationdefaults": {
           "arrowhead": 0,
           "arrowwidth": 1
          },
          "autotypenumbers": "strict",
          "coloraxis": {
           "colorbar": {
            "outlinewidth": 1,
            "tickcolor": "rgb(36,36,36)",
            "ticks": "outside"
           }
          },
          "colorscale": {
           "diverging": [
            [
             0,
             "rgb(103,0,31)"
            ],
            [
             0.1,
             "rgb(178,24,43)"
            ],
            [
             0.2,
             "rgb(214,96,77)"
            ],
            [
             0.3,
             "rgb(244,165,130)"
            ],
            [
             0.4,
             "rgb(253,219,199)"
            ],
            [
             0.5,
             "rgb(247,247,247)"
            ],
            [
             0.6,
             "rgb(209,229,240)"
            ],
            [
             0.7,
             "rgb(146,197,222)"
            ],
            [
             0.8,
             "rgb(67,147,195)"
            ],
            [
             0.9,
             "rgb(33,102,172)"
            ],
            [
             1,
             "rgb(5,48,97)"
            ]
           ],
           "sequential": [
            [
             0,
             "#440154"
            ],
            [
             0.1111111111111111,
             "#482878"
            ],
            [
             0.2222222222222222,
             "#3e4989"
            ],
            [
             0.3333333333333333,
             "#31688e"
            ],
            [
             0.4444444444444444,
             "#26828e"
            ],
            [
             0.5555555555555556,
             "#1f9e89"
            ],
            [
             0.6666666666666666,
             "#35b779"
            ],
            [
             0.7777777777777778,
             "#6ece58"
            ],
            [
             0.8888888888888888,
             "#b5de2b"
            ],
            [
             1,
             "#fde725"
            ]
           ],
           "sequentialminus": [
            [
             0,
             "#440154"
            ],
            [
             0.1111111111111111,
             "#482878"
            ],
            [
             0.2222222222222222,
             "#3e4989"
            ],
            [
             0.3333333333333333,
             "#31688e"
            ],
            [
             0.4444444444444444,
             "#26828e"
            ],
            [
             0.5555555555555556,
             "#1f9e89"
            ],
            [
             0.6666666666666666,
             "#35b779"
            ],
            [
             0.7777777777777778,
             "#6ece58"
            ],
            [
             0.8888888888888888,
             "#b5de2b"
            ],
            [
             1,
             "#fde725"
            ]
           ]
          },
          "colorway": [
           "#1F77B4",
           "#FF7F0E",
           "#2CA02C",
           "#D62728",
           "#9467BD",
           "#8C564B",
           "#E377C2",
           "#7F7F7F",
           "#BCBD22",
           "#17BECF"
          ],
          "font": {
           "color": "rgb(36,36,36)"
          },
          "geo": {
           "bgcolor": "white",
           "lakecolor": "white",
           "landcolor": "white",
           "showlakes": true,
           "showland": true,
           "subunitcolor": "white"
          },
          "hoverlabel": {
           "align": "left"
          },
          "hovermode": "closest",
          "mapbox": {
           "style": "light"
          },
          "paper_bgcolor": "white",
          "plot_bgcolor": "white",
          "polar": {
           "angularaxis": {
            "gridcolor": "rgb(232,232,232)",
            "linecolor": "rgb(36,36,36)",
            "showgrid": false,
            "showline": true,
            "ticks": "outside"
           },
           "bgcolor": "white",
           "radialaxis": {
            "gridcolor": "rgb(232,232,232)",
            "linecolor": "rgb(36,36,36)",
            "showgrid": false,
            "showline": true,
            "ticks": "outside"
           }
          },
          "scene": {
           "xaxis": {
            "backgroundcolor": "white",
            "gridcolor": "rgb(232,232,232)",
            "gridwidth": 2,
            "linecolor": "rgb(36,36,36)",
            "showbackground": true,
            "showgrid": false,
            "showline": true,
            "ticks": "outside",
            "zeroline": false,
            "zerolinecolor": "rgb(36,36,36)"
           },
           "yaxis": {
            "backgroundcolor": "white",
            "gridcolor": "rgb(232,232,232)",
            "gridwidth": 2,
            "linecolor": "rgb(36,36,36)",
            "showbackground": true,
            "showgrid": false,
            "showline": true,
            "ticks": "outside",
            "zeroline": false,
            "zerolinecolor": "rgb(36,36,36)"
           },
           "zaxis": {
            "backgroundcolor": "white",
            "gridcolor": "rgb(232,232,232)",
            "gridwidth": 2,
            "linecolor": "rgb(36,36,36)",
            "showbackground": true,
            "showgrid": false,
            "showline": true,
            "ticks": "outside",
            "zeroline": false,
            "zerolinecolor": "rgb(36,36,36)"
           }
          },
          "shapedefaults": {
           "fillcolor": "black",
           "line": {
            "width": 0
           },
           "opacity": 0.3
          },
          "ternary": {
           "aaxis": {
            "gridcolor": "rgb(232,232,232)",
            "linecolor": "rgb(36,36,36)",
            "showgrid": false,
            "showline": true,
            "ticks": "outside"
           },
           "baxis": {
            "gridcolor": "rgb(232,232,232)",
            "linecolor": "rgb(36,36,36)",
            "showgrid": false,
            "showline": true,
            "ticks": "outside"
           },
           "bgcolor": "white",
           "caxis": {
            "gridcolor": "rgb(232,232,232)",
            "linecolor": "rgb(36,36,36)",
            "showgrid": false,
            "showline": true,
            "ticks": "outside"
           }
          },
          "title": {
           "x": 0.05
          },
          "xaxis": {
           "automargin": true,
           "gridcolor": "rgb(232,232,232)",
           "linecolor": "rgb(36,36,36)",
           "showgrid": false,
           "showline": true,
           "ticks": "outside",
           "title": {
            "standoff": 15
           },
           "zeroline": false,
           "zerolinecolor": "rgb(36,36,36)"
          },
          "yaxis": {
           "automargin": true,
           "gridcolor": "rgb(232,232,232)",
           "linecolor": "rgb(36,36,36)",
           "showgrid": false,
           "showline": true,
           "ticks": "outside",
           "title": {
            "standoff": 15
           },
           "zeroline": false,
           "zerolinecolor": "rgb(36,36,36)"
          }
         }
        },
        "title": {
         "text": "<b>Top 10 Cities with the Highest Average Median Salary for Data Scientists<b>",
         "x": 0.5
        },
        "width": 1200,
        "xaxis": {
         "anchor": "y",
         "domain": [
          0,
          1
         ],
         "range": [
          0,
          160000
         ],
         "title": {
          "text": ""
         }
        },
        "yaxis": {
         "anchor": "x",
         "categoryarray": [
          "South San Francisco",
          "Folsom",
          "San Mateo",
          "Menlo Park",
          "Mountain View",
          "Cupertino",
          "Walnut Creek",
          "Livermore",
          "Fort Meade",
          "Stanford"
         ],
         "categoryorder": "array",
         "domain": [
          0,
          1
         ],
         "title": {
          "text": ""
         }
        }
       }
      }
     },
     "metadata": {},
     "output_type": "display_data"
    }
   ],
   "source": [
    "bar1 = px.bar(highest_paid_cities, x='median_salary', y='city', color='state',\n",
    "             orientation='h', title='<b>Top 10 Cities with the Highest Average Median Salary for Data Scientists<b>',\n",
    "             template = 'simple_white',\n",
    "             color_discrete_map={'California':'steelblue', 'Maryland':'#EF553B'},\n",
    "             category_orders={'city': highest_paid_cities.sort_values(by='median_salary', ascending=False)['city'].tolist()},\n",
    "             labels = {'state' : 'State',})\n",
    "bar1.update_layout(xaxis_title='',\n",
    "                   title_x = 0.5,\n",
    "                   yaxis_title = '',\n",
    "                   legend=dict(x=1, y=1,font=dict(size=16)) )\n",
    "\n",
    "bar1.update_layout(height=500, width=1200)\n",
    "\n",
    "bar1.update_xaxes(range=[0, 160000])\n",
    "\n",
    "bar1.show()\n"
   ]
  },
  {
   "cell_type": "code",
   "execution_count": 34,
   "metadata": {},
   "outputs": [
    {
     "data": {
      "text/html": [
       "<div>\n",
       "<style scoped>\n",
       "    .dataframe tbody tr th:only-of-type {\n",
       "        vertical-align: middle;\n",
       "    }\n",
       "\n",
       "    .dataframe tbody tr th {\n",
       "        vertical-align: top;\n",
       "    }\n",
       "\n",
       "    .dataframe thead th {\n",
       "        text-align: right;\n",
       "    }\n",
       "</style>\n",
       "<table border=\"1\" class=\"dataframe\">\n",
       "  <thead>\n",
       "    <tr style=\"text-align: right;\">\n",
       "      <th></th>\n",
       "      <th>job_title</th>\n",
       "      <th>median_salary count</th>\n",
       "      <th>median_salary mean</th>\n",
       "    </tr>\n",
       "  </thead>\n",
       "  <tbody>\n",
       "    <tr>\n",
       "      <th>45</th>\n",
       "      <td>Lead Data Scientist</td>\n",
       "      <td>29</td>\n",
       "      <td>136678.146552</td>\n",
       "    </tr>\n",
       "    <tr>\n",
       "      <th>59</th>\n",
       "      <td>Senior Data Scientist</td>\n",
       "      <td>98</td>\n",
       "      <td>128225.123061</td>\n",
       "    </tr>\n",
       "    <tr>\n",
       "      <th>57</th>\n",
       "      <td>Senior Data Engineer</td>\n",
       "      <td>59</td>\n",
       "      <td>124003.857797</td>\n",
       "    </tr>\n",
       "    <tr>\n",
       "      <th>26</th>\n",
       "      <td>Data Signal Processing (DSP)Firmware Engineer</td>\n",
       "      <td>2</td>\n",
       "      <td>123024.335000</td>\n",
       "    </tr>\n",
       "    <tr>\n",
       "      <th>31</th>\n",
       "      <td>Data Warehouse Manager</td>\n",
       "      <td>19</td>\n",
       "      <td>121319.918421</td>\n",
       "    </tr>\n",
       "  </tbody>\n",
       "</table>\n",
       "</div>"
      ],
      "text/plain": [
       "                                        job_title  median_salary count  \\\n",
       "45                            Lead Data Scientist                   29   \n",
       "59                          Senior Data Scientist                   98   \n",
       "57                           Senior Data Engineer                   59   \n",
       "26  Data Signal Processing (DSP)Firmware Engineer                    2   \n",
       "31                         Data Warehouse Manager                   19   \n",
       "\n",
       "    median_salary mean  \n",
       "45       136678.146552  \n",
       "59       128225.123061  \n",
       "57       124003.857797  \n",
       "26       123024.335000  \n",
       "31       121319.918421  "
      ]
     },
     "execution_count": 34,
     "metadata": {},
     "output_type": "execute_result"
    }
   ],
   "source": [
    "# Data jobs in the US\n",
    "filtered_df_location = df_location[df_location['job_title'].str.contains('Data')] # jobs that contain 'Data'\n",
    "summary_table = filtered_df_location.groupby('job_title').agg({'median_salary':['count','mean']}).reset_index() # group by job title and aggregate\n",
    "summary_table.columns = [' '.join(col).strip() for col in summary_table.columns.values] # flatten column names\n",
    "highest_paid_jobs = summary_table.sort_values(by='median_salary mean', ascending=False).head(5) # sort by mean salary and take top 5\n",
    "highest_paid_jobs['job_title'] = highest_paid_jobs['job_title'].str.replace(\"_\",\" \") # replace underscore with space\n",
    "highest_paid_jobs\n"
   ]
  },
  {
   "cell_type": "code",
   "execution_count": 35,
   "metadata": {},
   "outputs": [
    {
     "data": {
      "text/html": [
       "<div>\n",
       "<style scoped>\n",
       "    .dataframe tbody tr th:only-of-type {\n",
       "        vertical-align: middle;\n",
       "    }\n",
       "\n",
       "    .dataframe tbody tr th {\n",
       "        vertical-align: top;\n",
       "    }\n",
       "\n",
       "    .dataframe thead th {\n",
       "        text-align: right;\n",
       "    }\n",
       "</style>\n",
       "<table border=\"1\" class=\"dataframe\">\n",
       "  <thead>\n",
       "    <tr style=\"text-align: right;\">\n",
       "      <th></th>\n",
       "      <th>job_title</th>\n",
       "      <th>median_salary count</th>\n",
       "      <th>median_salary mean</th>\n",
       "    </tr>\n",
       "  </thead>\n",
       "  <tbody>\n",
       "    <tr>\n",
       "      <th>33</th>\n",
       "      <td>Database_Administrator_(DBA)</td>\n",
       "      <td>424</td>\n",
       "      <td>76283.187406</td>\n",
       "    </tr>\n",
       "    <tr>\n",
       "      <th>22</th>\n",
       "      <td>Data_Scientist</td>\n",
       "      <td>296</td>\n",
       "      <td>94508.037939</td>\n",
       "    </tr>\n",
       "    <tr>\n",
       "      <th>37</th>\n",
       "      <td>Database_Developer</td>\n",
       "      <td>250</td>\n",
       "      <td>75510.959400</td>\n",
       "    </tr>\n",
       "    <tr>\n",
       "      <th>13</th>\n",
       "      <td>Data_Engineer</td>\n",
       "      <td>209</td>\n",
       "      <td>91832.994880</td>\n",
       "    </tr>\n",
       "    <tr>\n",
       "      <th>36</th>\n",
       "      <td>Database_Architect</td>\n",
       "      <td>136</td>\n",
       "      <td>115786.093676</td>\n",
       "    </tr>\n",
       "  </tbody>\n",
       "</table>\n",
       "</div>"
      ],
      "text/plain": [
       "                       job_title  median_salary count  median_salary mean\n",
       "33  Database_Administrator_(DBA)                  424        76283.187406\n",
       "22                Data_Scientist                  296        94508.037939\n",
       "37            Database_Developer                  250        75510.959400\n",
       "13                 Data_Engineer                  209        91832.994880\n",
       "36            Database_Architect                  136       115786.093676"
      ]
     },
     "execution_count": 35,
     "metadata": {},
     "output_type": "execute_result"
    }
   ],
   "source": [
    "# get an idea about how many observations are there for jobs\n",
    "highest_profile_numbers = summary_table.sort_values(by='median_salary count', ascending=False).head() # sort by count and take top 5\n",
    "highest_profile_numbers"
   ]
  },
  {
   "cell_type": "code",
   "execution_count": 106,
   "metadata": {},
   "outputs": [
    {
     "data": {
      "application/vnd.plotly.v1+json": {
       "config": {
        "plotlyServerURL": "https://plot.ly"
       },
       "data": [
        {
         "alignmentgroup": "True",
         "hovertemplate": "median_salary mean=%{x}<br>job_title=%{y}<extra></extra>",
         "legendgroup": "",
         "marker": {
          "color": "steelblue",
          "pattern": {
           "shape": ""
          }
         },
         "name": "",
         "offsetgroup": "",
         "orientation": "h",
         "showlegend": false,
         "textposition": "auto",
         "type": "bar",
         "x": [
          136678.14655172414,
          128225.1230612245,
          124003.85779661017,
          123024.335,
          121319.91842105264
         ],
         "xaxis": "x",
         "y": [
          "Lead Data Scientist",
          "Senior Data Scientist",
          "Senior Data Engineer",
          "Data Signal Processing (DSP)Firmware Engineer",
          "Data Warehouse Manager"
         ],
         "yaxis": "y"
        }
       ],
       "layout": {
        "barmode": "relative",
        "height": 500,
        "legend": {
         "tracegroupgap": 0
        },
        "template": {
         "data": {
          "bar": [
           {
            "error_x": {
             "color": "rgb(36,36,36)"
            },
            "error_y": {
             "color": "rgb(36,36,36)"
            },
            "marker": {
             "line": {
              "color": "white",
              "width": 0.5
             },
             "pattern": {
              "fillmode": "overlay",
              "size": 10,
              "solidity": 0.2
             }
            },
            "type": "bar"
           }
          ],
          "barpolar": [
           {
            "marker": {
             "line": {
              "color": "white",
              "width": 0.5
             },
             "pattern": {
              "fillmode": "overlay",
              "size": 10,
              "solidity": 0.2
             }
            },
            "type": "barpolar"
           }
          ],
          "carpet": [
           {
            "aaxis": {
             "endlinecolor": "rgb(36,36,36)",
             "gridcolor": "white",
             "linecolor": "white",
             "minorgridcolor": "white",
             "startlinecolor": "rgb(36,36,36)"
            },
            "baxis": {
             "endlinecolor": "rgb(36,36,36)",
             "gridcolor": "white",
             "linecolor": "white",
             "minorgridcolor": "white",
             "startlinecolor": "rgb(36,36,36)"
            },
            "type": "carpet"
           }
          ],
          "choropleth": [
           {
            "colorbar": {
             "outlinewidth": 1,
             "tickcolor": "rgb(36,36,36)",
             "ticks": "outside"
            },
            "type": "choropleth"
           }
          ],
          "contour": [
           {
            "colorbar": {
             "outlinewidth": 1,
             "tickcolor": "rgb(36,36,36)",
             "ticks": "outside"
            },
            "colorscale": [
             [
              0,
              "#440154"
             ],
             [
              0.1111111111111111,
              "#482878"
             ],
             [
              0.2222222222222222,
              "#3e4989"
             ],
             [
              0.3333333333333333,
              "#31688e"
             ],
             [
              0.4444444444444444,
              "#26828e"
             ],
             [
              0.5555555555555556,
              "#1f9e89"
             ],
             [
              0.6666666666666666,
              "#35b779"
             ],
             [
              0.7777777777777778,
              "#6ece58"
             ],
             [
              0.8888888888888888,
              "#b5de2b"
             ],
             [
              1,
              "#fde725"
             ]
            ],
            "type": "contour"
           }
          ],
          "contourcarpet": [
           {
            "colorbar": {
             "outlinewidth": 1,
             "tickcolor": "rgb(36,36,36)",
             "ticks": "outside"
            },
            "type": "contourcarpet"
           }
          ],
          "heatmap": [
           {
            "colorbar": {
             "outlinewidth": 1,
             "tickcolor": "rgb(36,36,36)",
             "ticks": "outside"
            },
            "colorscale": [
             [
              0,
              "#440154"
             ],
             [
              0.1111111111111111,
              "#482878"
             ],
             [
              0.2222222222222222,
              "#3e4989"
             ],
             [
              0.3333333333333333,
              "#31688e"
             ],
             [
              0.4444444444444444,
              "#26828e"
             ],
             [
              0.5555555555555556,
              "#1f9e89"
             ],
             [
              0.6666666666666666,
              "#35b779"
             ],
             [
              0.7777777777777778,
              "#6ece58"
             ],
             [
              0.8888888888888888,
              "#b5de2b"
             ],
             [
              1,
              "#fde725"
             ]
            ],
            "type": "heatmap"
           }
          ],
          "heatmapgl": [
           {
            "colorbar": {
             "outlinewidth": 1,
             "tickcolor": "rgb(36,36,36)",
             "ticks": "outside"
            },
            "colorscale": [
             [
              0,
              "#440154"
             ],
             [
              0.1111111111111111,
              "#482878"
             ],
             [
              0.2222222222222222,
              "#3e4989"
             ],
             [
              0.3333333333333333,
              "#31688e"
             ],
             [
              0.4444444444444444,
              "#26828e"
             ],
             [
              0.5555555555555556,
              "#1f9e89"
             ],
             [
              0.6666666666666666,
              "#35b779"
             ],
             [
              0.7777777777777778,
              "#6ece58"
             ],
             [
              0.8888888888888888,
              "#b5de2b"
             ],
             [
              1,
              "#fde725"
             ]
            ],
            "type": "heatmapgl"
           }
          ],
          "histogram": [
           {
            "marker": {
             "line": {
              "color": "white",
              "width": 0.6
             }
            },
            "type": "histogram"
           }
          ],
          "histogram2d": [
           {
            "colorbar": {
             "outlinewidth": 1,
             "tickcolor": "rgb(36,36,36)",
             "ticks": "outside"
            },
            "colorscale": [
             [
              0,
              "#440154"
             ],
             [
              0.1111111111111111,
              "#482878"
             ],
             [
              0.2222222222222222,
              "#3e4989"
             ],
             [
              0.3333333333333333,
              "#31688e"
             ],
             [
              0.4444444444444444,
              "#26828e"
             ],
             [
              0.5555555555555556,
              "#1f9e89"
             ],
             [
              0.6666666666666666,
              "#35b779"
             ],
             [
              0.7777777777777778,
              "#6ece58"
             ],
             [
              0.8888888888888888,
              "#b5de2b"
             ],
             [
              1,
              "#fde725"
             ]
            ],
            "type": "histogram2d"
           }
          ],
          "histogram2dcontour": [
           {
            "colorbar": {
             "outlinewidth": 1,
             "tickcolor": "rgb(36,36,36)",
             "ticks": "outside"
            },
            "colorscale": [
             [
              0,
              "#440154"
             ],
             [
              0.1111111111111111,
              "#482878"
             ],
             [
              0.2222222222222222,
              "#3e4989"
             ],
             [
              0.3333333333333333,
              "#31688e"
             ],
             [
              0.4444444444444444,
              "#26828e"
             ],
             [
              0.5555555555555556,
              "#1f9e89"
             ],
             [
              0.6666666666666666,
              "#35b779"
             ],
             [
              0.7777777777777778,
              "#6ece58"
             ],
             [
              0.8888888888888888,
              "#b5de2b"
             ],
             [
              1,
              "#fde725"
             ]
            ],
            "type": "histogram2dcontour"
           }
          ],
          "mesh3d": [
           {
            "colorbar": {
             "outlinewidth": 1,
             "tickcolor": "rgb(36,36,36)",
             "ticks": "outside"
            },
            "type": "mesh3d"
           }
          ],
          "parcoords": [
           {
            "line": {
             "colorbar": {
              "outlinewidth": 1,
              "tickcolor": "rgb(36,36,36)",
              "ticks": "outside"
             }
            },
            "type": "parcoords"
           }
          ],
          "pie": [
           {
            "automargin": true,
            "type": "pie"
           }
          ],
          "scatter": [
           {
            "fillpattern": {
             "fillmode": "overlay",
             "size": 10,
             "solidity": 0.2
            },
            "type": "scatter"
           }
          ],
          "scatter3d": [
           {
            "line": {
             "colorbar": {
              "outlinewidth": 1,
              "tickcolor": "rgb(36,36,36)",
              "ticks": "outside"
             }
            },
            "marker": {
             "colorbar": {
              "outlinewidth": 1,
              "tickcolor": "rgb(36,36,36)",
              "ticks": "outside"
             }
            },
            "type": "scatter3d"
           }
          ],
          "scattercarpet": [
           {
            "marker": {
             "colorbar": {
              "outlinewidth": 1,
              "tickcolor": "rgb(36,36,36)",
              "ticks": "outside"
             }
            },
            "type": "scattercarpet"
           }
          ],
          "scattergeo": [
           {
            "marker": {
             "colorbar": {
              "outlinewidth": 1,
              "tickcolor": "rgb(36,36,36)",
              "ticks": "outside"
             }
            },
            "type": "scattergeo"
           }
          ],
          "scattergl": [
           {
            "marker": {
             "colorbar": {
              "outlinewidth": 1,
              "tickcolor": "rgb(36,36,36)",
              "ticks": "outside"
             }
            },
            "type": "scattergl"
           }
          ],
          "scattermapbox": [
           {
            "marker": {
             "colorbar": {
              "outlinewidth": 1,
              "tickcolor": "rgb(36,36,36)",
              "ticks": "outside"
             }
            },
            "type": "scattermapbox"
           }
          ],
          "scatterpolar": [
           {
            "marker": {
             "colorbar": {
              "outlinewidth": 1,
              "tickcolor": "rgb(36,36,36)",
              "ticks": "outside"
             }
            },
            "type": "scatterpolar"
           }
          ],
          "scatterpolargl": [
           {
            "marker": {
             "colorbar": {
              "outlinewidth": 1,
              "tickcolor": "rgb(36,36,36)",
              "ticks": "outside"
             }
            },
            "type": "scatterpolargl"
           }
          ],
          "scatterternary": [
           {
            "marker": {
             "colorbar": {
              "outlinewidth": 1,
              "tickcolor": "rgb(36,36,36)",
              "ticks": "outside"
             }
            },
            "type": "scatterternary"
           }
          ],
          "surface": [
           {
            "colorbar": {
             "outlinewidth": 1,
             "tickcolor": "rgb(36,36,36)",
             "ticks": "outside"
            },
            "colorscale": [
             [
              0,
              "#440154"
             ],
             [
              0.1111111111111111,
              "#482878"
             ],
             [
              0.2222222222222222,
              "#3e4989"
             ],
             [
              0.3333333333333333,
              "#31688e"
             ],
             [
              0.4444444444444444,
              "#26828e"
             ],
             [
              0.5555555555555556,
              "#1f9e89"
             ],
             [
              0.6666666666666666,
              "#35b779"
             ],
             [
              0.7777777777777778,
              "#6ece58"
             ],
             [
              0.8888888888888888,
              "#b5de2b"
             ],
             [
              1,
              "#fde725"
             ]
            ],
            "type": "surface"
           }
          ],
          "table": [
           {
            "cells": {
             "fill": {
              "color": "rgb(237,237,237)"
             },
             "line": {
              "color": "white"
             }
            },
            "header": {
             "fill": {
              "color": "rgb(217,217,217)"
             },
             "line": {
              "color": "white"
             }
            },
            "type": "table"
           }
          ]
         },
         "layout": {
          "annotationdefaults": {
           "arrowhead": 0,
           "arrowwidth": 1
          },
          "autotypenumbers": "strict",
          "coloraxis": {
           "colorbar": {
            "outlinewidth": 1,
            "tickcolor": "rgb(36,36,36)",
            "ticks": "outside"
           }
          },
          "colorscale": {
           "diverging": [
            [
             0,
             "rgb(103,0,31)"
            ],
            [
             0.1,
             "rgb(178,24,43)"
            ],
            [
             0.2,
             "rgb(214,96,77)"
            ],
            [
             0.3,
             "rgb(244,165,130)"
            ],
            [
             0.4,
             "rgb(253,219,199)"
            ],
            [
             0.5,
             "rgb(247,247,247)"
            ],
            [
             0.6,
             "rgb(209,229,240)"
            ],
            [
             0.7,
             "rgb(146,197,222)"
            ],
            [
             0.8,
             "rgb(67,147,195)"
            ],
            [
             0.9,
             "rgb(33,102,172)"
            ],
            [
             1,
             "rgb(5,48,97)"
            ]
           ],
           "sequential": [
            [
             0,
             "#440154"
            ],
            [
             0.1111111111111111,
             "#482878"
            ],
            [
             0.2222222222222222,
             "#3e4989"
            ],
            [
             0.3333333333333333,
             "#31688e"
            ],
            [
             0.4444444444444444,
             "#26828e"
            ],
            [
             0.5555555555555556,
             "#1f9e89"
            ],
            [
             0.6666666666666666,
             "#35b779"
            ],
            [
             0.7777777777777778,
             "#6ece58"
            ],
            [
             0.8888888888888888,
             "#b5de2b"
            ],
            [
             1,
             "#fde725"
            ]
           ],
           "sequentialminus": [
            [
             0,
             "#440154"
            ],
            [
             0.1111111111111111,
             "#482878"
            ],
            [
             0.2222222222222222,
             "#3e4989"
            ],
            [
             0.3333333333333333,
             "#31688e"
            ],
            [
             0.4444444444444444,
             "#26828e"
            ],
            [
             0.5555555555555556,
             "#1f9e89"
            ],
            [
             0.6666666666666666,
             "#35b779"
            ],
            [
             0.7777777777777778,
             "#6ece58"
            ],
            [
             0.8888888888888888,
             "#b5de2b"
            ],
            [
             1,
             "#fde725"
            ]
           ]
          },
          "colorway": [
           "#1F77B4",
           "#FF7F0E",
           "#2CA02C",
           "#D62728",
           "#9467BD",
           "#8C564B",
           "#E377C2",
           "#7F7F7F",
           "#BCBD22",
           "#17BECF"
          ],
          "font": {
           "color": "rgb(36,36,36)"
          },
          "geo": {
           "bgcolor": "white",
           "lakecolor": "white",
           "landcolor": "white",
           "showlakes": true,
           "showland": true,
           "subunitcolor": "white"
          },
          "hoverlabel": {
           "align": "left"
          },
          "hovermode": "closest",
          "mapbox": {
           "style": "light"
          },
          "paper_bgcolor": "white",
          "plot_bgcolor": "white",
          "polar": {
           "angularaxis": {
            "gridcolor": "rgb(232,232,232)",
            "linecolor": "rgb(36,36,36)",
            "showgrid": false,
            "showline": true,
            "ticks": "outside"
           },
           "bgcolor": "white",
           "radialaxis": {
            "gridcolor": "rgb(232,232,232)",
            "linecolor": "rgb(36,36,36)",
            "showgrid": false,
            "showline": true,
            "ticks": "outside"
           }
          },
          "scene": {
           "xaxis": {
            "backgroundcolor": "white",
            "gridcolor": "rgb(232,232,232)",
            "gridwidth": 2,
            "linecolor": "rgb(36,36,36)",
            "showbackground": true,
            "showgrid": false,
            "showline": true,
            "ticks": "outside",
            "zeroline": false,
            "zerolinecolor": "rgb(36,36,36)"
           },
           "yaxis": {
            "backgroundcolor": "white",
            "gridcolor": "rgb(232,232,232)",
            "gridwidth": 2,
            "linecolor": "rgb(36,36,36)",
            "showbackground": true,
            "showgrid": false,
            "showline": true,
            "ticks": "outside",
            "zeroline": false,
            "zerolinecolor": "rgb(36,36,36)"
           },
           "zaxis": {
            "backgroundcolor": "white",
            "gridcolor": "rgb(232,232,232)",
            "gridwidth": 2,
            "linecolor": "rgb(36,36,36)",
            "showbackground": true,
            "showgrid": false,
            "showline": true,
            "ticks": "outside",
            "zeroline": false,
            "zerolinecolor": "rgb(36,36,36)"
           }
          },
          "shapedefaults": {
           "fillcolor": "black",
           "line": {
            "width": 0
           },
           "opacity": 0.3
          },
          "ternary": {
           "aaxis": {
            "gridcolor": "rgb(232,232,232)",
            "linecolor": "rgb(36,36,36)",
            "showgrid": false,
            "showline": true,
            "ticks": "outside"
           },
           "baxis": {
            "gridcolor": "rgb(232,232,232)",
            "linecolor": "rgb(36,36,36)",
            "showgrid": false,
            "showline": true,
            "ticks": "outside"
           },
           "bgcolor": "white",
           "caxis": {
            "gridcolor": "rgb(232,232,232)",
            "linecolor": "rgb(36,36,36)",
            "showgrid": false,
            "showline": true,
            "ticks": "outside"
           }
          },
          "title": {
           "x": 0.05
          },
          "xaxis": {
           "automargin": true,
           "gridcolor": "rgb(232,232,232)",
           "linecolor": "rgb(36,36,36)",
           "showgrid": false,
           "showline": true,
           "ticks": "outside",
           "title": {
            "standoff": 15
           },
           "zeroline": false,
           "zerolinecolor": "rgb(36,36,36)"
          },
          "yaxis": {
           "automargin": true,
           "gridcolor": "rgb(232,232,232)",
           "linecolor": "rgb(36,36,36)",
           "showgrid": false,
           "showline": true,
           "ticks": "outside",
           "title": {
            "standoff": 15
           },
           "zeroline": false,
           "zerolinecolor": "rgb(36,36,36)"
          }
         }
        },
        "title": {
         "text": "<b>Top 5 Jobs by Average Median Salary in the Data Field<b>",
         "x": 0.5
        },
        "width": 1200,
        "xaxis": {
         "anchor": "y",
         "domain": [
          0,
          1
         ],
         "range": [
          0,
          140000
         ],
         "title": {
          "text": ""
         }
        },
        "yaxis": {
         "anchor": "x",
         "categoryarray": [
          "Data Warehouse Manager",
          "Data Signal Processing (DSP)Firmware Engineer",
          "Senior Data Engineer",
          "Senior Data Scientist",
          "Lead Data Scientist"
         ],
         "categoryorder": "array",
         "domain": [
          0,
          1
         ],
         "title": {
          "text": ""
         }
        }
       }
      }
     },
     "metadata": {},
     "output_type": "display_data"
    }
   ],
   "source": [
    "# create barchart by position\n",
    "bar2 = px.bar(highest_paid_jobs, x='median_salary mean', y='job_title',\n",
    "             orientation='h', title='<b>Top 5 Jobs by Average Median Salary in the Data Field<b>',\n",
    "             template = 'simple_white',\n",
    "             color_discrete_sequence=['steelblue'],\n",
    "             category_orders={'job_title': highest_paid_jobs.sort_values(by='median_salary mean', ascending=False)['job_title'].tolist()}\n",
    "             )\n",
    "\n",
    "bar2.update_layout(xaxis_title='',\n",
    "                   #xaxis = dict(visible=False),\n",
    "                   title_x = 0.5,\n",
    "                   yaxis_title = '')\n",
    "\n",
    "bar2.update_layout(height=500, width=1200)\n",
    "\n",
    "# bar2.update_traces(texttemplate = '%{value:.3s}', textposition='outside') # add data labels outside to the bars\n",
    "\n",
    "bar2.update_xaxes(range=[0, 140000])\n",
    "\n",
    "bar2.show()\n",
    "\n"
   ]
  },
  {
   "cell_type": "code",
   "execution_count": 45,
   "metadata": {},
   "outputs": [
    {
     "data": {
      "image/png": "[encoded data removed]",
      "text/plain": [
       "<Figure size 1200x800 with 2 Axes>"
      ]
     },
     "metadata": {},
     "output_type": "display_data"
    }
   ],
   "source": [
    "# create DataFrame for the map\n",
    "\n",
    "# Plot the map with continuous coloring based on median_salary\n",
    "fig, ax = plt.subplots(figsize=(12, 8))\n",
    "merged_df.plot(column='median_salary', ax=ax, legend=True, cmap='viridis',\n",
    "               legend_kwds={'label': \"Average Median Salary in USD\", 'orientation': \"horizontal\"},\n",
    "               vmin=merged_df['median_salary'].min(), vmax=merged_df['median_salary'].max())\n",
    "\n",
    "# Add title and adjust styling\n",
    "ax.set_title('Average Median Salary by State for Data Scientists', fontdict={'fontsize': '18', 'fontweight': '3'})\n",
    "ax.set_axis_off()\n",
    "sns.despine(left=True, bottom=True)\n",
    "\n",
    "# Find the state with the highest median_salary\n",
    "highest_salary_state = merged_df.loc[merged_df['median_salary'].idxmax()]\n",
    "\n",
    "# Find the state with the lowest median_salary\n",
    "lowest_salary_state = merged_df.loc[merged_df['median_salary'].idxmin()]\n",
    "\n",
    "\n",
    "# Add state names and STUSPS as annotations for every state\n",
    "for idx, state in merged_df.iterrows():\n",
    "    x, y = state.geometry.centroid.x, state.geometry.centroid.y\n",
    "    label, stusps, salary = state['state'], state['STUSPS'], state['median_salary']\n",
    "    \n",
    "    # Show salary only for highest and lowest salary states\n",
    "    if state['state'] == highest_salary_state['state'] or state['state'] == lowest_salary_state['state']:\n",
    "        ax.text(x, y, f'{label} ({stusps})\\n${salary:,.2f}', fontsize=8, ha='center', va='center')\n",
    "    else:\n",
    "        ax.text(x, y, f'{stusps}', fontsize=8, ha='center', va='center')\n",
    "\n",
    "plt.show()"
   ]
  },
  {
   "cell_type": "markdown",
   "metadata": {},
   "source": [
    "# Experience"
   ]
  },
  {
   "cell_type": "code",
   "execution_count": 38,
   "metadata": {},
   "outputs": [
    {
     "name": "stderr",
     "output_type": "stream",
     "text": [
      "C:\\Users\\Peti\\AppData\\Local\\Temp\\ipykernel_33968\\1279684400.py:2: SettingWithCopyWarning:\n",
      "\n",
      "\n",
      "A value is trying to be set on a copy of a slice from a DataFrame.\n",
      "Try using .loc[row_indexer,col_indexer] = value instead\n",
      "\n",
      "See the caveats in the documentation: https://pandas.pydata.org/pandas-docs/stable/user_guide/indexing.html#returning-a-view-versus-a-copy\n",
      "\n"
     ]
    },
    {
     "data": {
      "text/html": [
       "<div>\n",
       "<style scoped>\n",
       "    .dataframe tbody tr th:only-of-type {\n",
       "        vertical-align: middle;\n",
       "    }\n",
       "\n",
       "    .dataframe tbody tr th {\n",
       "        vertical-align: top;\n",
       "    }\n",
       "\n",
       "    .dataframe thead th {\n",
       "        text-align: right;\n",
       "    }\n",
       "</style>\n",
       "<table border=\"1\" class=\"dataframe\">\n",
       "  <thead>\n",
       "    <tr style=\"text-align: right;\">\n",
       "      <th></th>\n",
       "      <th>level</th>\n",
       "      <th>experience</th>\n",
       "      <th>job_title</th>\n",
       "      <th>median_salary</th>\n",
       "      <th>profile_count</th>\n",
       "    </tr>\n",
       "  </thead>\n",
       "  <tbody>\n",
       "    <tr>\n",
       "      <th>148</th>\n",
       "      <td>Entry Level</td>\n",
       "      <td>Less than 1 year</td>\n",
       "      <td>Associate Data Scientist</td>\n",
       "      <td>76784.53</td>\n",
       "      <td>73</td>\n",
       "    </tr>\n",
       "    <tr>\n",
       "      <th>149</th>\n",
       "      <td>Junior Level</td>\n",
       "      <td>1-4 years</td>\n",
       "      <td>Associate Data Scientist</td>\n",
       "      <td>81247.93</td>\n",
       "      <td>298</td>\n",
       "    </tr>\n",
       "    <tr>\n",
       "      <th>150</th>\n",
       "      <td>Mid Level</td>\n",
       "      <td>5-9 years</td>\n",
       "      <td>Associate Data Scientist</td>\n",
       "      <td>100172.97</td>\n",
       "      <td>9</td>\n",
       "    </tr>\n",
       "    <tr>\n",
       "      <th>705</th>\n",
       "      <td>Entry Level</td>\n",
       "      <td>Less than 1 year</td>\n",
       "      <td>Data Scientist</td>\n",
       "      <td>86648.92</td>\n",
       "      <td>1313</td>\n",
       "    </tr>\n",
       "    <tr>\n",
       "      <th>706</th>\n",
       "      <td>Junior Level</td>\n",
       "      <td>1-4 years</td>\n",
       "      <td>Data Scientist</td>\n",
       "      <td>98292.54</td>\n",
       "      <td>7597</td>\n",
       "    </tr>\n",
       "    <tr>\n",
       "      <th>707</th>\n",
       "      <td>Mid Level</td>\n",
       "      <td>5-9 years</td>\n",
       "      <td>Data Scientist</td>\n",
       "      <td>113768.55</td>\n",
       "      <td>2459</td>\n",
       "    </tr>\n",
       "    <tr>\n",
       "      <th>708</th>\n",
       "      <td>Senior Level</td>\n",
       "      <td>10-19 years</td>\n",
       "      <td>Data Scientist</td>\n",
       "      <td>125128.28</td>\n",
       "      <td>651</td>\n",
       "    </tr>\n",
       "    <tr>\n",
       "      <th>709</th>\n",
       "      <td>Executive Level</td>\n",
       "      <td>20 years or more</td>\n",
       "      <td>Data Scientist</td>\n",
       "      <td>135899.94</td>\n",
       "      <td>138</td>\n",
       "    </tr>\n",
       "    <tr>\n",
       "      <th>710</th>\n",
       "      <td>Entry Level</td>\n",
       "      <td>Less than 1 year</td>\n",
       "      <td>Data Scientist  Engineer</td>\n",
       "      <td>78564.92</td>\n",
       "      <td>12</td>\n",
       "    </tr>\n",
       "    <tr>\n",
       "      <th>711</th>\n",
       "      <td>Junior Level</td>\n",
       "      <td>1-4 years</td>\n",
       "      <td>Data Scientist  Engineer</td>\n",
       "      <td>83211.73</td>\n",
       "      <td>46</td>\n",
       "    </tr>\n",
       "    <tr>\n",
       "      <th>712</th>\n",
       "      <td>Mid Level</td>\n",
       "      <td>5-9 years</td>\n",
       "      <td>Data Scientist  Engineer</td>\n",
       "      <td>95000.00</td>\n",
       "      <td>16</td>\n",
       "    </tr>\n",
       "    <tr>\n",
       "      <th>713</th>\n",
       "      <td>Senior Level</td>\n",
       "      <td>10-19 years</td>\n",
       "      <td>Data Scientist  Engineer</td>\n",
       "      <td>135000.00</td>\n",
       "      <td>11</td>\n",
       "    </tr>\n",
       "    <tr>\n",
       "      <th>714</th>\n",
       "      <td>Executive Level</td>\n",
       "      <td>20 years or more</td>\n",
       "      <td>Data Scientist  Engineer</td>\n",
       "      <td>144260.78</td>\n",
       "      <td>8</td>\n",
       "    </tr>\n",
       "    <tr>\n",
       "      <th>715</th>\n",
       "      <td>Entry Level</td>\n",
       "      <td>Less than 1 year</td>\n",
       "      <td>Data Scientist IT</td>\n",
       "      <td>64849.55</td>\n",
       "      <td>8</td>\n",
       "    </tr>\n",
       "    <tr>\n",
       "      <th>716</th>\n",
       "      <td>Junior Level</td>\n",
       "      <td>1-4 years</td>\n",
       "      <td>Data Scientist IT</td>\n",
       "      <td>65502.71</td>\n",
       "      <td>13</td>\n",
       "    </tr>\n",
       "    <tr>\n",
       "      <th>717</th>\n",
       "      <td>Mid Level</td>\n",
       "      <td>5-9 years</td>\n",
       "      <td>Data Scientist IT</td>\n",
       "      <td>118643.56</td>\n",
       "      <td>7</td>\n",
       "    </tr>\n",
       "    <tr>\n",
       "      <th>718</th>\n",
       "      <td>Senior Level</td>\n",
       "      <td>10-19 years</td>\n",
       "      <td>Data Scientist IT</td>\n",
       "      <td>122083.78</td>\n",
       "      <td>9</td>\n",
       "    </tr>\n",
       "    <tr>\n",
       "      <th>719</th>\n",
       "      <td>Executive Level</td>\n",
       "      <td>20 years or more</td>\n",
       "      <td>Data Scientist IT</td>\n",
       "      <td>142482.10</td>\n",
       "      <td>10</td>\n",
       "    </tr>\n",
       "    <tr>\n",
       "      <th>1411</th>\n",
       "      <td>Junior Level</td>\n",
       "      <td>1-4 years</td>\n",
       "      <td>Lead Data Scientist</td>\n",
       "      <td>131825.14</td>\n",
       "      <td>177</td>\n",
       "    </tr>\n",
       "    <tr>\n",
       "      <th>1412</th>\n",
       "      <td>Mid Level</td>\n",
       "      <td>5-9 years</td>\n",
       "      <td>Lead Data Scientist</td>\n",
       "      <td>147428.12</td>\n",
       "      <td>337</td>\n",
       "    </tr>\n",
       "    <tr>\n",
       "      <th>1413</th>\n",
       "      <td>Senior Level</td>\n",
       "      <td>10-19 years</td>\n",
       "      <td>Lead Data Scientist</td>\n",
       "      <td>152144.52</td>\n",
       "      <td>138</td>\n",
       "    </tr>\n",
       "    <tr>\n",
       "      <th>1414</th>\n",
       "      <td>Executive Level</td>\n",
       "      <td>20 years or more</td>\n",
       "      <td>Lead Data Scientist</td>\n",
       "      <td>156687.90</td>\n",
       "      <td>17</td>\n",
       "    </tr>\n",
       "    <tr>\n",
       "      <th>2082</th>\n",
       "      <td>Junior Level</td>\n",
       "      <td>1-4 years</td>\n",
       "      <td>Senior Associate Data Scientist</td>\n",
       "      <td>97435.90</td>\n",
       "      <td>6</td>\n",
       "    </tr>\n",
       "    <tr>\n",
       "      <th>2083</th>\n",
       "      <td>Mid Level</td>\n",
       "      <td>5-9 years</td>\n",
       "      <td>Senior Associate Data Scientist</td>\n",
       "      <td>100000.00</td>\n",
       "      <td>5</td>\n",
       "    </tr>\n",
       "    <tr>\n",
       "      <th>2138</th>\n",
       "      <td>Entry Level</td>\n",
       "      <td>Less than 1 year</td>\n",
       "      <td>Senior Data Scientist</td>\n",
       "      <td>109030.79</td>\n",
       "      <td>67</td>\n",
       "    </tr>\n",
       "    <tr>\n",
       "      <th>2139</th>\n",
       "      <td>Junior Level</td>\n",
       "      <td>1-4 years</td>\n",
       "      <td>Senior Data Scientist</td>\n",
       "      <td>126949.82</td>\n",
       "      <td>991</td>\n",
       "    </tr>\n",
       "    <tr>\n",
       "      <th>2140</th>\n",
       "      <td>Mid Level</td>\n",
       "      <td>5-9 years</td>\n",
       "      <td>Senior Data Scientist</td>\n",
       "      <td>136762.93</td>\n",
       "      <td>1270</td>\n",
       "    </tr>\n",
       "    <tr>\n",
       "      <th>2141</th>\n",
       "      <td>Senior Level</td>\n",
       "      <td>10-19 years</td>\n",
       "      <td>Senior Data Scientist</td>\n",
       "      <td>142677.46</td>\n",
       "      <td>429</td>\n",
       "    </tr>\n",
       "    <tr>\n",
       "      <th>2142</th>\n",
       "      <td>Executive Level</td>\n",
       "      <td>20 years or more</td>\n",
       "      <td>Senior Data Scientist</td>\n",
       "      <td>143013.30</td>\n",
       "      <td>62</td>\n",
       "    </tr>\n",
       "  </tbody>\n",
       "</table>\n",
       "</div>"
      ],
      "text/plain": [
       "                level        experience                        job_title  \\\n",
       "148       Entry Level  Less than 1 year         Associate Data Scientist   \n",
       "149      Junior Level         1-4 years         Associate Data Scientist   \n",
       "150         Mid Level         5-9 years         Associate Data Scientist   \n",
       "705       Entry Level  Less than 1 year                   Data Scientist   \n",
       "706      Junior Level         1-4 years                   Data Scientist   \n",
       "707         Mid Level         5-9 years                   Data Scientist   \n",
       "708      Senior Level       10-19 years                   Data Scientist   \n",
       "709   Executive Level  20 years or more                   Data Scientist   \n",
       "710       Entry Level  Less than 1 year         Data Scientist  Engineer   \n",
       "711      Junior Level         1-4 years         Data Scientist  Engineer   \n",
       "712         Mid Level         5-9 years         Data Scientist  Engineer   \n",
       "713      Senior Level       10-19 years         Data Scientist  Engineer   \n",
       "714   Executive Level  20 years or more         Data Scientist  Engineer   \n",
       "715       Entry Level  Less than 1 year                Data Scientist IT   \n",
       "716      Junior Level         1-4 years                Data Scientist IT   \n",
       "717         Mid Level         5-9 years                Data Scientist IT   \n",
       "718      Senior Level       10-19 years                Data Scientist IT   \n",
       "719   Executive Level  20 years or more                Data Scientist IT   \n",
       "1411     Junior Level         1-4 years              Lead Data Scientist   \n",
       "1412        Mid Level         5-9 years              Lead Data Scientist   \n",
       "1413     Senior Level       10-19 years              Lead Data Scientist   \n",
       "1414  Executive Level  20 years or more              Lead Data Scientist   \n",
       "2082     Junior Level         1-4 years  Senior Associate Data Scientist   \n",
       "2083        Mid Level         5-9 years  Senior Associate Data Scientist   \n",
       "2138      Entry Level  Less than 1 year            Senior Data Scientist   \n",
       "2139     Junior Level         1-4 years            Senior Data Scientist   \n",
       "2140        Mid Level         5-9 years            Senior Data Scientist   \n",
       "2141     Senior Level       10-19 years            Senior Data Scientist   \n",
       "2142  Executive Level  20 years or more            Senior Data Scientist   \n",
       "\n",
       "      median_salary  profile_count  \n",
       "148        76784.53             73  \n",
       "149        81247.93            298  \n",
       "150       100172.97              9  \n",
       "705        86648.92           1313  \n",
       "706        98292.54           7597  \n",
       "707       113768.55           2459  \n",
       "708       125128.28            651  \n",
       "709       135899.94            138  \n",
       "710        78564.92             12  \n",
       "711        83211.73             46  \n",
       "712        95000.00             16  \n",
       "713       135000.00             11  \n",
       "714       144260.78              8  \n",
       "715        64849.55              8  \n",
       "716        65502.71             13  \n",
       "717       118643.56              7  \n",
       "718       122083.78              9  \n",
       "719       142482.10             10  \n",
       "1411      131825.14            177  \n",
       "1412      147428.12            337  \n",
       "1413      152144.52            138  \n",
       "1414      156687.90             17  \n",
       "2082       97435.90              6  \n",
       "2083      100000.00              5  \n",
       "2138      109030.79             67  \n",
       "2139      126949.82            991  \n",
       "2140      136762.93           1270  \n",
       "2141      142677.46            429  \n",
       "2142      143013.30             62  "
      ]
     },
     "execution_count": 38,
     "metadata": {},
     "output_type": "execute_result"
    }
   ],
   "source": [
    "filtered_df_experience = df_experience[df_experience['job_title'].str.contains('Data_Scientist') & df_experience['job_title'].notna()]\n",
    "filtered_df_experience['job_title'] = filtered_df_experience['job_title'].str.replace(\"_\",\" \")\n",
    "filtered_df_experience"
   ]
  },
  {
   "cell_type": "code",
   "execution_count": 39,
   "metadata": {},
   "outputs": [
    {
     "name": "stderr",
     "output_type": "stream",
     "text": [
      "C:\\Users\\Peti\\AppData\\Local\\Temp\\ipykernel_33968\\1033185197.py:3: MatplotlibDeprecationWarning:\n",
      "\n",
      "The get_cmap function was deprecated in Matplotlib 3.7 and will be removed two minor releases later. Use ``matplotlib.colormaps[name]`` or ``matplotlib.colormaps.get_cmap(obj)`` instead.\n",
      "\n"
     ]
    },
    {
     "data": {
      "image/png": "[encoded data removed]",
      "text/plain": [
       "<Figure size 1200x800 with 1 Axes>"
      ]
     },
     "metadata": {},
     "output_type": "display_data"
    }
   ],
   "source": [
    "# Create a color map based on job_title\n",
    "unique_job_titles = filtered_df_experience['job_title'].unique()\n",
    "color_map = {job_title: plt.cm.get_cmap('tab10')(i) for i, job_title in enumerate(unique_job_titles)}\n",
    "\n",
    "plt.figure(figsize=(12, 8))\n",
    "for job_title, group in filtered_df_experience.groupby('job_title'):\n",
    "    plt.plot(group['experience'], group['median_salary'], marker='o', label=job_title, color=color_map[job_title], linestyle='-', linewidth=2, markersize=8)\n",
    "\n",
    "# Adding labels and title\n",
    "plt.title(f'Average Median Salary by Experience for Data Scientist roles', fontsize=16)\n",
    "plt.xlabel('Experience level')\n",
    "plt.ylabel('Average Wage (USD)')\n",
    "plt.grid(axis='y', linestyle='--', alpha=0.7)\n",
    "plt.legend()\n",
    "\n",
    "# Display the plot\n",
    "plt.show()\n"
   ]
  },
  {
   "cell_type": "markdown",
   "metadata": {},
   "source": [
    "--- \n",
    "# Employer \n",
    "--- "
   ]
  },
  {
   "cell_type": "code",
   "execution_count": 40,
   "metadata": {},
   "outputs": [
    {
     "data": {
      "text/html": [
       "<div>\n",
       "<style scoped>\n",
       "    .dataframe tbody tr th:only-of-type {\n",
       "        vertical-align: middle;\n",
       "    }\n",
       "\n",
       "    .dataframe tbody tr th {\n",
       "        vertical-align: top;\n",
       "    }\n",
       "\n",
       "    .dataframe thead th {\n",
       "        text-align: right;\n",
       "    }\n",
       "</style>\n",
       "<table border=\"1\" class=\"dataframe\">\n",
       "  <thead>\n",
       "    <tr style=\"text-align: right;\">\n",
       "      <th></th>\n",
       "      <th>name</th>\n",
       "      <th>job_title</th>\n",
       "      <th>median_salary</th>\n",
       "      <th>profile_count</th>\n",
       "    </tr>\n",
       "  </thead>\n",
       "  <tbody>\n",
       "    <tr>\n",
       "      <th>359</th>\n",
       "      <td>National Registry of EMTs</td>\n",
       "      <td>Associate_Data_Scientist</td>\n",
       "      <td>70328.18</td>\n",
       "      <td>6</td>\n",
       "    </tr>\n",
       "    <tr>\n",
       "      <th>360</th>\n",
       "      <td>Biomerieux, Inc.</td>\n",
       "      <td>Associate_Data_Scientist</td>\n",
       "      <td>61041.89</td>\n",
       "      <td>5</td>\n",
       "    </tr>\n",
       "    <tr>\n",
       "      <th>1432</th>\n",
       "      <td>Booz, Allen, and Hamilton</td>\n",
       "      <td>Data_Scientist</td>\n",
       "      <td>88137.02</td>\n",
       "      <td>168</td>\n",
       "    </tr>\n",
       "    <tr>\n",
       "      <th>1433</th>\n",
       "      <td>Facebook Inc</td>\n",
       "      <td>Data_Scientist</td>\n",
       "      <td>124133.48</td>\n",
       "      <td>66</td>\n",
       "    </tr>\n",
       "    <tr>\n",
       "      <th>1434</th>\n",
       "      <td>Amazon.com Inc</td>\n",
       "      <td>Data_Scientist</td>\n",
       "      <td>130841.25</td>\n",
       "      <td>45</td>\n",
       "    </tr>\n",
       "    <tr>\n",
       "      <th>...</th>\n",
       "      <td>...</td>\n",
       "      <td>...</td>\n",
       "      <td>...</td>\n",
       "      <td>...</td>\n",
       "    </tr>\n",
       "    <tr>\n",
       "      <th>4909</th>\n",
       "      <td>Facebook Inc</td>\n",
       "      <td>Senior_Data_Scientist</td>\n",
       "      <td>151695.55</td>\n",
       "      <td>5</td>\n",
       "    </tr>\n",
       "    <tr>\n",
       "      <th>4910</th>\n",
       "      <td>Cox Enterprises</td>\n",
       "      <td>Senior_Data_Scientist</td>\n",
       "      <td>131607.29</td>\n",
       "      <td>5</td>\n",
       "    </tr>\n",
       "    <tr>\n",
       "      <th>4911</th>\n",
       "      <td>Capital One Financial Corp</td>\n",
       "      <td>Senior_Data_Scientist</td>\n",
       "      <td>129060.38</td>\n",
       "      <td>5</td>\n",
       "    </tr>\n",
       "    <tr>\n",
       "      <th>4912</th>\n",
       "      <td>3M Company</td>\n",
       "      <td>Senior_Data_Scientist</td>\n",
       "      <td>122320.67</td>\n",
       "      <td>5</td>\n",
       "    </tr>\n",
       "    <tr>\n",
       "      <th>4913</th>\n",
       "      <td>Ascension Health</td>\n",
       "      <td>Senior_Data_Scientist</td>\n",
       "      <td>123929.47</td>\n",
       "      <td>5</td>\n",
       "    </tr>\n",
       "  </tbody>\n",
       "</table>\n",
       "<p>302 rows × 4 columns</p>\n",
       "</div>"
      ],
      "text/plain": [
       "                            name                 job_title  median_salary  \\\n",
       "359    National Registry of EMTs  Associate_Data_Scientist       70328.18   \n",
       "360             Biomerieux, Inc.  Associate_Data_Scientist       61041.89   \n",
       "1432   Booz, Allen, and Hamilton            Data_Scientist       88137.02   \n",
       "1433                Facebook Inc            Data_Scientist      124133.48   \n",
       "1434              Amazon.com Inc            Data_Scientist      130841.25   \n",
       "...                          ...                       ...            ...   \n",
       "4909                Facebook Inc     Senior_Data_Scientist      151695.55   \n",
       "4910             Cox Enterprises     Senior_Data_Scientist      131607.29   \n",
       "4911  Capital One Financial Corp     Senior_Data_Scientist      129060.38   \n",
       "4912                  3M Company     Senior_Data_Scientist      122320.67   \n",
       "4913            Ascension Health     Senior_Data_Scientist      123929.47   \n",
       "\n",
       "      profile_count  \n",
       "359               6  \n",
       "360               5  \n",
       "1432            168  \n",
       "1433             66  \n",
       "1434             45  \n",
       "...             ...  \n",
       "4909              5  \n",
       "4910              5  \n",
       "4911              5  \n",
       "4912              5  \n",
       "4913              5  \n",
       "\n",
       "[302 rows x 4 columns]"
      ]
     },
     "execution_count": 40,
     "metadata": {},
     "output_type": "execute_result"
    }
   ],
   "source": [
    "filtered_df_employer = df_employer[df_employer['job_title'].str.contains('Data_Scientist') & df_employer['job_title'].notna()]\n",
    "filtered_df_employer"
   ]
  },
  {
   "cell_type": "code",
   "execution_count": 41,
   "metadata": {},
   "outputs": [
    {
     "data": {
      "text/plain": [
       "Data_Scientist              247\n",
       "Senior_Data_Scientist        44\n",
       "Lead_Data_Scientist           5\n",
       "Data_Scientist_IT             4\n",
       "Associate_Data_Scientist      2\n",
       "Name: job_title, dtype: int64"
      ]
     },
     "execution_count": 41,
     "metadata": {},
     "output_type": "execute_result"
    }
   ],
   "source": [
    "filtered_df_employer['job_title'].value_counts()"
   ]
  },
  {
   "cell_type": "code",
   "execution_count": 42,
   "metadata": {},
   "outputs": [
    {
     "data": {
      "text/plain": [
       "Booz, Allen, and Hamilton                      4\n",
       "Humana, Inc.                                   3\n",
       "Microsoft Corp                                 3\n",
       "International Business Machines (IBM) Corp.    3\n",
       "Caterpillar, Inc.                              3\n",
       "                                              ..\n",
       "ICF International                              1\n",
       "HCL America, Inc.                              1\n",
       "MasterCard Worldwide                           1\n",
       "Lockheed Martin Corp                           1\n",
       "Ascension Health                               1\n",
       "Name: name, Length: 258, dtype: int64"
      ]
     },
     "execution_count": 42,
     "metadata": {},
     "output_type": "execute_result"
    }
   ],
   "source": [
    "filtered_df_employer['name'].value_counts()"
   ]
  },
  {
   "cell_type": "code",
   "execution_count": 43,
   "metadata": {},
   "outputs": [
    {
     "data": {
      "text/html": [
       "<div>\n",
       "<style scoped>\n",
       "    .dataframe tbody tr th:only-of-type {\n",
       "        vertical-align: middle;\n",
       "    }\n",
       "\n",
       "    .dataframe tbody tr th {\n",
       "        vertical-align: top;\n",
       "    }\n",
       "\n",
       "    .dataframe thead th {\n",
       "        text-align: right;\n",
       "    }\n",
       "</style>\n",
       "<table border=\"1\" class=\"dataframe\">\n",
       "  <thead>\n",
       "    <tr style=\"text-align: right;\">\n",
       "      <th></th>\n",
       "      <th>name</th>\n",
       "      <th>job_title</th>\n",
       "      <th>median_salary</th>\n",
       "      <th>profile_count</th>\n",
       "    </tr>\n",
       "  </thead>\n",
       "  <tbody>\n",
       "    <tr>\n",
       "      <th>1576</th>\n",
       "      <td>Peraton</td>\n",
       "      <td>Data_Scientist</td>\n",
       "      <td>151750.00</td>\n",
       "      <td>6</td>\n",
       "    </tr>\n",
       "    <tr>\n",
       "      <th>1632</th>\n",
       "      <td>Applied Materials Inc</td>\n",
       "      <td>Data_Scientist</td>\n",
       "      <td>144000.00</td>\n",
       "      <td>5</td>\n",
       "    </tr>\n",
       "    <tr>\n",
       "      <th>1544</th>\n",
       "      <td>GlaxoSmithKline</td>\n",
       "      <td>Data_Scientist</td>\n",
       "      <td>141438.41</td>\n",
       "      <td>7</td>\n",
       "    </tr>\n",
       "    <tr>\n",
       "      <th>1488</th>\n",
       "      <td>Genentech, Inc.</td>\n",
       "      <td>Data_Scientist</td>\n",
       "      <td>140000.00</td>\n",
       "      <td>11</td>\n",
       "    </tr>\n",
       "    <tr>\n",
       "      <th>1599</th>\n",
       "      <td>GrubHub</td>\n",
       "      <td>Data_Scientist</td>\n",
       "      <td>137568.93</td>\n",
       "      <td>6</td>\n",
       "    </tr>\n",
       "    <tr>\n",
       "      <th>1604</th>\n",
       "      <td>iHeartMedia, Inc</td>\n",
       "      <td>Data_Scientist</td>\n",
       "      <td>137500.00</td>\n",
       "      <td>6</td>\n",
       "    </tr>\n",
       "    <tr>\n",
       "      <th>1592</th>\n",
       "      <td>Ancestry.com</td>\n",
       "      <td>Data_Scientist</td>\n",
       "      <td>134994.00</td>\n",
       "      <td>6</td>\n",
       "    </tr>\n",
       "    <tr>\n",
       "      <th>1549</th>\n",
       "      <td>Aetna, Inc.</td>\n",
       "      <td>Data_Scientist</td>\n",
       "      <td>134545.36</td>\n",
       "      <td>7</td>\n",
       "    </tr>\n",
       "    <tr>\n",
       "      <th>1443</th>\n",
       "      <td>Google, Inc.</td>\n",
       "      <td>Data_Scientist</td>\n",
       "      <td>134518.03</td>\n",
       "      <td>24</td>\n",
       "    </tr>\n",
       "    <tr>\n",
       "      <th>1504</th>\n",
       "      <td>The Walt Disney Company</td>\n",
       "      <td>Data_Scientist</td>\n",
       "      <td>131639.20</td>\n",
       "      <td>10</td>\n",
       "    </tr>\n",
       "  </tbody>\n",
       "</table>\n",
       "</div>"
      ],
      "text/plain": [
       "                         name       job_title  median_salary  profile_count\n",
       "1576                  Peraton  Data_Scientist      151750.00              6\n",
       "1632    Applied Materials Inc  Data_Scientist      144000.00              5\n",
       "1544          GlaxoSmithKline  Data_Scientist      141438.41              7\n",
       "1488          Genentech, Inc.  Data_Scientist      140000.00             11\n",
       "1599                  GrubHub  Data_Scientist      137568.93              6\n",
       "1604         iHeartMedia, Inc  Data_Scientist      137500.00              6\n",
       "1592             Ancestry.com  Data_Scientist      134994.00              6\n",
       "1549              Aetna, Inc.  Data_Scientist      134545.36              7\n",
       "1443             Google, Inc.  Data_Scientist      134518.03             24\n",
       "1504  The Walt Disney Company  Data_Scientist      131639.20             10"
      ]
     },
     "execution_count": 43,
     "metadata": {},
     "output_type": "execute_result"
    }
   ],
   "source": [
    "ds_df = filtered_df_employer[filtered_df_employer['job_title'] == 'Data_Scientist']\n",
    "ds_df = ds_df.sort_values(by='median_salary', ascending=False).head(10)\n",
    "ds_df"
   ]
  },
  {
   "cell_type": "code",
   "execution_count": 44,
   "metadata": {},
   "outputs": [
    {
     "data": {
      "application/vnd.plotly.v1+json": {
       "config": {
        "plotlyServerURL": "https://plot.ly"
       },
       "data": [
        {
         "alignmentgroup": "True",
         "hovertemplate": "median_salary=%{x}<br>name=%{y}<br>profile_count=%{marker.color}<extra></extra>",
         "legendgroup": "",
         "marker": {
          "color": [
           6,
           5,
           7,
           11,
           6,
           6,
           6,
           7,
           24,
           10
          ],
          "coloraxis": "coloraxis",
          "pattern": {
           "shape": ""
          }
         },
         "name": "",
         "offsetgroup": "",
         "orientation": "h",
         "showlegend": false,
         "textposition": "auto",
         "type": "bar",
         "x": [
          151750,
          144000,
          141438.41,
          140000,
          137568.93,
          137500,
          134994,
          134545.36,
          134518.03,
          131639.2
         ],
         "xaxis": "x",
         "y": [
          "Peraton",
          "Applied Materials Inc",
          "GlaxoSmithKline",
          "Genentech, Inc.",
          "GrubHub",
          "iHeartMedia, Inc",
          "Ancestry.com",
          "Aetna, Inc.",
          "Google, Inc.",
          "The Walt Disney Company"
         ],
         "yaxis": "y"
        }
       ],
       "layout": {
        "barmode": "relative",
        "coloraxis": {
         "cmid": 12,
         "colorbar": {
          "title": {
           "text": "profile_count"
          }
         },
         "colorscale": [
          [
           0,
           "#440154"
          ],
          [
           0.1111111111111111,
           "#482878"
          ],
          [
           0.2222222222222222,
           "#3e4989"
          ],
          [
           0.3333333333333333,
           "#31688e"
          ],
          [
           0.4444444444444444,
           "#26828e"
          ],
          [
           0.5555555555555556,
           "#1f9e89"
          ],
          [
           0.6666666666666666,
           "#35b779"
          ],
          [
           0.7777777777777778,
           "#6ece58"
          ],
          [
           0.8888888888888888,
           "#b5de2b"
          ],
          [
           1,
           "#fde725"
          ]
         ]
        },
        "height": 500,
        "legend": {
         "font": {
          "size": 16
         },
         "tracegroupgap": 0,
         "x": 1,
         "y": 1
        },
        "template": {
         "data": {
          "bar": [
           {
            "error_x": {
             "color": "rgb(36,36,36)"
            },
            "error_y": {
             "color": "rgb(36,36,36)"
            },
            "marker": {
             "line": {
              "color": "white",
              "width": 0.5
             },
             "pattern": {
              "fillmode": "overlay",
              "size": 10,
              "solidity": 0.2
             }
            },
            "type": "bar"
           }
          ],
          "barpolar": [
           {
            "marker": {
             "line": {
              "color": "white",
              "width": 0.5
             },
             "pattern": {
              "fillmode": "overlay",
              "size": 10,
              "solidity": 0.2
             }
            },
            "type": "barpolar"
           }
          ],
          "carpet": [
           {
            "aaxis": {
             "endlinecolor": "rgb(36,36,36)",
             "gridcolor": "white",
             "linecolor": "white",
             "minorgridcolor": "white",
             "startlinecolor": "rgb(36,36,36)"
            },
            "baxis": {
             "endlinecolor": "rgb(36,36,36)",
             "gridcolor": "white",
             "linecolor": "white",
             "minorgridcolor": "white",
             "startlinecolor": "rgb(36,36,36)"
            },
            "type": "carpet"
           }
          ],
          "choropleth": [
           {
            "colorbar": {
             "outlinewidth": 1,
             "tickcolor": "rgb(36,36,36)",
             "ticks": "outside"
            },
            "type": "choropleth"
           }
          ],
          "contour": [
           {
            "colorbar": {
             "outlinewidth": 1,
             "tickcolor": "rgb(36,36,36)",
             "ticks": "outside"
            },
            "colorscale": [
             [
              0,
              "#440154"
             ],
             [
              0.1111111111111111,
              "#482878"
             ],
             [
              0.2222222222222222,
              "#3e4989"
             ],
             [
              0.3333333333333333,
              "#31688e"
             ],
             [
              0.4444444444444444,
              "#26828e"
             ],
             [
              0.5555555555555556,
              "#1f9e89"
             ],
             [
              0.6666666666666666,
              "#35b779"
             ],
             [
              0.7777777777777778,
              "#6ece58"
             ],
             [
              0.8888888888888888,
              "#b5de2b"
             ],
             [
              1,
              "#fde725"
             ]
            ],
            "type": "contour"
           }
          ],
          "contourcarpet": [
           {
            "colorbar": {
             "outlinewidth": 1,
             "tickcolor": "rgb(36,36,36)",
             "ticks": "outside"
            },
            "type": "contourcarpet"
           }
          ],
          "heatmap": [
           {
            "colorbar": {
             "outlinewidth": 1,
             "tickcolor": "rgb(36,36,36)",
             "ticks": "outside"
            },
            "colorscale": [
             [
              0,
              "#440154"
             ],
             [
              0.1111111111111111,
              "#482878"
             ],
             [
              0.2222222222222222,
              "#3e4989"
             ],
             [
              0.3333333333333333,
              "#31688e"
             ],
             [
              0.4444444444444444,
              "#26828e"
             ],
             [
              0.5555555555555556,
              "#1f9e89"
             ],
             [
              0.6666666666666666,
              "#35b779"
             ],
             [
              0.7777777777777778,
              "#6ece58"
             ],
             [
              0.8888888888888888,
              "#b5de2b"
             ],
             [
              1,
              "#fde725"
             ]
            ],
            "type": "heatmap"
           }
          ],
          "heatmapgl": [
           {
            "colorbar": {
             "outlinewidth": 1,
             "tickcolor": "rgb(36,36,36)",
             "ticks": "outside"
            },
            "colorscale": [
             [
              0,
              "#440154"
             ],
             [
              0.1111111111111111,
              "#482878"
             ],
             [
              0.2222222222222222,
              "#3e4989"
             ],
             [
              0.3333333333333333,
              "#31688e"
             ],
             [
              0.4444444444444444,
              "#26828e"
             ],
             [
              0.5555555555555556,
              "#1f9e89"
             ],
             [
              0.6666666666666666,
              "#35b779"
             ],
             [
              0.7777777777777778,
              "#6ece58"
             ],
             [
              0.8888888888888888,
              "#b5de2b"
             ],
             [
              1,
              "#fde725"
             ]
            ],
            "type": "heatmapgl"
           }
          ],
          "histogram": [
           {
            "marker": {
             "line": {
              "color": "white",
              "width": 0.6
             }
            },
            "type": "histogram"
           }
          ],
          "histogram2d": [
           {
            "colorbar": {
             "outlinewidth": 1,
             "tickcolor": "rgb(36,36,36)",
             "ticks": "outside"
            },
            "colorscale": [
             [
              0,
              "#440154"
             ],
             [
              0.1111111111111111,
              "#482878"
             ],
             [
              0.2222222222222222,
              "#3e4989"
             ],
             [
              0.3333333333333333,
              "#31688e"
             ],
             [
              0.4444444444444444,
              "#26828e"
             ],
             [
              0.5555555555555556,
              "#1f9e89"
             ],
             [
              0.6666666666666666,
              "#35b779"
             ],
             [
              0.7777777777777778,
              "#6ece58"
             ],
             [
              0.8888888888888888,
              "#b5de2b"
             ],
             [
              1,
              "#fde725"
             ]
            ],
            "type": "histogram2d"
           }
          ],
          "histogram2dcontour": [
           {
            "colorbar": {
             "outlinewidth": 1,
             "tickcolor": "rgb(36,36,36)",
             "ticks": "outside"
            },
            "colorscale": [
             [
              0,
              "#440154"
             ],
             [
              0.1111111111111111,
              "#482878"
             ],
             [
              0.2222222222222222,
              "#3e4989"
             ],
             [
              0.3333333333333333,
              "#31688e"
             ],
             [
              0.4444444444444444,
              "#26828e"
             ],
             [
              0.5555555555555556,
              "#1f9e89"
             ],
             [
              0.6666666666666666,
              "#35b779"
             ],
             [
              0.7777777777777778,
              "#6ece58"
             ],
             [
              0.8888888888888888,
              "#b5de2b"
             ],
             [
              1,
              "#fde725"
             ]
            ],
            "type": "histogram2dcontour"
           }
          ],
          "mesh3d": [
           {
            "colorbar": {
             "outlinewidth": 1,
             "tickcolor": "rgb(36,36,36)",
             "ticks": "outside"
            },
            "type": "mesh3d"
           }
          ],
          "parcoords": [
           {
            "line": {
             "colorbar": {
              "outlinewidth": 1,
              "tickcolor": "rgb(36,36,36)",
              "ticks": "outside"
             }
            },
            "type": "parcoords"
           }
          ],
          "pie": [
           {
            "automargin": true,
            "type": "pie"
           }
          ],
          "scatter": [
           {
            "fillpattern": {
             "fillmode": "overlay",
             "size": 10,
             "solidity": 0.2
            },
            "type": "scatter"
           }
          ],
          "scatter3d": [
           {
            "line": {
             "colorbar": {
              "outlinewidth": 1,
              "tickcolor": "rgb(36,36,36)",
              "ticks": "outside"
             }
            },
            "marker": {
             "colorbar": {
              "outlinewidth": 1,
              "tickcolor": "rgb(36,36,36)",
              "ticks": "outside"
             }
            },
            "type": "scatter3d"
           }
          ],
          "scattercarpet": [
           {
            "marker": {
             "colorbar": {
              "outlinewidth": 1,
              "tickcolor": "rgb(36,36,36)",
              "ticks": "outside"
             }
            },
            "type": "scattercarpet"
           }
          ],
          "scattergeo": [
           {
            "marker": {
             "colorbar": {
              "outlinewidth": 1,
              "tickcolor": "rgb(36,36,36)",
              "ticks": "outside"
             }
            },
            "type": "scattergeo"
           }
          ],
          "scattergl": [
           {
            "marker": {
             "colorbar": {
              "outlinewidth": 1,
              "tickcolor": "rgb(36,36,36)",
              "ticks": "outside"
             }
            },
            "type": "scattergl"
           }
          ],
          "scattermapbox": [
           {
            "marker": {
             "colorbar": {
              "outlinewidth": 1,
              "tickcolor": "rgb(36,36,36)",
              "ticks": "outside"
             }
            },
            "type": "scattermapbox"
           }
          ],
          "scatterpolar": [
           {
            "marker": {
             "colorbar": {
              "outlinewidth": 1,
              "tickcolor": "rgb(36,36,36)",
              "ticks": "outside"
             }
            },
            "type": "scatterpolar"
           }
          ],
          "scatterpolargl": [
           {
            "marker": {
             "colorbar": {
              "outlinewidth": 1,
              "tickcolor": "rgb(36,36,36)",
              "ticks": "outside"
             }
            },
            "type": "scatterpolargl"
           }
          ],
          "scatterternary": [
           {
            "marker": {
             "colorbar": {
              "outlinewidth": 1,
              "tickcolor": "rgb(36,36,36)",
              "ticks": "outside"
             }
            },
            "type": "scatterternary"
           }
          ],
          "surface": [
           {
            "colorbar": {
             "outlinewidth": 1,
             "tickcolor": "rgb(36,36,36)",
             "ticks": "outside"
            },
            "colorscale": [
             [
              0,
              "#440154"
             ],
             [
              0.1111111111111111,
              "#482878"
             ],
             [
              0.2222222222222222,
              "#3e4989"
             ],
             [
              0.3333333333333333,
              "#31688e"
             ],
             [
              0.4444444444444444,
              "#26828e"
             ],
             [
              0.5555555555555556,
              "#1f9e89"
             ],
             [
              0.6666666666666666,
              "#35b779"
             ],
             [
              0.7777777777777778,
              "#6ece58"
             ],
             [
              0.8888888888888888,
              "#b5de2b"
             ],
             [
              1,
              "#fde725"
             ]
            ],
            "type": "surface"
           }
          ],
          "table": [
           {
            "cells": {
             "fill": {
              "color": "rgb(237,237,237)"
             },
             "line": {
              "color": "white"
             }
            },
            "header": {
             "fill": {
              "color": "rgb(217,217,217)"
             },
             "line": {
              "color": "white"
             }
            },
            "type": "table"
           }
          ]
         },
         "layout": {
          "annotationdefaults": {
           "arrowhead": 0,
           "arrowwidth": 1
          },
          "autotypenumbers": "strict",
          "coloraxis": {
           "colorbar": {
            "outlinewidth": 1,
            "tickcolor": "rgb(36,36,36)",
            "ticks": "outside"
           }
          },
          "colorscale": {
           "diverging": [
            [
             0,
             "rgb(103,0,31)"
            ],
            [
             0.1,
             "rgb(178,24,43)"
            ],
            [
             0.2,
             "rgb(214,96,77)"
            ],
            [
             0.3,
             "rgb(244,165,130)"
            ],
            [
             0.4,
             "rgb(253,219,199)"
            ],
            [
             0.5,
             "rgb(247,247,247)"
            ],
            [
             0.6,
             "rgb(209,229,240)"
            ],
            [
             0.7,
             "rgb(146,197,222)"
            ],
            [
             0.8,
             "rgb(67,147,195)"
            ],
            [
             0.9,
             "rgb(33,102,172)"
            ],
            [
             1,
             "rgb(5,48,97)"
            ]
           ],
           "sequential": [
            [
             0,
             "#440154"
            ],
            [
             0.1111111111111111,
             "#482878"
            ],
            [
             0.2222222222222222,
             "#3e4989"
            ],
            [
             0.3333333333333333,
             "#31688e"
            ],
            [
             0.4444444444444444,
             "#26828e"
            ],
            [
             0.5555555555555556,
             "#1f9e89"
            ],
            [
             0.6666666666666666,
             "#35b779"
            ],
            [
             0.7777777777777778,
             "#6ece58"
            ],
            [
             0.8888888888888888,
             "#b5de2b"
            ],
            [
             1,
             "#fde725"
            ]
           ],
           "sequentialminus": [
            [
             0,
             "#440154"
            ],
            [
             0.1111111111111111,
             "#482878"
            ],
            [
             0.2222222222222222,
             "#3e4989"
            ],
            [
             0.3333333333333333,
             "#31688e"
            ],
            [
             0.4444444444444444,
             "#26828e"
            ],
            [
             0.5555555555555556,
             "#1f9e89"
            ],
            [
             0.6666666666666666,
             "#35b779"
            ],
            [
             0.7777777777777778,
             "#6ece58"
            ],
            [
             0.8888888888888888,
             "#b5de2b"
            ],
            [
             1,
             "#fde725"
            ]
           ]
          },
          "colorway": [
           "#1F77B4",
           "#FF7F0E",
           "#2CA02C",
           "#D62728",
           "#9467BD",
           "#8C564B",
           "#E377C2",
           "#7F7F7F",
           "#BCBD22",
           "#17BECF"
          ],
          "font": {
           "color": "rgb(36,36,36)"
          },
          "geo": {
           "bgcolor": "white",
           "lakecolor": "white",
           "landcolor": "white",
           "showlakes": true,
           "showland": true,
           "subunitcolor": "white"
          },
          "hoverlabel": {
           "align": "left"
          },
          "hovermode": "closest",
          "mapbox": {
           "style": "light"
          },
          "paper_bgcolor": "white",
          "plot_bgcolor": "white",
          "polar": {
           "angularaxis": {
            "gridcolor": "rgb(232,232,232)",
            "linecolor": "rgb(36,36,36)",
            "showgrid": false,
            "showline": true,
            "ticks": "outside"
           },
           "bgcolor": "white",
           "radialaxis": {
            "gridcolor": "rgb(232,232,232)",
            "linecolor": "rgb(36,36,36)",
            "showgrid": false,
            "showline": true,
            "ticks": "outside"
           }
          },
          "scene": {
           "xaxis": {
            "backgroundcolor": "white",
            "gridcolor": "rgb(232,232,232)",
            "gridwidth": 2,
            "linecolor": "rgb(36,36,36)",
            "showbackground": true,
            "showgrid": false,
            "showline": true,
            "ticks": "outside",
            "zeroline": false,
            "zerolinecolor": "rgb(36,36,36)"
           },
           "yaxis": {
            "backgroundcolor": "white",
            "gridcolor": "rgb(232,232,232)",
            "gridwidth": 2,
            "linecolor": "rgb(36,36,36)",
            "showbackground": true,
            "showgrid": false,
            "showline": true,
            "ticks": "outside",
            "zeroline": false,
            "zerolinecolor": "rgb(36,36,36)"
           },
           "zaxis": {
            "backgroundcolor": "white",
            "gridcolor": "rgb(232,232,232)",
            "gridwidth": 2,
            "linecolor": "rgb(36,36,36)",
            "showbackground": true,
            "showgrid": false,
            "showline": true,
            "ticks": "outside",
            "zeroline": false,
            "zerolinecolor": "rgb(36,36,36)"
           }
          },
          "shapedefaults": {
           "fillcolor": "black",
           "line": {
            "width": 0
           },
           "opacity": 0.3
          },
          "ternary": {
           "aaxis": {
            "gridcolor": "rgb(232,232,232)",
            "linecolor": "rgb(36,36,36)",
            "showgrid": false,
            "showline": true,
            "ticks": "outside"
           },
           "baxis": {
            "gridcolor": "rgb(232,232,232)",
            "linecolor": "rgb(36,36,36)",
            "showgrid": false,
            "showline": true,
            "ticks": "outside"
           },
           "bgcolor": "white",
           "caxis": {
            "gridcolor": "rgb(232,232,232)",
            "linecolor": "rgb(36,36,36)",
            "showgrid": false,
            "showline": true,
            "ticks": "outside"
           }
          },
          "title": {
           "x": 0.05
          },
          "xaxis": {
           "automargin": true,
           "gridcolor": "rgb(232,232,232)",
           "linecolor": "rgb(36,36,36)",
           "showgrid": false,
           "showline": true,
           "ticks": "outside",
           "title": {
            "standoff": 15
           },
           "zeroline": false,
           "zerolinecolor": "rgb(36,36,36)"
          },
          "yaxis": {
           "automargin": true,
           "gridcolor": "rgb(232,232,232)",
           "linecolor": "rgb(36,36,36)",
           "showgrid": false,
           "showline": true,
           "ticks": "outside",
           "title": {
            "standoff": 15
           },
           "zeroline": false,
           "zerolinecolor": "rgb(36,36,36)"
          }
         }
        },
        "title": {
         "text": "<b>Top 10 Companies with the Highest Average Median Salary for Data Scientists<b>",
         "x": 0.5
        },
        "width": 1200,
        "xaxis": {
         "anchor": "y",
         "domain": [
          0,
          1
         ],
         "range": [
          0,
          160000
         ],
         "title": {
          "text": ""
         }
        },
        "yaxis": {
         "anchor": "x",
         "categoryarray": [
          "The Walt Disney Company",
          "Google, Inc.",
          "Aetna, Inc.",
          "Ancestry.com",
          "iHeartMedia, Inc",
          "GrubHub",
          "Genentech, Inc.",
          "GlaxoSmithKline",
          "Applied Materials Inc",
          "Peraton"
         ],
         "categoryorder": "array",
         "domain": [
          0,
          1
         ],
         "title": {
          "text": ""
         }
        }
       }
      }
     },
     "metadata": {},
     "output_type": "display_data"
    }
   ],
   "source": [
    "bar3 = px.bar(ds_df, x='median_salary', y='name',color = 'profile_count',\n",
    "             orientation='h', title='<b>Top 10 Companies with the Highest Average Median Salary for Data Scientists<b>',\n",
    "             template = 'simple_white',\n",
    "             color_continuous_midpoint=12,\n",
    "             category_orders={'name': ds_df['name'].tolist()})\n",
    "\n",
    "bar3.update_layout(xaxis_title='',\n",
    "                   title_x = 0.5,\n",
    "                   yaxis_title = '',\n",
    "                   legend=dict(x=1, y=1,font=dict(size=16)) )\n",
    "\n",
    "bar3.update_layout(height=500, width=1200)\n",
    "\n",
    "bar3.update_xaxes(range=[0, 160000])\n",
    "\n",
    "bar3.show()\n"
   ]
  },
  {
   "cell_type": "code",
   "execution_count": null,
   "metadata": {},
   "outputs": [],
   "source": []
  }
 ],
 "metadata": {
  "kernelspec": {
   "display_name": "base",
   "language": "python",
   "name": "python3"
  },
  "language_info": {
   "codemirror_mode": {
    "name": "ipython",
    "version": 3
   },
   "file_extension": ".py",
   "mimetype": "text/x-python",
   "name": "python",
   "nbconvert_exporter": "python",
   "pygments_lexer": "ipython3",
   "version": "3.11.4"
  }
 },
 "nbformat": 4,
 "nbformat_minor": 2
}
